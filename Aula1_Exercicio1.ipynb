{
  "nbformat": 4,
  "nbformat_minor": 0,
  "metadata": {
    "colab": {
      "name": "Aula1-Exercicio1.ipynb",
      "provenance": [],
      "collapsed_sections": [],
      "authorship_tag": "ABX9TyMti95EItRvZZZACxDKvn8O",
      "include_colab_link": true
    },
    "kernelspec": {
      "name": "python3",
      "display_name": "Python 3"
    },
    "language_info": {
      "name": "python"
    }
  },
  "cells": [
    {
      "cell_type": "markdown",
      "metadata": {
        "id": "view-in-github",
        "colab_type": "text"
      },
      "source": [
        "<a href=\"https://colab.research.google.com/github/nascimento-luciano/Artificial-Intelligence/blob/master/Aula1_Exercicio1.ipynb\" target=\"_parent\"><img src=\"https://colab.research.google.com/assets/colab-badge.svg\" alt=\"Open In Colab\"/></a>"
      ]
    },
    {
      "cell_type": "code",
      "metadata": {
        "colab": {
          "base_uri": "https://localhost:8080/"
        },
        "id": "9GkQLJ2wPasS",
        "outputId": "b89dab05-f1ab-40be-f9f8-fb55bbc89a0e"
      },
      "source": [
        "#Cálculo do produto escalar e produto vetorial entre dois vetores\n",
        "\n",
        "import numpy as np #importa a biblioteca numpy com o apelido de np\n",
        "\n",
        "v1 = np.array ([3, -2, 5]) #cria o vetor e guarda na variável \"v1\"\n",
        "v2 = np.array ([2, 0, 9]) #cria o vetor e guarda na variável \"v2\"\n",
        "\n",
        "vprod=v1*v2 #vprod será o produto termo a termo\n",
        "vdot=np.dot(v1,v2) #vdot será o produto escalar\n",
        "\n",
        "vcross=np.cross(v1,v2) #vcros será o produto vetorial\n",
        "\n",
        "print(\"v1*v2=\", vprod)\n",
        "print(\"v1.v2=\", vdot)\n",
        "print(\"v1xv2=\", vcross) #mostra os três vetores resultantes das 3 opções\n"
      ],
      "execution_count": null,
      "outputs": [
        {
          "output_type": "stream",
          "text": [
            "v1*v2= [ 6  0 45]\n",
            "v1.v2= 51\n",
            "v1xv2= [-18 -17   4]\n"
          ],
          "name": "stdout"
        }
      ]
    }
  ]
}