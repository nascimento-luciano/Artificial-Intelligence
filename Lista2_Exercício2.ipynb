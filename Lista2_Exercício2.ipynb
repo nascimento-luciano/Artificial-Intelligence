{
  "nbformat": 4,
  "nbformat_minor": 0,
  "metadata": {
    "colab": {
      "name": "Lista2-Exercício2.ipynb",
      "provenance": [],
      "collapsed_sections": [],
      "authorship_tag": "ABX9TyOT//b1k5d7VqL6WQJGL4bz",
      "include_colab_link": true
    },
    "kernelspec": {
      "name": "python3",
      "display_name": "Python 3"
    },
    "language_info": {
      "name": "python"
    }
  },
  "cells": [
    {
      "cell_type": "markdown",
      "metadata": {
        "id": "view-in-github",
        "colab_type": "text"
      },
      "source": [
        "<a href=\"https://colab.research.google.com/github/nascimento-luciano/Artificial-Intelligence/blob/master/Lista2_Exerc%C3%ADcio2.ipynb\" target=\"_parent\"><img src=\"https://colab.research.google.com/assets/colab-badge.svg\" alt=\"Open In Colab\"/></a>"
      ]
    },
    {
      "cell_type": "code",
      "metadata": {
        "colab": {
          "base_uri": "https://localhost:8080/"
        },
        "id": "WlMLspaZBrL8",
        "outputId": "afc98d2f-b53e-4b2c-a049-a18e7c418dcb"
      },
      "source": [
        "#exercício 2 \n",
        "#cria o data set \n",
        "import numpy as np\n",
        "import matplotlib.pyplot as plt\n",
        "import h5py\n",
        "from sklearn.utils import shuffle\n",
        "s_p=100 #quantos pontos os dados de entrada tem\n",
        "s_d=80 #quantos exemplos tem o Dtrain\n",
        "s_t=200 #quantos exemplos para teste\n",
        "#dados de treinamento\n",
        "x_train_N=np.random.normal(0,1,[int(s_d/2),s_p])\n",
        "x_train_U=np.random.uniform(-2.5,2.5,[int(s_d/2),s_p])\n",
        "x_train=np.concatenate((x_train_N,x_train_U),axis=0)\n",
        "y_train=np.concatenate((np.zeros([int(s_d/2),1]),np.ones([int(s_d/2),1])),axis=0)\n",
        "x_train,y_train=shuffle(x_train,y_train)\n",
        "print('shape x_train: ',np.shape(x_train))\n",
        "#dados de teste\n",
        "x_test_N=np.random.normal(0,1,[int(s_t/2),s_p])\n",
        "x_test_U=np.random.uniform(-2.5,2.5,[int(s_t/2),s_p])\n",
        "x_test=np.concatenate((x_test_N,x_test_U),axis=0)\n",
        "y_test=np.concatenate((np.zeros([int(s_t/2),1]),np.ones([int(s_t/2),1])),axis=0)\n",
        "x_test,y_test=shuffle(x_test,y_test)\n",
        "print('shape x_test: ',np.shape(x_test))"
      ],
      "execution_count": 35,
      "outputs": [
        {
          "output_type": "stream",
          "name": "stdout",
          "text": [
            "shape x_train:  (80, 100)\n",
            "shape x_test:  (200, 100)\n"
          ]
        }
      ]
    },
    {
      "cell_type": "markdown",
      "metadata": {
        "id": "nzWiNLNiCdXT"
      },
      "source": [
        "*Esboço do exercício 2*"
      ]
    },
    {
      "cell_type": "code",
      "metadata": {
        "colab": {
          "base_uri": "https://localhost:8080/"
        },
        "id": "bQIzNUp3CcVU",
        "outputId": "82c5f35c-3327-4da3-bb45-7cfbacecce4b"
      },
      "source": [
        "#exercício 2 \n",
        "#cria o data set \n",
        "import numpy as np\n",
        "import matplotlib.pyplot as plt\n",
        "import h5py\n",
        "from sklearn.utils import shuffle\n",
        "s_p=100 #quantos pontos os dados de entrada tem\n",
        "s_d=80 #quantos exemplos tem o Dtrain\n",
        "s_t=200 #quantos exemplos para teste\n",
        "#dados de treinamento\n",
        "x_train_N=np.random.normal(0,1,[int(s_d/2),s_p])\n",
        "x_train_U=np.random.uniform(-2.5,2.5,[int(s_d/2),s_p])\n",
        "x_train=np.concatenate((x_train_N,x_train_U),axis=0)\n",
        "y_train=np.concatenate((np.zeros([int(s_d/2),1]),np.ones([int(s_d/2),1])),axis=0)\n",
        "x_train,y_train=shuffle(x_train,y_train)\n",
        "print('shape x_train: ',np.shape(x_train))\n",
        "#dados de teste\n",
        "x_test_N=np.random.normal(0,1,[int(s_t/2),s_p])\n",
        "x_test_U=np.random.uniform(-2.5,2.5,[int(s_t/2),s_p])\n",
        "x_test=np.concatenate((x_test_N,x_test_U),axis=0)\n",
        "y_test=np.concatenate((np.zeros([int(s_t/2),1]),np.ones([int(s_t/2),1])),axis=0)\n",
        "x_test,y_test=shuffle(x_test,y_test)\n",
        "print('shape x_test: ',np.shape(x_test))"
      ],
      "execution_count": 34,
      "outputs": [
        {
          "output_type": "stream",
          "name": "stdout",
          "text": [
            "shape x_train:  (80, 100)\n",
            "shape x_test:  (200, 100)\n"
          ]
        }
      ]
    }
  ]
}