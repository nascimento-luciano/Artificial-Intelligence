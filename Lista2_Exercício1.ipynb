{
  "nbformat": 4,
  "nbformat_minor": 0,
  "metadata": {
    "colab": {
      "name": "Lista2-Exercício1.ipynb",
      "provenance": [],
      "collapsed_sections": [],
      "authorship_tag": "ABX9TyMfBQwpSVKSIqBoOF9U4Ned",
      "include_colab_link": true
    },
    "kernelspec": {
      "name": "python3",
      "display_name": "Python 3"
    },
    "language_info": {
      "name": "python"
    }
  },
  "cells": [
    {
      "cell_type": "markdown",
      "metadata": {
        "id": "view-in-github",
        "colab_type": "text"
      },
      "source": [
        "<a href=\"https://colab.research.google.com/github/nascimento-luciano/Artificial-Intelligence/blob/master/Lista2_Exerc%C3%ADcio1.ipynb\" target=\"_parent\"><img src=\"https://colab.research.google.com/assets/colab-badge.svg\" alt=\"Open In Colab\"/></a>"
      ]
    },
    {
      "cell_type": "code",
      "metadata": {
        "colab": {
          "base_uri": "https://localhost:8080/",
          "height": 231
        },
        "id": "T7kWrUpUiRI2",
        "outputId": "0fbe2ff9-c7d6-45d9-ac14-6d675ed944ba"
      },
      "source": [
        "#rede completa para regressão linear\n",
        "import tensorflow as tf\n",
        "import numpy as np\n",
        "import matplotlib.pyplot as plt\n",
        "\n",
        "#Dtrain (data set)\n",
        "xs = np.array([-4.0, -3.0, -2.0, -1.0, 0.0, 1.0, 2.0])\n",
        "ys =2*xs+10\n",
        "#criando a rede neural\n",
        "weight_origin=model.layers[0].get_weights()\n",
        "#configurando a primeira camada da rede\n",
        "model.add(tf.keras.layers.Dense(1, input_dim=1, use_bias=1, activation='linear'))\n",
        "opt=tf.keras.optimizers.SGD(learning_rate=0.01, momentum=0.0)\n",
        "model.compile(optimizer=opt, loss='mean_squared_error', metrics='mean_absolute_error')\n",
        "print(model.summary())\n",
        "#treinando a rede\n",
        "history=model.fit(xs, ys, epochs=1000, verbose=0)\n",
        "#testando a rede\n",
        "xs_test=np.linspace(-2,2,11);\n",
        "ys_test=model.predict(xs_test)\n",
        "#fazendo os gráficos\n",
        "plt.rcParamus.update({'front.size':12})\n",
        "plt.figure()\n",
        "plt.plot(xs_test, ys_test, 'r.')\n",
        "plt.plot(xs_test, (2*xs_test+10), 'b-')\n",
        "plt.legend(['previsões', 'reta original'])\n",
        "plt.xlabel('x');plt.ylabel('y')\n",
        "#mostra os dados em history\n",
        "print(history.history.keys())\n",
        "#plota o loss e a metrica\n",
        "plt.figure()\n",
        "plt.subplot(2,1,1)\n",
        "plt.plot(history.history['loss'],'k')\n",
        "plt.legend(['loss'])\n",
        "plt.subplot(2,1,2)\n",
        "plt.plot(history.history['mean_absolute_error'], 'k--')\n",
        "plt.legend(['métrica'])\n",
        "plt.tight_layout()\n",
        "plt.show()"
      ],
      "execution_count": 3,
      "outputs": [
        {
          "output_type": "error",
          "ename": "NameError",
          "evalue": "ignored",
          "traceback": [
            "\u001b[0;31m---------------------------------------------------------------------------\u001b[0m",
            "\u001b[0;31mNameError\u001b[0m                                 Traceback (most recent call last)",
            "\u001b[0;32m<ipython-input-3-cdf0290b5155>\u001b[0m in \u001b[0;36m<module>\u001b[0;34m()\u001b[0m\n\u001b[1;32m      8\u001b[0m \u001b[0mys\u001b[0m \u001b[0;34m=\u001b[0m\u001b[0;36m2\u001b[0m\u001b[0;34m*\u001b[0m\u001b[0mxs\u001b[0m\u001b[0;34m+\u001b[0m\u001b[0;36m10\u001b[0m\u001b[0;34m\u001b[0m\u001b[0;34m\u001b[0m\u001b[0m\n\u001b[1;32m      9\u001b[0m \u001b[0;31m#criando a rede neural\u001b[0m\u001b[0;34m\u001b[0m\u001b[0;34m\u001b[0m\u001b[0;34m\u001b[0m\u001b[0m\n\u001b[0;32m---> 10\u001b[0;31m \u001b[0mweight_origin\u001b[0m\u001b[0;34m=\u001b[0m\u001b[0mmodel\u001b[0m\u001b[0;34m.\u001b[0m\u001b[0mlayers\u001b[0m\u001b[0;34m[\u001b[0m\u001b[0;36m0\u001b[0m\u001b[0;34m]\u001b[0m\u001b[0;34m.\u001b[0m\u001b[0mget_weights\u001b[0m\u001b[0;34m(\u001b[0m\u001b[0;34m)\u001b[0m\u001b[0;34m\u001b[0m\u001b[0;34m\u001b[0m\u001b[0m\n\u001b[0m\u001b[1;32m     11\u001b[0m \u001b[0;31m#configurando a primeira camada da rede\u001b[0m\u001b[0;34m\u001b[0m\u001b[0;34m\u001b[0m\u001b[0;34m\u001b[0m\u001b[0m\n\u001b[1;32m     12\u001b[0m \u001b[0mmodel\u001b[0m\u001b[0;34m.\u001b[0m\u001b[0madd\u001b[0m\u001b[0;34m(\u001b[0m\u001b[0mtf\u001b[0m\u001b[0;34m.\u001b[0m\u001b[0mkeras\u001b[0m\u001b[0;34m.\u001b[0m\u001b[0mlayers\u001b[0m\u001b[0;34m.\u001b[0m\u001b[0mDense\u001b[0m\u001b[0;34m(\u001b[0m\u001b[0;36m1\u001b[0m\u001b[0;34m,\u001b[0m \u001b[0minput_dim\u001b[0m\u001b[0;34m=\u001b[0m\u001b[0;36m1\u001b[0m\u001b[0;34m,\u001b[0m \u001b[0muse_bias\u001b[0m\u001b[0;34m=\u001b[0m\u001b[0;36m1\u001b[0m\u001b[0;34m,\u001b[0m \u001b[0mactivation\u001b[0m\u001b[0;34m=\u001b[0m\u001b[0;34m'linear'\u001b[0m\u001b[0;34m)\u001b[0m\u001b[0;34m)\u001b[0m\u001b[0;34m\u001b[0m\u001b[0;34m\u001b[0m\u001b[0m\n",
            "\u001b[0;31mNameError\u001b[0m: name 'model' is not defined"
          ]
        }
      ]
    }
  ]
}