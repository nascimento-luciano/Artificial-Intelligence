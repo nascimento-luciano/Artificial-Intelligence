{
  "nbformat": 4,
  "nbformat_minor": 0,
  "metadata": {
    "colab": {
      "name": "ProdutoDeVetores.ipynb",
      "provenance": [],
      "collapsed_sections": [],
      "authorship_tag": "ABX9TyOhNSBzwbQ0xNbMlcGXs9Aj",
      "include_colab_link": true
    },
    "kernelspec": {
      "name": "python3",
      "display_name": "Python 3"
    },
    "language_info": {
      "name": "python"
    }
  },
  "cells": [
    {
      "cell_type": "markdown",
      "metadata": {
        "id": "view-in-github",
        "colab_type": "text"
      },
      "source": [
        "<a href=\"https://colab.research.google.com/github/nascimento-luciano/Artificial-Intelligence/blob/master/ProdutoDeVetores.ipynb\" target=\"_parent\"><img src=\"https://colab.research.google.com/assets/colab-badge.svg\" alt=\"Open In Colab\"/></a>"
      ]
    },
    {
      "cell_type": "code",
      "metadata": {
        "colab": {
          "base_uri": "https://localhost:8080/"
        },
        "id": "arhouN363waV",
        "outputId": "4ad0ced4-1b00-41d8-cd53-54aec6dcc1cd"
      },
      "source": [
        "import numpy as np #importa a bilioteca numpy com o apelido de np\n",
        "\n",
        "v1 = np.array([1,2,3]) #cria o vetor [1,2,3] e guarda na variável \"v1\"\n",
        "v2 = np.array([0,2.,4.]) #cria o vetor [0,2,4] e guarda na variável \"v2\"\n",
        "\n",
        "vprod=v1*v2 #vprod será o produto termo a termo: \"[0 4 12]\"\n",
        "vdot=np.dot(v1,v2) #vdor será o produto escalar: 1*0+2*2+3*4=16\n",
        "\n",
        "vcross=np.cross(v1,v2) #vcros será o produto vetorial\n",
        "\n",
        "print(\"v1*v2=\", vprod)\n",
        "print(\"v1.v2=\", vdot)\n",
        "print(\"v1xv2=\", vcross) #mostra os três vetors resultantes das 3 operações\n"
      ],
      "execution_count": 4,
      "outputs": [
        {
          "output_type": "stream",
          "text": [
            "v1*v2= [ 0.  4. 12.]\n",
            "v1.v2= 16.0\n",
            "v1xv2= [ 2. -4.  2.]\n"
          ],
          "name": "stdout"
        }
      ]
    }
  ]
}