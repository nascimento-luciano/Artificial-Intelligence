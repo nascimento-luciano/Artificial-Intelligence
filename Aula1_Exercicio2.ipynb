{
  "nbformat": 4,
  "nbformat_minor": 0,
  "metadata": {
    "colab": {
      "name": "Aula1-Exercicio2.ipynb",
      "provenance": [],
      "collapsed_sections": [],
      "authorship_tag": "ABX9TyOTIkFqFq208TmpVD4nVYJf",
      "include_colab_link": true
    },
    "kernelspec": {
      "name": "python3",
      "display_name": "Python 3"
    },
    "language_info": {
      "name": "python"
    }
  },
  "cells": [
    {
      "cell_type": "markdown",
      "metadata": {
        "id": "view-in-github",
        "colab_type": "text"
      },
      "source": [
        "<a href=\"https://colab.research.google.com/github/nascimento-luciano/Artificial-Intelligence/blob/master/Aula1_Exercicio2.ipynb\" target=\"_parent\"><img src=\"https://colab.research.google.com/assets/colab-badge.svg\" alt=\"Open In Colab\"/></a>"
      ]
    },
    {
      "cell_type": "code",
      "metadata": {
        "colab": {
          "base_uri": "https://localhost:8080/"
        },
        "id": "R5QShRbzToRC",
        "outputId": "a548a56a-ca9d-4e90-aee4-e52f444ac115"
      },
      "source": [
        "#Calcular a força resultante de um corpo sobre um plano inclinado\n",
        "\n",
        "import numpy as np\n",
        "import math\n",
        "import matplotlib.pyplot as plt\n",
        "\n",
        "alfa = float (input('Digite o alfa que você deseja: '))                         #Digite o ângulo desejado\n",
        "seno = math.sin(math.radians(alfa))\n",
        "v1 = np.array ([0, -10])                                                        #Peso\n",
        "v2 = np.array([3, 9])                                                           #Força normal\n",
        "v3 = np.array([-2, 1])                                                          #Força de atrito\n",
        "\n",
        "Mprod=(v1*seno)                                                                 #vprod será o produto escalar\n",
        "\n",
        "\n",
        "Px = v1*seno                                                                    #Componente em X \n",
        "Fr = Px-v3                                                                      #Força resultante\n",
        "\n",
        "print(\"Fr =\\n\", Fr)                                                             #Exige a força resultante\n"
      ],
      "execution_count": 43,
      "outputs": [
        {
          "output_type": "stream",
          "text": [
            "Digite o alfa que você deseja: 12\n",
            "Fr =\n",
            " [ 2.         -3.07911691]\n"
          ],
          "name": "stdout"
        }
      ]
    }
  ]
}