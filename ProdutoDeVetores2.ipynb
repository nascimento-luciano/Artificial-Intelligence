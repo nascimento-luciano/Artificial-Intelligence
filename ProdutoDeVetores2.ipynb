{
  "nbformat": 4,
  "nbformat_minor": 0,
  "metadata": {
    "colab": {
      "name": "ProdutoDeVetores2.ipynb",
      "provenance": [],
      "collapsed_sections": [],
      "authorship_tag": "ABX9TyOMUiQ+7ZO+dDEVvcWs4/N2",
      "include_colab_link": true
    },
    "kernelspec": {
      "name": "python3",
      "display_name": "Python 3"
    },
    "language_info": {
      "name": "python"
    }
  },
  "cells": [
    {
      "cell_type": "markdown",
      "metadata": {
        "id": "view-in-github",
        "colab_type": "text"
      },
      "source": [
        "<a href=\"https://colab.research.google.com/github/nascimento-luciano/Artificial-Intelligence/blob/master/ProdutoDeVetores2.ipynb\" target=\"_parent\"><img src=\"https://colab.research.google.com/assets/colab-badge.svg\" alt=\"Open In Colab\"/></a>"
      ]
    },
    {
      "cell_type": "code",
      "metadata": {
        "colab": {
          "base_uri": "https://localhost:8080/"
        },
        "id": "KZzcVoaN7Xsx",
        "outputId": "a0be5778-38cc-4e11-ea99-453bf97a8537"
      },
      "source": [
        "import numpy as np #importa a biblioteca numpy com o apelido de np\n",
        "\n",
        "M1 = np.array([[1,2], [3,4]]) #cria a matriz e guarda na variável \"M1\"\n",
        "M2 = np.array([[1,0], [-1,2]]) #cria a matriz e guarda na variável \"M2\"\n",
        "\n",
        "Mprod=M1*M2 #vprod será o produto termo a termo\n",
        "Mdot=np.dot(M1,M2) #vdot será o produto escalar\n",
        "\n",
        "print(\"M1*M2 =\\n\", Mprod) #mostra as matrizes resultantes das duas operações\n",
        "print(\"M1.M2 =\\n\", Mdot)\n",
        "\n",
        "Mquad1=M1**2 #eleva um np.array ao quadrado termo a termo\n",
        "M3 = np.matrix([[1,2],[3,4]]) #cria a matriz na forma de np.matrix e guarda na variável \"M3\"\n",
        "\n",
        "Mquad3=M3**2 #eleva uma np.matrix ao quadrado com o produto de matrizes\n",
        "\n",
        "print(\"Mquad1==\\n\", Mquad1) #mostra as matrizes resultantes das duas operações de elevado\n",
        "print(\"Mquad2==\\n\", Mquad3)"
      ],
      "execution_count": 7,
      "outputs": [
        {
          "output_type": "stream",
          "text": [
            "M1*M2 =\n",
            " [[ 1  0]\n",
            " [-3  8]]\n",
            "M1.M2 =\n",
            " [[-1  4]\n",
            " [-1  8]]\n",
            "Mquad1==\n",
            " [[ 1  4]\n",
            " [ 9 16]]\n",
            "Mquad2==\n",
            " [[ 7 10]\n",
            " [15 22]]\n"
          ],
          "name": "stdout"
        }
      ]
    }
  ]
}