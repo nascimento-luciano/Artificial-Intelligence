{
  "nbformat": 4,
  "nbformat_minor": 0,
  "metadata": {
    "colab": {
      "name": "ProdutoDeVetores2.ipynb",
      "provenance": [],
      "authorship_tag": "ABX9TyOYh7YhKPnkoN3BZAOQ/gep",
      "include_colab_link": true
    },
    "kernelspec": {
      "name": "python3",
      "display_name": "Python 3"
    },
    "language_info": {
      "name": "python"
    }
  },
  "cells": [
    {
      "cell_type": "markdown",
      "metadata": {
        "id": "view-in-github",
        "colab_type": "text"
      },
      "source": [
        "<a href=\"https://colab.research.google.com/github/nascimento-luciano/Artificial-Intelligence/blob/master/ProdutoDeVetores2.ipynb\" target=\"_parent\"><img src=\"https://colab.research.google.com/assets/colab-badge.svg\" alt=\"Open In Colab\"/></a>"
      ]
    },
    {
      "cell_type": "code",
      "metadata": {
        "colab": {
          "base_uri": "https://localhost:8080/",
          "height": 333
        },
        "id": "KZzcVoaN7Xsx",
        "outputId": "7fbaa93e-8447-4713-e4c3-6ec4078bc24c"
      },
      "source": [
        "import numpy as np #importa a biblioteca numpy com o apelido de np\n",
        "\n",
        "M1 = np.array([[1,2], [3,4]]) #cria a matriz e guarda na variável \"M1\"\n",
        "M2 = np.array([[1,0], [-1,2]]) #cria a matriz e guarda na variável \"M2\"\n",
        "\n",
        "Mprod=M1*M2 #vprod será o produto termo a termo\n",
        "Mdot=np.dot(M1,M2) #vdot será o produto escalar\n",
        "\n",
        "print(\"M1*M2 =\\n\", Mprod) #mostra as matrizes resultantes das duas operações\n",
        "print(\"M1.M2 =\\n\", Mdot)\n",
        "\n",
        "Mquad1=M1**2 #eleva um np.array ao quadrado termo a termo\n",
        "M3 = np.matrix([[1,2][3,4]]) #cria a matriz na forma de np.matrix e guarda na variável \"M3\"\n",
        "\n",
        "Mquad=M3**2 #eleva uma np.matrix ao quadrado com o produto de matrizes\n",
        "\n",
        "print(\"Mquad1= =\\n\", Mquad1) #mostra as matrizes resultantes das duas operações de elevado\n",
        "print(\"Mquad2= =\\n\", Mquad3)"
      ],
      "execution_count": 2,
      "outputs": [
        {
          "output_type": "stream",
          "text": [
            "M1*M2 =\n",
            " [[ 1  0]\n",
            " [-3  8]]\n",
            "M1.M2 =\n",
            " [[-1  4]\n",
            " [-1  8]]\n"
          ],
          "name": "stdout"
        },
        {
          "output_type": "error",
          "ename": "TypeError",
          "evalue": "ignored",
          "traceback": [
            "\u001b[0;31m---------------------------------------------------------------------------\u001b[0m",
            "\u001b[0;31mTypeError\u001b[0m                                 Traceback (most recent call last)",
            "\u001b[0;32m<ipython-input-2-1e57bc0c90cd>\u001b[0m in \u001b[0;36m<module>\u001b[0;34m()\u001b[0m\n\u001b[1;32m     11\u001b[0m \u001b[0;34m\u001b[0m\u001b[0m\n\u001b[1;32m     12\u001b[0m \u001b[0mMquad1\u001b[0m\u001b[0;34m=\u001b[0m\u001b[0mM1\u001b[0m\u001b[0;34m**\u001b[0m\u001b[0;36m2\u001b[0m \u001b[0;31m#eleva um np.array ao quadrado termo a termo\u001b[0m\u001b[0;34m\u001b[0m\u001b[0;34m\u001b[0m\u001b[0m\n\u001b[0;32m---> 13\u001b[0;31m \u001b[0mM3\u001b[0m \u001b[0;34m=\u001b[0m \u001b[0mnp\u001b[0m\u001b[0;34m.\u001b[0m\u001b[0mmatrix\u001b[0m\u001b[0;34m(\u001b[0m\u001b[0;34m[\u001b[0m\u001b[0;34m[\u001b[0m\u001b[0;36m1\u001b[0m\u001b[0;34m,\u001b[0m\u001b[0;36m2\u001b[0m\u001b[0;34m]\u001b[0m\u001b[0;34m[\u001b[0m\u001b[0;36m3\u001b[0m\u001b[0;34m,\u001b[0m\u001b[0;36m4\u001b[0m\u001b[0;34m]\u001b[0m\u001b[0;34m]\u001b[0m\u001b[0;34m)\u001b[0m \u001b[0;31m#cria a matriz na forma de np.matrix e guarda na variável \"M3\"\u001b[0m\u001b[0;34m\u001b[0m\u001b[0;34m\u001b[0m\u001b[0m\n\u001b[0m\u001b[1;32m     14\u001b[0m \u001b[0;34m\u001b[0m\u001b[0m\n\u001b[1;32m     15\u001b[0m \u001b[0mMquad\u001b[0m\u001b[0;34m=\u001b[0m\u001b[0mM3\u001b[0m\u001b[0;34m**\u001b[0m\u001b[0;36m2\u001b[0m \u001b[0;31m#eleva uma np.matrix ao quadrado com o produto de matrizes\u001b[0m\u001b[0;34m\u001b[0m\u001b[0;34m\u001b[0m\u001b[0m\n",
            "\u001b[0;31mTypeError\u001b[0m: list indices must be integers or slices, not tuple"
          ]
        }
      ]
    }
  ]
}