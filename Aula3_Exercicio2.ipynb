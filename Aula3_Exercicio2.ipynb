{
  "nbformat": 4,
  "nbformat_minor": 0,
  "metadata": {
    "colab": {
      "name": "Aula3-Exercicio2.ipynb",
      "provenance": [],
      "collapsed_sections": [],
      "authorship_tag": "ABX9TyOxG7NpWHSRiGeQrxjUv9JR",
      "include_colab_link": true
    },
    "kernelspec": {
      "name": "python3",
      "display_name": "Python 3"
    },
    "language_info": {
      "name": "python"
    }
  },
  "cells": [
    {
      "cell_type": "markdown",
      "metadata": {
        "id": "view-in-github",
        "colab_type": "text"
      },
      "source": [
        "<a href=\"https://colab.research.google.com/github/nascimento-luciano/Artificial-Intelligence/blob/master/Aula3_Exercicio2.ipynb\" target=\"_parent\"><img src=\"https://colab.research.google.com/assets/colab-badge.svg\" alt=\"Open In Colab\"/></a>"
      ]
    },
    {
      "cell_type": "code",
      "metadata": {
        "colab": {
          "base_uri": "https://localhost:8080/",
          "height": 1000
        },
        "id": "O92inhUJbST5",
        "outputId": "db54df11-8ab4-4bf2-f94b-197d5a9799ab"
      },
      "source": [
        "import numpy as np\n",
        "import matplotlib.pyplot as plt\n",
        "W=0;\n",
        "learning_rate=0.1\n",
        "T=10\n",
        "x_train = np.array([-2.0, 0.0, 4.0, 1.0], dtype=float)\n",
        "y_train = np.array([2.0, 0.0, -4.0, -1.0], dtype=float)\n",
        "loss_sq=np.zeros(T)\n",
        "for t in range(0,T):\n",
        "  for n in range(0,y_train.size):\n",
        "    score=W*x_train[n]\n",
        "    residuo=score-y_train[n]\n",
        "    grad=2*residuo*x_train[n]\n",
        "    W=W-learning_rate*grad\n",
        "    loss_sq[t]=residuo**2\n",
        "    print('loss e W=',[loss_sq[t],W])\n",
        "    plt.plot(loss_sq,'k')\n",
        "    plt.xlabel('interação'),plt.ylabel('Loss')\n",
        "    print('W final=',W)"
      ],
      "execution_count": 1,
      "outputs": [
        {
          "output_type": "stream",
          "name": "stdout",
          "text": [
            "loss e W= [4.0, -0.8]\n",
            "W final= -0.8\n",
            "loss e W= [0.0, -0.8]\n",
            "W final= -0.8\n",
            "loss e W= [0.6399999999999997, -1.44]\n",
            "W final= -1.44\n",
            "loss e W= [0.19359999999999997, -1.3519999999999999]\n",
            "W final= -1.3519999999999999\n",
            "loss e W= [0.4956159999999996, -1.0704]\n",
            "W final= -1.0704\n",
            "loss e W= [0.0, -1.0704]\n",
            "W final= -1.0704\n",
            "loss e W= [0.07929856000000005, -0.84512]\n",
            "W final= -0.84512\n",
            "loss e W= [0.023987814400000005, -0.876096]\n",
            "W final= -0.876096\n",
            "loss e W= [0.061408804864000015, -0.9752192]\n",
            "W final= -0.9752192\n",
            "loss e W= [0.0, -0.9752192]\n",
            "W final= -0.9752192\n",
            "loss e W= [0.009825408778240037, -1.0545177600000002]\n",
            "W final= -1.0545177600000002\n",
            "loss e W= [0.002972186155417621, -1.0436142080000002]\n",
            "W final= -1.0436142080000002\n",
            "loss e W= [0.0076087965578691096, -1.0087228416]\n",
            "W final= -1.0087228416\n",
            "loss e W= [0.0, -1.0087228416]\n",
            "W final= -1.0087228416\n",
            "loss e W= [0.0012174074492590575, -0.9808097484799999]\n",
            "W final= -0.9808097484799999\n",
            "loss e W= [0.0003682657534008658, -0.9846477987839999]\n",
            "W final= -0.9846477987839999\n",
            "loss e W= [0.0009427603287062218, -0.9969295597568]\n",
            "W final= -0.9969295597568\n",
            "loss e W= [0.0, -0.9969295597568]\n",
            "W final= -0.9969295597568\n",
            "loss e W= [0.00015084165259299549, -1.00675496853504]\n",
            "W final= -1.00675496853504\n",
            "loss e W= [4.562959990938173e-05, -1.0054039748280321]\n",
            "W final= -1.0054039748280321\n",
            "loss e W= [0.00011681177576801916, -1.0010807949656064]\n",
            "W final= -1.0010807949656064\n",
            "loss e W= [0.0, -1.0010807949656064]\n",
            "W final= -1.0010807949656064\n",
            "loss e W= [1.8689884122883066e-05, -0.9976222510756658]\n",
            "W final= -0.9976222510756658\n",
            "loss e W= [5.653689947172339e-06, -0.9980978008605327]\n",
            "W final= -0.9980978008605327\n",
            "loss e W= [1.447344626476085e-05, -0.9996195601721065]\n",
            "W final= -0.9996195601721065\n",
            "loss e W= [0.0, -0.9996195601721065]\n",
            "W final= -0.9996195601721065\n",
            "loss e W= [2.3157514023620062e-06, -1.0008369676213658]\n",
            "W final= -1.0008369676213658\n",
            "loss e W= [7.005147992146555e-07, -1.0006695740970926]\n",
            "W final= -1.0006695740970926\n",
            "loss e W= [1.7933178859892803e-06, -1.0001339148194186]\n",
            "W final= -1.0001339148194186\n",
            "loss e W= [0.0, -1.0001339148194186]\n",
            "W final= -1.0001339148194186\n",
            "loss e W= [2.869308617586655e-07, -0.9997053873972791]\n",
            "W final= -0.9997053873972791\n",
            "loss e W= [8.679658568198321e-08, -0.9997643099178233]\n",
            "W final= -0.9997643099178233\n",
            "loss e W= [2.2219925934587704e-07, -0.9999528619835647]\n",
            "W final= -0.9999528619835647\n",
            "loss e W= [0.0, -0.9999528619835647]\n",
            "W final= -0.9999528619835647\n",
            "loss e W= [3.555188149527334e-08, -1.0001037036361577]\n",
            "W final= -1.0001037036361577\n",
            "loss e W= [1.0754444152338607e-08, -1.0000829629089263]\n",
            "W final= -1.0000829629089263\n",
            "loss e W= [2.7531377030045782e-08, -1.0000165925817852]\n",
            "W final= -1.0000165925817852\n",
            "loss e W= [0.0, -1.0000165925817852]\n",
            "W final= -1.0000165925817852\n",
            "loss e W= [4.405020324783746e-09, -0.9999634963200725]\n",
            "W final= -0.9999634963200725\n",
            "loss e W= [1.332518648247083e-09, -0.9999707970560581]\n",
            "W final= -0.9999707970560581\n"
          ]
        },
        {
          "output_type": "display_data",
          "data": {
            "image/png": "[encoded data removed]",
            "text/plain": [
              "<Figure size 432x288 with 1 Axes>"
            ]
          },
          "metadata": {
            "needs_background": "light"
          }
        }
      ]
    }
  ]
}