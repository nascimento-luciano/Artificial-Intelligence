{
  "nbformat": 4,
  "nbformat_minor": 0,
  "metadata": {
    "colab": {
      "name": "Atividade-1-FIC.ipynb",
      "provenance": [],
      "collapsed_sections": [],
      "authorship_tag": "ABX9TyPf1FyVip5V166KukBf4Sl7",
      "include_colab_link": true
    },
    "kernelspec": {
      "name": "python3",
      "display_name": "Python 3"
    },
    "language_info": {
      "name": "python"
    }
  },
  "cells": [
    {
      "cell_type": "markdown",
      "metadata": {
        "id": "view-in-github",
        "colab_type": "text"
      },
      "source": [
        "<a href=\"https://colab.research.google.com/github/nascimento-luciano/Artificial-Intelligence/blob/master/Atividade_1_FIC.ipynb\" target=\"_parent\"><img src=\"https://colab.research.google.com/assets/colab-badge.svg\" alt=\"Open In Colab\"/></a>"
      ]
    },
    {
      "cell_type": "markdown",
      "metadata": {
        "id": "u4QdJ7DkLPKh"
      },
      "source": [
        "1. progressao_aritmetica(a1, r, n)"
      ]
    },
    {
      "cell_type": "code",
      "metadata": {
        "colab": {
          "base_uri": "https://localhost:8080/"
        },
        "id": "0nP1R7FLDodW",
        "outputId": "08d4f265-1aab-46ec-b9df-3e70f1b71e0e"
      },
      "source": [
        "\n",
        "a1 =1                             #Primeiro elemento\n",
        "r = 1                             #Razão\n",
        "n = 10                          #Quantos elementos deve existir\n",
        "\n",
        "an = a1 + (n-1)*r                 #Fórmula do termo geral                \n",
        "an = n + 1\n",
        "\n",
        "for var in range(a1, an, r):\n",
        "    print(var)\n"
      ],
      "execution_count": 39,
      "outputs": [
        {
          "output_type": "stream",
          "name": "stdout",
          "text": [
            "1\n",
            "2\n",
            "3\n",
            "4\n",
            "5\n",
            "6\n",
            "7\n",
            "8\n",
            "9\n",
            "10\n"
          ]
        }
      ]
    },
    {
      "cell_type": "code",
      "metadata": {
        "id": "QBQmENM2MZvY"
      },
      "source": [
        "a1 =1                             #Primeiro elemento\n",
        "r = 1                             #Razão\n",
        "n = 10                            #Quantos elementos deve existir\n",
        "\n",
        "an = a1 + (n-1)*r                 #Fórmula do termo geral                \n",
        "an = n + 1\n",
        "\n",
        "for i in range(a1,r,n):\n",
        "    print(var);\n",
        "    sn=[n*(a1+an)]/2\n",
        "    print(sn, \"Soma de todos os termos: \", soma)"
      ],
      "execution_count": 6,
      "outputs": []
    },
    {
      "cell_type": "code",
      "metadata": {
        "id": "HHs17OmQSXsZ"
      },
      "source": [
        "a1 =1                             #Primeiro elemento\n",
        "r = 1                             #Razão\n",
        "n = 10                            #Quantos elementos deve existir\n",
        "\n",
        "def somapa(a1,n,r):\n",
        "    an = a1 + (n-1)*r             #n-ésimo termo;\n",
        "    sn = n*(a1+an)/2              #soma dos n primeiros termos\n",
        "    return sn\n",
        "    print(sn, \"Soma de todos os termos: \", soma)"
      ],
      "execution_count": 1,
      "outputs": []
    }
  ]
}