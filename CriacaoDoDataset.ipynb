{
  "nbformat": 4,
  "nbformat_minor": 0,
  "metadata": {
    "colab": {
      "name": "CriacaoDoDataset.ipynb",
      "provenance": [],
      "collapsed_sections": [],
      "authorship_tag": "ABX9TyNqiR2yvcD9GPAj4ASvvmLI",
      "include_colab_link": true
    },
    "kernelspec": {
      "name": "python3",
      "display_name": "Python 3"
    },
    "language_info": {
      "name": "python"
    }
  },
  "cells": [
    {
      "cell_type": "markdown",
      "metadata": {
        "id": "view-in-github",
        "colab_type": "text"
      },
      "source": [
        "<a href=\"https://colab.research.google.com/github/nascimento-luciano/Artificial-Intelligence/blob/master/CriacaoDoDataset.ipynb\" target=\"_parent\"><img src=\"https://colab.research.google.com/assets/colab-badge.svg\" alt=\"Open In Colab\"/></a>"
      ]
    },
    {
      "cell_type": "code",
      "metadata": {
        "colab": {
          "base_uri": "https://localhost:8080/",
          "height": 129
        },
        "id": "wtxadtVb4GxG",
        "outputId": "7d15edc7-e5cb-4799-f749-269b0151984b"
      },
      "source": [
        "#criar o data set e salva em \"meu_data_set.h5\"\n",
        "import numpy as np\n",
        "import matplotlib.pyplot as plt\n",
        "import h5py\n",
        "s_p=30 #quantos pontos os dados de entrada tem\n",
        "s_d=80 #quantos exemplos de cada tipo para teste\n",
        "s_t=10 #auantos exemplos de cada tipo para teste\n",
        "p_r=0.7 #porcentagem de ruido nos cossenos\n",
        "t=np.linspace(0.8*3.15,s_p)\n",
        "#dados de treinamento\n",
        "x[np.zeros([2*s_d,s_p])\n",
        "x[0:s_d,0:s_p]=(1 p_r)*np.ones([s_d,1])*np.cos(t)\n",
        "#x[0:s_d,0:s_p]=(1-p_r)*np.ones([s_d,1])*np.cos(t)\n",
        "x[0:s_d,0:s_p]=x[0:s_d,0:s_p]+p_r*np.random.normal(0,0.8,[s_d,s_p])\n",
        "x[s_d:2*s_d,0:s_p]=np.random.normal(0,0.7,[s_d,s_p])\n",
        "y=np.zeros([2*s_d,1])\n",
        "y[0:s_d]=np.ones([s_d,1])\n",
        "#dado de teste\n",
        "x_t=np.zeros([2*s_t,s_p])\n",
        "x_t[0:s_t,0:s_p]=(1-p_r)*np.ones([s_t,1])*np.cos(t)\n",
        "x_t[0:s_t,0:s_p]=x_t[0:s_t,0:s_p]+p_r*np.ones([s_t,1])*np.cos(t)\n",
        "x_t[0:s_t,0:s_p]=x_t[0:s_t,0:s_p]+p_r*np.random.normal(0,0.8[s_t,s_p])\n",
        "x_t[s_t:2*s_t,0:s_p]=np.random.normal(0,0.7,[s_t,s_p] )\n",
        "y_t=np.zeros([2*s_t,1]);y_t[0:s_t]=np.ones([s_t,1])\n",
        "#mostra alguns dados de treinamento\n",
        "plt.figure()\n",
        "for nn in range (0,3)\n",
        " plt.subplot(1,3,nn+1)\n",
        " plt.plot(t,x[nn,:],'b.-',label='cos+rand')\n",
        " plt.plot(t,x[s_d+nn,:],'r.-',label='rand')\n",
        " plt.legend(loc='upper center')\n",
        " plt.tight_layout()\n",
        " #salva o dataset\n",
        "  with h5py.File('meu_data_set.h5','w') as hf:\n",
        "    hf.create_dataset(\"tempo\",data=t)\n",
        "    hf.create_dataset(\"xtreinamento\", data=x)\n",
        "    hf.create_dataset(\"ytreinamento\", data=y)\n",
        "    hf.create_dataset(\"xteste\", data=x_t)\n",
        "    hf.create_dataset(\"xteste\", data=y_t)\n",
        "    hf.create_dataset(\"data_info\", data=[s_p, s_d, s_t])"
      ],
      "execution_count": 9,
      "outputs": [
        {
          "output_type": "error",
          "ename": "SyntaxError",
          "evalue": "ignored",
          "traceback": [
            "\u001b[0;36m  File \u001b[0;32m\"<ipython-input-9-27e8240e3512>\"\u001b[0;36m, line \u001b[0;32m12\u001b[0m\n\u001b[0;31m    x[0:s_d,0:s_p]=(1 p_r)*np.ones([s_d,1])*np.cos(t)\u001b[0m\n\u001b[0m    ^\u001b[0m\n\u001b[0;31mSyntaxError\u001b[0m\u001b[0;31m:\u001b[0m invalid syntax\n"
          ]
        }
      ]
    }
  ]
}