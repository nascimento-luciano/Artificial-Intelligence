{
  "nbformat": 4,
  "nbformat_minor": 0,
  "metadata": {
    "colab": {
      "name": "Sintese-Analise-COVID-19-Brasil.ipynb",
      "provenance": [],
      "collapsed_sections": [],
      "authorship_tag": "ABX9TyOI48mEygAwRJCk9plm9/Gq",
      "include_colab_link": true
    },
    "kernelspec": {
      "name": "python3",
      "display_name": "Python 3"
    },
    "language_info": {
      "name": "python"
    }
  },
  "cells": [
    {
      "cell_type": "markdown",
      "metadata": {
        "id": "view-in-github",
        "colab_type": "text"
      },
      "source": [
        "<a href=\"https://colab.research.google.com/github/nascimento-luciano/Artificial-Intelligence/blob/master/Sintese_Analise_COVID_19_Brasil.ipynb\" target=\"_parent\"><img src=\"https://colab.research.google.com/assets/colab-badge.svg\" alt=\"Open In Colab\"/></a>"
      ]
    },
    {
      "cell_type": "markdown",
      "metadata": {
        "id": "9UyFrkAgALmT"
      },
      "source": [
        "2ª Etapa - Construção da Plotagem e do Modelo de Predição de Casos de Confirmados no Brasil"
      ]
    },
    {
      "cell_type": "code",
      "metadata": {
        "id": "4DDlRZG2qslQ"
      },
      "source": [
        "#---------------------------------Parte 1---------------------------------------\n",
        "#Importanto bibliotecas\n",
        "\n",
        "#Importa uma biblioteca que consiste em objetos de matriz multidimensionais\n",
        "#e uma coleção de rotinas para processar essas matrizes\n",
        "import numpy as np\n",
        "\n",
        "#Importa uma biblioteca de python usada para manipulação e análise de dados\n",
        "#Através dela podemos fazer manipulação e análise de dados usando pandas\n",
        "import pandas as pd\n",
        "\n",
        "#matplotlib.pyplot é uma interface baseada em estado para matplotlib\n",
        "#Uma vez que fornece uma forma implícita, semelhante ao MATLAB, de plotagem\n",
        "#E também abre figuras na tela e atua como o gerenciador de GUI da figura\n",
        "import matplotlib\n",
        "\n",
        "#Importa uma biblioteca de plotagem para a linguagem de programação Python \n",
        "#e sua extensão numérica de matemática NumPy\n",
        "import matplotlib.pyplot as plt\n",
        "\n",
        "#Importa ferramentas de plotagem off-line, iplot para o Notebook Jupyter e plot para uso comum\n",
        "from plotly.offline import iplot, init_notebook_mode\n",
        "\n",
        "#Importe o pacote tensorflow usando:\n",
        "import tensorflow as tf\n",
        "\n",
        "import sklearn\n",
        "#train_test_split é uma função em Sclearn seleção de modelo \n",
        "#para dividir matrizes de dados em dois subconjuntos: para dados de treinamento e para teste de dados\n",
        "from sklearn.model_selection import train_test_split\n",
        "\n",
        "#Para cada valor em um recurso, MinMaxScaler subtrai o valor mínimo\n",
        "# no recurso e depois divide pelo intervalo\n",
        "from sklearn.preprocessing import MinMaxScaler"
      ],
      "execution_count": 605,
      "outputs": []
    },
    {
      "cell_type": "code",
      "metadata": {
        "id": "49rsEskQqunZ"
      },
      "source": [
        "#---------------------------------Parte 2---------------------------------------\n",
        "#Construindo o DataFrame a partir de um arquivo CSV.\n",
        "#No dataset \"train\" contém dados sobre: Id,County,Province_State,Country_Region,Population,Weight,Date,Target,TargetValue\n",
        "train = pd.DataFrame(pd.read_csv('train.csv'))"
      ],
      "execution_count": 606,
      "outputs": []
    },
    {
      "cell_type": "code",
      "metadata": {
        "colab": {
          "base_uri": "https://localhost:8080/"
        },
        "id": "JZr0HI-Xq1Oy",
        "outputId": "e6e2649e-c3af-43a1-eadb-a127ee9620eb"
      },
      "source": [
        "#---------------------------------Parte 3---------------------------------------\n",
        "#Plotagem da forma de treinamento\n",
        "print(\"A forma dos dados de treinamento é = {}\".format(train.shape))"
      ],
      "execution_count": 607,
      "outputs": [
        {
          "output_type": "stream",
          "name": "stdout",
          "text": [
            "A forma dos dados de treinamento é = (35995, 6)\n"
          ]
        }
      ]
    },
    {
      "cell_type": "code",
      "metadata": {
        "id": "UEpXqWQuq30x"
      },
      "source": [
        "#---------------------------------Parte 4---------------------------------------\n",
        "#Considerando para o treinamento os dados das Provincias, Casos Confirmados e Fatalidades\n",
        "train.Province_State.fillna(\"\", inplace = True)\n",
        "train.ConfirmedCases.fillna(\"\", inplace = True)\n",
        "train.Fatalities.fillna(\"\", inplace = True)"
      ],
      "execution_count": 608,
      "outputs": []
    },
    {
      "cell_type": "code",
      "metadata": {
        "colab": {
          "base_uri": "https://localhost:8080/"
        },
        "id": "cxL8Uz9Kq5yo",
        "outputId": "6706f076-1dd1-49af-dc56-56f12fbf316a"
      },
      "source": [
        "#---------------------------------Parte 5---------------------------------------\n",
        "#Treinamento exibe a forma matricial dos países com casos confirmados de COVID-19\n",
        "train[\"Country_Region\"].unique()"
      ],
      "execution_count": 609,
      "outputs": [
        {
          "output_type": "execute_result",
          "data": {
            "text/plain": [
              "array(['Afghanistan', 'Albania', 'Algeria', 'Andorra', 'Angola',\n",
              "       'Antigua and Barbuda', 'Argentina', 'Armenia', 'Australia',\n",
              "       'Austria', 'Azerbaijan', 'Bahamas', 'Bahrain', 'Bangladesh',\n",
              "       'Barbados', 'Belarus', 'Belgium', 'Belize', 'Benin', 'Bhutan',\n",
              "       'Bolivia', 'Bosnia and Herzegovina', 'Botswana', 'Brazil',\n",
              "       'Brunei', 'Bulgaria', 'Burkina Faso', 'Burma', 'Burundi',\n",
              "       'Cabo Verde', 'Cambodia', 'Cameroon', 'Canada',\n",
              "       'Central African Republic', 'Chad', 'Chile', 'China', 'Colombia',\n",
              "       'Congo (Brazzaville)', 'Congo (Kinshasa)', 'Costa Rica',\n",
              "       \"Cote d'Ivoire\", 'Croatia', 'Cuba', 'Cyprus', 'Czechia', 'Denmark',\n",
              "       'Diamond Princess', 'Djibouti', 'Dominica', 'Dominican Republic',\n",
              "       'Ecuador', 'Egypt', 'El Salvador', 'Equatorial Guinea', 'Eritrea',\n",
              "       'Estonia', 'Eswatini', 'Ethiopia', 'Fiji', 'Finland', 'France',\n",
              "       'Gabon', 'Gambia', 'Georgia', 'Germany', 'Ghana', 'Greece',\n",
              "       'Grenada', 'Guatemala', 'Guinea', 'Guinea-Bissau', 'Guyana',\n",
              "       'Haiti', 'Holy See', 'Honduras', 'Hungary', 'Iceland', 'India',\n",
              "       'Indonesia', 'Iran', 'Iraq', 'Ireland', 'Israel', 'Italy',\n",
              "       'Jamaica', 'Japan', 'Jordan', 'Kazakhstan', 'Kenya',\n",
              "       'Korea, South', 'Kosovo', 'Kuwait', 'Kyrgyzstan', 'Laos', 'Latvia',\n",
              "       'Lebanon', 'Liberia', 'Libya', 'Liechtenstein', 'Lithuania',\n",
              "       'Luxembourg', 'MS Zaandam', 'Madagascar', 'Malawi', 'Malaysia',\n",
              "       'Maldives', 'Mali', 'Malta', 'Mauritania', 'Mauritius', 'Mexico',\n",
              "       'Moldova', 'Monaco', 'Mongolia', 'Montenegro', 'Morocco',\n",
              "       'Mozambique', 'Namibia', 'Nepal', 'Netherlands', 'New Zealand',\n",
              "       'Nicaragua', 'Niger', 'Nigeria', 'North Macedonia', 'Norway',\n",
              "       'Oman', 'Pakistan', 'Panama', 'Papua New Guinea', 'Paraguay',\n",
              "       'Peru', 'Philippines', 'Poland', 'Portugal', 'Qatar', 'Romania',\n",
              "       'Russia', 'Rwanda', 'Saint Kitts and Nevis', 'Saint Lucia',\n",
              "       'Saint Vincent and the Grenadines', 'San Marino',\n",
              "       'Sao Tome and Principe', 'Saudi Arabia', 'Senegal', 'Serbia',\n",
              "       'Seychelles', 'Sierra Leone', 'Singapore', 'Slovakia', 'Slovenia',\n",
              "       'Somalia', 'South Africa', 'South Sudan', 'Spain', 'Sri Lanka',\n",
              "       'Sudan', 'Suriname', 'Sweden', 'Switzerland', 'Syria', 'Taiwan*',\n",
              "       'Tanzania', 'Thailand', 'Timor-Leste', 'Togo',\n",
              "       'Trinidad and Tobago', 'Tunisia', 'Turkey', 'US', 'Uganda',\n",
              "       'Ukraine', 'United Arab Emirates', 'United Kingdom', 'Uruguay',\n",
              "       'Uzbekistan', 'Venezuela', 'Vietnam', 'West Bank and Gaza',\n",
              "       'Western Sahara', 'Zambia', 'Zimbabwe'], dtype=object)"
            ]
          },
          "metadata": {},
          "execution_count": 609
        }
      ]
    },
    {
      "cell_type": "code",
      "metadata": {
        "id": "bn-NBB9cq82L"
      },
      "source": [
        "#---------------------------------Parte 6---------------------------------------\n",
        "#Aqui separamos os casos confimados e os casos fatais de COVID-19 no Brazil\n",
        "confirmed_cases_brazil = train[train[\"Country_Region\"] == \"Brazil\"].groupby([\"Date\"]).ConfirmedCases.sum()\n",
        "fatal_cases_brazil = train[train[\"Country_Region\"] == \"Brazil\"].groupby([\"Date\"]).Fatalities.sum()"
      ],
      "execution_count": 610,
      "outputs": []
    },
    {
      "cell_type": "code",
      "source": [
        "#date = train[\"Date\"].unique()"
      ],
      "metadata": {
        "id": "-vuSSKjN5_CI"
      },
      "execution_count": 611,
      "outputs": []
    },
    {
      "cell_type": "code",
      "metadata": {
        "colab": {
          "base_uri": "https://localhost:8080/",
          "height": 424
        },
        "id": "P3RqPhJ6r0LJ",
        "outputId": "bfa7e21e-97b1-4d75-b89f-f5dcf4485196"
      },
      "source": [
        "#---------------------------------Parte 7---------------------------------------\n",
        "#Fazendo o treinamento para Paíse/Região\n",
        "train_brazil = train[train[\"Country_Region\"] == \"Brazil\"]\n",
        "train_brazil"
      ],
      "execution_count": 612,
      "outputs": [
        {
          "output_type": "execute_result",
          "data": {
            "text/html": [
              "<div>\n",
              "<style scoped>\n",
              "    .dataframe tbody tr th:only-of-type {\n",
              "        vertical-align: middle;\n",
              "    }\n",
              "\n",
              "    .dataframe tbody tr th {\n",
              "        vertical-align: top;\n",
              "    }\n",
              "\n",
              "    .dataframe thead th {\n",
              "        text-align: right;\n",
              "    }\n",
              "</style>\n",
              "<table border=\"1\" class=\"dataframe\">\n",
              "  <thead>\n",
              "    <tr style=\"text-align: right;\">\n",
              "      <th></th>\n",
              "      <th>Id</th>\n",
              "      <th>Province_State</th>\n",
              "      <th>Country_Region</th>\n",
              "      <th>Date</th>\n",
              "      <th>ConfirmedCases</th>\n",
              "      <th>Fatalities</th>\n",
              "    </tr>\n",
              "  </thead>\n",
              "  <tbody>\n",
              "    <tr>\n",
              "      <th>3450</th>\n",
              "      <td>3451</td>\n",
              "      <td></td>\n",
              "      <td>Brazil</td>\n",
              "      <td>2020-01-22</td>\n",
              "      <td>0.0</td>\n",
              "      <td>0.0</td>\n",
              "    </tr>\n",
              "    <tr>\n",
              "      <th>3451</th>\n",
              "      <td>3452</td>\n",
              "      <td></td>\n",
              "      <td>Brazil</td>\n",
              "      <td>2020-01-23</td>\n",
              "      <td>0.0</td>\n",
              "      <td>0.0</td>\n",
              "    </tr>\n",
              "    <tr>\n",
              "      <th>3452</th>\n",
              "      <td>3453</td>\n",
              "      <td></td>\n",
              "      <td>Brazil</td>\n",
              "      <td>2020-01-24</td>\n",
              "      <td>0.0</td>\n",
              "      <td>0.0</td>\n",
              "    </tr>\n",
              "    <tr>\n",
              "      <th>3453</th>\n",
              "      <td>3454</td>\n",
              "      <td></td>\n",
              "      <td>Brazil</td>\n",
              "      <td>2020-01-25</td>\n",
              "      <td>0.0</td>\n",
              "      <td>0.0</td>\n",
              "    </tr>\n",
              "    <tr>\n",
              "      <th>3454</th>\n",
              "      <td>3455</td>\n",
              "      <td></td>\n",
              "      <td>Brazil</td>\n",
              "      <td>2020-01-26</td>\n",
              "      <td>0.0</td>\n",
              "      <td>0.0</td>\n",
              "    </tr>\n",
              "    <tr>\n",
              "      <th>...</th>\n",
              "      <td>...</td>\n",
              "      <td>...</td>\n",
              "      <td>...</td>\n",
              "      <td>...</td>\n",
              "      <td>...</td>\n",
              "      <td>...</td>\n",
              "    </tr>\n",
              "    <tr>\n",
              "      <th>3560</th>\n",
              "      <td>3561</td>\n",
              "      <td></td>\n",
              "      <td>Brazil</td>\n",
              "      <td>2020-05-11</td>\n",
              "      <td>169594.0</td>\n",
              "      <td>11653.0</td>\n",
              "    </tr>\n",
              "    <tr>\n",
              "      <th>3561</th>\n",
              "      <td>3562</td>\n",
              "      <td></td>\n",
              "      <td>Brazil</td>\n",
              "      <td>2020-05-12</td>\n",
              "      <td>178214.0</td>\n",
              "      <td>12461.0</td>\n",
              "    </tr>\n",
              "    <tr>\n",
              "      <th>3562</th>\n",
              "      <td>3563</td>\n",
              "      <td></td>\n",
              "      <td>Brazil</td>\n",
              "      <td>2020-05-13</td>\n",
              "      <td>190137.0</td>\n",
              "      <td>13240.0</td>\n",
              "    </tr>\n",
              "    <tr>\n",
              "      <th>3563</th>\n",
              "      <td>3564</td>\n",
              "      <td></td>\n",
              "      <td>Brazil</td>\n",
              "      <td>2020-05-14</td>\n",
              "      <td>203165.0</td>\n",
              "      <td>13999.0</td>\n",
              "    </tr>\n",
              "    <tr>\n",
              "      <th>3564</th>\n",
              "      <td>3565</td>\n",
              "      <td></td>\n",
              "      <td>Brazil</td>\n",
              "      <td>2020-05-15</td>\n",
              "      <td>220291.0</td>\n",
              "      <td>14962.0</td>\n",
              "    </tr>\n",
              "  </tbody>\n",
              "</table>\n",
              "<p>115 rows × 6 columns</p>\n",
              "</div>"
            ],
            "text/plain": [
              "        Id Province_State  ... ConfirmedCases Fatalities\n",
              "3450  3451                 ...            0.0        0.0\n",
              "3451  3452                 ...            0.0        0.0\n",
              "3452  3453                 ...            0.0        0.0\n",
              "3453  3454                 ...            0.0        0.0\n",
              "3454  3455                 ...            0.0        0.0\n",
              "...    ...            ...  ...            ...        ...\n",
              "3560  3561                 ...       169594.0    11653.0\n",
              "3561  3562                 ...       178214.0    12461.0\n",
              "3562  3563                 ...       190137.0    13240.0\n",
              "3563  3564                 ...       203165.0    13999.0\n",
              "3564  3565                 ...       220291.0    14962.0\n",
              "\n",
              "[115 rows x 6 columns]"
            ]
          },
          "metadata": {},
          "execution_count": 612
        }
      ]
    },
    {
      "cell_type": "code",
      "metadata": {
        "id": "2ewbM62_ruMA"
      },
      "source": [
        "#---------------------------------Parte 8--------------------------------------\n",
        "#Analisando os casos confimados e casos fatais\n",
        "#train_brazil[\"ConfirmedCases\"] = train_brazil[\"ConfirmedCases\"].astype(int)\n",
        "#train_brazil[\"Fatalities\"] = train_brazil[\"Fatalities\"].astype(int)"
      ],
      "execution_count": 613,
      "outputs": []
    },
    {
      "cell_type": "code",
      "metadata": {
        "colab": {
          "base_uri": "https://localhost:8080/"
        },
        "id": "Of9mgEJSrvjm",
        "outputId": "83dba353-522c-4e48-ff82-27466a7e6414"
      },
      "source": [
        "#---------------------------------Parte 9---------------------------------------\n",
        "#Aqui vemos o tamanho do treinamento e da validação \n",
        "train_brazil_size = int(len(train_brazil) * 0.75)\n",
        "val_brazil_size = len(train_brazil) - train_brazil_size\n",
        "print(\"Training size = {}\".format(train_brazil_size))\n",
        "print(\"Validation size = {}\".format(val_brazil_size))"
      ],
      "execution_count": 614,
      "outputs": [
        {
          "output_type": "stream",
          "name": "stdout",
          "text": [
            "Training size = 86\n",
            "Validation size = 29\n"
          ]
        }
      ]
    },
    {
      "cell_type": "code",
      "metadata": {
        "id": "K37HPRSDrh4B"
      },
      "source": [
        "#---------------------------------Parte 10---------------------------------------\n",
        "#Treinamento os casos confimados e casos fatais\n",
        "train_brazil_confirmed_cases = train_brazil[[\"ConfirmedCases\"]]\n",
        "train_brazil_fatal_cases = train_brazil[[\"Fatalities\"]]"
      ],
      "execution_count": 615,
      "outputs": []
    },
    {
      "cell_type": "code",
      "metadata": {
        "colab": {
          "base_uri": "https://localhost:8080/"
        },
        "id": "AR4tHvVB0D0s",
        "outputId": "5787eea7-a89a-422d-9420-7314c2aecae1"
      },
      "source": [
        "#---------------------------------Parte 11--------------------------------------\n",
        "#PLotagem do casos confirmados e fatais em forma de matriz\n",
        "print(train_brazil_confirmed_cases, train_brazil_fatal_cases)"
      ],
      "execution_count": 616,
      "outputs": [
        {
          "output_type": "stream",
          "name": "stdout",
          "text": [
            "      ConfirmedCases\n",
            "3450             0.0\n",
            "3451             0.0\n",
            "3452             0.0\n",
            "3453             0.0\n",
            "3454             0.0\n",
            "...              ...\n",
            "3560        169594.0\n",
            "3561        178214.0\n",
            "3562        190137.0\n",
            "3563        203165.0\n",
            "3564        220291.0\n",
            "\n",
            "[115 rows x 1 columns]       Fatalities\n",
            "3450         0.0\n",
            "3451         0.0\n",
            "3452         0.0\n",
            "3453         0.0\n",
            "3454         0.0\n",
            "...          ...\n",
            "3560     11653.0\n",
            "3561     12461.0\n",
            "3562     13240.0\n",
            "3563     13999.0\n",
            "3564     14962.0\n",
            "\n",
            "[115 rows x 1 columns]\n"
          ]
        }
      ]
    },
    {
      "cell_type": "code",
      "source": [
        "#---------------------------------Parte 12--------------------------------------\n",
        "#Plotagem dos casos confirmados e casos fatais de Janeiro a Maio (2020)\n",
        "confirmed_total_date = train.groupby(['Date']).agg({'ConfirmedCases':['sum']})\n",
        "fatalities_total_date = train.groupby(['Date']).agg({'Fatalities':['sum']})\n",
        "total_date = confirmed_total_date.join(fatalities_total_date)\n",
        "\n",
        "confirmed_total_date_Brazil = train[train['Country_Region']=='Brazil'].groupby(['Date']).agg({'ConfirmedCases':['sum']})\n",
        "fatalities_total_date_Brazil= train[train['Country_Region']=='Brazil'].groupby(['Date']).agg({'Fatalities':['sum']})\n",
        "total_date_Brazil = confirmed_total_date_Brazil.join(fatalities_total_date_Brazil)\n",
        "\n",
        "plt.figure(figsize=(16.36,10))\n",
        "plt.subplot(2, 2, 1)\n",
        "total_date_Brazil.plot(ax=plt.gca(), title='Casos Fatais e Confirmados no Brasil')\n",
        "plt.ylabel(\"Casos Confirmados\", size=13)\n"
      ],
      "metadata": {
        "colab": {
          "base_uri": "https://localhost:8080/",
          "height": 342
        },
        "id": "uo_8UNF1_ttp",
        "outputId": "efb1fdea-4304-437e-b5c5-e3fb08aa280e"
      },
      "execution_count": 617,
      "outputs": [
        {
          "output_type": "execute_result",
          "data": {
            "text/plain": [
              "Text(0, 0.5, 'Casos Confirmados')"
            ]
          },
          "metadata": {},
          "execution_count": 617
        },
        {
          "output_type": "display_data",
          "data": {
            "image/png": "[encoded data removed]",
            "text/plain": [
              "<Figure size 1177.92x720 with 1 Axes>"
            ]
          },
          "metadata": {
            "needs_background": "light"
          }
        }
      ]
    },
    {
      "cell_type": "code",
      "metadata": {
        "colab": {
          "base_uri": "https://localhost:8080/"
        },
        "id": "ZXhBl4d2ztda",
        "outputId": "bc38e869-ea12-4980-a5c7-384ea027ea16"
      },
      "source": [
        "#---------------------------------Parte 13--------------------------------------\n",
        "#O comando len () é uma função embutida que retorna o comprimento (número de itens) de um objeto.\n",
        "len(train_brazil_confirmed_cases)"
      ],
      "execution_count": 618,
      "outputs": [
        {
          "output_type": "execute_result",
          "data": {
            "text/plain": [
              "115"
            ]
          },
          "metadata": {},
          "execution_count": 618
        }
      ]
    },
    {
      "cell_type": "code",
      "metadata": {
        "colab": {
          "base_uri": "https://localhost:8080/",
          "height": 424
        },
        "id": "YwQMFuKnzvpb",
        "outputId": "dc9409c0-5459-4d3c-cf94-db900790cb8a"
      },
      "source": [
        "#---------------------------------Parte 14--------------------------------------\n",
        "#Treinamento dos casos confirmados de COVID-19 no Brasil\n",
        "train_brazil_confirmed_cases"
      ],
      "execution_count": 619,
      "outputs": [
        {
          "output_type": "execute_result",
          "data": {
            "text/html": [
              "<div>\n",
              "<style scoped>\n",
              "    .dataframe tbody tr th:only-of-type {\n",
              "        vertical-align: middle;\n",
              "    }\n",
              "\n",
              "    .dataframe tbody tr th {\n",
              "        vertical-align: top;\n",
              "    }\n",
              "\n",
              "    .dataframe thead th {\n",
              "        text-align: right;\n",
              "    }\n",
              "</style>\n",
              "<table border=\"1\" class=\"dataframe\">\n",
              "  <thead>\n",
              "    <tr style=\"text-align: right;\">\n",
              "      <th></th>\n",
              "      <th>ConfirmedCases</th>\n",
              "    </tr>\n",
              "  </thead>\n",
              "  <tbody>\n",
              "    <tr>\n",
              "      <th>3450</th>\n",
              "      <td>0.0</td>\n",
              "    </tr>\n",
              "    <tr>\n",
              "      <th>3451</th>\n",
              "      <td>0.0</td>\n",
              "    </tr>\n",
              "    <tr>\n",
              "      <th>3452</th>\n",
              "      <td>0.0</td>\n",
              "    </tr>\n",
              "    <tr>\n",
              "      <th>3453</th>\n",
              "      <td>0.0</td>\n",
              "    </tr>\n",
              "    <tr>\n",
              "      <th>3454</th>\n",
              "      <td>0.0</td>\n",
              "    </tr>\n",
              "    <tr>\n",
              "      <th>...</th>\n",
              "      <td>...</td>\n",
              "    </tr>\n",
              "    <tr>\n",
              "      <th>3560</th>\n",
              "      <td>169594.0</td>\n",
              "    </tr>\n",
              "    <tr>\n",
              "      <th>3561</th>\n",
              "      <td>178214.0</td>\n",
              "    </tr>\n",
              "    <tr>\n",
              "      <th>3562</th>\n",
              "      <td>190137.0</td>\n",
              "    </tr>\n",
              "    <tr>\n",
              "      <th>3563</th>\n",
              "      <td>203165.0</td>\n",
              "    </tr>\n",
              "    <tr>\n",
              "      <th>3564</th>\n",
              "      <td>220291.0</td>\n",
              "    </tr>\n",
              "  </tbody>\n",
              "</table>\n",
              "<p>115 rows × 1 columns</p>\n",
              "</div>"
            ],
            "text/plain": [
              "      ConfirmedCases\n",
              "3450             0.0\n",
              "3451             0.0\n",
              "3452             0.0\n",
              "3453             0.0\n",
              "3454             0.0\n",
              "...              ...\n",
              "3560        169594.0\n",
              "3561        178214.0\n",
              "3562        190137.0\n",
              "3563        203165.0\n",
              "3564        220291.0\n",
              "\n",
              "[115 rows x 1 columns]"
            ]
          },
          "metadata": {},
          "execution_count": 619
        }
      ]
    },
    {
      "cell_type": "code",
      "metadata": {
        "id": "xdVndkPAsjjC"
      },
      "source": [
        "#---------------------------------Parte 15--------------------------------------\n",
        "#Aqui usa-se o iloc para indexação / seleção por posição baseada em localização de inteiros.\n",
        "train_brazil_confirmed_cases_data = train_brazil_confirmed_cases.iloc[0:train_brazil_size]\n",
        "val_brazil_confirmed_cases_data = train_brazil_confirmed_cases.iloc[train_brazil_size : len(train_brazil_confirmed_cases)]"
      ],
      "execution_count": 620,
      "outputs": []
    },
    {
      "cell_type": "code",
      "metadata": {
        "colab": {
          "base_uri": "https://localhost:8080/"
        },
        "id": "j7lQ98xIsup5",
        "outputId": "0fd4a922-922f-40f6-b6a7-f702588da4ba"
      },
      "source": [
        "#---------------------------------Parte 16--------------------------------------\n",
        "#Plotagem da fixação de inteiros; treinamento e validação de casos\n",
        "print(len(train_brazil_confirmed_cases_data))\n",
        "print(len(val_brazil_confirmed_cases_data))"
      ],
      "execution_count": 621,
      "outputs": [
        {
          "output_type": "stream",
          "name": "stdout",
          "text": [
            "86\n",
            "29\n"
          ]
        }
      ]
    },
    {
      "cell_type": "code",
      "metadata": {
        "id": "Drt7kV-mtEzL"
      },
      "source": [
        "#---------------------------------Parte 17--------------------------------------\n",
        "#O MinMaxScaler faz a estimação de escala e traduz cada recurso individualmente, \n",
        "#de modo que esteja no intervalo especificado no conjunto de treinamento, por exemplo. entre zero e um.\n",
        "scaler = MinMaxScaler(feature_range = (0,1))\n",
        "def createDataset(train) : \n",
        "    train_scaled = scaler.fit_transform(train)\n",
        "    x_train = [] \n",
        "    y_train = []\n",
        "    time_step = 2\n",
        "    for i in range(time_step, train_scaled.shape[0]):\n",
        "        x_train.append(train_scaled[i-time_step : i , 0])\n",
        "        y_train.append(train_scaled[i, 0])\n",
        "    \n",
        "    x_train, y_train = np.array(x_train), np.array(y_train)\n",
        "    x_train = np.reshape(x_train, (x_train.shape[0], x_train.shape[1], 1 ))\n",
        "    y_train = np.reshape(y_train, (y_train.shape[0], 1 ))\n",
        "    return x_train, y_train     "
      ],
      "execution_count": 622,
      "outputs": []
    },
    {
      "cell_type": "code",
      "metadata": {
        "id": "LwR6PESes1tS"
      },
      "source": [
        "#---------------------------------Parte 18--------------------------------------\n",
        "#Aqui será definido a criação do dataset (train)\n",
        "def createDataset(train) : \n",
        "    train_scaled = scaler.fit_transform(train)\n",
        "    x_train = [] \n",
        "    y_train = []\n",
        "    time_step = 2\n",
        "    for i in range(time_step, train_scaled.shape[0]):\n",
        "        x_train.append(train_scaled[i-time_step : i , 0])\n",
        "        y_train.append(train_scaled[i, 0])\n",
        "    \n",
        "    x_train, y_train = np.array(x_train), np.array(y_train)\n",
        "    x_train = np.reshape(x_train, (x_train.shape[0], x_train.shape[1], 1 ))\n",
        "    y_train = np.reshape(y_train, (y_train.shape[0], 1 ))\n",
        "    return x_train, y_train   "
      ],
      "execution_count": 623,
      "outputs": []
    },
    {
      "cell_type": "code",
      "metadata": {
        "id": "rvrDrCJRs4sZ"
      },
      "source": [
        "#---------------------------------Parte 19--------------------------------------\n",
        "#Conjunto de dados para treinar o respectivo modelo de aprendizado\n",
        "x_train, y_train = createDataset(train_brazil_confirmed_cases_data)\n",
        "x_val, y_val = createDataset(val_brazil_confirmed_cases_data)"
      ],
      "execution_count": 624,
      "outputs": []
    },
    {
      "cell_type": "code",
      "metadata": {
        "colab": {
          "base_uri": "https://localhost:8080/"
        },
        "id": "dtw5ySo1thPZ",
        "outputId": "6f9fd4f8-b4f6-49bc-d11d-ee8923903e33"
      },
      "source": [
        "#---------------------------------Parte 120--------------------------------------\n",
        "#Plotagem do modelo de aprendizado\n",
        "print(x_train.shape, y_train.shape)\n",
        "print(x_val.shape, y_val.shape)"
      ],
      "execution_count": 625,
      "outputs": [
        {
          "output_type": "stream",
          "name": "stdout",
          "text": [
            "(84, 2, 1) (84, 1)\n",
            "(27, 2, 1) (27, 1)\n"
          ]
        }
      ]
    },
    {
      "cell_type": "code",
      "metadata": {
        "id": "uqWGqOKnrTZI"
      },
      "source": [
        "#---------------------------------Parte 21--------------------------------------\n",
        "#Um Sequential () modelo é apropriado para uma pilha de camadas simples, \n",
        "#onde cada camada tem exactamente um tensor de entrada e um tensor de saída.\n",
        "\n",
        "#Aqui é criado e configurado a rede neural LSTM  que cria camada longa de memória de curto prazo\n",
        "#A camada Dropout define aleatoriamente as unidades de entrada para 0 \n",
        "#com uma frequência de taxa em cada etapa durante o tempo de treinamento\n",
        "\n",
        "model = tf.keras.Sequential()\n",
        "model.add(tf.keras.layers.LSTM(units = 50, return_sequences = True, input_shape = (x_train.shape[1], 1)))\n",
        "model.add(tf.keras.layers.Dropout(0.2))\n",
        "model.add(tf.keras.layers.LSTM(units = 50, return_sequences = True))\n",
        "model.add(tf.keras.layers.Dropout(0.2))\n",
        "model.add(tf.keras.layers.LSTM(units = 50, return_sequences = True))\n",
        "model.add(tf.keras.layers.Dropout(0.2))\n",
        "model.add(tf.keras.layers.LSTM(units = 50, return_sequences = False))\n",
        "model.add(tf.keras.layers.Dropout(0.2))\n",
        "model.add(tf.keras.layers.Dense(units = 1))"
      ],
      "execution_count": 626,
      "outputs": []
    },
    {
      "cell_type": "code",
      "metadata": {
        "id": "HnqtBKzFtkVo",
        "colab": {
          "base_uri": "https://localhost:8080/"
        },
        "outputId": "c7c36b53-c401-41b6-82cb-0441e9c63d74"
      },
      "source": [
        "#---------------------------------Parte 22--------------------------------------\n",
        "#Compilação do modelo de treinamento\n",
        "model.compile(tf.keras.optimizers.Adam(lr = 0.001), loss = \"mean_squared_error\", metrics=['accuracy'])"
      ],
      "execution_count": 627,
      "outputs": [
        {
          "output_type": "stream",
          "name": "stderr",
          "text": [
            "/usr/local/lib/python3.7/dist-packages/keras/optimizer_v2/adam.py:105: UserWarning:\n",
            "\n",
            "The `lr` argument is deprecated, use `learning_rate` instead.\n",
            "\n"
          ]
        }
      ]
    },
    {
      "cell_type": "code",
      "metadata": {
        "colab": {
          "base_uri": "https://localhost:8080/"
        },
        "id": "20cJDKv5tmOO",
        "outputId": "da55540a-4f9e-47ab-9980-567ef2eb9742"
      },
      "source": [
        "#---------------------------------Parte 23--------------------------------------\n",
        "#Sumário com o modelo de treinamento\n",
        "model.summary()"
      ],
      "execution_count": 628,
      "outputs": [
        {
          "output_type": "stream",
          "name": "stdout",
          "text": [
            "Model: \"sequential_14\"\n",
            "_________________________________________________________________\n",
            " Layer (type)                Output Shape              Param #   \n",
            "=================================================================\n",
            " lstm_56 (LSTM)              (None, 2, 50)             10400     \n",
            "                                                                 \n",
            " dropout_56 (Dropout)        (None, 2, 50)             0         \n",
            "                                                                 \n",
            " lstm_57 (LSTM)              (None, 2, 50)             20200     \n",
            "                                                                 \n",
            " dropout_57 (Dropout)        (None, 2, 50)             0         \n",
            "                                                                 \n",
            " lstm_58 (LSTM)              (None, 2, 50)             20200     \n",
            "                                                                 \n",
            " dropout_58 (Dropout)        (None, 2, 50)             0         \n",
            "                                                                 \n",
            " lstm_59 (LSTM)              (None, 50)                20200     \n",
            "                                                                 \n",
            " dropout_59 (Dropout)        (None, 50)                0         \n",
            "                                                                 \n",
            " dense_14 (Dense)            (None, 1)                 51        \n",
            "                                                                 \n",
            "=================================================================\n",
            "Total params: 71,051\n",
            "Trainable params: 71,051\n",
            "Non-trainable params: 0\n",
            "_________________________________________________________________\n"
          ]
        }
      ]
    },
    {
      "cell_type": "code",
      "metadata": {
        "id": "dNshwY0ItvD5"
      },
      "source": [
        "#---------------------------------Parte 24--------------------------------------\n",
        "#Um epoch é uma iteração sobre todos os dados x e y fornecidos.\n",
        "#Um batch_size é o tamanho do lote é um termo usado no aprendizado de máquina, \n",
        "#e se refere ao número de exemplos de treinamento utilizados em uma iteração\n",
        "#sobre todos os dados x e y fornecidos.\n",
        "EPOCHS = 200\n",
        "BATCH_SIZE = 1"
      ],
      "execution_count": 629,
      "outputs": []
    },
    {
      "cell_type": "code",
      "metadata": {
        "colab": {
          "base_uri": "https://localhost:8080/"
        },
        "id": "5_ZDolDutwb6",
        "outputId": "18434eab-d50a-4121-cc09-a415bbba369d"
      },
      "source": [
        "#---------------------------------Parte 25--------------------------------------\n",
        "#É possível usar as informações da variável “ history ” para\n",
        "#verificar a evolução da função de loss e da métrica\n",
        "with tf.device(\"/device:GPU:0\"):\n",
        "  history = model.fit(x_train, y_train,epochs = EPOCHS, verbose = 1,\n",
        "                     batch_size = BATCH_SIZE, validation_data = (x_val, y_val))"
      ],
      "execution_count": 630,
      "outputs": [
        {
          "output_type": "stream",
          "name": "stdout",
          "text": [
            "Epoch 1/200\n",
            "84/84 [==============================] - 8s 28ms/step - loss: 0.0626 - accuracy: 0.3929 - val_loss: 0.1376 - val_accuracy: 0.0000e+00\n",
            "Epoch 2/200\n",
            "84/84 [==============================] - 1s 8ms/step - loss: 0.0251 - accuracy: 0.3929 - val_loss: 0.0137 - val_accuracy: 0.0370\n",
            "Epoch 3/200\n",
            "84/84 [==============================] - 1s 8ms/step - loss: 0.0060 - accuracy: 0.4048 - val_loss: 0.0060 - val_accuracy: 0.0370\n",
            "Epoch 4/200\n",
            "84/84 [==============================] - 1s 8ms/step - loss: 0.0046 - accuracy: 0.4048 - val_loss: 0.0030 - val_accuracy: 0.0370\n",
            "Epoch 5/200\n",
            "84/84 [==============================] - 1s 9ms/step - loss: 0.0015 - accuracy: 0.4048 - val_loss: 0.0031 - val_accuracy: 0.0370\n",
            "Epoch 6/200\n",
            "84/84 [==============================] - 1s 8ms/step - loss: 0.0034 - accuracy: 0.4048 - val_loss: 8.4938e-04 - val_accuracy: 0.0370\n",
            "Epoch 7/200\n",
            "84/84 [==============================] - 1s 8ms/step - loss: 0.0014 - accuracy: 0.4048 - val_loss: 6.1919e-04 - val_accuracy: 0.0370\n",
            "Epoch 8/200\n",
            "84/84 [==============================] - 1s 8ms/step - loss: 0.0022 - accuracy: 0.4048 - val_loss: 0.0015 - val_accuracy: 0.0370\n",
            "Epoch 9/200\n",
            "84/84 [==============================] - 1s 8ms/step - loss: 0.0032 - accuracy: 0.4048 - val_loss: 0.0059 - val_accuracy: 0.0370\n",
            "Epoch 10/200\n",
            "84/84 [==============================] - 1s 8ms/step - loss: 0.0030 - accuracy: 0.4048 - val_loss: 0.0048 - val_accuracy: 0.0370\n",
            "Epoch 11/200\n",
            "84/84 [==============================] - 1s 8ms/step - loss: 0.0020 - accuracy: 0.4048 - val_loss: 8.4396e-04 - val_accuracy: 0.0370\n",
            "Epoch 12/200\n",
            "84/84 [==============================] - 1s 8ms/step - loss: 0.0020 - accuracy: 0.4048 - val_loss: 8.2587e-04 - val_accuracy: 0.0370\n",
            "Epoch 13/200\n",
            "84/84 [==============================] - 1s 8ms/step - loss: 0.0044 - accuracy: 0.4048 - val_loss: 0.0011 - val_accuracy: 0.0370\n",
            "Epoch 14/200\n",
            "84/84 [==============================] - 1s 8ms/step - loss: 0.0039 - accuracy: 0.4048 - val_loss: 0.0012 - val_accuracy: 0.0370\n",
            "Epoch 15/200\n",
            "84/84 [==============================] - 1s 9ms/step - loss: 0.0016 - accuracy: 0.4048 - val_loss: 0.0040 - val_accuracy: 0.0370\n",
            "Epoch 16/200\n",
            "84/84 [==============================] - 1s 8ms/step - loss: 0.0026 - accuracy: 0.4048 - val_loss: 0.0033 - val_accuracy: 0.0370\n",
            "Epoch 17/200\n",
            "84/84 [==============================] - 1s 8ms/step - loss: 0.0016 - accuracy: 0.4048 - val_loss: 0.0029 - val_accuracy: 0.0370\n",
            "Epoch 18/200\n",
            "84/84 [==============================] - 1s 8ms/step - loss: 0.0027 - accuracy: 0.4048 - val_loss: 0.0022 - val_accuracy: 0.0370\n",
            "Epoch 19/200\n",
            "84/84 [==============================] - 1s 8ms/step - loss: 0.0013 - accuracy: 0.4048 - val_loss: 0.0011 - val_accuracy: 0.0370\n",
            "Epoch 20/200\n",
            "84/84 [==============================] - 1s 8ms/step - loss: 0.0023 - accuracy: 0.4048 - val_loss: 0.0027 - val_accuracy: 0.0370\n",
            "Epoch 21/200\n",
            "84/84 [==============================] - 1s 8ms/step - loss: 0.0022 - accuracy: 0.4048 - val_loss: 0.0014 - val_accuracy: 0.0370\n",
            "Epoch 22/200\n",
            "84/84 [==============================] - 1s 8ms/step - loss: 0.0034 - accuracy: 0.4048 - val_loss: 0.0012 - val_accuracy: 0.0370\n",
            "Epoch 23/200\n",
            "84/84 [==============================] - 1s 8ms/step - loss: 0.0051 - accuracy: 0.4048 - val_loss: 0.0023 - val_accuracy: 0.0370\n",
            "Epoch 24/200\n",
            "84/84 [==============================] - 1s 8ms/step - loss: 0.0060 - accuracy: 0.4048 - val_loss: 7.8483e-04 - val_accuracy: 0.0370\n",
            "Epoch 25/200\n",
            "84/84 [==============================] - 1s 8ms/step - loss: 0.0030 - accuracy: 0.4048 - val_loss: 9.1259e-04 - val_accuracy: 0.0370\n",
            "Epoch 26/200\n",
            "84/84 [==============================] - 1s 8ms/step - loss: 0.0021 - accuracy: 0.4048 - val_loss: 0.0016 - val_accuracy: 0.0370\n",
            "Epoch 27/200\n",
            "84/84 [==============================] - 1s 8ms/step - loss: 0.0015 - accuracy: 0.4048 - val_loss: 0.0012 - val_accuracy: 0.0370\n",
            "Epoch 28/200\n",
            "84/84 [==============================] - 1s 8ms/step - loss: 0.0026 - accuracy: 0.4048 - val_loss: 0.0017 - val_accuracy: 0.0370\n",
            "Epoch 29/200\n",
            "84/84 [==============================] - 1s 8ms/step - loss: 0.0011 - accuracy: 0.4048 - val_loss: 0.0050 - val_accuracy: 0.0370\n",
            "Epoch 30/200\n",
            "84/84 [==============================] - 1s 9ms/step - loss: 0.0019 - accuracy: 0.4048 - val_loss: 7.0195e-04 - val_accuracy: 0.0370\n",
            "Epoch 31/200\n",
            "84/84 [==============================] - 1s 8ms/step - loss: 0.0015 - accuracy: 0.4048 - val_loss: 0.0027 - val_accuracy: 0.0370\n",
            "Epoch 32/200\n",
            "84/84 [==============================] - 1s 8ms/step - loss: 0.0013 - accuracy: 0.4048 - val_loss: 8.2930e-04 - val_accuracy: 0.0370\n",
            "Epoch 33/200\n",
            "84/84 [==============================] - 1s 8ms/step - loss: 0.0025 - accuracy: 0.4048 - val_loss: 0.0012 - val_accuracy: 0.0370\n",
            "Epoch 34/200\n",
            "84/84 [==============================] - 1s 8ms/step - loss: 0.0012 - accuracy: 0.4048 - val_loss: 0.0064 - val_accuracy: 0.0370\n",
            "Epoch 35/200\n",
            "84/84 [==============================] - 1s 9ms/step - loss: 0.0028 - accuracy: 0.4048 - val_loss: 0.0013 - val_accuracy: 0.0370\n",
            "Epoch 36/200\n",
            "84/84 [==============================] - 1s 8ms/step - loss: 0.0015 - accuracy: 0.4048 - val_loss: 7.6203e-04 - val_accuracy: 0.0370\n",
            "Epoch 37/200\n",
            "84/84 [==============================] - 1s 8ms/step - loss: 0.0034 - accuracy: 0.4048 - val_loss: 0.0238 - val_accuracy: 0.0370\n",
            "Epoch 38/200\n",
            "84/84 [==============================] - 1s 8ms/step - loss: 0.0023 - accuracy: 0.4048 - val_loss: 7.4849e-04 - val_accuracy: 0.0370\n",
            "Epoch 39/200\n",
            "84/84 [==============================] - 1s 8ms/step - loss: 0.0012 - accuracy: 0.4048 - val_loss: 5.7543e-04 - val_accuracy: 0.0370\n",
            "Epoch 40/200\n",
            "84/84 [==============================] - 1s 8ms/step - loss: 0.0026 - accuracy: 0.4048 - val_loss: 0.0059 - val_accuracy: 0.0370\n",
            "Epoch 41/200\n",
            "84/84 [==============================] - 1s 8ms/step - loss: 0.0019 - accuracy: 0.4048 - val_loss: 0.0041 - val_accuracy: 0.0370\n",
            "Epoch 42/200\n",
            "84/84 [==============================] - 1s 8ms/step - loss: 0.0029 - accuracy: 0.4048 - val_loss: 0.0195 - val_accuracy: 0.0370\n",
            "Epoch 43/200\n",
            "84/84 [==============================] - 1s 8ms/step - loss: 0.0021 - accuracy: 0.4048 - val_loss: 0.0016 - val_accuracy: 0.0370\n",
            "Epoch 44/200\n",
            "84/84 [==============================] - 1s 8ms/step - loss: 0.0017 - accuracy: 0.4048 - val_loss: 6.3884e-04 - val_accuracy: 0.0370\n",
            "Epoch 45/200\n",
            "84/84 [==============================] - 1s 8ms/step - loss: 0.0014 - accuracy: 0.4048 - val_loss: 0.0014 - val_accuracy: 0.0370\n",
            "Epoch 46/200\n",
            "84/84 [==============================] - 1s 8ms/step - loss: 0.0028 - accuracy: 0.4048 - val_loss: 9.4971e-04 - val_accuracy: 0.0370\n",
            "Epoch 47/200\n",
            "84/84 [==============================] - 1s 8ms/step - loss: 8.8022e-04 - accuracy: 0.4048 - val_loss: 0.0063 - val_accuracy: 0.0370\n",
            "Epoch 48/200\n",
            "84/84 [==============================] - 1s 8ms/step - loss: 0.0016 - accuracy: 0.4048 - val_loss: 7.8638e-04 - val_accuracy: 0.0370\n",
            "Epoch 49/200\n",
            "84/84 [==============================] - 1s 8ms/step - loss: 0.0031 - accuracy: 0.4048 - val_loss: 0.0018 - val_accuracy: 0.0370\n",
            "Epoch 50/200\n",
            "84/84 [==============================] - 1s 8ms/step - loss: 0.0016 - accuracy: 0.4048 - val_loss: 0.0033 - val_accuracy: 0.0370\n",
            "Epoch 51/200\n",
            "84/84 [==============================] - 1s 8ms/step - loss: 0.0013 - accuracy: 0.4048 - val_loss: 9.7725e-04 - val_accuracy: 0.0370\n",
            "Epoch 52/200\n",
            "84/84 [==============================] - 1s 8ms/step - loss: 0.0011 - accuracy: 0.4048 - val_loss: 0.0012 - val_accuracy: 0.0370\n",
            "Epoch 53/200\n",
            "84/84 [==============================] - 1s 8ms/step - loss: 0.0022 - accuracy: 0.4048 - val_loss: 0.0105 - val_accuracy: 0.0370\n",
            "Epoch 54/200\n",
            "84/84 [==============================] - 1s 8ms/step - loss: 0.0033 - accuracy: 0.4048 - val_loss: 8.4171e-04 - val_accuracy: 0.0370\n",
            "Epoch 55/200\n",
            "84/84 [==============================] - 1s 8ms/step - loss: 0.0031 - accuracy: 0.4048 - val_loss: 0.0015 - val_accuracy: 0.0370\n",
            "Epoch 56/200\n",
            "84/84 [==============================] - 1s 8ms/step - loss: 0.0017 - accuracy: 0.4048 - val_loss: 0.0015 - val_accuracy: 0.0370\n",
            "Epoch 57/200\n",
            "84/84 [==============================] - 1s 8ms/step - loss: 0.0019 - accuracy: 0.4048 - val_loss: 0.0047 - val_accuracy: 0.0370\n",
            "Epoch 58/200\n",
            "84/84 [==============================] - 1s 8ms/step - loss: 0.0035 - accuracy: 0.4048 - val_loss: 0.0067 - val_accuracy: 0.0370\n",
            "Epoch 59/200\n",
            "84/84 [==============================] - 1s 8ms/step - loss: 0.0042 - accuracy: 0.4048 - val_loss: 0.0070 - val_accuracy: 0.0370\n",
            "Epoch 60/200\n",
            "84/84 [==============================] - 1s 8ms/step - loss: 0.0019 - accuracy: 0.4048 - val_loss: 6.8917e-04 - val_accuracy: 0.0370\n",
            "Epoch 61/200\n",
            "84/84 [==============================] - 1s 8ms/step - loss: 9.5210e-04 - accuracy: 0.4048 - val_loss: 0.0025 - val_accuracy: 0.0370\n",
            "Epoch 62/200\n",
            "84/84 [==============================] - 1s 8ms/step - loss: 8.3193e-04 - accuracy: 0.4048 - val_loss: 8.0855e-04 - val_accuracy: 0.0370\n",
            "Epoch 63/200\n",
            "84/84 [==============================] - 1s 8ms/step - loss: 9.5303e-04 - accuracy: 0.4048 - val_loss: 8.6828e-04 - val_accuracy: 0.0370\n",
            "Epoch 64/200\n",
            "84/84 [==============================] - 1s 8ms/step - loss: 0.0022 - accuracy: 0.4048 - val_loss: 0.0017 - val_accuracy: 0.0370\n",
            "Epoch 65/200\n",
            "84/84 [==============================] - 1s 8ms/step - loss: 7.7814e-04 - accuracy: 0.4048 - val_loss: 0.0015 - val_accuracy: 0.0370\n",
            "Epoch 66/200\n",
            "84/84 [==============================] - 1s 8ms/step - loss: 0.0018 - accuracy: 0.4048 - val_loss: 0.0010 - val_accuracy: 0.0370\n",
            "Epoch 67/200\n",
            "84/84 [==============================] - 1s 8ms/step - loss: 6.9360e-04 - accuracy: 0.4048 - val_loss: 0.0013 - val_accuracy: 0.0370\n",
            "Epoch 68/200\n",
            "84/84 [==============================] - 1s 8ms/step - loss: 0.0011 - accuracy: 0.4048 - val_loss: 0.0034 - val_accuracy: 0.0370\n",
            "Epoch 69/200\n",
            "84/84 [==============================] - 1s 8ms/step - loss: 0.0011 - accuracy: 0.4048 - val_loss: 0.0027 - val_accuracy: 0.0370\n",
            "Epoch 70/200\n",
            "84/84 [==============================] - 1s 8ms/step - loss: 0.0010 - accuracy: 0.4048 - val_loss: 0.0018 - val_accuracy: 0.0370\n",
            "Epoch 71/200\n",
            "84/84 [==============================] - 1s 8ms/step - loss: 0.0012 - accuracy: 0.4048 - val_loss: 7.1342e-04 - val_accuracy: 0.0370\n",
            "Epoch 72/200\n",
            "84/84 [==============================] - 1s 8ms/step - loss: 0.0020 - accuracy: 0.4048 - val_loss: 9.8822e-04 - val_accuracy: 0.0370\n",
            "Epoch 73/200\n",
            "84/84 [==============================] - 1s 8ms/step - loss: 0.0011 - accuracy: 0.4048 - val_loss: 8.5377e-04 - val_accuracy: 0.0370\n",
            "Epoch 74/200\n",
            "84/84 [==============================] - 1s 9ms/step - loss: 0.0023 - accuracy: 0.4048 - val_loss: 0.0033 - val_accuracy: 0.0370\n",
            "Epoch 75/200\n",
            "84/84 [==============================] - 1s 8ms/step - loss: 0.0014 - accuracy: 0.4048 - val_loss: 0.0121 - val_accuracy: 0.0370\n",
            "Epoch 76/200\n",
            "84/84 [==============================] - 1s 8ms/step - loss: 0.0012 - accuracy: 0.4048 - val_loss: 6.8475e-04 - val_accuracy: 0.0370\n",
            "Epoch 77/200\n",
            "84/84 [==============================] - 1s 8ms/step - loss: 0.0024 - accuracy: 0.4048 - val_loss: 0.0013 - val_accuracy: 0.0370\n",
            "Epoch 78/200\n",
            "84/84 [==============================] - 1s 8ms/step - loss: 8.4721e-04 - accuracy: 0.4048 - val_loss: 0.0052 - val_accuracy: 0.0370\n",
            "Epoch 79/200\n",
            "84/84 [==============================] - 1s 8ms/step - loss: 0.0030 - accuracy: 0.4048 - val_loss: 0.0041 - val_accuracy: 0.0370\n",
            "Epoch 80/200\n",
            "84/84 [==============================] - 1s 9ms/step - loss: 0.0018 - accuracy: 0.4048 - val_loss: 0.0018 - val_accuracy: 0.0370\n",
            "Epoch 81/200\n",
            "84/84 [==============================] - 1s 8ms/step - loss: 0.0019 - accuracy: 0.4048 - val_loss: 0.0038 - val_accuracy: 0.0370\n",
            "Epoch 82/200\n",
            "84/84 [==============================] - 1s 8ms/step - loss: 0.0012 - accuracy: 0.4048 - val_loss: 7.6666e-04 - val_accuracy: 0.0370\n",
            "Epoch 83/200\n",
            "84/84 [==============================] - 1s 8ms/step - loss: 0.0089 - accuracy: 0.4048 - val_loss: 0.0171 - val_accuracy: 0.0370\n",
            "Epoch 84/200\n",
            "84/84 [==============================] - 1s 8ms/step - loss: 0.0026 - accuracy: 0.4048 - val_loss: 0.0029 - val_accuracy: 0.0370\n",
            "Epoch 85/200\n",
            "84/84 [==============================] - 1s 9ms/step - loss: 0.0016 - accuracy: 0.4048 - val_loss: 0.0011 - val_accuracy: 0.0370\n",
            "Epoch 86/200\n",
            "84/84 [==============================] - 1s 8ms/step - loss: 0.0019 - accuracy: 0.4048 - val_loss: 0.0018 - val_accuracy: 0.0370\n",
            "Epoch 87/200\n",
            "84/84 [==============================] - 1s 9ms/step - loss: 0.0014 - accuracy: 0.4048 - val_loss: 7.5979e-04 - val_accuracy: 0.0370\n",
            "Epoch 88/200\n",
            "84/84 [==============================] - 1s 8ms/step - loss: 0.0017 - accuracy: 0.4048 - val_loss: 8.2565e-04 - val_accuracy: 0.0370\n",
            "Epoch 89/200\n",
            "84/84 [==============================] - 1s 8ms/step - loss: 0.0022 - accuracy: 0.4048 - val_loss: 9.8072e-04 - val_accuracy: 0.0370\n",
            "Epoch 90/200\n",
            "84/84 [==============================] - 1s 8ms/step - loss: 0.0015 - accuracy: 0.4048 - val_loss: 7.8401e-04 - val_accuracy: 0.0370\n",
            "Epoch 91/200\n",
            "84/84 [==============================] - 1s 8ms/step - loss: 0.0014 - accuracy: 0.4048 - val_loss: 0.0058 - val_accuracy: 0.0370\n",
            "Epoch 92/200\n",
            "84/84 [==============================] - 1s 8ms/step - loss: 0.0016 - accuracy: 0.4048 - val_loss: 0.0030 - val_accuracy: 0.0370\n",
            "Epoch 93/200\n",
            "84/84 [==============================] - 1s 9ms/step - loss: 0.0021 - accuracy: 0.4048 - val_loss: 0.0025 - val_accuracy: 0.0370\n",
            "Epoch 94/200\n",
            "84/84 [==============================] - 1s 8ms/step - loss: 0.0037 - accuracy: 0.4048 - val_loss: 0.0015 - val_accuracy: 0.0370\n",
            "Epoch 95/200\n",
            "84/84 [==============================] - 1s 8ms/step - loss: 0.0031 - accuracy: 0.4048 - val_loss: 0.0012 - val_accuracy: 0.0370\n",
            "Epoch 96/200\n",
            "84/84 [==============================] - 1s 8ms/step - loss: 0.0011 - accuracy: 0.4048 - val_loss: 8.0756e-04 - val_accuracy: 0.0370\n",
            "Epoch 97/200\n",
            "84/84 [==============================] - 1s 8ms/step - loss: 0.0014 - accuracy: 0.4048 - val_loss: 0.0041 - val_accuracy: 0.0370\n",
            "Epoch 98/200\n",
            "84/84 [==============================] - 1s 8ms/step - loss: 6.4822e-04 - accuracy: 0.4048 - val_loss: 7.7290e-04 - val_accuracy: 0.0370\n",
            "Epoch 99/200\n",
            "84/84 [==============================] - 1s 8ms/step - loss: 0.0025 - accuracy: 0.4048 - val_loss: 9.1122e-04 - val_accuracy: 0.0370\n",
            "Epoch 100/200\n",
            "84/84 [==============================] - 1s 8ms/step - loss: 0.0020 - accuracy: 0.4048 - val_loss: 0.0034 - val_accuracy: 0.0370\n",
            "Epoch 101/200\n",
            "84/84 [==============================] - 1s 8ms/step - loss: 0.0011 - accuracy: 0.4048 - val_loss: 0.0024 - val_accuracy: 0.0370\n",
            "Epoch 102/200\n",
            "84/84 [==============================] - 1s 8ms/step - loss: 0.0012 - accuracy: 0.4048 - val_loss: 0.0011 - val_accuracy: 0.0370\n",
            "Epoch 103/200\n",
            "84/84 [==============================] - 1s 8ms/step - loss: 0.0026 - accuracy: 0.4048 - val_loss: 0.0036 - val_accuracy: 0.0370\n",
            "Epoch 104/200\n",
            "84/84 [==============================] - 1s 8ms/step - loss: 0.0019 - accuracy: 0.4048 - val_loss: 0.0069 - val_accuracy: 0.0370\n",
            "Epoch 105/200\n",
            "84/84 [==============================] - 1s 8ms/step - loss: 0.0014 - accuracy: 0.4048 - val_loss: 8.8516e-04 - val_accuracy: 0.0370\n",
            "Epoch 106/200\n",
            "84/84 [==============================] - 1s 8ms/step - loss: 0.0013 - accuracy: 0.4048 - val_loss: 0.0012 - val_accuracy: 0.0370\n",
            "Epoch 107/200\n",
            "84/84 [==============================] - 1s 8ms/step - loss: 0.0022 - accuracy: 0.4048 - val_loss: 9.8831e-04 - val_accuracy: 0.0370\n",
            "Epoch 108/200\n",
            "84/84 [==============================] - 1s 8ms/step - loss: 8.7687e-04 - accuracy: 0.4048 - val_loss: 0.0012 - val_accuracy: 0.0370\n",
            "Epoch 109/200\n",
            "84/84 [==============================] - 1s 8ms/step - loss: 0.0018 - accuracy: 0.4048 - val_loss: 0.0010 - val_accuracy: 0.0370\n",
            "Epoch 110/200\n",
            "84/84 [==============================] - 1s 8ms/step - loss: 0.0027 - accuracy: 0.4048 - val_loss: 0.0017 - val_accuracy: 0.0370\n",
            "Epoch 111/200\n",
            "84/84 [==============================] - 1s 8ms/step - loss: 0.0012 - accuracy: 0.4048 - val_loss: 0.0030 - val_accuracy: 0.0370\n",
            "Epoch 112/200\n",
            "84/84 [==============================] - 1s 8ms/step - loss: 0.0024 - accuracy: 0.4048 - val_loss: 0.0084 - val_accuracy: 0.0370\n",
            "Epoch 113/200\n",
            "84/84 [==============================] - 1s 8ms/step - loss: 0.0016 - accuracy: 0.4048 - val_loss: 8.8641e-04 - val_accuracy: 0.0370\n",
            "Epoch 114/200\n",
            "84/84 [==============================] - 1s 8ms/step - loss: 0.0016 - accuracy: 0.4048 - val_loss: 0.0023 - val_accuracy: 0.0370\n",
            "Epoch 115/200\n",
            "84/84 [==============================] - 1s 9ms/step - loss: 0.0019 - accuracy: 0.4048 - val_loss: 0.0020 - val_accuracy: 0.0370\n",
            "Epoch 116/200\n",
            "84/84 [==============================] - 1s 9ms/step - loss: 0.0018 - accuracy: 0.4048 - val_loss: 0.0046 - val_accuracy: 0.0370\n",
            "Epoch 117/200\n",
            "84/84 [==============================] - 1s 8ms/step - loss: 0.0020 - accuracy: 0.4048 - val_loss: 0.0036 - val_accuracy: 0.0370\n",
            "Epoch 118/200\n",
            "84/84 [==============================] - 1s 8ms/step - loss: 0.0014 - accuracy: 0.4048 - val_loss: 7.7310e-04 - val_accuracy: 0.0370\n",
            "Epoch 119/200\n",
            "84/84 [==============================] - 1s 8ms/step - loss: 7.4068e-04 - accuracy: 0.4048 - val_loss: 7.4669e-04 - val_accuracy: 0.0370\n",
            "Epoch 120/200\n",
            "84/84 [==============================] - 1s 8ms/step - loss: 0.0033 - accuracy: 0.4048 - val_loss: 0.0017 - val_accuracy: 0.0370\n",
            "Epoch 121/200\n",
            "84/84 [==============================] - 1s 9ms/step - loss: 0.0011 - accuracy: 0.4048 - val_loss: 0.0011 - val_accuracy: 0.0370\n",
            "Epoch 122/200\n",
            "84/84 [==============================] - 1s 9ms/step - loss: 0.0011 - accuracy: 0.4048 - val_loss: 0.0012 - val_accuracy: 0.0370\n",
            "Epoch 123/200\n",
            "84/84 [==============================] - 1s 8ms/step - loss: 0.0021 - accuracy: 0.4048 - val_loss: 0.0012 - val_accuracy: 0.0370\n",
            "Epoch 124/200\n",
            "84/84 [==============================] - 1s 8ms/step - loss: 0.0024 - accuracy: 0.4048 - val_loss: 9.8359e-04 - val_accuracy: 0.0370\n",
            "Epoch 125/200\n",
            "84/84 [==============================] - 1s 8ms/step - loss: 0.0023 - accuracy: 0.4048 - val_loss: 0.0013 - val_accuracy: 0.0370\n",
            "Epoch 126/200\n",
            "84/84 [==============================] - 1s 8ms/step - loss: 0.0018 - accuracy: 0.4048 - val_loss: 0.0010 - val_accuracy: 0.0370\n",
            "Epoch 127/200\n",
            "84/84 [==============================] - 1s 8ms/step - loss: 0.0022 - accuracy: 0.4048 - val_loss: 9.3522e-04 - val_accuracy: 0.0370\n",
            "Epoch 128/200\n",
            "84/84 [==============================] - 1s 8ms/step - loss: 0.0020 - accuracy: 0.4048 - val_loss: 0.0023 - val_accuracy: 0.0370\n",
            "Epoch 129/200\n",
            "84/84 [==============================] - 1s 9ms/step - loss: 0.0017 - accuracy: 0.4048 - val_loss: 0.0026 - val_accuracy: 0.0370\n",
            "Epoch 130/200\n",
            "84/84 [==============================] - 1s 8ms/step - loss: 5.2986e-04 - accuracy: 0.4048 - val_loss: 8.0349e-04 - val_accuracy: 0.0370\n",
            "Epoch 131/200\n",
            "84/84 [==============================] - 1s 8ms/step - loss: 0.0020 - accuracy: 0.4048 - val_loss: 0.0027 - val_accuracy: 0.0370\n",
            "Epoch 132/200\n",
            "84/84 [==============================] - 1s 8ms/step - loss: 0.0022 - accuracy: 0.4048 - val_loss: 5.5812e-04 - val_accuracy: 0.0370\n",
            "Epoch 133/200\n",
            "84/84 [==============================] - 1s 8ms/step - loss: 0.0013 - accuracy: 0.4048 - val_loss: 0.0028 - val_accuracy: 0.0370\n",
            "Epoch 134/200\n",
            "84/84 [==============================] - 1s 9ms/step - loss: 0.0015 - accuracy: 0.4048 - val_loss: 0.0035 - val_accuracy: 0.0370\n",
            "Epoch 135/200\n",
            "84/84 [==============================] - 1s 8ms/step - loss: 0.0021 - accuracy: 0.4048 - val_loss: 0.0013 - val_accuracy: 0.0370\n",
            "Epoch 136/200\n",
            "84/84 [==============================] - 1s 9ms/step - loss: 0.0013 - accuracy: 0.4048 - val_loss: 9.5410e-04 - val_accuracy: 0.0370\n",
            "Epoch 137/200\n",
            "84/84 [==============================] - 1s 8ms/step - loss: 0.0013 - accuracy: 0.4048 - val_loss: 0.0011 - val_accuracy: 0.0370\n",
            "Epoch 138/200\n",
            "84/84 [==============================] - 1s 8ms/step - loss: 0.0011 - accuracy: 0.4048 - val_loss: 8.6862e-04 - val_accuracy: 0.0370\n",
            "Epoch 139/200\n",
            "84/84 [==============================] - 1s 8ms/step - loss: 0.0012 - accuracy: 0.4048 - val_loss: 0.0023 - val_accuracy: 0.0370\n",
            "Epoch 140/200\n",
            "84/84 [==============================] - 1s 9ms/step - loss: 0.0021 - accuracy: 0.4048 - val_loss: 9.6098e-04 - val_accuracy: 0.0370\n",
            "Epoch 141/200\n",
            "84/84 [==============================] - 1s 8ms/step - loss: 0.0036 - accuracy: 0.4048 - val_loss: 0.0074 - val_accuracy: 0.0370\n",
            "Epoch 142/200\n",
            "84/84 [==============================] - 1s 8ms/step - loss: 0.0013 - accuracy: 0.4048 - val_loss: 0.0071 - val_accuracy: 0.0370\n",
            "Epoch 143/200\n",
            "84/84 [==============================] - 1s 9ms/step - loss: 0.0022 - accuracy: 0.4048 - val_loss: 0.0021 - val_accuracy: 0.0370\n",
            "Epoch 144/200\n",
            "84/84 [==============================] - 1s 9ms/step - loss: 0.0017 - accuracy: 0.4048 - val_loss: 6.2686e-04 - val_accuracy: 0.0370\n",
            "Epoch 145/200\n",
            "84/84 [==============================] - 1s 9ms/step - loss: 0.0019 - accuracy: 0.4048 - val_loss: 0.0021 - val_accuracy: 0.0370\n",
            "Epoch 146/200\n",
            "84/84 [==============================] - 1s 8ms/step - loss: 0.0026 - accuracy: 0.4048 - val_loss: 8.6818e-04 - val_accuracy: 0.0370\n",
            "Epoch 147/200\n",
            "84/84 [==============================] - 1s 8ms/step - loss: 0.0021 - accuracy: 0.4048 - val_loss: 0.0032 - val_accuracy: 0.0370\n",
            "Epoch 148/200\n",
            "84/84 [==============================] - 1s 8ms/step - loss: 0.0030 - accuracy: 0.4048 - val_loss: 0.0138 - val_accuracy: 0.0370\n",
            "Epoch 149/200\n",
            "84/84 [==============================] - 1s 9ms/step - loss: 0.0012 - accuracy: 0.4048 - val_loss: 8.8161e-04 - val_accuracy: 0.0370\n",
            "Epoch 150/200\n",
            "84/84 [==============================] - 1s 8ms/step - loss: 0.0019 - accuracy: 0.4048 - val_loss: 0.0072 - val_accuracy: 0.0370\n",
            "Epoch 151/200\n",
            "84/84 [==============================] - 1s 9ms/step - loss: 0.0041 - accuracy: 0.4048 - val_loss: 0.0013 - val_accuracy: 0.0370\n",
            "Epoch 152/200\n",
            "84/84 [==============================] - 1s 8ms/step - loss: 0.0019 - accuracy: 0.4048 - val_loss: 0.0010 - val_accuracy: 0.0370\n",
            "Epoch 153/200\n",
            "84/84 [==============================] - 1s 8ms/step - loss: 0.0018 - accuracy: 0.4048 - val_loss: 0.0013 - val_accuracy: 0.0370\n",
            "Epoch 154/200\n",
            "84/84 [==============================] - 1s 8ms/step - loss: 0.0013 - accuracy: 0.4048 - val_loss: 0.0066 - val_accuracy: 0.0370\n",
            "Epoch 155/200\n",
            "84/84 [==============================] - 1s 8ms/step - loss: 0.0022 - accuracy: 0.4048 - val_loss: 0.0019 - val_accuracy: 0.0370\n",
            "Epoch 156/200\n",
            "84/84 [==============================] - 1s 8ms/step - loss: 0.0020 - accuracy: 0.4048 - val_loss: 6.6150e-04 - val_accuracy: 0.0370\n",
            "Epoch 157/200\n",
            "84/84 [==============================] - 1s 8ms/step - loss: 0.0022 - accuracy: 0.4048 - val_loss: 8.6033e-04 - val_accuracy: 0.0370\n",
            "Epoch 158/200\n",
            "84/84 [==============================] - 1s 9ms/step - loss: 0.0015 - accuracy: 0.4048 - val_loss: 0.0022 - val_accuracy: 0.0370\n",
            "Epoch 159/200\n",
            "84/84 [==============================] - 1s 8ms/step - loss: 0.0013 - accuracy: 0.4048 - val_loss: 0.0063 - val_accuracy: 0.0370\n",
            "Epoch 160/200\n",
            "84/84 [==============================] - 1s 8ms/step - loss: 0.0023 - accuracy: 0.4048 - val_loss: 0.0022 - val_accuracy: 0.0370\n",
            "Epoch 161/200\n",
            "84/84 [==============================] - 1s 9ms/step - loss: 0.0020 - accuracy: 0.4048 - val_loss: 0.0011 - val_accuracy: 0.0370\n",
            "Epoch 162/200\n",
            "84/84 [==============================] - 1s 8ms/step - loss: 0.0031 - accuracy: 0.4048 - val_loss: 0.0018 - val_accuracy: 0.0370\n",
            "Epoch 163/200\n",
            "84/84 [==============================] - 1s 8ms/step - loss: 0.0013 - accuracy: 0.4048 - val_loss: 9.6402e-04 - val_accuracy: 0.0370\n",
            "Epoch 164/200\n",
            "84/84 [==============================] - 1s 8ms/step - loss: 0.0011 - accuracy: 0.4048 - val_loss: 0.0015 - val_accuracy: 0.0370\n",
            "Epoch 165/200\n",
            "84/84 [==============================] - 1s 8ms/step - loss: 0.0015 - accuracy: 0.4048 - val_loss: 0.0019 - val_accuracy: 0.0370\n",
            "Epoch 166/200\n",
            "84/84 [==============================] - 1s 8ms/step - loss: 0.0013 - accuracy: 0.4048 - val_loss: 8.9872e-04 - val_accuracy: 0.0370\n",
            "Epoch 167/200\n",
            "84/84 [==============================] - 1s 8ms/step - loss: 0.0010 - accuracy: 0.4048 - val_loss: 0.0015 - val_accuracy: 0.0370\n",
            "Epoch 168/200\n",
            "84/84 [==============================] - 1s 9ms/step - loss: 0.0014 - accuracy: 0.4048 - val_loss: 0.0011 - val_accuracy: 0.0370\n",
            "Epoch 169/200\n",
            "84/84 [==============================] - 1s 8ms/step - loss: 0.0011 - accuracy: 0.4048 - val_loss: 8.8437e-04 - val_accuracy: 0.0370\n",
            "Epoch 170/200\n",
            "84/84 [==============================] - 1s 8ms/step - loss: 0.0015 - accuracy: 0.4048 - val_loss: 0.0030 - val_accuracy: 0.0370\n",
            "Epoch 171/200\n",
            "84/84 [==============================] - 1s 9ms/step - loss: 7.5701e-04 - accuracy: 0.4048 - val_loss: 9.4708e-04 - val_accuracy: 0.0370\n",
            "Epoch 172/200\n",
            "84/84 [==============================] - 1s 8ms/step - loss: 0.0016 - accuracy: 0.4048 - val_loss: 0.0013 - val_accuracy: 0.0370\n",
            "Epoch 173/200\n",
            "84/84 [==============================] - 1s 9ms/step - loss: 6.5326e-04 - accuracy: 0.4048 - val_loss: 0.0024 - val_accuracy: 0.0370\n",
            "Epoch 174/200\n",
            "84/84 [==============================] - 1s 8ms/step - loss: 9.1833e-04 - accuracy: 0.4048 - val_loss: 0.0015 - val_accuracy: 0.0370\n",
            "Epoch 175/200\n",
            "84/84 [==============================] - 1s 8ms/step - loss: 8.2105e-04 - accuracy: 0.4048 - val_loss: 0.0016 - val_accuracy: 0.0370\n",
            "Epoch 176/200\n",
            "84/84 [==============================] - 1s 8ms/step - loss: 0.0012 - accuracy: 0.4048 - val_loss: 0.0047 - val_accuracy: 0.0370\n",
            "Epoch 177/200\n",
            "84/84 [==============================] - 1s 8ms/step - loss: 0.0021 - accuracy: 0.4048 - val_loss: 0.0024 - val_accuracy: 0.0370\n",
            "Epoch 178/200\n",
            "84/84 [==============================] - 1s 9ms/step - loss: 0.0015 - accuracy: 0.4048 - val_loss: 0.0017 - val_accuracy: 0.0370\n",
            "Epoch 179/200\n",
            "84/84 [==============================] - 1s 9ms/step - loss: 0.0018 - accuracy: 0.4048 - val_loss: 9.9516e-04 - val_accuracy: 0.0370\n",
            "Epoch 180/200\n",
            "84/84 [==============================] - 1s 8ms/step - loss: 0.0015 - accuracy: 0.4048 - val_loss: 0.0058 - val_accuracy: 0.0370\n",
            "Epoch 181/200\n",
            "84/84 [==============================] - 1s 8ms/step - loss: 0.0028 - accuracy: 0.4048 - val_loss: 0.0015 - val_accuracy: 0.0370\n",
            "Epoch 182/200\n",
            "84/84 [==============================] - 1s 9ms/step - loss: 0.0016 - accuracy: 0.4048 - val_loss: 0.0067 - val_accuracy: 0.0370\n",
            "Epoch 183/200\n",
            "84/84 [==============================] - 1s 8ms/step - loss: 0.0019 - accuracy: 0.4048 - val_loss: 0.0025 - val_accuracy: 0.0370\n",
            "Epoch 184/200\n",
            "84/84 [==============================] - 1s 8ms/step - loss: 0.0033 - accuracy: 0.4048 - val_loss: 0.0011 - val_accuracy: 0.0370\n",
            "Epoch 185/200\n",
            "84/84 [==============================] - 1s 8ms/step - loss: 0.0016 - accuracy: 0.4048 - val_loss: 9.4020e-04 - val_accuracy: 0.0370\n",
            "Epoch 186/200\n",
            "84/84 [==============================] - 1s 9ms/step - loss: 7.2690e-04 - accuracy: 0.4048 - val_loss: 6.8878e-04 - val_accuracy: 0.0370\n",
            "Epoch 187/200\n",
            "84/84 [==============================] - 1s 9ms/step - loss: 0.0011 - accuracy: 0.4048 - val_loss: 0.0024 - val_accuracy: 0.0370\n",
            "Epoch 188/200\n",
            "84/84 [==============================] - 1s 8ms/step - loss: 0.0025 - accuracy: 0.4048 - val_loss: 0.0047 - val_accuracy: 0.0370\n",
            "Epoch 189/200\n",
            "84/84 [==============================] - 1s 10ms/step - loss: 0.0013 - accuracy: 0.4048 - val_loss: 7.4189e-04 - val_accuracy: 0.0370\n",
            "Epoch 190/200\n",
            "84/84 [==============================] - 1s 8ms/step - loss: 0.0023 - accuracy: 0.4048 - val_loss: 7.1582e-04 - val_accuracy: 0.0370\n",
            "Epoch 191/200\n",
            "84/84 [==============================] - 1s 9ms/step - loss: 0.0014 - accuracy: 0.4048 - val_loss: 0.0029 - val_accuracy: 0.0370\n",
            "Epoch 192/200\n",
            "84/84 [==============================] - 1s 9ms/step - loss: 8.6580e-04 - accuracy: 0.4048 - val_loss: 7.8379e-04 - val_accuracy: 0.0370\n",
            "Epoch 193/200\n",
            "84/84 [==============================] - 1s 9ms/step - loss: 0.0010 - accuracy: 0.4048 - val_loss: 0.0032 - val_accuracy: 0.0370\n",
            "Epoch 194/200\n",
            "84/84 [==============================] - 1s 8ms/step - loss: 0.0014 - accuracy: 0.4048 - val_loss: 0.0041 - val_accuracy: 0.0370\n",
            "Epoch 195/200\n",
            "84/84 [==============================] - 1s 8ms/step - loss: 0.0013 - accuracy: 0.4048 - val_loss: 8.0393e-04 - val_accuracy: 0.0370\n",
            "Epoch 196/200\n",
            "84/84 [==============================] - 1s 8ms/step - loss: 0.0039 - accuracy: 0.4048 - val_loss: 7.3226e-04 - val_accuracy: 0.0370\n",
            "Epoch 197/200\n",
            "84/84 [==============================] - 1s 9ms/step - loss: 0.0018 - accuracy: 0.4048 - val_loss: 0.0039 - val_accuracy: 0.0370\n",
            "Epoch 198/200\n",
            "84/84 [==============================] - 1s 8ms/step - loss: 0.0016 - accuracy: 0.4048 - val_loss: 0.0025 - val_accuracy: 0.0370\n",
            "Epoch 199/200\n",
            "84/84 [==============================] - 1s 8ms/step - loss: 0.0013 - accuracy: 0.4048 - val_loss: 0.0012 - val_accuracy: 0.0370\n",
            "Epoch 200/200\n",
            "84/84 [==============================] - 1s 9ms/step - loss: 7.3277e-04 - accuracy: 0.4048 - val_loss: 0.0010 - val_accuracy: 0.0370\n"
          ]
        }
      ]
    },
    {
      "cell_type": "code",
      "source": [
        "#---------------------------------Parte 26--------------------------------------\n",
        "model.evaluate(x_train,  y_train, verbose=2)"
      ],
      "metadata": {
        "colab": {
          "base_uri": "https://localhost:8080/"
        },
        "id": "5Etz8-yZspFh",
        "outputId": "c2973ecb-f62d-4afb-e91d-e3160a67014e"
      },
      "execution_count": 631,
      "outputs": [
        {
          "output_type": "stream",
          "name": "stdout",
          "text": [
            "3/3 - 2s - loss: 3.1205e-04 - accuracy: 0.4048 - 2s/epoch - 573ms/step\n"
          ]
        },
        {
          "output_type": "execute_result",
          "data": {
            "text/plain": [
              "[0.0003120512410532683, 0.4047619104385376]"
            ]
          },
          "metadata": {},
          "execution_count": 631
        }
      ]
    },
    {
      "cell_type": "code",
      "metadata": {
        "colab": {
          "base_uri": "https://localhost:8080/",
          "height": 731
        },
        "id": "hdBBOaZnuNSp",
        "outputId": "619156a6-00e7-47ec-baaa-fff5dd4925f7"
      },
      "source": [
        "#---------------------------------Parte 27--------------------------------------\n",
        "#Plotagem do treinamento e validação do Loss\n",
        "x = np.arange(0, EPOCHS, 1)                                                                  \n",
        "plt.figure(1, figsize = (22, 12))                                  \n",
        "plt.subplot(121)\n",
        "plt.xlabel(\"Epochs\")\n",
        "plt.ylabel(\"Loss\")\n",
        "plt.plot(x, history.history[\"loss\"], label = \"Treinamento do Loss\")\n",
        "plt.plot(x, history.history[\"val_loss\"], label = \"Validação Loss\")\n",
        "plt.grid(True)\n",
        "plt.legend()  "
      ],
      "execution_count": 632,
      "outputs": [
        {
          "output_type": "execute_result",
          "data": {
            "text/plain": [
              "<matplotlib.legend.Legend at 0x7fbea55b1c10>"
            ]
          },
          "metadata": {},
          "execution_count": 632
        },
        {
          "output_type": "display_data",
          "data": {
            "image/png": "[encoded data removed]",
            "text/plain": [
              "<Figure size 1584x864 with 1 Axes>"
            ]
          },
          "metadata": {
            "needs_background": "light"
          }
        }
      ]
    },
    {
      "cell_type": "code",
      "source": [
        "#---------------------------------Parte 28--------------------------------------\n",
        "#Aqui é possível usar os dados de teste do dataset para,\n",
        "# essa rede neural treinada, e assim prever as saídas que a rede desconhece\n",
        "#A seguir são apresentados os casos reais e uma predição rede não conhece;\n",
        "predicted_cases = model.predict(x_val)\n",
        "predicted_cases = scaler.inverse_transform(predicted_cases)\n",
        "real_cases = scaler.inverse_transform(y_val)\n",
        "plt.figure(figsize= (10, 6))\n",
        "plt.subplot(1,1,1)\n",
        "plt.plot(real_cases, color = \"green\", label = \"Número Real de Casos\")\n",
        "plt.plot(predicted_cases, color = \"blue\", label = \"Número de Predição de Casos\")\n",
        "plt.title(\"Casos de Covid-19 no Brasil\")\n",
        "plt.xlabel(\"Tempo\")\n",
        "plt.ylabel(\"Contagem de Casos\")\n",
        "plt.legend()\n",
        "plt.grid(\"both\")\n",
        "plt.show()"
      ],
      "metadata": {
        "colab": {
          "base_uri": "https://localhost:8080/",
          "height": 404
        },
        "id": "DyN1ZXIRxdQu",
        "outputId": "b24ee160-f0d4-4e24-ccd1-646d6639c10f"
      },
      "execution_count": 633,
      "outputs": [
        {
          "output_type": "display_data",
          "data": {
            "image/png": "[encoded data removed]",
            "text/plain": [
              "<Figure size 720x432 with 1 Axes>"
            ]
          },
          "metadata": {
            "needs_background": "light"
          }
        }
      ]
    }
  ]
}