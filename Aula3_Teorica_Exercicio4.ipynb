{
  "nbformat": 4,
  "nbformat_minor": 0,
  "metadata": {
    "colab": {
      "name": "Aula3-Teorica-Exercicio4.ipynb",
      "provenance": [],
      "collapsed_sections": [],
      "authorship_tag": "ABX9TyM5mau1UV3H8gq4kdT2485O",
      "include_colab_link": true
    },
    "kernelspec": {
      "name": "python3",
      "display_name": "Python 3"
    },
    "language_info": {
      "name": "python"
    }
  },
  "cells": [
    {
      "cell_type": "markdown",
      "metadata": {
        "id": "view-in-github",
        "colab_type": "text"
      },
      "source": [
        "<a href=\"https://colab.research.google.com/github/nascimento-luciano/Artificial-Intelligence/blob/master/Aula3_Teorica_Exercicio4.ipynb\" target=\"_parent\"><img src=\"https://colab.research.google.com/assets/colab-badge.svg\" alt=\"Open In Colab\"/></a>"
      ]
    },
    {
      "cell_type": "code",
      "metadata": {
        "id": "HppViFJ2v2lV"
      },
      "source": [
        "import math\n",
        "import numpy as np\n",
        "import matplotlib.pyplot as plt\n",
        "W=0;\n",
        "T=10\n",
        "x_train = np.array([-2.0, 0.0, 4.0, 1.0], dtype=float)\n",
        "y_train = np.array([2.0, 0.0, -4.0, -1.0], dtype=float)\n",
        "loss_sq=np.zeros(T)\n",
        "for t in range(0,T):\n",
        "  for n in range(0,y_train.size):\n",
        "    score=W*x_train[n]\n",
        "    residuo=score-y_train[n]\n",
        "    grad=2*residuo*x_train[n]\n",
        "    learning_rate=0.2/(np.sqrt(t+1))\n",
        "    W=W-learning_rate*grad\n",
        "  loss_sq[t]=residuo**2\n",
        "  print('loss e W=',[loss_sq[t],W])\n",
        "plt.plot(loss_sq,'k')\n",
        "plt.xlabel('interação'),plt.ylabel('Loss')\n",
        "print('W final=',W)"
      ],
      "execution_count": null,
      "outputs": []
    }
  ]
}