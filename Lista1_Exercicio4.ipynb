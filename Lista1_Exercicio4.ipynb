{
  "nbformat": 4,
  "nbformat_minor": 0,
  "metadata": {
    "colab": {
      "name": "Lista1-Exercicio4.ipynb",
      "provenance": [],
      "collapsed_sections": [],
      "authorship_tag": "ABX9TyOonDLOw2LZEAOz4shDzA+5",
      "include_colab_link": true
    },
    "kernelspec": {
      "name": "python3",
      "display_name": "Python 3"
    },
    "language_info": {
      "name": "python"
    }
  },
  "cells": [
    {
      "cell_type": "markdown",
      "metadata": {
        "id": "view-in-github",
        "colab_type": "text"
      },
      "source": [
        "<a href=\"https://colab.research.google.com/github/nascimento-luciano/Artificial-Intelligence/blob/master/Lista1_Exercicio4.ipynb\" target=\"_parent\"><img src=\"https://colab.research.google.com/assets/colab-badge.svg\" alt=\"Open In Colab\"/></a>"
      ]
    },
    {
      "cell_type": "code",
      "metadata": {
        "colab": {
          "base_uri": "https://localhost:8080/",
          "height": 483
        },
        "id": "c36NDG7RLaI_",
        "outputId": "3f7d68db-94e5-4817-de24-839ad30cc02a"
      },
      "source": [
        "import math\n",
        "from math import inf                          #importa a expressão \"infinito\"\n",
        "import numpy as np\n",
        "import matplotlib.pyplot as plt\n",
        "W= np.array([0,0])\n",
        "num=W+1;\n",
        "raiz=np.sqrt(num)                             #num = float(input(\"Entre com um número:\\n\")) #Caso queria um número específico [n]\n",
        "n = 1/raiz\n",
        "learning_rate=n\n",
        "T=10\n",
        "x_train = np.array([[-2.0, 0.0],[3.0,1.0],[3.0,3.0]],dtype=float)\n",
        "y_train = np.array([[-1],[-1],[1]])\n",
        "loss_lg=np.zeros(T)\n",
        "for t in range(0,T):\n",
        "  for n in range(0,y_train.size):\n",
        "    score=np.dot(W,x_train[n])\n",
        "    margin=score*y_train[n]\n",
        "    grad=y_train[n]*(-x_train[n]/(1+np.exp(margin)))\n",
        "    W=W-learning_rate*grad\n",
        "    previsao=np.sign(np.dot(W,np.transpose(x_train)))\n",
        "  loss_lg[t]=np.log(1+np.exp(-margin))\n",
        "  print('previsao=',previsao)\n",
        "print('previsao final=',previsao)\n",
        "plt.plot(loss_lg,'k')\n",
        "plt.xlabel('interaçao'),plt.ylabel('Loss')\n",
        "print('W final=',W)"
      ],
      "execution_count": 7,
      "outputs": [
        {
          "output_type": "stream",
          "name": "stdout",
          "text": [
            "previsao= [-1.  1.  1.]\n",
            "previsao= [-1.  1.  1.]\n",
            "previsao= [ 1. -1.  1.]\n",
            "previsao= [-1.  1.  1.]\n",
            "previsao= [ 1. -1.  1.]\n",
            "previsao= [1. 1. 1.]\n",
            "previsao= [ 1. -1.  1.]\n",
            "previsao= [1. 1. 1.]\n",
            "previsao= [ 1. -1.  1.]\n",
            "previsao= [1. 1. 1.]\n",
            "previsao final= [1. 1. 1.]\n",
            "W final= [-1.07980426  4.9181566 ]\n"
          ]
        },
        {
          "output_type": "display_data",
          "data": {
            "image/png": "[encoded data removed]",
            "text/plain": [
              "<Figure size 432x288 with 1 Axes>"
            ]
          },
          "metadata": {
            "needs_background": "light"
          }
        }
      ]
    }
  ]
}