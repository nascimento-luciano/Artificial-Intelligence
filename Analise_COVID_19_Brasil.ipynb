{
  "nbformat": 4,
  "nbformat_minor": 0,
  "metadata": {
    "colab": {
      "name": "Analise-COVID-19-Brasil.ipynb",
      "provenance": [],
      "collapsed_sections": [],
      "authorship_tag": "ABX9TyP6xh2/GHvMhnvwi6ECBaiX",
      "include_colab_link": true
    },
    "kernelspec": {
      "name": "python3",
      "display_name": "Python 3"
    },
    "language_info": {
      "name": "python"
    }
  },
  "cells": [
    {
      "cell_type": "markdown",
      "metadata": {
        "id": "view-in-github",
        "colab_type": "text"
      },
      "source": [
        "<a href=\"https://colab.research.google.com/github/nascimento-luciano/Artificial-Intelligence/blob/master/Analise_COVID_19_Brasil.ipynb\" target=\"_parent\"><img src=\"https://colab.research.google.com/assets/colab-badge.svg\" alt=\"Open In Colab\"/></a>"
      ]
    },
    {
      "cell_type": "markdown",
      "metadata": {
        "id": "tNWjJ10rocRp"
      },
      "source": [
        "1ª Etapa - Plotagem do Casos Confirmados de COVID-19 no Brasil"
      ]
    },
    {
      "cell_type": "code",
      "metadata": {
        "id": "4_shQlW-OyqP"
      },
      "source": [
        "#---------------------------------Parte 1---------------------------------------\n",
        "#Importanto bibliotecas\n",
        "import pandas as pd\n",
        "import matplotlib.pyplot as plt\n",
        "import numpy as np\n",
        "import pandas as pd\n",
        "#import geopandas as gpd -----> Verificar porque não carrega a biblioteca\n",
        "import plotly.express as px\n",
        "import plotly.graph_objects as go"
      ],
      "execution_count": 187,
      "outputs": []
    },
    {
      "cell_type": "code",
      "metadata": {
        "colab": {
          "base_uri": "https://localhost:8080/"
        },
        "id": "50HAQscEO-HT",
        "outputId": "9300de47-ccd7-4593-c1a5-7c780d6b8be2"
      },
      "source": [
        "#Importação da biblioteca geopandas via instalação no Colab\n",
        "!pip install geopandas"
      ],
      "execution_count": 188,
      "outputs": [
        {
          "output_type": "stream",
          "name": "stdout",
          "text": [
            "Requirement already satisfied: geopandas in /usr/local/lib/python3.7/dist-packages (0.10.2)\n",
            "Requirement already satisfied: pyproj>=2.2.0 in /usr/local/lib/python3.7/dist-packages (from geopandas) (3.2.1)\n",
            "Requirement already satisfied: shapely>=1.6 in /usr/local/lib/python3.7/dist-packages (from geopandas) (1.8.0)\n",
            "Requirement already satisfied: pandas>=0.25.0 in /usr/local/lib/python3.7/dist-packages (from geopandas) (1.1.5)\n",
            "Requirement already satisfied: fiona>=1.8 in /usr/local/lib/python3.7/dist-packages (from geopandas) (1.8.20)\n",
            "Requirement already satisfied: six>=1.7 in /usr/local/lib/python3.7/dist-packages (from fiona>=1.8->geopandas) (1.15.0)\n",
            "Requirement already satisfied: click-plugins>=1.0 in /usr/local/lib/python3.7/dist-packages (from fiona>=1.8->geopandas) (1.1.1)\n",
            "Requirement already satisfied: setuptools in /usr/local/lib/python3.7/dist-packages (from fiona>=1.8->geopandas) (57.4.0)\n",
            "Requirement already satisfied: certifi in /usr/local/lib/python3.7/dist-packages (from fiona>=1.8->geopandas) (2021.10.8)\n",
            "Requirement already satisfied: munch in /usr/local/lib/python3.7/dist-packages (from fiona>=1.8->geopandas) (2.5.0)\n",
            "Requirement already satisfied: attrs>=17 in /usr/local/lib/python3.7/dist-packages (from fiona>=1.8->geopandas) (21.2.0)\n",
            "Requirement already satisfied: click>=4.0 in /usr/local/lib/python3.7/dist-packages (from fiona>=1.8->geopandas) (7.1.2)\n",
            "Requirement already satisfied: cligj>=0.5 in /usr/local/lib/python3.7/dist-packages (from fiona>=1.8->geopandas) (0.7.2)\n",
            "Requirement already satisfied: numpy>=1.15.4 in /usr/local/lib/python3.7/dist-packages (from pandas>=0.25.0->geopandas) (1.19.5)\n",
            "Requirement already satisfied: python-dateutil>=2.7.3 in /usr/local/lib/python3.7/dist-packages (from pandas>=0.25.0->geopandas) (2.8.2)\n",
            "Requirement already satisfied: pytz>=2017.2 in /usr/local/lib/python3.7/dist-packages (from pandas>=0.25.0->geopandas) (2018.9)\n"
          ]
        }
      ]
    },
    {
      "cell_type": "code",
      "metadata": {
        "id": "Nc0h3H3rPDEq"
      },
      "source": [
        "#---------------------------------Parte 2---------------------------------------\n",
        "#Importando Arquivo CSV\n",
        "#Dados não \"Oficiais de 2020\"\n",
        "covid_cases = pd.read_csv('worldometer_coronavirus_daily_data.csv')\n",
        "covid_vaxxs = pd.read_csv('country_vaccinations.csv')\n",
        "df = pd.read_csv('covid_19_data.csv')\n",
        "train=pd.read_csv('train.csv')\n",
        "test=pd.read_csv('test.csv')\n",
        "sub=pd.read_csv('submission.csv')\n",
        "submission=pd.read_csv('submission.csv')\n",
        "confirmed_df = pd.read_csv('time_series_covid_19_confirmed.csv')"
      ],
      "execution_count": 189,
      "outputs": []
    },
    {
      "cell_type": "code",
      "metadata": {
        "id": "ewu71qOlQQXk"
      },
      "source": [
        "#---------------------------------Parte 3---------------------------------------\n",
        "#Vamos marcar o datase e usar como amostra o Brazil\n",
        "\n",
        "def fix_country_name(country):\n",
        "    name_dict = {\n",
        "        'BRA': 'Brazil'\n",
        "     }\n",
        "    try:\n",
        "      return name_dict[country]\n",
        "    except KeyError:\n",
        "      return country\n",
        "\n",
        "covid_cases.country = covid_cases.country.apply(fix_country_name)"
      ],
      "execution_count": 190,
      "outputs": []
    },
    {
      "cell_type": "code",
      "metadata": {
        "id": "OJLmTUSDQSS7"
      },
      "source": [
        "#---------------------------------Parte 4---------------------------------------\n",
        "#Vamos observar o caso do Brasil\n",
        "countries_of_interest = [\"Brazil\"]\n",
        "\n",
        "#Vamos começar a limpar os dados filtrando-o para o subconjunto de países que desejamos.\n",
        "covid_cases_subset = covid_cases[covid_cases.country.isin (countries_of_interest)]\n",
        "covid_vaxxs_subset = covid_vaxxs[covid_vaxxs.country.isin (countries_of_interest)]"
      ],
      "execution_count": 191,
      "outputs": []
    },
    {
      "cell_type": "code",
      "metadata": {
        "id": "Y33OiuZBQT3y"
      },
      "source": [
        "#---------------------------------Parte 5---------------------------------------\n",
        "#Unindo os databases usando as datas e países\n",
        "merged_data = pd.merge_ordered(covid_cases_subset, covid_vaxxs_subset, \\\n",
        "                               left_on=['date', 'country'], \\\n",
        "                               right_on=['date', 'country'])\n",
        "\n",
        "#Remove as colunas desnecessárias\n",
        "merged_data.drop(columns=['iso_code', 'source_name', 'source_website', 'vaccines',\\\n",
        "                           'daily_vaccinations_per_million', 'daily_vaccinations_raw'], inplace=True)"
      ],
      "execution_count": 192,
      "outputs": []
    },
    {
      "cell_type": "code",
      "metadata": {
        "id": "pyw-C9mpQVWa"
      },
      "source": [
        "#---------------------------------Parte 6---------------------------------------\n",
        "#Vamos lidar com os NaNs\n",
        "merged_data.fillna({'total_vaccinations':0, 'people_vaccinated':0, 'people_fully_vaccinated':0,\\\n",
        "                 'daily_vaccinations':0,'total_vaccinations_per_hundred':0,\\\n",
        "                 'people_vaccinated_per_hundred':0 ,'people_fully_vaccinated_per_hundred':0}\\\n",
        "                 ,inplace=True)\n",
        "\n",
        "covid_data = merged_data.dropna(how='any', subset=['cumulative_total_cases'])"
      ],
      "execution_count": 193,
      "outputs": []
    },
    {
      "cell_type": "code",
      "metadata": {
        "id": "R1NLUjqmQWsC"
      },
      "source": [
        "#---------------------------------Parte 7---------------------------------------\n",
        "#Vamos também definir o índice para a data\n",
        "covid_data.set_index('date', inplace=True)"
      ],
      "execution_count": 194,
      "outputs": []
    },
    {
      "cell_type": "code",
      "metadata": {
        "id": "bWBOmmGuQX_7"
      },
      "source": [
        "#Vamos mudar o índice para um objeto datetime agora\n",
        "covid_data.index = pd.to_datetime(covid_data.index, errors='coerce', infer_datetime_format=True)"
      ],
      "execution_count": 195,
      "outputs": []
    },
    {
      "cell_type": "code",
      "metadata": {
        "colab": {
          "base_uri": "https://localhost:8080/",
          "height": 436
        },
        "id": "8GtjdXp-Qe_Z",
        "outputId": "81c13f85-585e-4607-c816-e2ff79563695"
      },
      "source": [
        "#---------------------------------Parte 8---------------------------------------\n",
        "#Plotagem do casos de COVID-19 no Brasil em forma de barras\n",
        "BRA_infections = covid_data[covid_data.country == 'Brazil']\n",
        "\n",
        "plt.figure(figsize=(12, 6))\n",
        "BRA_infections['daily_new_cases']\\\n",
        "  .groupby(BRA_infections.index.to_period('M'))\\\n",
        "  .sum().plot(kind='bar', legend=False, color='g')\n",
        "\n",
        "plt.legend(['Brasil'])\n",
        "plt.ylabel('Número de casos')\n",
        "plt.xlabel('Meses')\n",
        "plt.title('Casos de COVID em Meses');"
      ],
      "execution_count": 196,
      "outputs": [
        {
          "output_type": "display_data",
          "data": {
            "image/png": "[encoded data removed]",
            "text/plain": [
              "<Figure size 864x432 with 1 Axes>"
            ]
          },
          "metadata": {
            "needs_background": "light"
          }
        }
      ]
    },
    {
      "cell_type": "code",
      "metadata": {
        "colab": {
          "base_uri": "https://localhost:8080/",
          "height": 398
        },
        "id": "dqVmQ4fAQg_h",
        "outputId": "5f780d3a-673e-4c71-8a90-6160a4da08e5"
      },
      "source": [
        "#---------------------------------Parte 9---------------------------------------\n",
        "#Vemos que o padrão muda de país para país\n",
        "plt.figure(figsize=(12, 6))\n",
        "covid_data[covid_data.country == 'Brazil'].daily_new_cases.plot(legend=False,rot=45)\n",
        "covid_data[covid_data.country == 'Brazil'].daily_vaccinations.plot(legend=False,rot=45)\n",
        "\n",
        "#Marca o início do lançamento da vacina  no Brazil -----> Mônica Calazans (Primeiro Vacinado)\n",
        "plt.axvline('17/01/2021', color='k', linestyle='dashed', linewidth=1)\n",
        "\n",
        "plt.legend(['Casos diários', 'Vacinações diárias'])\n",
        "plt.ylabel('Número de pessoas')\n",
        "plt.xlabel('Data')\n",
        "plt.title('Taxas de COVID e vacinas no Brasil');\n",
        "\n",
        "#É possível conferir se os gráficos abaixo estão certo,\n",
        "#checando nos sites da Wikipedia e Our World Data\n",
        "#https://en.wikipedia.org/wiki/COVID-19_pandemic_in_Brazil\n",
        "#https://ourworldindata.org/coronavirus/country/brazil"
      ],
      "execution_count": 197,
      "outputs": [
        {
          "output_type": "display_data",
          "data": {
            "image/png": "[encoded data removed]",
            "text/plain": [
              "<Figure size 864x432 with 1 Axes>"
            ]
          },
          "metadata": {
            "needs_background": "light"
          }
        }
      ]
    },
    {
      "cell_type": "markdown",
      "metadata": {
        "id": "lA9cU4t5tUS7"
      },
      "source": [
        "--------------------------Fim do Código---------------------------------------"
      ]
    },
    {
      "cell_type": "markdown",
      "metadata": {
        "id": "9UyFrkAgALmT"
      },
      "source": [
        "2ª Etapa - Plotagem do Modelo de Predição de Casos de Confirmados no Brasil"
      ]
    },
    {
      "cell_type": "code",
      "metadata": {
        "id": "4DDlRZG2qslQ"
      },
      "source": [
        "#---------------------------------Parte 1---------------------------------------\n",
        "#Importanto bibliotecas\n",
        "import numpy as np\n",
        "import pandas as pd\n",
        "import matplotlib\n",
        "import matplotlib.pyplot as plt\n",
        "from plotly.offline import iplot, init_notebook_mode\n",
        "import plotly.express as px\n",
        "import bokeh \n",
        "from bokeh.io import output_notebook\n",
        "from bokeh.resources import INLINE\n",
        "import tensorflow as tf\n",
        "import sklearn\n",
        "from sklearn.model_selection import train_test_split\n",
        "from sklearn.preprocessing import MinMaxScaler\n",
        "import warnings\n",
        "warnings.filterwarnings(\"ignore\")\n",
        "output_notebook(resources=INLINE)\n",
        "%matplotlib inline"
      ],
      "execution_count": 198,
      "outputs": []
    },
    {
      "cell_type": "code",
      "metadata": {
        "id": "49rsEskQqunZ"
      },
      "source": [
        "#---------------------------------Parte 2---------------------------------------\n",
        "#Construindo o DataFrame a partir de um arquivo CSV.\n",
        "train = pd.DataFrame(pd.read_csv('train.csv'))"
      ],
      "execution_count": 199,
      "outputs": []
    },
    {
      "cell_type": "code",
      "metadata": {
        "colab": {
          "base_uri": "https://localhost:8080/"
        },
        "id": "JZr0HI-Xq1Oy",
        "outputId": "c6986d8e-c06e-497a-f41a-ce200b97f285"
      },
      "source": [
        "#Platagem da forma de treinamento\n",
        "print(\"A forma dos dados de treinamento é = {}\".format(train.shape))"
      ],
      "execution_count": 200,
      "outputs": [
        {
          "output_type": "stream",
          "name": "stdout",
          "text": [
            "A forma dos dados de treinamento é = (35995, 6)\n"
          ]
        }
      ]
    },
    {
      "cell_type": "code",
      "metadata": {
        "id": "UEpXqWQuq30x"
      },
      "source": [
        "#---------------------------------Parte 3---------------------------------------\n",
        "#Considerando para o treinamento os dados das Provincias, Casos Confirmados e Fatalidades\n",
        "train.Province_State.fillna(\"\", inplace = True)\n",
        "train.ConfirmedCases.fillna(\"\", inplace = True)\n",
        "train.Fatalities.fillna(\"\", inplace = True)"
      ],
      "execution_count": 201,
      "outputs": []
    },
    {
      "cell_type": "code",
      "metadata": {
        "colab": {
          "base_uri": "https://localhost:8080/"
        },
        "id": "cxL8Uz9Kq5yo",
        "outputId": "1def525b-8d35-401d-fa79-89493af3cae9"
      },
      "source": [
        "#---------------------------------Parte 4---------------------------------------\n",
        "#Treinamento exibe a forma matricial dos países com casos confirmados de COVID-19\n",
        "train[\"Country_Region\"].unique()"
      ],
      "execution_count": 202,
      "outputs": [
        {
          "output_type": "execute_result",
          "data": {
            "text/plain": [
              "array(['Afghanistan', 'Albania', 'Algeria', 'Andorra', 'Angola',\n",
              "       'Antigua and Barbuda', 'Argentina', 'Armenia', 'Australia',\n",
              "       'Austria', 'Azerbaijan', 'Bahamas', 'Bahrain', 'Bangladesh',\n",
              "       'Barbados', 'Belarus', 'Belgium', 'Belize', 'Benin', 'Bhutan',\n",
              "       'Bolivia', 'Bosnia and Herzegovina', 'Botswana', 'Brazil',\n",
              "       'Brunei', 'Bulgaria', 'Burkina Faso', 'Burma', 'Burundi',\n",
              "       'Cabo Verde', 'Cambodia', 'Cameroon', 'Canada',\n",
              "       'Central African Republic', 'Chad', 'Chile', 'China', 'Colombia',\n",
              "       'Congo (Brazzaville)', 'Congo (Kinshasa)', 'Costa Rica',\n",
              "       \"Cote d'Ivoire\", 'Croatia', 'Cuba', 'Cyprus', 'Czechia', 'Denmark',\n",
              "       'Diamond Princess', 'Djibouti', 'Dominica', 'Dominican Republic',\n",
              "       'Ecuador', 'Egypt', 'El Salvador', 'Equatorial Guinea', 'Eritrea',\n",
              "       'Estonia', 'Eswatini', 'Ethiopia', 'Fiji', 'Finland', 'France',\n",
              "       'Gabon', 'Gambia', 'Georgia', 'Germany', 'Ghana', 'Greece',\n",
              "       'Grenada', 'Guatemala', 'Guinea', 'Guinea-Bissau', 'Guyana',\n",
              "       'Haiti', 'Holy See', 'Honduras', 'Hungary', 'Iceland', 'India',\n",
              "       'Indonesia', 'Iran', 'Iraq', 'Ireland', 'Israel', 'Italy',\n",
              "       'Jamaica', 'Japan', 'Jordan', 'Kazakhstan', 'Kenya',\n",
              "       'Korea, South', 'Kosovo', 'Kuwait', 'Kyrgyzstan', 'Laos', 'Latvia',\n",
              "       'Lebanon', 'Liberia', 'Libya', 'Liechtenstein', 'Lithuania',\n",
              "       'Luxembourg', 'MS Zaandam', 'Madagascar', 'Malawi', 'Malaysia',\n",
              "       'Maldives', 'Mali', 'Malta', 'Mauritania', 'Mauritius', 'Mexico',\n",
              "       'Moldova', 'Monaco', 'Mongolia', 'Montenegro', 'Morocco',\n",
              "       'Mozambique', 'Namibia', 'Nepal', 'Netherlands', 'New Zealand',\n",
              "       'Nicaragua', 'Niger', 'Nigeria', 'North Macedonia', 'Norway',\n",
              "       'Oman', 'Pakistan', 'Panama', 'Papua New Guinea', 'Paraguay',\n",
              "       'Peru', 'Philippines', 'Poland', 'Portugal', 'Qatar', 'Romania',\n",
              "       'Russia', 'Rwanda', 'Saint Kitts and Nevis', 'Saint Lucia',\n",
              "       'Saint Vincent and the Grenadines', 'San Marino',\n",
              "       'Sao Tome and Principe', 'Saudi Arabia', 'Senegal', 'Serbia',\n",
              "       'Seychelles', 'Sierra Leone', 'Singapore', 'Slovakia', 'Slovenia',\n",
              "       'Somalia', 'South Africa', 'South Sudan', 'Spain', 'Sri Lanka',\n",
              "       'Sudan', 'Suriname', 'Sweden', 'Switzerland', 'Syria', 'Taiwan*',\n",
              "       'Tanzania', 'Thailand', 'Timor-Leste', 'Togo',\n",
              "       'Trinidad and Tobago', 'Tunisia', 'Turkey', 'US', 'Uganda',\n",
              "       'Ukraine', 'United Arab Emirates', 'United Kingdom', 'Uruguay',\n",
              "       'Uzbekistan', 'Venezuela', 'Vietnam', 'West Bank and Gaza',\n",
              "       'Western Sahara', 'Zambia', 'Zimbabwe'], dtype=object)"
            ]
          },
          "metadata": {},
          "execution_count": 202
        }
      ]
    },
    {
      "cell_type": "code",
      "metadata": {
        "id": "bn-NBB9cq82L"
      },
      "source": [
        "#---------------------------------Parte 5---------------------------------------\n",
        "#Aqui separamos os casos confimados e os casos fatais de COVID-19 no Brazil\n",
        "confirmed_cases_brazil = train[train[\"Country_Region\"] == \"Brazil\"].groupby([\"Date\"]).ConfirmedCases.sum()\n",
        "fatal_cases_brazil = train[train[\"Country_Region\"] == \"Brazil\"].groupby([\"Date\"]).Fatalities.sum()"
      ],
      "execution_count": 203,
      "outputs": []
    },
    {
      "cell_type": "code",
      "metadata": {
        "colab": {
          "base_uri": "https://localhost:8080/",
          "height": 424
        },
        "id": "P3RqPhJ6r0LJ",
        "outputId": "5ab7a81c-146e-41a3-a8cf-b63772d5376e"
      },
      "source": [
        "#---------------------------------Parte 6---------------------------------------\n",
        "#Fazendo o treinamento para Paíse/Região\n",
        "train_brazil = train[train[\"Country_Region\"] == \"Brazil\"]\n",
        "train_brazil"
      ],
      "execution_count": 204,
      "outputs": [
        {
          "output_type": "execute_result",
          "data": {
            "text/html": [
              "<div>\n",
              "<style scoped>\n",
              "    .dataframe tbody tr th:only-of-type {\n",
              "        vertical-align: middle;\n",
              "    }\n",
              "\n",
              "    .dataframe tbody tr th {\n",
              "        vertical-align: top;\n",
              "    }\n",
              "\n",
              "    .dataframe thead th {\n",
              "        text-align: right;\n",
              "    }\n",
              "</style>\n",
              "<table border=\"1\" class=\"dataframe\">\n",
              "  <thead>\n",
              "    <tr style=\"text-align: right;\">\n",
              "      <th></th>\n",
              "      <th>Id</th>\n",
              "      <th>Province_State</th>\n",
              "      <th>Country_Region</th>\n",
              "      <th>Date</th>\n",
              "      <th>ConfirmedCases</th>\n",
              "      <th>Fatalities</th>\n",
              "    </tr>\n",
              "  </thead>\n",
              "  <tbody>\n",
              "    <tr>\n",
              "      <th>3450</th>\n",
              "      <td>3451</td>\n",
              "      <td></td>\n",
              "      <td>Brazil</td>\n",
              "      <td>2020-01-22</td>\n",
              "      <td>0.0</td>\n",
              "      <td>0.0</td>\n",
              "    </tr>\n",
              "    <tr>\n",
              "      <th>3451</th>\n",
              "      <td>3452</td>\n",
              "      <td></td>\n",
              "      <td>Brazil</td>\n",
              "      <td>2020-01-23</td>\n",
              "      <td>0.0</td>\n",
              "      <td>0.0</td>\n",
              "    </tr>\n",
              "    <tr>\n",
              "      <th>3452</th>\n",
              "      <td>3453</td>\n",
              "      <td></td>\n",
              "      <td>Brazil</td>\n",
              "      <td>2020-01-24</td>\n",
              "      <td>0.0</td>\n",
              "      <td>0.0</td>\n",
              "    </tr>\n",
              "    <tr>\n",
              "      <th>3453</th>\n",
              "      <td>3454</td>\n",
              "      <td></td>\n",
              "      <td>Brazil</td>\n",
              "      <td>2020-01-25</td>\n",
              "      <td>0.0</td>\n",
              "      <td>0.0</td>\n",
              "    </tr>\n",
              "    <tr>\n",
              "      <th>3454</th>\n",
              "      <td>3455</td>\n",
              "      <td></td>\n",
              "      <td>Brazil</td>\n",
              "      <td>2020-01-26</td>\n",
              "      <td>0.0</td>\n",
              "      <td>0.0</td>\n",
              "    </tr>\n",
              "    <tr>\n",
              "      <th>...</th>\n",
              "      <td>...</td>\n",
              "      <td>...</td>\n",
              "      <td>...</td>\n",
              "      <td>...</td>\n",
              "      <td>...</td>\n",
              "      <td>...</td>\n",
              "    </tr>\n",
              "    <tr>\n",
              "      <th>3560</th>\n",
              "      <td>3561</td>\n",
              "      <td></td>\n",
              "      <td>Brazil</td>\n",
              "      <td>2020-05-11</td>\n",
              "      <td>169594.0</td>\n",
              "      <td>11653.0</td>\n",
              "    </tr>\n",
              "    <tr>\n",
              "      <th>3561</th>\n",
              "      <td>3562</td>\n",
              "      <td></td>\n",
              "      <td>Brazil</td>\n",
              "      <td>2020-05-12</td>\n",
              "      <td>178214.0</td>\n",
              "      <td>12461.0</td>\n",
              "    </tr>\n",
              "    <tr>\n",
              "      <th>3562</th>\n",
              "      <td>3563</td>\n",
              "      <td></td>\n",
              "      <td>Brazil</td>\n",
              "      <td>2020-05-13</td>\n",
              "      <td>190137.0</td>\n",
              "      <td>13240.0</td>\n",
              "    </tr>\n",
              "    <tr>\n",
              "      <th>3563</th>\n",
              "      <td>3564</td>\n",
              "      <td></td>\n",
              "      <td>Brazil</td>\n",
              "      <td>2020-05-14</td>\n",
              "      <td>203165.0</td>\n",
              "      <td>13999.0</td>\n",
              "    </tr>\n",
              "    <tr>\n",
              "      <th>3564</th>\n",
              "      <td>3565</td>\n",
              "      <td></td>\n",
              "      <td>Brazil</td>\n",
              "      <td>2020-05-15</td>\n",
              "      <td>220291.0</td>\n",
              "      <td>14962.0</td>\n",
              "    </tr>\n",
              "  </tbody>\n",
              "</table>\n",
              "<p>115 rows × 6 columns</p>\n",
              "</div>"
            ],
            "text/plain": [
              "        Id Province_State  ... ConfirmedCases Fatalities\n",
              "3450  3451                 ...            0.0        0.0\n",
              "3451  3452                 ...            0.0        0.0\n",
              "3452  3453                 ...            0.0        0.0\n",
              "3453  3454                 ...            0.0        0.0\n",
              "3454  3455                 ...            0.0        0.0\n",
              "...    ...            ...  ...            ...        ...\n",
              "3560  3561                 ...       169594.0    11653.0\n",
              "3561  3562                 ...       178214.0    12461.0\n",
              "3562  3563                 ...       190137.0    13240.0\n",
              "3563  3564                 ...       203165.0    13999.0\n",
              "3564  3565                 ...       220291.0    14962.0\n",
              "\n",
              "[115 rows x 6 columns]"
            ]
          },
          "metadata": {},
          "execution_count": 204
        }
      ]
    },
    {
      "cell_type": "code",
      "metadata": {
        "id": "2ewbM62_ruMA"
      },
      "source": [
        "#---------------------------------Parte 7--------------------------------------\n",
        "#Analisando os casos confimados e casos fatais\n",
        "train_brazil[\"ConfirmedCases\"] = train_brazil[\"ConfirmedCases\"].astype(int)\n",
        "train_brazil[\"Fatalities\"] = train_brazil[\"Fatalities\"].astype(int)"
      ],
      "execution_count": 205,
      "outputs": []
    },
    {
      "cell_type": "code",
      "metadata": {
        "colab": {
          "base_uri": "https://localhost:8080/"
        },
        "id": "Of9mgEJSrvjm",
        "outputId": "9db2ea03-692a-479b-cc83-862d39c9be3b"
      },
      "source": [
        "#---------------------------------Parte 8---------------------------------------\n",
        "#Aqui vemos o tamanho do treinamento e da validação \n",
        "train_brazil_size = int(len(train_brazil) * 0.75)\n",
        "val_brazil_size = len(train_brazil) - train_brazil_size\n",
        "print(\"Training size = {}\".format(train_brazil_size))\n",
        "print(\"Validation size = {}\".format(val_brazil_size))"
      ],
      "execution_count": 206,
      "outputs": [
        {
          "output_type": "stream",
          "name": "stdout",
          "text": [
            "Training size = 86\n",
            "Validation size = 29\n"
          ]
        }
      ]
    },
    {
      "cell_type": "code",
      "metadata": {
        "id": "K37HPRSDrh4B"
      },
      "source": [
        "#---------------------------------Parte 9---------------------------------------\n",
        "#Treinamento os casos confimados e casos fatais\n",
        "train_brazil_confirmed_cases = train_brazil[[\"ConfirmedCases\"]]\n",
        "train_brazil_fatal_cases = train_brazil[[\"Fatalities\"]]"
      ],
      "execution_count": 207,
      "outputs": []
    },
    {
      "cell_type": "code",
      "metadata": {
        "colab": {
          "base_uri": "https://localhost:8080/"
        },
        "id": "AR4tHvVB0D0s",
        "outputId": "ae5578d7-574e-4f62-92b7-c8d4aae18313"
      },
      "source": [
        "#PLotagem do casos confirmados e fatais em forma de matriz\n",
        "print(train_brazil_confirmed_cases, train_brazil_fatal_cases)"
      ],
      "execution_count": 208,
      "outputs": [
        {
          "output_type": "stream",
          "name": "stdout",
          "text": [
            "      ConfirmedCases\n",
            "3450               0\n",
            "3451               0\n",
            "3452               0\n",
            "3453               0\n",
            "3454               0\n",
            "...              ...\n",
            "3560          169594\n",
            "3561          178214\n",
            "3562          190137\n",
            "3563          203165\n",
            "3564          220291\n",
            "\n",
            "[115 rows x 1 columns]       Fatalities\n",
            "3450           0\n",
            "3451           0\n",
            "3452           0\n",
            "3453           0\n",
            "3454           0\n",
            "...          ...\n",
            "3560       11653\n",
            "3561       12461\n",
            "3562       13240\n",
            "3563       13999\n",
            "3564       14962\n",
            "\n",
            "[115 rows x 1 columns]\n"
          ]
        }
      ]
    },
    {
      "cell_type": "code",
      "metadata": {
        "colab": {
          "base_uri": "https://localhost:8080/",
          "height": 500
        },
        "id": "wWmVaIlczU7y",
        "outputId": "5b801ee2-d4af-4540-be56-43d4f4b0ea14"
      },
      "source": [
        "#---------------------------------Parte 11--------------------------------------\n",
        "#Plotagem dos casos confirmados e casos fatais de Janeiro a Maio (2020)\n",
        "plt.figure(figsize = (8, 8))\n",
        "x = np.arange(1, 116, 1)\n",
        "y1 = train_brazil_confirmed_cases \n",
        "y2 = train_brazil_fatal_cases \n",
        "plt.plot(x, y1, color = \"m\", label = \"Casos Confirmados no Brasil de Janeiro a Maio (2020)\")\n",
        "plt.plot(x, y2, color = \"r\", label = \"Casos Fatais no Brasil de Janeiro a Maio (2020)\")\n",
        "plt.grid(True)\n",
        "plt.legend()"
      ],
      "execution_count": 209,
      "outputs": [
        {
          "output_type": "execute_result",
          "data": {
            "text/plain": [
              "<matplotlib.legend.Legend at 0x7fe0f6ca5390>"
            ]
          },
          "metadata": {},
          "execution_count": 209
        },
        {
          "output_type": "display_data",
          "data": {
            "image/png": "[encoded data removed]",
            "text/plain": [
              "<Figure size 576x576 with 1 Axes>"
            ]
          },
          "metadata": {
            "needs_background": "light"
          }
        }
      ]
    },
    {
      "cell_type": "code",
      "metadata": {
        "colab": {
          "base_uri": "https://localhost:8080/"
        },
        "id": "ZXhBl4d2ztda",
        "outputId": "af8a9df2-7093-43fd-b93f-5ce52c778615"
      },
      "source": [
        "#---------------------------------Parte 12--------------------------------------\n",
        "#O comando len () é uma função embutida que retorna o comprimento (número de itens) de um objeto.\n",
        "len(train_brazil_confirmed_cases)"
      ],
      "execution_count": 210,
      "outputs": [
        {
          "output_type": "execute_result",
          "data": {
            "text/plain": [
              "115"
            ]
          },
          "metadata": {},
          "execution_count": 210
        }
      ]
    },
    {
      "cell_type": "code",
      "metadata": {
        "colab": {
          "base_uri": "https://localhost:8080/",
          "height": 424
        },
        "id": "YwQMFuKnzvpb",
        "outputId": "8000a8f9-089a-4baf-aa67-e2b55fbe54f9"
      },
      "source": [
        "#---------------------------------Parte 13--------------------------------------\n",
        "#Treinamento dos casos confirmados de COVID-19 no Brasil\n",
        "train_brazil_confirmed_cases"
      ],
      "execution_count": 211,
      "outputs": [
        {
          "output_type": "execute_result",
          "data": {
            "text/html": [
              "<div>\n",
              "<style scoped>\n",
              "    .dataframe tbody tr th:only-of-type {\n",
              "        vertical-align: middle;\n",
              "    }\n",
              "\n",
              "    .dataframe tbody tr th {\n",
              "        vertical-align: top;\n",
              "    }\n",
              "\n",
              "    .dataframe thead th {\n",
              "        text-align: right;\n",
              "    }\n",
              "</style>\n",
              "<table border=\"1\" class=\"dataframe\">\n",
              "  <thead>\n",
              "    <tr style=\"text-align: right;\">\n",
              "      <th></th>\n",
              "      <th>ConfirmedCases</th>\n",
              "    </tr>\n",
              "  </thead>\n",
              "  <tbody>\n",
              "    <tr>\n",
              "      <th>3450</th>\n",
              "      <td>0</td>\n",
              "    </tr>\n",
              "    <tr>\n",
              "      <th>3451</th>\n",
              "      <td>0</td>\n",
              "    </tr>\n",
              "    <tr>\n",
              "      <th>3452</th>\n",
              "      <td>0</td>\n",
              "    </tr>\n",
              "    <tr>\n",
              "      <th>3453</th>\n",
              "      <td>0</td>\n",
              "    </tr>\n",
              "    <tr>\n",
              "      <th>3454</th>\n",
              "      <td>0</td>\n",
              "    </tr>\n",
              "    <tr>\n",
              "      <th>...</th>\n",
              "      <td>...</td>\n",
              "    </tr>\n",
              "    <tr>\n",
              "      <th>3560</th>\n",
              "      <td>169594</td>\n",
              "    </tr>\n",
              "    <tr>\n",
              "      <th>3561</th>\n",
              "      <td>178214</td>\n",
              "    </tr>\n",
              "    <tr>\n",
              "      <th>3562</th>\n",
              "      <td>190137</td>\n",
              "    </tr>\n",
              "    <tr>\n",
              "      <th>3563</th>\n",
              "      <td>203165</td>\n",
              "    </tr>\n",
              "    <tr>\n",
              "      <th>3564</th>\n",
              "      <td>220291</td>\n",
              "    </tr>\n",
              "  </tbody>\n",
              "</table>\n",
              "<p>115 rows × 1 columns</p>\n",
              "</div>"
            ],
            "text/plain": [
              "      ConfirmedCases\n",
              "3450               0\n",
              "3451               0\n",
              "3452               0\n",
              "3453               0\n",
              "3454               0\n",
              "...              ...\n",
              "3560          169594\n",
              "3561          178214\n",
              "3562          190137\n",
              "3563          203165\n",
              "3564          220291\n",
              "\n",
              "[115 rows x 1 columns]"
            ]
          },
          "metadata": {},
          "execution_count": 211
        }
      ]
    },
    {
      "cell_type": "code",
      "metadata": {
        "id": "xdVndkPAsjjC"
      },
      "source": [
        "#---------------------------------Parte 14--------------------------------------\n",
        "#Aqui usa-se o iloc para indexação / seleção por posição baseada em localização de inteiros.\n",
        "train_brazil_confirmed_cases_data = train_brazil_confirmed_cases.iloc[0:train_brazil_size]\n",
        "val_brazil_confirmed_cases_data = train_brazil_confirmed_cases.iloc[train_brazil_size : len(train_brazil_confirmed_cases)]"
      ],
      "execution_count": 212,
      "outputs": []
    },
    {
      "cell_type": "code",
      "metadata": {
        "colab": {
          "base_uri": "https://localhost:8080/"
        },
        "id": "j7lQ98xIsup5",
        "outputId": "40fb57b7-58e8-4e61-e95f-10400cfb0eed"
      },
      "source": [
        "#---------------------------------Parte 15--------------------------------------\n",
        "#Plotagem da fixação de inteiros; treinamento e validação de casos\n",
        "print(len(train_brazil_confirmed_cases_data))\n",
        "print(len(val_brazil_confirmed_cases_data))"
      ],
      "execution_count": 213,
      "outputs": [
        {
          "output_type": "stream",
          "name": "stdout",
          "text": [
            "86\n",
            "29\n"
          ]
        }
      ]
    },
    {
      "cell_type": "code",
      "metadata": {
        "id": "Drt7kV-mtEzL"
      },
      "source": [
        "#---------------------------------Parte 16--------------------------------------\n",
        "#O MinMaxScaler faz a estimação de escala e traduz cada recurso individualmente, \n",
        "#de modo que esteja no intervalo especificado no conjunto de treinamento, por exemplo. entre zero e um.\n",
        "scaler = MinMaxScaler(feature_range = (0,1))\n",
        "def createDataset(train) : \n",
        "    train_scaled = scaler.fit_transform(train)\n",
        "    x_train = [] \n",
        "    y_train = []\n",
        "    time_step = 2\n",
        "    for i in range(time_step, train_scaled.shape[0]):\n",
        "        x_train.append(train_scaled[i-time_step : i , 0])\n",
        "        y_train.append(train_scaled[i, 0])\n",
        "    \n",
        "    x_train, y_train = np.array(x_train), np.array(y_train)\n",
        "    x_train = np.reshape(x_train, (x_train.shape[0], x_train.shape[1], 1 ))\n",
        "    y_train = np.reshape(y_train, (y_train.shape[0], 1 ))\n",
        "    return x_train, y_train     "
      ],
      "execution_count": 214,
      "outputs": []
    },
    {
      "cell_type": "code",
      "metadata": {
        "id": "LwR6PESes1tS"
      },
      "source": [
        "#---------------------------------Parte 17--------------------------------------\n",
        "#Aqui será definido a criação do dataset (train)\n",
        "def createDataset(train) : \n",
        "    train_scaled = scaler.fit_transform(train)\n",
        "    x_train = [] \n",
        "    y_train = []\n",
        "    time_step = 2\n",
        "    for i in range(time_step, train_scaled.shape[0]):\n",
        "        x_train.append(train_scaled[i-time_step : i , 0])\n",
        "        y_train.append(train_scaled[i, 0])\n",
        "    \n",
        "    x_train, y_train = np.array(x_train), np.array(y_train)\n",
        "    x_train = np.reshape(x_train, (x_train.shape[0], x_train.shape[1], 1 ))\n",
        "    y_train = np.reshape(y_train, (y_train.shape[0], 1 ))\n",
        "    return x_train, y_train   "
      ],
      "execution_count": 215,
      "outputs": []
    },
    {
      "cell_type": "code",
      "metadata": {
        "id": "rvrDrCJRs4sZ"
      },
      "source": [
        "#---------------------------------Parte 18--------------------------------------\n",
        "#Conjunto de dados para treinar o respectivo modelo de aprendizado\n",
        "x_train, y_train = createDataset(train_brazil_confirmed_cases_data)\n",
        "x_val, y_val = createDataset(val_brazil_confirmed_cases_data)"
      ],
      "execution_count": 216,
      "outputs": []
    },
    {
      "cell_type": "code",
      "metadata": {
        "colab": {
          "base_uri": "https://localhost:8080/"
        },
        "id": "dtw5ySo1thPZ",
        "outputId": "ff38fb89-8f85-4ddb-a40a-9470155f90ba"
      },
      "source": [
        "#---------------------------------Parte 19--------------------------------------\n",
        "#Plotagem do modelo de aprendizado\n",
        "print(x_train.shape, y_train.shape)\n",
        "print(x_val.shape, y_val.shape)"
      ],
      "execution_count": 217,
      "outputs": [
        {
          "output_type": "stream",
          "name": "stdout",
          "text": [
            "(84, 2, 1) (84, 1)\n",
            "(27, 2, 1) (27, 1)\n"
          ]
        }
      ]
    },
    {
      "cell_type": "code",
      "metadata": {
        "id": "uqWGqOKnrTZI"
      },
      "source": [
        "#---------------------------------Parte 20--------------------------------------\n",
        "#Aqui é criado e configurado a rede neural\n",
        "#LSTM cria camada longa de memória de curto prazo\n",
        "#A camada Dropout define aleatoriamente as unidades de entrada para 0 \n",
        "#com uma frequência de taxa em cada etapa durante o tempo de treinamento\n",
        "model = tf.keras.Sequential()\n",
        "model.add(tf.keras.layers.LSTM(units = 50, return_sequences = True, input_shape = (x_train.shape[1], 1)))\n",
        "model.add(tf.keras.layers.Dropout(0.2))\n",
        "model.add(tf.keras.layers.LSTM(units = 50, return_sequences = True))\n",
        "model.add(tf.keras.layers.Dropout(0.2))\n",
        "model.add(tf.keras.layers.LSTM(units = 50, return_sequences = True))\n",
        "model.add(tf.keras.layers.Dropout(0.2))\n",
        "model.add(tf.keras.layers.LSTM(units = 50, return_sequences = False))\n",
        "model.add(tf.keras.layers.Dropout(0.2))\n",
        "model.add(tf.keras.layers.Dense(units = 1))"
      ],
      "execution_count": 218,
      "outputs": []
    },
    {
      "cell_type": "code",
      "metadata": {
        "id": "HnqtBKzFtkVo"
      },
      "source": [
        "#Compilação do modelo de treinamento\n",
        "model.compile(tf.keras.optimizers.Adam(lr = 0.001), loss = \"mean_squared_error\")"
      ],
      "execution_count": 219,
      "outputs": []
    },
    {
      "cell_type": "code",
      "metadata": {
        "colab": {
          "base_uri": "https://localhost:8080/"
        },
        "id": "20cJDKv5tmOO",
        "outputId": "0f579ca6-ddf9-4d1d-b299-5e12bc44c566"
      },
      "source": [
        "#Sumário com o modelo de treinamento\n",
        "model.summary()"
      ],
      "execution_count": 220,
      "outputs": [
        {
          "output_type": "stream",
          "name": "stdout",
          "text": [
            "Model: \"sequential_5\"\n",
            "_________________________________________________________________\n",
            " Layer (type)                Output Shape              Param #   \n",
            "=================================================================\n",
            " lstm_20 (LSTM)              (None, 2, 50)             10400     \n",
            "                                                                 \n",
            " dropout_20 (Dropout)        (None, 2, 50)             0         \n",
            "                                                                 \n",
            " lstm_21 (LSTM)              (None, 2, 50)             20200     \n",
            "                                                                 \n",
            " dropout_21 (Dropout)        (None, 2, 50)             0         \n",
            "                                                                 \n",
            " lstm_22 (LSTM)              (None, 2, 50)             20200     \n",
            "                                                                 \n",
            " dropout_22 (Dropout)        (None, 2, 50)             0         \n",
            "                                                                 \n",
            " lstm_23 (LSTM)              (None, 50)                20200     \n",
            "                                                                 \n",
            " dropout_23 (Dropout)        (None, 50)                0         \n",
            "                                                                 \n",
            " dense_5 (Dense)             (None, 1)                 51        \n",
            "                                                                 \n",
            "=================================================================\n",
            "Total params: 71,051\n",
            "Trainable params: 71,051\n",
            "Non-trainable params: 0\n",
            "_________________________________________________________________\n"
          ]
        }
      ]
    },
    {
      "cell_type": "code",
      "metadata": {
        "id": "dNshwY0ItvD5"
      },
      "source": [
        "#---------------------------------Parte 21--------------------------------------\n",
        "#Um epoch é uma iteração sobre todos os dados x e y fornecidos.\n",
        "#Um batch_size é o tamanho do lote é um termo usado no aprendizado de máquina, \n",
        "#e se refere ao número de exemplos de treinamento utilizados em uma iteração\n",
        "#sobre todos os dados x e y fornecidos.\n",
        "EPOCHS = 200\n",
        "BATCH_SIZE = 1"
      ],
      "execution_count": 221,
      "outputs": []
    },
    {
      "cell_type": "code",
      "metadata": {
        "colab": {
          "base_uri": "https://localhost:8080/"
        },
        "id": "5_ZDolDutwb6",
        "outputId": "1cd1a858-bc71-448e-a877-550f02c08344"
      },
      "source": [
        "#---------------------------------Parte 22--------------------------------------\n",
        "#É possível usar as informações da variável “ history ” para\n",
        "#verificar a evolução da função de loss e da métrica\n",
        "with tf.device(\"/device:GPU:0\"):\n",
        "  history = model.fit(x_train, y_train,epochs = EPOCHS, verbose = 1,\n",
        "                     batch_size = BATCH_SIZE, validation_data = (x_val, y_val))"
      ],
      "execution_count": 222,
      "outputs": [
        {
          "output_type": "stream",
          "name": "stdout",
          "text": [
            "Epoch 1/200\n",
            "84/84 [==============================] - 9s 40ms/step - loss: 0.0570 - val_loss: 0.0968\n",
            "Epoch 2/200\n",
            "84/84 [==============================] - 1s 7ms/step - loss: 0.0284 - val_loss: 0.0084\n",
            "Epoch 3/200\n",
            "84/84 [==============================] - 1s 6ms/step - loss: 0.0087 - val_loss: 0.0333\n",
            "Epoch 4/200\n",
            "84/84 [==============================] - 1s 8ms/step - loss: 0.0036 - val_loss: 0.0051\n",
            "Epoch 5/200\n",
            "84/84 [==============================] - 1s 8ms/step - loss: 0.0054 - val_loss: 0.0373\n",
            "Epoch 6/200\n",
            "84/84 [==============================] - 1s 8ms/step - loss: 0.0039 - val_loss: 0.0018\n",
            "Epoch 7/200\n",
            "84/84 [==============================] - 1s 8ms/step - loss: 0.0036 - val_loss: 0.0024\n",
            "Epoch 8/200\n",
            "84/84 [==============================] - 1s 8ms/step - loss: 0.0041 - val_loss: 0.0062\n",
            "Epoch 9/200\n",
            "84/84 [==============================] - 1s 8ms/step - loss: 0.0034 - val_loss: 0.0075\n",
            "Epoch 10/200\n",
            "84/84 [==============================] - 1s 8ms/step - loss: 0.0021 - val_loss: 0.0029\n",
            "Epoch 11/200\n",
            "84/84 [==============================] - 1s 8ms/step - loss: 0.0021 - val_loss: 0.0022\n",
            "Epoch 12/200\n",
            "84/84 [==============================] - 1s 7ms/step - loss: 0.0015 - val_loss: 0.0082\n",
            "Epoch 13/200\n",
            "84/84 [==============================] - 1s 7ms/step - loss: 0.0056 - val_loss: 0.0043\n",
            "Epoch 14/200\n",
            "84/84 [==============================] - 1s 7ms/step - loss: 0.0022 - val_loss: 0.0014\n",
            "Epoch 15/200\n",
            "84/84 [==============================] - 1s 8ms/step - loss: 0.0052 - val_loss: 0.0131\n",
            "Epoch 16/200\n",
            "84/84 [==============================] - 1s 8ms/step - loss: 0.0024 - val_loss: 0.0036\n",
            "Epoch 17/200\n",
            "84/84 [==============================] - 1s 7ms/step - loss: 0.0016 - val_loss: 9.3410e-04\n",
            "Epoch 18/200\n",
            "84/84 [==============================] - 1s 8ms/step - loss: 7.1139e-04 - val_loss: 5.2886e-04\n",
            "Epoch 19/200\n",
            "84/84 [==============================] - 1s 8ms/step - loss: 0.0019 - val_loss: 0.0036\n",
            "Epoch 20/200\n",
            "84/84 [==============================] - 1s 7ms/step - loss: 0.0035 - val_loss: 0.0020\n",
            "Epoch 21/200\n",
            "84/84 [==============================] - 1s 9ms/step - loss: 0.0021 - val_loss: 6.2951e-04\n",
            "Epoch 22/200\n",
            "84/84 [==============================] - 1s 9ms/step - loss: 0.0012 - val_loss: 0.0083\n",
            "Epoch 23/200\n",
            "84/84 [==============================] - 1s 8ms/step - loss: 0.0037 - val_loss: 5.8576e-04\n",
            "Epoch 24/200\n",
            "84/84 [==============================] - 1s 7ms/step - loss: 0.0025 - val_loss: 0.0015\n",
            "Epoch 25/200\n",
            "84/84 [==============================] - 1s 7ms/step - loss: 0.0042 - val_loss: 5.1466e-04\n",
            "Epoch 26/200\n",
            "84/84 [==============================] - 1s 8ms/step - loss: 0.0026 - val_loss: 7.1824e-04\n",
            "Epoch 27/200\n",
            "84/84 [==============================] - 1s 8ms/step - loss: 0.0013 - val_loss: 0.0081\n",
            "Epoch 28/200\n",
            "84/84 [==============================] - 1s 8ms/step - loss: 0.0034 - val_loss: 0.0033\n",
            "Epoch 29/200\n",
            "84/84 [==============================] - 1s 7ms/step - loss: 0.0042 - val_loss: 6.9936e-04\n",
            "Epoch 30/200\n",
            "84/84 [==============================] - 1s 9ms/step - loss: 0.0011 - val_loss: 0.0010\n",
            "Epoch 31/200\n",
            "84/84 [==============================] - 1s 8ms/step - loss: 0.0015 - val_loss: 0.0024\n",
            "Epoch 32/200\n",
            "84/84 [==============================] - 1s 7ms/step - loss: 0.0025 - val_loss: 0.0015\n",
            "Epoch 33/200\n",
            "84/84 [==============================] - 1s 7ms/step - loss: 0.0023 - val_loss: 8.9038e-04\n",
            "Epoch 34/200\n",
            "84/84 [==============================] - 1s 7ms/step - loss: 8.6516e-04 - val_loss: 0.0012\n",
            "Epoch 35/200\n",
            "84/84 [==============================] - 1s 8ms/step - loss: 0.0017 - val_loss: 0.0031\n",
            "Epoch 36/200\n",
            "84/84 [==============================] - 1s 8ms/step - loss: 0.0016 - val_loss: 0.0044\n",
            "Epoch 37/200\n",
            "84/84 [==============================] - 1s 8ms/step - loss: 0.0024 - val_loss: 0.0021\n",
            "Epoch 38/200\n",
            "84/84 [==============================] - 1s 7ms/step - loss: 0.0022 - val_loss: 0.0023\n",
            "Epoch 39/200\n",
            "84/84 [==============================] - 1s 6ms/step - loss: 0.0025 - val_loss: 0.0015\n",
            "Epoch 40/200\n",
            "84/84 [==============================] - 1s 7ms/step - loss: 0.0055 - val_loss: 8.5124e-04\n",
            "Epoch 41/200\n",
            "84/84 [==============================] - 1s 7ms/step - loss: 0.0011 - val_loss: 0.0020\n",
            "Epoch 42/200\n",
            "84/84 [==============================] - 1s 7ms/step - loss: 0.0017 - val_loss: 0.0022\n",
            "Epoch 43/200\n",
            "84/84 [==============================] - 1s 7ms/step - loss: 0.0013 - val_loss: 8.0825e-04\n",
            "Epoch 44/200\n",
            "84/84 [==============================] - 1s 8ms/step - loss: 0.0021 - val_loss: 9.6029e-04\n",
            "Epoch 45/200\n",
            "84/84 [==============================] - 1s 6ms/step - loss: 0.0058 - val_loss: 0.0072\n",
            "Epoch 46/200\n",
            "84/84 [==============================] - 1s 6ms/step - loss: 0.0033 - val_loss: 0.0087\n",
            "Epoch 47/200\n",
            "84/84 [==============================] - 1s 7ms/step - loss: 0.0033 - val_loss: 0.0010\n",
            "Epoch 48/200\n",
            "84/84 [==============================] - 1s 7ms/step - loss: 0.0028 - val_loss: 0.0011\n",
            "Epoch 49/200\n",
            "84/84 [==============================] - 1s 7ms/step - loss: 0.0021 - val_loss: 0.0050\n",
            "Epoch 50/200\n",
            "84/84 [==============================] - 1s 6ms/step - loss: 0.0018 - val_loss: 0.0024\n",
            "Epoch 51/200\n",
            "84/84 [==============================] - 1s 6ms/step - loss: 0.0013 - val_loss: 0.0011\n",
            "Epoch 52/200\n",
            "84/84 [==============================] - 1s 7ms/step - loss: 0.0021 - val_loss: 0.0078\n",
            "Epoch 53/200\n",
            "84/84 [==============================] - 1s 7ms/step - loss: 0.0015 - val_loss: 0.0022\n",
            "Epoch 54/200\n",
            "84/84 [==============================] - 1s 7ms/step - loss: 0.0018 - val_loss: 8.8539e-04\n",
            "Epoch 55/200\n",
            "84/84 [==============================] - 1s 8ms/step - loss: 0.0023 - val_loss: 0.0035\n",
            "Epoch 56/200\n",
            "84/84 [==============================] - 1s 7ms/step - loss: 0.0013 - val_loss: 0.0011\n",
            "Epoch 57/200\n",
            "84/84 [==============================] - 1s 8ms/step - loss: 0.0037 - val_loss: 0.0062\n",
            "Epoch 58/200\n",
            "84/84 [==============================] - 1s 8ms/step - loss: 0.0025 - val_loss: 0.0017\n",
            "Epoch 59/200\n",
            "84/84 [==============================] - 1s 7ms/step - loss: 0.0017 - val_loss: 8.0995e-04\n",
            "Epoch 60/200\n",
            "84/84 [==============================] - 1s 8ms/step - loss: 0.0014 - val_loss: 0.0052\n",
            "Epoch 61/200\n",
            "84/84 [==============================] - 1s 7ms/step - loss: 0.0032 - val_loss: 0.0041\n",
            "Epoch 62/200\n",
            "84/84 [==============================] - 1s 7ms/step - loss: 0.0050 - val_loss: 0.0049\n",
            "Epoch 63/200\n",
            "84/84 [==============================] - 1s 7ms/step - loss: 0.0023 - val_loss: 0.0019\n",
            "Epoch 64/200\n",
            "84/84 [==============================] - 1s 7ms/step - loss: 0.0011 - val_loss: 0.0064\n",
            "Epoch 65/200\n",
            "84/84 [==============================] - 1s 7ms/step - loss: 0.0021 - val_loss: 0.0062\n",
            "Epoch 66/200\n",
            "84/84 [==============================] - 1s 7ms/step - loss: 0.0047 - val_loss: 0.0012\n",
            "Epoch 67/200\n",
            "84/84 [==============================] - 1s 7ms/step - loss: 0.0021 - val_loss: 0.0101\n",
            "Epoch 68/200\n",
            "84/84 [==============================] - 1s 7ms/step - loss: 0.0015 - val_loss: 0.0027\n",
            "Epoch 69/200\n",
            "84/84 [==============================] - 1s 7ms/step - loss: 7.9795e-04 - val_loss: 9.8482e-04\n",
            "Epoch 70/200\n",
            "84/84 [==============================] - 1s 7ms/step - loss: 0.0016 - val_loss: 0.0013\n",
            "Epoch 71/200\n",
            "84/84 [==============================] - 1s 8ms/step - loss: 0.0025 - val_loss: 0.0098\n",
            "Epoch 72/200\n",
            "84/84 [==============================] - 1s 7ms/step - loss: 0.0035 - val_loss: 0.0021\n",
            "Epoch 73/200\n",
            "84/84 [==============================] - 1s 7ms/step - loss: 0.0026 - val_loss: 0.0017\n",
            "Epoch 74/200\n",
            "84/84 [==============================] - 1s 8ms/step - loss: 0.0012 - val_loss: 0.0035\n",
            "Epoch 75/200\n",
            "84/84 [==============================] - 1s 7ms/step - loss: 0.0045 - val_loss: 0.0017\n",
            "Epoch 76/200\n",
            "84/84 [==============================] - 1s 8ms/step - loss: 0.0014 - val_loss: 0.0046\n",
            "Epoch 77/200\n",
            "84/84 [==============================] - 1s 6ms/step - loss: 0.0021 - val_loss: 0.0023\n",
            "Epoch 78/200\n",
            "84/84 [==============================] - 1s 7ms/step - loss: 6.4481e-04 - val_loss: 0.0032\n",
            "Epoch 79/200\n",
            "84/84 [==============================] - 1s 8ms/step - loss: 0.0019 - val_loss: 0.0023\n",
            "Epoch 80/200\n",
            "84/84 [==============================] - 1s 7ms/step - loss: 0.0017 - val_loss: 0.0017\n",
            "Epoch 81/200\n",
            "84/84 [==============================] - 1s 7ms/step - loss: 0.0019 - val_loss: 0.0015\n",
            "Epoch 82/200\n",
            "84/84 [==============================] - 1s 6ms/step - loss: 8.9545e-04 - val_loss: 0.0010\n",
            "Epoch 83/200\n",
            "84/84 [==============================] - 1s 6ms/step - loss: 0.0017 - val_loss: 0.0024\n",
            "Epoch 84/200\n",
            "84/84 [==============================] - 1s 8ms/step - loss: 0.0013 - val_loss: 0.0013\n",
            "Epoch 85/200\n",
            "84/84 [==============================] - 1s 8ms/step - loss: 0.0018 - val_loss: 0.0084\n",
            "Epoch 86/200\n",
            "84/84 [==============================] - 1s 7ms/step - loss: 0.0015 - val_loss: 0.0058\n",
            "Epoch 87/200\n",
            "84/84 [==============================] - 1s 7ms/step - loss: 0.0011 - val_loss: 0.0038\n",
            "Epoch 88/200\n",
            "84/84 [==============================] - 1s 7ms/step - loss: 0.0027 - val_loss: 0.0011\n",
            "Epoch 89/200\n",
            "84/84 [==============================] - 1s 7ms/step - loss: 0.0011 - val_loss: 0.0020\n",
            "Epoch 90/200\n",
            "84/84 [==============================] - 1s 8ms/step - loss: 0.0022 - val_loss: 0.0180\n",
            "Epoch 91/200\n",
            "84/84 [==============================] - 1s 8ms/step - loss: 0.0015 - val_loss: 0.0013\n",
            "Epoch 92/200\n",
            "84/84 [==============================] - 1s 7ms/step - loss: 0.0014 - val_loss: 0.0015\n",
            "Epoch 93/200\n",
            "84/84 [==============================] - 1s 7ms/step - loss: 0.0016 - val_loss: 9.6320e-04\n",
            "Epoch 94/200\n",
            "84/84 [==============================] - 1s 7ms/step - loss: 0.0018 - val_loss: 0.0040\n",
            "Epoch 95/200\n",
            "84/84 [==============================] - 1s 7ms/step - loss: 0.0017 - val_loss: 0.0011\n",
            "Epoch 96/200\n",
            "84/84 [==============================] - 1s 8ms/step - loss: 0.0014 - val_loss: 0.0029\n",
            "Epoch 97/200\n",
            "84/84 [==============================] - 1s 8ms/step - loss: 0.0018 - val_loss: 0.0020\n",
            "Epoch 98/200\n",
            "84/84 [==============================] - 1s 8ms/step - loss: 0.0020 - val_loss: 0.0036\n",
            "Epoch 99/200\n",
            "84/84 [==============================] - 1s 7ms/step - loss: 0.0014 - val_loss: 9.1149e-04\n",
            "Epoch 100/200\n",
            "84/84 [==============================] - 1s 7ms/step - loss: 0.0013 - val_loss: 0.0014\n",
            "Epoch 101/200\n",
            "84/84 [==============================] - 1s 8ms/step - loss: 0.0013 - val_loss: 0.0015\n",
            "Epoch 102/200\n",
            "84/84 [==============================] - 1s 8ms/step - loss: 0.0028 - val_loss: 0.0073\n",
            "Epoch 103/200\n",
            "84/84 [==============================] - 1s 7ms/step - loss: 0.0016 - val_loss: 6.5171e-04\n",
            "Epoch 104/200\n",
            "84/84 [==============================] - 1s 7ms/step - loss: 0.0021 - val_loss: 0.0090\n",
            "Epoch 105/200\n",
            "84/84 [==============================] - 1s 7ms/step - loss: 0.0035 - val_loss: 0.0043\n",
            "Epoch 106/200\n",
            "84/84 [==============================] - 1s 7ms/step - loss: 0.0020 - val_loss: 0.0041\n",
            "Epoch 107/200\n",
            "84/84 [==============================] - 1s 7ms/step - loss: 9.0697e-04 - val_loss: 0.0021\n",
            "Epoch 108/200\n",
            "84/84 [==============================] - 1s 6ms/step - loss: 0.0026 - val_loss: 0.0087\n",
            "Epoch 109/200\n",
            "84/84 [==============================] - 1s 8ms/step - loss: 0.0022 - val_loss: 8.3647e-04\n",
            "Epoch 110/200\n",
            "84/84 [==============================] - 1s 7ms/step - loss: 0.0010 - val_loss: 9.0061e-04\n",
            "Epoch 111/200\n",
            "84/84 [==============================] - 1s 7ms/step - loss: 0.0020 - val_loss: 0.0084\n",
            "Epoch 112/200\n",
            "84/84 [==============================] - 1s 7ms/step - loss: 0.0016 - val_loss: 0.0026\n",
            "Epoch 113/200\n",
            "84/84 [==============================] - 1s 7ms/step - loss: 0.0020 - val_loss: 0.0016\n",
            "Epoch 114/200\n",
            "84/84 [==============================] - 1s 7ms/step - loss: 0.0014 - val_loss: 0.0014\n",
            "Epoch 115/200\n",
            "84/84 [==============================] - 1s 7ms/step - loss: 0.0020 - val_loss: 0.0047\n",
            "Epoch 116/200\n",
            "84/84 [==============================] - 1s 8ms/step - loss: 0.0031 - val_loss: 9.0259e-04\n",
            "Epoch 117/200\n",
            "84/84 [==============================] - 1s 8ms/step - loss: 0.0027 - val_loss: 0.0038\n",
            "Epoch 118/200\n",
            "84/84 [==============================] - 1s 8ms/step - loss: 0.0049 - val_loss: 0.0016\n",
            "Epoch 119/200\n",
            "84/84 [==============================] - 1s 8ms/step - loss: 0.0015 - val_loss: 0.0021\n",
            "Epoch 120/200\n",
            "84/84 [==============================] - 1s 7ms/step - loss: 0.0013 - val_loss: 6.1716e-04\n",
            "Epoch 121/200\n",
            "84/84 [==============================] - 1s 7ms/step - loss: 8.4731e-04 - val_loss: 0.0026\n",
            "Epoch 122/200\n",
            "84/84 [==============================] - 1s 6ms/step - loss: 0.0013 - val_loss: 7.1103e-04\n",
            "Epoch 123/200\n",
            "84/84 [==============================] - 1s 7ms/step - loss: 0.0020 - val_loss: 0.0017\n",
            "Epoch 124/200\n",
            "84/84 [==============================] - 1s 6ms/step - loss: 0.0040 - val_loss: 0.0017\n",
            "Epoch 125/200\n",
            "84/84 [==============================] - 1s 7ms/step - loss: 0.0018 - val_loss: 0.0015\n",
            "Epoch 126/200\n",
            "84/84 [==============================] - 1s 8ms/step - loss: 9.5991e-04 - val_loss: 0.0012\n",
            "Epoch 127/200\n",
            "84/84 [==============================] - 1s 7ms/step - loss: 0.0014 - val_loss: 0.0019\n",
            "Epoch 128/200\n",
            "84/84 [==============================] - 1s 7ms/step - loss: 0.0021 - val_loss: 0.0015\n",
            "Epoch 129/200\n",
            "84/84 [==============================] - 1s 8ms/step - loss: 8.8857e-04 - val_loss: 0.0011\n",
            "Epoch 130/200\n",
            "84/84 [==============================] - 1s 8ms/step - loss: 0.0014 - val_loss: 0.0032\n",
            "Epoch 131/200\n",
            "84/84 [==============================] - 1s 7ms/step - loss: 0.0034 - val_loss: 0.0019\n",
            "Epoch 132/200\n",
            "84/84 [==============================] - 1s 6ms/step - loss: 0.0012 - val_loss: 0.0018\n",
            "Epoch 133/200\n",
            "84/84 [==============================] - 1s 7ms/step - loss: 0.0012 - val_loss: 0.0029\n",
            "Epoch 134/200\n",
            "84/84 [==============================] - 1s 7ms/step - loss: 0.0019 - val_loss: 0.0024\n",
            "Epoch 135/200\n",
            "84/84 [==============================] - 1s 7ms/step - loss: 0.0011 - val_loss: 0.0020\n",
            "Epoch 136/200\n",
            "84/84 [==============================] - 1s 8ms/step - loss: 0.0015 - val_loss: 0.0019\n",
            "Epoch 137/200\n",
            "84/84 [==============================] - 1s 8ms/step - loss: 9.7007e-04 - val_loss: 0.0013\n",
            "Epoch 138/200\n",
            "84/84 [==============================] - 1s 8ms/step - loss: 0.0026 - val_loss: 0.0012\n",
            "Epoch 139/200\n",
            "84/84 [==============================] - 1s 8ms/step - loss: 6.0252e-04 - val_loss: 9.2237e-04\n",
            "Epoch 140/200\n",
            "84/84 [==============================] - 1s 8ms/step - loss: 7.3912e-04 - val_loss: 0.0032\n",
            "Epoch 141/200\n",
            "84/84 [==============================] - 1s 7ms/step - loss: 0.0024 - val_loss: 7.7011e-04\n",
            "Epoch 142/200\n",
            "84/84 [==============================] - 1s 7ms/step - loss: 0.0015 - val_loss: 0.0016\n",
            "Epoch 143/200\n",
            "84/84 [==============================] - 1s 7ms/step - loss: 0.0021 - val_loss: 8.2141e-04\n",
            "Epoch 144/200\n",
            "84/84 [==============================] - 1s 6ms/step - loss: 0.0011 - val_loss: 0.0021\n",
            "Epoch 145/200\n",
            "84/84 [==============================] - 1s 7ms/step - loss: 0.0020 - val_loss: 0.0020\n",
            "Epoch 146/200\n",
            "84/84 [==============================] - 1s 7ms/step - loss: 8.1350e-04 - val_loss: 0.0010\n",
            "Epoch 147/200\n",
            "84/84 [==============================] - 1s 7ms/step - loss: 0.0011 - val_loss: 0.0015\n",
            "Epoch 148/200\n",
            "84/84 [==============================] - 1s 7ms/step - loss: 0.0021 - val_loss: 0.0109\n",
            "Epoch 149/200\n",
            "84/84 [==============================] - 1s 7ms/step - loss: 0.0031 - val_loss: 0.0048\n",
            "Epoch 150/200\n",
            "84/84 [==============================] - 1s 8ms/step - loss: 0.0039 - val_loss: 0.0092\n",
            "Epoch 151/200\n",
            "84/84 [==============================] - 1s 7ms/step - loss: 6.7843e-04 - val_loss: 9.7820e-04\n",
            "Epoch 152/200\n",
            "84/84 [==============================] - 1s 8ms/step - loss: 0.0012 - val_loss: 0.0010\n",
            "Epoch 153/200\n",
            "84/84 [==============================] - 1s 8ms/step - loss: 0.0011 - val_loss: 0.0014\n",
            "Epoch 154/200\n",
            "84/84 [==============================] - 1s 7ms/step - loss: 0.0017 - val_loss: 0.0053\n",
            "Epoch 155/200\n",
            "84/84 [==============================] - 1s 8ms/step - loss: 0.0025 - val_loss: 0.0226\n",
            "Epoch 156/200\n",
            "84/84 [==============================] - 1s 7ms/step - loss: 0.0035 - val_loss: 8.2046e-04\n",
            "Epoch 157/200\n",
            "84/84 [==============================] - 1s 7ms/step - loss: 0.0011 - val_loss: 7.9351e-04\n",
            "Epoch 158/200\n",
            "84/84 [==============================] - 1s 9ms/step - loss: 0.0017 - val_loss: 7.4145e-04\n",
            "Epoch 159/200\n",
            "84/84 [==============================] - 1s 8ms/step - loss: 8.5052e-04 - val_loss: 0.0020\n",
            "Epoch 160/200\n",
            "84/84 [==============================] - 1s 8ms/step - loss: 0.0011 - val_loss: 0.0023\n",
            "Epoch 161/200\n",
            "84/84 [==============================] - 1s 8ms/step - loss: 0.0017 - val_loss: 0.0011\n",
            "Epoch 162/200\n",
            "84/84 [==============================] - 1s 8ms/step - loss: 0.0025 - val_loss: 0.0030\n",
            "Epoch 163/200\n",
            "84/84 [==============================] - 1s 7ms/step - loss: 0.0015 - val_loss: 0.0015\n",
            "Epoch 164/200\n",
            "84/84 [==============================] - 1s 7ms/step - loss: 0.0011 - val_loss: 6.5975e-04\n",
            "Epoch 165/200\n",
            "84/84 [==============================] - 1s 8ms/step - loss: 0.0013 - val_loss: 6.6352e-04\n",
            "Epoch 166/200\n",
            "84/84 [==============================] - 1s 8ms/step - loss: 0.0015 - val_loss: 0.0056\n",
            "Epoch 167/200\n",
            "84/84 [==============================] - 1s 8ms/step - loss: 0.0013 - val_loss: 0.0011\n",
            "Epoch 168/200\n",
            "84/84 [==============================] - 1s 8ms/step - loss: 0.0020 - val_loss: 0.0012\n",
            "Epoch 169/200\n",
            "84/84 [==============================] - 1s 7ms/step - loss: 0.0012 - val_loss: 0.0032\n",
            "Epoch 170/200\n",
            "84/84 [==============================] - 1s 8ms/step - loss: 0.0012 - val_loss: 0.0031\n",
            "Epoch 171/200\n",
            "84/84 [==============================] - 1s 8ms/step - loss: 0.0015 - val_loss: 8.1527e-04\n",
            "Epoch 172/200\n",
            "84/84 [==============================] - 1s 8ms/step - loss: 0.0020 - val_loss: 0.0020\n",
            "Epoch 173/200\n",
            "84/84 [==============================] - 1s 8ms/step - loss: 0.0017 - val_loss: 0.0020\n",
            "Epoch 174/200\n",
            "84/84 [==============================] - 1s 8ms/step - loss: 0.0017 - val_loss: 0.0013\n",
            "Epoch 175/200\n",
            "84/84 [==============================] - 1s 8ms/step - loss: 0.0014 - val_loss: 0.0013\n",
            "Epoch 176/200\n",
            "84/84 [==============================] - 1s 7ms/step - loss: 0.0016 - val_loss: 0.0010\n",
            "Epoch 177/200\n",
            "84/84 [==============================] - 1s 7ms/step - loss: 0.0014 - val_loss: 0.0030\n",
            "Epoch 178/200\n",
            "84/84 [==============================] - 1s 8ms/step - loss: 0.0010 - val_loss: 7.8357e-04\n",
            "Epoch 179/200\n",
            "84/84 [==============================] - 1s 7ms/step - loss: 4.5407e-04 - val_loss: 0.0015\n",
            "Epoch 180/200\n",
            "84/84 [==============================] - 1s 8ms/step - loss: 0.0019 - val_loss: 0.0023\n",
            "Epoch 181/200\n",
            "84/84 [==============================] - 1s 7ms/step - loss: 9.4484e-04 - val_loss: 6.9115e-04\n",
            "Epoch 182/200\n",
            "84/84 [==============================] - 1s 8ms/step - loss: 0.0024 - val_loss: 8.1028e-04\n",
            "Epoch 183/200\n",
            "84/84 [==============================] - 1s 8ms/step - loss: 0.0032 - val_loss: 0.0057\n",
            "Epoch 184/200\n",
            "84/84 [==============================] - 1s 8ms/step - loss: 0.0010 - val_loss: 6.8308e-04\n",
            "Epoch 185/200\n",
            "84/84 [==============================] - 1s 7ms/step - loss: 9.0555e-04 - val_loss: 5.8308e-04\n",
            "Epoch 186/200\n",
            "84/84 [==============================] - 1s 8ms/step - loss: 0.0015 - val_loss: 0.0018\n",
            "Epoch 187/200\n",
            "84/84 [==============================] - 1s 7ms/step - loss: 0.0013 - val_loss: 5.4245e-04\n",
            "Epoch 188/200\n",
            "84/84 [==============================] - 1s 6ms/step - loss: 0.0013 - val_loss: 0.0011\n",
            "Epoch 189/200\n",
            "84/84 [==============================] - 1s 8ms/step - loss: 0.0019 - val_loss: 0.0024\n",
            "Epoch 190/200\n",
            "84/84 [==============================] - 1s 8ms/step - loss: 0.0010 - val_loss: 0.0016\n",
            "Epoch 191/200\n",
            "84/84 [==============================] - 1s 8ms/step - loss: 0.0025 - val_loss: 0.0021\n",
            "Epoch 192/200\n",
            "84/84 [==============================] - 1s 8ms/step - loss: 0.0025 - val_loss: 4.9066e-04\n",
            "Epoch 193/200\n",
            "84/84 [==============================] - 1s 7ms/step - loss: 0.0019 - val_loss: 0.0011\n",
            "Epoch 194/200\n",
            "84/84 [==============================] - 1s 7ms/step - loss: 0.0011 - val_loss: 0.0018\n",
            "Epoch 195/200\n",
            "84/84 [==============================] - 1s 7ms/step - loss: 0.0012 - val_loss: 8.7277e-04\n",
            "Epoch 196/200\n",
            "84/84 [==============================] - 1s 8ms/step - loss: 0.0028 - val_loss: 0.0047\n",
            "Epoch 197/200\n",
            "84/84 [==============================] - 1s 6ms/step - loss: 0.0014 - val_loss: 0.0014\n",
            "Epoch 198/200\n",
            "84/84 [==============================] - 1s 6ms/step - loss: 7.2149e-04 - val_loss: 0.0021\n",
            "Epoch 199/200\n",
            "84/84 [==============================] - 1s 7ms/step - loss: 0.0013 - val_loss: 0.0051\n",
            "Epoch 200/200\n",
            "84/84 [==============================] - 1s 7ms/step - loss: 0.0018 - val_loss: 0.0025\n"
          ]
        }
      ]
    },
    {
      "cell_type": "code",
      "metadata": {
        "colab": {
          "base_uri": "https://localhost:8080/",
          "height": 731
        },
        "id": "hdBBOaZnuNSp",
        "outputId": "91ce223f-f0cf-451a-8c25-83bd3fbff88c"
      },
      "source": [
        "#---------------------------------Parte 23--------------------------------------\n",
        "#Plotagem do treinamento e validação do Loss\n",
        "x = np.arange(0, EPOCHS, 1)                                                                  \n",
        "plt.figure(1, figsize = (22, 12))                                  \n",
        "plt.subplot(121)\n",
        "plt.xlabel(\"Epochs\")\n",
        "plt.ylabel(\"Loss\")\n",
        "plt.plot(x, history.history[\"loss\"], label = \"Treinamento do Loss\")\n",
        "plt.plot(x, history.history[\"val_loss\"], label = \"Validação Loss\")\n",
        "plt.grid(True)\n",
        "plt.legend()  "
      ],
      "execution_count": 223,
      "outputs": [
        {
          "output_type": "execute_result",
          "data": {
            "text/plain": [
              "<matplotlib.legend.Legend at 0x7fe0f5efd7d0>"
            ]
          },
          "metadata": {},
          "execution_count": 223
        },
        {
          "output_type": "display_data",
          "data": {
            "image/png": "[encoded data removed]",
            "text/plain": [
              "<Figure size 1584x864 with 1 Axes>"
            ]
          },
          "metadata": {
            "needs_background": "light"
          }
        }
      ]
    },
    {
      "cell_type": "code",
      "metadata": {
        "colab": {
          "base_uri": "https://localhost:8080/",
          "height": 404
        },
        "id": "DznK2mxPunrC",
        "outputId": "e8211875-3820-445b-d2f0-f69539e4b5e3"
      },
      "source": [
        "#---------------------------------Parte 24--------------------------------------\n",
        "#Aqui é possível usar os dados de teste do dataset para,\n",
        "# essa rede neural treinada, e assim prever as saídas que a rede desconhece\n",
        "#A seguir são apresentados os casos reais e uma predição rede não conhece;\n",
        "predicted_cases = model.predict(x_val)\n",
        "predicted_cases = scaler.inverse_transform(predicted_cases)\n",
        "real_cases = scaler.inverse_transform(y_val)\n",
        "plt.figure(figsize= (10, 6))\n",
        "plt.subplot(1,1,1)\n",
        "plt.plot(real_cases, color = \"green\", label = \"Número Real de Casos\")\n",
        "plt.plot(predicted_cases, color = \"blue\", label = \"Número de Predição de Casos\")\n",
        "plt.title(\"Casos de Covid-19 no Brasil\")\n",
        "plt.xlabel(\"Tempo\")\n",
        "plt.ylabel(\"Contagem de Casos\")\n",
        "plt.legend()\n",
        "plt.grid(\"both\")\n",
        "plt.show()"
      ],
      "execution_count": 224,
      "outputs": [
        {
          "output_type": "display_data",
          "data": {
            "image/png": "[encoded data removed]",
            "text/plain": [
              "<Figure size 720x432 with 1 Axes>"
            ]
          },
          "metadata": {
            "needs_background": "light"
          }
        }
      ]
    }
  ]
}