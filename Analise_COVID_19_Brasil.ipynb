{
  "nbformat": 4,
  "nbformat_minor": 0,
  "metadata": {
    "colab": {
      "name": "Analise-COVID-19-Brasil.ipynb",
      "provenance": [],
      "collapsed_sections": [],
      "authorship_tag": "ABX9TyP6xh2/GHvMhnvwi6ECBaiX",
      "include_colab_link": true
    },
    "kernelspec": {
      "name": "python3",
      "display_name": "Python 3"
    },
    "language_info": {
      "name": "python"
    }
  },
  "cells": [
    {
      "cell_type": "markdown",
      "metadata": {
        "id": "view-in-github",
        "colab_type": "text"
      },
      "source": [
        "<a href=\"https://colab.research.google.com/github/nascimento-luciano/Artificial-Intelligence/blob/master/Analise_COVID_19_Brasil.ipynb\" target=\"_parent\"><img src=\"https://colab.research.google.com/assets/colab-badge.svg\" alt=\"Open In Colab\"/></a>"
      ]
    },
    {
      "cell_type": "markdown",
      "metadata": {
        "id": "tNWjJ10rocRp"
      },
      "source": [
        "1ª Etapa - Plotagem do Casos Confirmados de COVID-19 no Brasil"
      ]
    },
    {
      "cell_type": "code",
      "metadata": {
        "id": "4_shQlW-OyqP"
      },
      "source": [
        "#---------------------------------Parte 1---------------------------------------\n",
        "#Importanto bibliotecas\n",
        "import pandas as pd\n",
        "import matplotlib.pyplot as plt\n",
        "import numpy as np\n",
        "import pandas as pd\n",
        "#import geopandas as gpd -----> Verificar porque não carrega a biblioteca\n",
        "import plotly.express as px\n",
        "import plotly.graph_objects as go"
      ],
      "execution_count": 149,
      "outputs": []
    },
    {
      "cell_type": "code",
      "metadata": {
        "colab": {
          "base_uri": "https://localhost:8080/"
        },
        "id": "50HAQscEO-HT",
        "outputId": "d6167096-c832-4463-85ad-6ec5be654848"
      },
      "source": [
        "#Importação da biblioteca geopandas via instalação no Colab\n",
        "!pip install geopandas"
      ],
      "execution_count": 150,
      "outputs": [
        {
          "output_type": "stream",
          "name": "stdout",
          "text": [
            "Requirement already satisfied: geopandas in /usr/local/lib/python3.7/dist-packages (0.10.2)\n",
            "Requirement already satisfied: pandas>=0.25.0 in /usr/local/lib/python3.7/dist-packages (from geopandas) (1.1.5)\n",
            "Requirement already satisfied: fiona>=1.8 in /usr/local/lib/python3.7/dist-packages (from geopandas) (1.8.20)\n",
            "Requirement already satisfied: shapely>=1.6 in /usr/local/lib/python3.7/dist-packages (from geopandas) (1.8.0)\n",
            "Requirement already satisfied: pyproj>=2.2.0 in /usr/local/lib/python3.7/dist-packages (from geopandas) (3.2.1)\n",
            "Requirement already satisfied: setuptools in /usr/local/lib/python3.7/dist-packages (from fiona>=1.8->geopandas) (57.4.0)\n",
            "Requirement already satisfied: certifi in /usr/local/lib/python3.7/dist-packages (from fiona>=1.8->geopandas) (2021.10.8)\n",
            "Requirement already satisfied: click-plugins>=1.0 in /usr/local/lib/python3.7/dist-packages (from fiona>=1.8->geopandas) (1.1.1)\n",
            "Requirement already satisfied: six>=1.7 in /usr/local/lib/python3.7/dist-packages (from fiona>=1.8->geopandas) (1.15.0)\n",
            "Requirement already satisfied: munch in /usr/local/lib/python3.7/dist-packages (from fiona>=1.8->geopandas) (2.5.0)\n",
            "Requirement already satisfied: attrs>=17 in /usr/local/lib/python3.7/dist-packages (from fiona>=1.8->geopandas) (21.2.0)\n",
            "Requirement already satisfied: click>=4.0 in /usr/local/lib/python3.7/dist-packages (from fiona>=1.8->geopandas) (7.1.2)\n",
            "Requirement already satisfied: cligj>=0.5 in /usr/local/lib/python3.7/dist-packages (from fiona>=1.8->geopandas) (0.7.2)\n",
            "Requirement already satisfied: pytz>=2017.2 in /usr/local/lib/python3.7/dist-packages (from pandas>=0.25.0->geopandas) (2018.9)\n",
            "Requirement already satisfied: numpy>=1.15.4 in /usr/local/lib/python3.7/dist-packages (from pandas>=0.25.0->geopandas) (1.19.5)\n",
            "Requirement already satisfied: python-dateutil>=2.7.3 in /usr/local/lib/python3.7/dist-packages (from pandas>=0.25.0->geopandas) (2.8.2)\n"
          ]
        }
      ]
    },
    {
      "cell_type": "code",
      "metadata": {
        "id": "Nc0h3H3rPDEq"
      },
      "source": [
        "#---------------------------------Parte 2---------------------------------------\n",
        "#Importando Arquivo CSV\n",
        "#Dados não \"Oficiais de 2020\"\n",
        "covid_cases = pd.read_csv('worldometer_coronavirus_daily_data.csv')\n",
        "covid_vaxxs = pd.read_csv('country_vaccinations.csv')\n",
        "df = pd.read_csv('covid_19_data.csv')\n",
        "train=pd.read_csv('train.csv')\n",
        "test=pd.read_csv('test.csv')\n",
        "sub=pd.read_csv('submission.csv')\n",
        "submission=pd.read_csv('submission.csv')\n",
        "confirmed_df = pd.read_csv('time_series_covid_19_confirmed.csv')"
      ],
      "execution_count": 151,
      "outputs": []
    },
    {
      "cell_type": "code",
      "metadata": {
        "id": "ewu71qOlQQXk"
      },
      "source": [
        "#---------------------------------Parte 3---------------------------------------\n",
        "#Vamos marcar o datase e usar como amostra o Brazil\n",
        "\n",
        "def fix_country_name(country):\n",
        "    name_dict = {\n",
        "        'BRA': 'Brazil'\n",
        "     }\n",
        "    try:\n",
        "      return name_dict[country]\n",
        "    except KeyError:\n",
        "      return country\n",
        "\n",
        "covid_cases.country = covid_cases.country.apply(fix_country_name)"
      ],
      "execution_count": 152,
      "outputs": []
    },
    {
      "cell_type": "code",
      "metadata": {
        "id": "OJLmTUSDQSS7"
      },
      "source": [
        "#---------------------------------Parte 4---------------------------------------\n",
        "#Vamos observar o caso do Brasil\n",
        "countries_of_interest = [\"Brazil\"]\n",
        "\n",
        "#Vamos começar a limpar os dados filtrando-o para o subconjunto de países que desejamos.\n",
        "covid_cases_subset = covid_cases[covid_cases.country.isin (countries_of_interest)]\n",
        "covid_vaxxs_subset = covid_vaxxs[covid_vaxxs.country.isin (countries_of_interest)]"
      ],
      "execution_count": 153,
      "outputs": []
    },
    {
      "cell_type": "code",
      "metadata": {
        "id": "Y33OiuZBQT3y"
      },
      "source": [
        "#---------------------------------Parte 5---------------------------------------\n",
        "#Unindo os databases usando as datas e países\n",
        "merged_data = pd.merge_ordered(covid_cases_subset, covid_vaxxs_subset, \\\n",
        "                               left_on=['date', 'country'], \\\n",
        "                               right_on=['date', 'country'])\n",
        "\n",
        "#Remove as colunas desnecessárias\n",
        "merged_data.drop(columns=['iso_code', 'source_name', 'source_website', 'vaccines',\\\n",
        "                           'daily_vaccinations_per_million', 'daily_vaccinations_raw'], inplace=True)"
      ],
      "execution_count": 154,
      "outputs": []
    },
    {
      "cell_type": "code",
      "metadata": {
        "id": "pyw-C9mpQVWa"
      },
      "source": [
        "#---------------------------------Parte 6---------------------------------------\n",
        "#Vamos lidar com os NaNs\n",
        "merged_data.fillna({'total_vaccinations':0, 'people_vaccinated':0, 'people_fully_vaccinated':0,\\\n",
        "                 'daily_vaccinations':0,'total_vaccinations_per_hundred':0,\\\n",
        "                 'people_vaccinated_per_hundred':0 ,'people_fully_vaccinated_per_hundred':0}\\\n",
        "                 ,inplace=True)\n",
        "\n",
        "covid_data = merged_data.dropna(how='any', subset=['cumulative_total_cases'])"
      ],
      "execution_count": 155,
      "outputs": []
    },
    {
      "cell_type": "code",
      "metadata": {
        "id": "R1NLUjqmQWsC"
      },
      "source": [
        "#---------------------------------Parte 7---------------------------------------\n",
        "#Vamos também definir o índice para a data\n",
        "covid_data.set_index('date', inplace=True)"
      ],
      "execution_count": 156,
      "outputs": []
    },
    {
      "cell_type": "code",
      "metadata": {
        "id": "bWBOmmGuQX_7"
      },
      "source": [
        "#Vamos mudar o índice para um objeto datetime agora\n",
        "covid_data.index = pd.to_datetime(covid_data.index, errors='coerce', infer_datetime_format=True)"
      ],
      "execution_count": 157,
      "outputs": []
    },
    {
      "cell_type": "code",
      "metadata": {
        "colab": {
          "base_uri": "https://localhost:8080/",
          "height": 436
        },
        "id": "8GtjdXp-Qe_Z",
        "outputId": "28ed3486-b502-488d-ff8c-ca275d607738"
      },
      "source": [
        "#---------------------------------Parte 8---------------------------------------\n",
        "#Plotagem do casos de COVID-19 no Brasil em forma de barras\n",
        "BRA_infections = covid_data[covid_data.country == 'Brazil']\n",
        "\n",
        "plt.figure(figsize=(12, 6))\n",
        "BRA_infections['daily_new_cases']\\\n",
        "  .groupby(BRA_infections.index.to_period('M'))\\\n",
        "  .sum().plot(kind='bar', legend=False, color='g')\n",
        "\n",
        "plt.legend(['Brasil'])\n",
        "plt.ylabel('Número de casos')\n",
        "plt.xlabel('Meses')\n",
        "plt.title('Casos de COVID em Meses');"
      ],
      "execution_count": 158,
      "outputs": [
        {
          "output_type": "display_data",
          "data": {
            "image/png": "[encoded data removed]",
            "text/plain": [
              "<Figure size 864x432 with 1 Axes>"
            ]
          },
          "metadata": {
            "needs_background": "light"
          }
        }
      ]
    },
    {
      "cell_type": "code",
      "metadata": {
        "colab": {
          "base_uri": "https://localhost:8080/",
          "height": 398
        },
        "id": "dqVmQ4fAQg_h",
        "outputId": "85c02050-90dd-4970-eb9c-16c2e8c281a4"
      },
      "source": [
        "#---------------------------------Parte 9---------------------------------------\n",
        "#Vemos que o padrão muda de país para país\n",
        "plt.figure(figsize=(12, 6))\n",
        "covid_data[covid_data.country == 'Brazil'].daily_new_cases.plot(legend=False,rot=45)\n",
        "covid_data[covid_data.country == 'Brazil'].daily_vaccinations.plot(legend=False,rot=45)\n",
        "\n",
        "#Marca o início do lançamento da vacina  no Brazil -----> Mônica Calazans (Primeiro Vacinado)\n",
        "plt.axvline('17/01/2021', color='k', linestyle='dashed', linewidth=1)\n",
        "\n",
        "plt.legend(['Casos diários', 'Vacinações diárias'])\n",
        "plt.ylabel('Número de pessoas')\n",
        "plt.xlabel('Data')\n",
        "plt.title('Taxas de COVID e vacinas no Brasil');\n",
        "\n",
        "#É possível conferir se os gráficos abaixo estão certo,\n",
        "#checando nos sites da Wikipedia e Our World Data\n",
        "#https://en.wikipedia.org/wiki/COVID-19_pandemic_in_Brazil\n",
        "#https://ourworldindata.org/coronavirus/country/brazil"
      ],
      "execution_count": 159,
      "outputs": [
        {
          "output_type": "display_data",
          "data": {
            "image/png": "[encoded data removed]",
            "text/plain": [
              "<Figure size 864x432 with 1 Axes>"
            ]
          },
          "metadata": {
            "needs_background": "light"
          }
        }
      ]
    },
    {
      "cell_type": "markdown",
      "metadata": {
        "id": "lA9cU4t5tUS7"
      },
      "source": [
        "--------------------------Fim do Código---------------------------------------"
      ]
    },
    {
      "cell_type": "markdown",
      "metadata": {
        "id": "9UyFrkAgALmT"
      },
      "source": [
        "2ª Etapa - Plotagem do Modelo de Predição de Casos de Confirmados no Brasil"
      ]
    },
    {
      "cell_type": "code",
      "metadata": {
        "id": "4DDlRZG2qslQ"
      },
      "source": [
        "#---------------------------------Parte 1---------------------------------------\n",
        "#Importanto bibliotecas\n",
        "import numpy as np\n",
        "import pandas as pd\n",
        "import matplotlib\n",
        "import matplotlib.pyplot as plt\n",
        "from plotly.offline import iplot, init_notebook_mode\n",
        "import plotly.express as px\n",
        "import bokeh \n",
        "from bokeh.io import output_notebook\n",
        "from bokeh.resources import INLINE\n",
        "import tensorflow as tf\n",
        "import sklearn\n",
        "from sklearn.model_selection import train_test_split\n",
        "from sklearn.preprocessing import MinMaxScaler\n",
        "import warnings\n",
        "warnings.filterwarnings(\"ignore\")\n",
        "output_notebook(resources=INLINE)\n",
        "%matplotlib inline"
      ],
      "execution_count": 160,
      "outputs": []
    },
    {
      "cell_type": "code",
      "metadata": {
        "id": "49rsEskQqunZ"
      },
      "source": [
        "#---------------------------------Parte 2---------------------------------------\n",
        "#Construindo o DataFrame a partir de um arquivo CSV.\n",
        "train = pd.DataFrame(pd.read_csv('train.csv'))"
      ],
      "execution_count": 161,
      "outputs": []
    },
    {
      "cell_type": "code",
      "metadata": {
        "colab": {
          "base_uri": "https://localhost:8080/"
        },
        "id": "JZr0HI-Xq1Oy",
        "outputId": "67943dd5-30b6-44e7-db10-9297a023c938"
      },
      "source": [
        "#Platagem da forma de treinamento\n",
        "print(\"A forma dos dados de treinamento é = {}\".format(train.shape))"
      ],
      "execution_count": 162,
      "outputs": [
        {
          "output_type": "stream",
          "name": "stdout",
          "text": [
            "A forma dos dados de treinamento é = (35995, 6)\n"
          ]
        }
      ]
    },
    {
      "cell_type": "code",
      "metadata": {
        "id": "UEpXqWQuq30x"
      },
      "source": [
        "#---------------------------------Parte 3---------------------------------------\n",
        "#Considerando para o treinamento os dados das Provincias, Casos Confirmados e Fatalidades\n",
        "train.Province_State.fillna(\"\", inplace = True)\n",
        "train.ConfirmedCases.fillna(\"\", inplace = True)\n",
        "train.Fatalities.fillna(\"\", inplace = True)"
      ],
      "execution_count": 163,
      "outputs": []
    },
    {
      "cell_type": "code",
      "metadata": {
        "colab": {
          "base_uri": "https://localhost:8080/"
        },
        "id": "cxL8Uz9Kq5yo",
        "outputId": "6fe8ecab-b06f-4713-803b-70558b68d812"
      },
      "source": [
        "#---------------------------------Parte 4---------------------------------------\n",
        "#Treinamento exibe a forma matricial dos países com casos confirmados de COVID-19\n",
        "train[\"Country_Region\"].unique()"
      ],
      "execution_count": 164,
      "outputs": [
        {
          "output_type": "execute_result",
          "data": {
            "text/plain": [
              "array(['Afghanistan', 'Albania', 'Algeria', 'Andorra', 'Angola',\n",
              "       'Antigua and Barbuda', 'Argentina', 'Armenia', 'Australia',\n",
              "       'Austria', 'Azerbaijan', 'Bahamas', 'Bahrain', 'Bangladesh',\n",
              "       'Barbados', 'Belarus', 'Belgium', 'Belize', 'Benin', 'Bhutan',\n",
              "       'Bolivia', 'Bosnia and Herzegovina', 'Botswana', 'Brazil',\n",
              "       'Brunei', 'Bulgaria', 'Burkina Faso', 'Burma', 'Burundi',\n",
              "       'Cabo Verde', 'Cambodia', 'Cameroon', 'Canada',\n",
              "       'Central African Republic', 'Chad', 'Chile', 'China', 'Colombia',\n",
              "       'Congo (Brazzaville)', 'Congo (Kinshasa)', 'Costa Rica',\n",
              "       \"Cote d'Ivoire\", 'Croatia', 'Cuba', 'Cyprus', 'Czechia', 'Denmark',\n",
              "       'Diamond Princess', 'Djibouti', 'Dominica', 'Dominican Republic',\n",
              "       'Ecuador', 'Egypt', 'El Salvador', 'Equatorial Guinea', 'Eritrea',\n",
              "       'Estonia', 'Eswatini', 'Ethiopia', 'Fiji', 'Finland', 'France',\n",
              "       'Gabon', 'Gambia', 'Georgia', 'Germany', 'Ghana', 'Greece',\n",
              "       'Grenada', 'Guatemala', 'Guinea', 'Guinea-Bissau', 'Guyana',\n",
              "       'Haiti', 'Holy See', 'Honduras', 'Hungary', 'Iceland', 'India',\n",
              "       'Indonesia', 'Iran', 'Iraq', 'Ireland', 'Israel', 'Italy',\n",
              "       'Jamaica', 'Japan', 'Jordan', 'Kazakhstan', 'Kenya',\n",
              "       'Korea, South', 'Kosovo', 'Kuwait', 'Kyrgyzstan', 'Laos', 'Latvia',\n",
              "       'Lebanon', 'Liberia', 'Libya', 'Liechtenstein', 'Lithuania',\n",
              "       'Luxembourg', 'MS Zaandam', 'Madagascar', 'Malawi', 'Malaysia',\n",
              "       'Maldives', 'Mali', 'Malta', 'Mauritania', 'Mauritius', 'Mexico',\n",
              "       'Moldova', 'Monaco', 'Mongolia', 'Montenegro', 'Morocco',\n",
              "       'Mozambique', 'Namibia', 'Nepal', 'Netherlands', 'New Zealand',\n",
              "       'Nicaragua', 'Niger', 'Nigeria', 'North Macedonia', 'Norway',\n",
              "       'Oman', 'Pakistan', 'Panama', 'Papua New Guinea', 'Paraguay',\n",
              "       'Peru', 'Philippines', 'Poland', 'Portugal', 'Qatar', 'Romania',\n",
              "       'Russia', 'Rwanda', 'Saint Kitts and Nevis', 'Saint Lucia',\n",
              "       'Saint Vincent and the Grenadines', 'San Marino',\n",
              "       'Sao Tome and Principe', 'Saudi Arabia', 'Senegal', 'Serbia',\n",
              "       'Seychelles', 'Sierra Leone', 'Singapore', 'Slovakia', 'Slovenia',\n",
              "       'Somalia', 'South Africa', 'South Sudan', 'Spain', 'Sri Lanka',\n",
              "       'Sudan', 'Suriname', 'Sweden', 'Switzerland', 'Syria', 'Taiwan*',\n",
              "       'Tanzania', 'Thailand', 'Timor-Leste', 'Togo',\n",
              "       'Trinidad and Tobago', 'Tunisia', 'Turkey', 'US', 'Uganda',\n",
              "       'Ukraine', 'United Arab Emirates', 'United Kingdom', 'Uruguay',\n",
              "       'Uzbekistan', 'Venezuela', 'Vietnam', 'West Bank and Gaza',\n",
              "       'Western Sahara', 'Zambia', 'Zimbabwe'], dtype=object)"
            ]
          },
          "metadata": {},
          "execution_count": 164
        }
      ]
    },
    {
      "cell_type": "code",
      "metadata": {
        "id": "bn-NBB9cq82L"
      },
      "source": [
        "#---------------------------------Parte 5---------------------------------------\n",
        "#Aqui separamos os casos confimados e os casos fatais de COVID-19 no Brazil\n",
        "confirmed_cases_brazil = train[train[\"Country_Region\"] == \"Brazil\"].groupby([\"Date\"]).ConfirmedCases.sum()\n",
        "fatal_cases_brazil = train[train[\"Country_Region\"] == \"Brazil\"].groupby([\"Date\"]).Fatalities.sum()"
      ],
      "execution_count": 165,
      "outputs": []
    },
    {
      "cell_type": "code",
      "metadata": {
        "colab": {
          "base_uri": "https://localhost:8080/",
          "height": 424
        },
        "id": "P3RqPhJ6r0LJ",
        "outputId": "5ebbc920-34c8-4816-9b7c-9e64cb1aaf6a"
      },
      "source": [
        "#---------------------------------Parte 6---------------------------------------\n",
        "#Fazendo o treinamento para Paíse/Região\n",
        "train_brazil = train[train[\"Country_Region\"] == \"Brazil\"]\n",
        "train_brazil"
      ],
      "execution_count": 166,
      "outputs": [
        {
          "output_type": "execute_result",
          "data": {
            "text/html": [
              "<div>\n",
              "<style scoped>\n",
              "    .dataframe tbody tr th:only-of-type {\n",
              "        vertical-align: middle;\n",
              "    }\n",
              "\n",
              "    .dataframe tbody tr th {\n",
              "        vertical-align: top;\n",
              "    }\n",
              "\n",
              "    .dataframe thead th {\n",
              "        text-align: right;\n",
              "    }\n",
              "</style>\n",
              "<table border=\"1\" class=\"dataframe\">\n",
              "  <thead>\n",
              "    <tr style=\"text-align: right;\">\n",
              "      <th></th>\n",
              "      <th>Id</th>\n",
              "      <th>Province_State</th>\n",
              "      <th>Country_Region</th>\n",
              "      <th>Date</th>\n",
              "      <th>ConfirmedCases</th>\n",
              "      <th>Fatalities</th>\n",
              "    </tr>\n",
              "  </thead>\n",
              "  <tbody>\n",
              "    <tr>\n",
              "      <th>3450</th>\n",
              "      <td>3451</td>\n",
              "      <td></td>\n",
              "      <td>Brazil</td>\n",
              "      <td>2020-01-22</td>\n",
              "      <td>0.0</td>\n",
              "      <td>0.0</td>\n",
              "    </tr>\n",
              "    <tr>\n",
              "      <th>3451</th>\n",
              "      <td>3452</td>\n",
              "      <td></td>\n",
              "      <td>Brazil</td>\n",
              "      <td>2020-01-23</td>\n",
              "      <td>0.0</td>\n",
              "      <td>0.0</td>\n",
              "    </tr>\n",
              "    <tr>\n",
              "      <th>3452</th>\n",
              "      <td>3453</td>\n",
              "      <td></td>\n",
              "      <td>Brazil</td>\n",
              "      <td>2020-01-24</td>\n",
              "      <td>0.0</td>\n",
              "      <td>0.0</td>\n",
              "    </tr>\n",
              "    <tr>\n",
              "      <th>3453</th>\n",
              "      <td>3454</td>\n",
              "      <td></td>\n",
              "      <td>Brazil</td>\n",
              "      <td>2020-01-25</td>\n",
              "      <td>0.0</td>\n",
              "      <td>0.0</td>\n",
              "    </tr>\n",
              "    <tr>\n",
              "      <th>3454</th>\n",
              "      <td>3455</td>\n",
              "      <td></td>\n",
              "      <td>Brazil</td>\n",
              "      <td>2020-01-26</td>\n",
              "      <td>0.0</td>\n",
              "      <td>0.0</td>\n",
              "    </tr>\n",
              "    <tr>\n",
              "      <th>...</th>\n",
              "      <td>...</td>\n",
              "      <td>...</td>\n",
              "      <td>...</td>\n",
              "      <td>...</td>\n",
              "      <td>...</td>\n",
              "      <td>...</td>\n",
              "    </tr>\n",
              "    <tr>\n",
              "      <th>3560</th>\n",
              "      <td>3561</td>\n",
              "      <td></td>\n",
              "      <td>Brazil</td>\n",
              "      <td>2020-05-11</td>\n",
              "      <td>169594.0</td>\n",
              "      <td>11653.0</td>\n",
              "    </tr>\n",
              "    <tr>\n",
              "      <th>3561</th>\n",
              "      <td>3562</td>\n",
              "      <td></td>\n",
              "      <td>Brazil</td>\n",
              "      <td>2020-05-12</td>\n",
              "      <td>178214.0</td>\n",
              "      <td>12461.0</td>\n",
              "    </tr>\n",
              "    <tr>\n",
              "      <th>3562</th>\n",
              "      <td>3563</td>\n",
              "      <td></td>\n",
              "      <td>Brazil</td>\n",
              "      <td>2020-05-13</td>\n",
              "      <td>190137.0</td>\n",
              "      <td>13240.0</td>\n",
              "    </tr>\n",
              "    <tr>\n",
              "      <th>3563</th>\n",
              "      <td>3564</td>\n",
              "      <td></td>\n",
              "      <td>Brazil</td>\n",
              "      <td>2020-05-14</td>\n",
              "      <td>203165.0</td>\n",
              "      <td>13999.0</td>\n",
              "    </tr>\n",
              "    <tr>\n",
              "      <th>3564</th>\n",
              "      <td>3565</td>\n",
              "      <td></td>\n",
              "      <td>Brazil</td>\n",
              "      <td>2020-05-15</td>\n",
              "      <td>220291.0</td>\n",
              "      <td>14962.0</td>\n",
              "    </tr>\n",
              "  </tbody>\n",
              "</table>\n",
              "<p>115 rows × 6 columns</p>\n",
              "</div>"
            ],
            "text/plain": [
              "        Id Province_State  ... ConfirmedCases Fatalities\n",
              "3450  3451                 ...            0.0        0.0\n",
              "3451  3452                 ...            0.0        0.0\n",
              "3452  3453                 ...            0.0        0.0\n",
              "3453  3454                 ...            0.0        0.0\n",
              "3454  3455                 ...            0.0        0.0\n",
              "...    ...            ...  ...            ...        ...\n",
              "3560  3561                 ...       169594.0    11653.0\n",
              "3561  3562                 ...       178214.0    12461.0\n",
              "3562  3563                 ...       190137.0    13240.0\n",
              "3563  3564                 ...       203165.0    13999.0\n",
              "3564  3565                 ...       220291.0    14962.0\n",
              "\n",
              "[115 rows x 6 columns]"
            ]
          },
          "metadata": {},
          "execution_count": 166
        }
      ]
    },
    {
      "cell_type": "code",
      "metadata": {
        "id": "2ewbM62_ruMA"
      },
      "source": [
        "#---------------------------------Parte 7--------------------------------------\n",
        "#Analisando os casos confimados e casos fatais\n",
        "train_brazil[\"ConfirmedCases\"] = train_brazil[\"ConfirmedCases\"].astype(int)\n",
        "train_brazil[\"Fatalities\"] = train_brazil[\"Fatalities\"].astype(int)"
      ],
      "execution_count": 167,
      "outputs": []
    },
    {
      "cell_type": "code",
      "metadata": {
        "colab": {
          "base_uri": "https://localhost:8080/"
        },
        "id": "Of9mgEJSrvjm",
        "outputId": "dcb6a452-5ac5-4c90-8b77-427977b923cd"
      },
      "source": [
        "#---------------------------------Parte 8---------------------------------------\n",
        "#Aqui vemos o tamanho do treinamento e da validação \n",
        "train_brazil_size = int(len(train_brazil) * 0.75)\n",
        "val_brazil_size = len(train_brazil) - train_brazil_size\n",
        "print(\"Training size = {}\".format(train_brazil_size))\n",
        "print(\"Validation size = {}\".format(val_brazil_size))"
      ],
      "execution_count": 168,
      "outputs": [
        {
          "output_type": "stream",
          "name": "stdout",
          "text": [
            "Training size = 86\n",
            "Validation size = 29\n"
          ]
        }
      ]
    },
    {
      "cell_type": "code",
      "metadata": {
        "id": "K37HPRSDrh4B"
      },
      "source": [
        "#---------------------------------Parte 9---------------------------------------\n",
        "#Treinamento os casos confimados e casos fatais\n",
        "train_brazil_confirmed_cases = train_brazil[[\"ConfirmedCases\"]]\n",
        "train_brazil_fatal_cases = train_brazil[[\"Fatalities\"]]"
      ],
      "execution_count": 169,
      "outputs": []
    },
    {
      "cell_type": "code",
      "metadata": {
        "colab": {
          "base_uri": "https://localhost:8080/"
        },
        "id": "AR4tHvVB0D0s",
        "outputId": "77dd507d-a109-4ff9-ba0c-d418a27447c1"
      },
      "source": [
        "#PLotagem do casos confirmados e fatais em forma de matriz\n",
        "print(train_brazil_confirmed_cases, train_brazil_fatal_cases)"
      ],
      "execution_count": 170,
      "outputs": [
        {
          "output_type": "stream",
          "name": "stdout",
          "text": [
            "      ConfirmedCases\n",
            "3450               0\n",
            "3451               0\n",
            "3452               0\n",
            "3453               0\n",
            "3454               0\n",
            "...              ...\n",
            "3560          169594\n",
            "3561          178214\n",
            "3562          190137\n",
            "3563          203165\n",
            "3564          220291\n",
            "\n",
            "[115 rows x 1 columns]       Fatalities\n",
            "3450           0\n",
            "3451           0\n",
            "3452           0\n",
            "3453           0\n",
            "3454           0\n",
            "...          ...\n",
            "3560       11653\n",
            "3561       12461\n",
            "3562       13240\n",
            "3563       13999\n",
            "3564       14962\n",
            "\n",
            "[115 rows x 1 columns]\n"
          ]
        }
      ]
    },
    {
      "cell_type": "code",
      "metadata": {
        "colab": {
          "base_uri": "https://localhost:8080/",
          "height": 500
        },
        "id": "wWmVaIlczU7y",
        "outputId": "a850c99c-451b-4303-d36e-6b861c329158"
      },
      "source": [
        "#---------------------------------Parte 11--------------------------------------\n",
        "#Plotagem dos casos confirmados e casos fatais de Janeiro a Maio (2020)\n",
        "plt.figure(figsize = (8, 8))\n",
        "x = np.arange(1, 116, 1)\n",
        "y1 = train_brazil_confirmed_cases \n",
        "y2 = train_brazil_fatal_cases \n",
        "plt.plot(x, y1, color = \"m\", label = \"Casos Confirmados no Brasil de Janeiro a Maio (2020)\")\n",
        "plt.plot(x, y2, color = \"r\", label = \"Casos Fatais no Brasil de Janeiro a Maio (2020)\")\n",
        "plt.grid(True)\n",
        "plt.legend()"
      ],
      "execution_count": 171,
      "outputs": [
        {
          "output_type": "execute_result",
          "data": {
            "text/plain": [
              "<matplotlib.legend.Legend at 0x7fe0f4487110>"
            ]
          },
          "metadata": {},
          "execution_count": 171
        },
        {
          "output_type": "display_data",
          "data": {
            "image/png": "[encoded data removed]",
            "text/plain": [
              "<Figure size 576x576 with 1 Axes>"
            ]
          },
          "metadata": {
            "needs_background": "light"
          }
        }
      ]
    },
    {
      "cell_type": "code",
      "metadata": {
        "colab": {
          "base_uri": "https://localhost:8080/"
        },
        "id": "ZXhBl4d2ztda",
        "outputId": "ca0bd849-092d-4490-c574-26d5f1c5e569"
      },
      "source": [
        "#---------------------------------Parte 12--------------------------------------\n",
        "#O comando len () é uma função embutida que retorna o comprimento (número de itens) de um objeto.\n",
        "len(train_brazil_confirmed_cases)"
      ],
      "execution_count": 172,
      "outputs": [
        {
          "output_type": "execute_result",
          "data": {
            "text/plain": [
              "115"
            ]
          },
          "metadata": {},
          "execution_count": 172
        }
      ]
    },
    {
      "cell_type": "code",
      "metadata": {
        "colab": {
          "base_uri": "https://localhost:8080/",
          "height": 424
        },
        "id": "YwQMFuKnzvpb",
        "outputId": "a43890b5-3931-4e5d-f060-cc04f8e57e5b"
      },
      "source": [
        "#---------------------------------Parte 13--------------------------------------\n",
        "#Treinamento dos casos confirmados de COVID-19 no Brasil\n",
        "train_brazil_confirmed_cases"
      ],
      "execution_count": 173,
      "outputs": [
        {
          "output_type": "execute_result",
          "data": {
            "text/html": [
              "<div>\n",
              "<style scoped>\n",
              "    .dataframe tbody tr th:only-of-type {\n",
              "        vertical-align: middle;\n",
              "    }\n",
              "\n",
              "    .dataframe tbody tr th {\n",
              "        vertical-align: top;\n",
              "    }\n",
              "\n",
              "    .dataframe thead th {\n",
              "        text-align: right;\n",
              "    }\n",
              "</style>\n",
              "<table border=\"1\" class=\"dataframe\">\n",
              "  <thead>\n",
              "    <tr style=\"text-align: right;\">\n",
              "      <th></th>\n",
              "      <th>ConfirmedCases</th>\n",
              "    </tr>\n",
              "  </thead>\n",
              "  <tbody>\n",
              "    <tr>\n",
              "      <th>3450</th>\n",
              "      <td>0</td>\n",
              "    </tr>\n",
              "    <tr>\n",
              "      <th>3451</th>\n",
              "      <td>0</td>\n",
              "    </tr>\n",
              "    <tr>\n",
              "      <th>3452</th>\n",
              "      <td>0</td>\n",
              "    </tr>\n",
              "    <tr>\n",
              "      <th>3453</th>\n",
              "      <td>0</td>\n",
              "    </tr>\n",
              "    <tr>\n",
              "      <th>3454</th>\n",
              "      <td>0</td>\n",
              "    </tr>\n",
              "    <tr>\n",
              "      <th>...</th>\n",
              "      <td>...</td>\n",
              "    </tr>\n",
              "    <tr>\n",
              "      <th>3560</th>\n",
              "      <td>169594</td>\n",
              "    </tr>\n",
              "    <tr>\n",
              "      <th>3561</th>\n",
              "      <td>178214</td>\n",
              "    </tr>\n",
              "    <tr>\n",
              "      <th>3562</th>\n",
              "      <td>190137</td>\n",
              "    </tr>\n",
              "    <tr>\n",
              "      <th>3563</th>\n",
              "      <td>203165</td>\n",
              "    </tr>\n",
              "    <tr>\n",
              "      <th>3564</th>\n",
              "      <td>220291</td>\n",
              "    </tr>\n",
              "  </tbody>\n",
              "</table>\n",
              "<p>115 rows × 1 columns</p>\n",
              "</div>"
            ],
            "text/plain": [
              "      ConfirmedCases\n",
              "3450               0\n",
              "3451               0\n",
              "3452               0\n",
              "3453               0\n",
              "3454               0\n",
              "...              ...\n",
              "3560          169594\n",
              "3561          178214\n",
              "3562          190137\n",
              "3563          203165\n",
              "3564          220291\n",
              "\n",
              "[115 rows x 1 columns]"
            ]
          },
          "metadata": {},
          "execution_count": 173
        }
      ]
    },
    {
      "cell_type": "code",
      "metadata": {
        "id": "xdVndkPAsjjC"
      },
      "source": [
        "#---------------------------------Parte 14--------------------------------------\n",
        "#Aqui usa-se o iloc para indexação / seleção por posição baseada em localização de inteiros.\n",
        "train_brazil_confirmed_cases_data = train_brazil_confirmed_cases.iloc[0:train_brazil_size]\n",
        "val_brazil_confirmed_cases_data = train_brazil_confirmed_cases.iloc[train_brazil_size : len(train_brazil_confirmed_cases)]"
      ],
      "execution_count": 174,
      "outputs": []
    },
    {
      "cell_type": "code",
      "metadata": {
        "colab": {
          "base_uri": "https://localhost:8080/"
        },
        "id": "j7lQ98xIsup5",
        "outputId": "f7cbc471-f24d-45f1-bcf2-e0bf56e9d458"
      },
      "source": [
        "#---------------------------------Parte 15--------------------------------------\n",
        "#Plotagem da fixação de inteiros; treinamento e validação de casos\n",
        "print(len(train_brazil_confirmed_cases_data))\n",
        "print(len(val_brazil_confirmed_cases_data))"
      ],
      "execution_count": 175,
      "outputs": [
        {
          "output_type": "stream",
          "name": "stdout",
          "text": [
            "86\n",
            "29\n"
          ]
        }
      ]
    },
    {
      "cell_type": "code",
      "metadata": {
        "id": "Drt7kV-mtEzL"
      },
      "source": [
        "#---------------------------------Parte 16--------------------------------------\n",
        "#O MinMaxScaler faz a estimação de escala e traduz cada recurso individualmente, \n",
        "#de modo que esteja no intervalo especificado no conjunto de treinamento, por exemplo. entre zero e um.\n",
        "scaler = MinMaxScaler(feature_range = (0,1))\n",
        "def createDataset(train) : \n",
        "    train_scaled = scaler.fit_transform(train)\n",
        "    x_train = [] \n",
        "    y_train = []\n",
        "    time_step = 2\n",
        "    for i in range(time_step, train_scaled.shape[0]):\n",
        "        x_train.append(train_scaled[i-time_step : i , 0])\n",
        "        y_train.append(train_scaled[i, 0])\n",
        "    \n",
        "    x_train, y_train = np.array(x_train), np.array(y_train)\n",
        "    x_train = np.reshape(x_train, (x_train.shape[0], x_train.shape[1], 1 ))\n",
        "    y_train = np.reshape(y_train, (y_train.shape[0], 1 ))\n",
        "    return x_train, y_train     "
      ],
      "execution_count": 176,
      "outputs": []
    },
    {
      "cell_type": "code",
      "metadata": {
        "id": "LwR6PESes1tS"
      },
      "source": [
        "#---------------------------------Parte 17--------------------------------------\n",
        "#Aqui será definido a criação do dataset (train)\n",
        "def createDataset(train) : \n",
        "    train_scaled = scaler.fit_transform(train)\n",
        "    x_train = [] \n",
        "    y_train = []\n",
        "    time_step = 2\n",
        "    for i in range(time_step, train_scaled.shape[0]):\n",
        "        x_train.append(train_scaled[i-time_step : i , 0])\n",
        "        y_train.append(train_scaled[i, 0])\n",
        "    \n",
        "    x_train, y_train = np.array(x_train), np.array(y_train)\n",
        "    x_train = np.reshape(x_train, (x_train.shape[0], x_train.shape[1], 1 ))\n",
        "    y_train = np.reshape(y_train, (y_train.shape[0], 1 ))\n",
        "    return x_train, y_train   "
      ],
      "execution_count": 177,
      "outputs": []
    },
    {
      "cell_type": "code",
      "metadata": {
        "id": "rvrDrCJRs4sZ"
      },
      "source": [
        "#---------------------------------Parte 18--------------------------------------\n",
        "#Conjunto de dados para treinar o respectivo modelo de aprendizado\n",
        "x_train, y_train = createDataset(train_brazil_confirmed_cases_data)\n",
        "x_val, y_val = createDataset(val_brazil_confirmed_cases_data)"
      ],
      "execution_count": 178,
      "outputs": []
    },
    {
      "cell_type": "code",
      "metadata": {
        "colab": {
          "base_uri": "https://localhost:8080/"
        },
        "id": "dtw5ySo1thPZ",
        "outputId": "a9ccca57-9273-46cc-e9d1-2b4a0fa33db2"
      },
      "source": [
        "#---------------------------------Parte 19--------------------------------------\n",
        "#Plotagem do modelo de aprendizado\n",
        "print(x_train.shape, y_train.shape)\n",
        "print(x_val.shape, y_val.shape)"
      ],
      "execution_count": 179,
      "outputs": [
        {
          "output_type": "stream",
          "name": "stdout",
          "text": [
            "(84, 2, 1) (84, 1)\n",
            "(27, 2, 1) (27, 1)\n"
          ]
        }
      ]
    },
    {
      "cell_type": "code",
      "metadata": {
        "id": "uqWGqOKnrTZI"
      },
      "source": [
        "#---------------------------------Parte 20--------------------------------------\n",
        "#Aqui é criado e configurado a rede neural\n",
        "#LSTM cria camada longa de memória de curto prazo\n",
        "#A camada Dropout define aleatoriamente as unidades de entrada para 0 \n",
        "#com uma frequência de taxa em cada etapa durante o tempo de treinamento\n",
        "model = tf.keras.Sequential()\n",
        "model.add(tf.keras.layers.LSTM(units = 50, return_sequences = True, input_shape = (x_train.shape[1], 1)))\n",
        "model.add(tf.keras.layers.Dropout(0.2))\n",
        "model.add(tf.keras.layers.LSTM(units = 50, return_sequences = True))\n",
        "model.add(tf.keras.layers.Dropout(0.2))\n",
        "model.add(tf.keras.layers.LSTM(units = 50, return_sequences = True))\n",
        "model.add(tf.keras.layers.Dropout(0.2))\n",
        "model.add(tf.keras.layers.LSTM(units = 50, return_sequences = False))\n",
        "model.add(tf.keras.layers.Dropout(0.2))\n",
        "model.add(tf.keras.layers.Dense(units = 1))"
      ],
      "execution_count": 180,
      "outputs": []
    },
    {
      "cell_type": "code",
      "metadata": {
        "id": "HnqtBKzFtkVo"
      },
      "source": [
        "#Compilação do modelo de treinamento\n",
        "model.compile(tf.keras.optimizers.Adam(lr = 0.001), loss = \"mean_squared_error\")"
      ],
      "execution_count": 181,
      "outputs": []
    },
    {
      "cell_type": "code",
      "metadata": {
        "colab": {
          "base_uri": "https://localhost:8080/"
        },
        "id": "20cJDKv5tmOO",
        "outputId": "7dfc9660-be7c-4bc8-9d5b-434f0ad580fa"
      },
      "source": [
        "#Sumário com o modelo de treinamento\n",
        "model.summary()"
      ],
      "execution_count": 182,
      "outputs": [
        {
          "output_type": "stream",
          "name": "stdout",
          "text": [
            "Model: \"sequential_4\"\n",
            "_________________________________________________________________\n",
            " Layer (type)                Output Shape              Param #   \n",
            "=================================================================\n",
            " lstm_16 (LSTM)              (None, 2, 50)             10400     \n",
            "                                                                 \n",
            " dropout_16 (Dropout)        (None, 2, 50)             0         \n",
            "                                                                 \n",
            " lstm_17 (LSTM)              (None, 2, 50)             20200     \n",
            "                                                                 \n",
            " dropout_17 (Dropout)        (None, 2, 50)             0         \n",
            "                                                                 \n",
            " lstm_18 (LSTM)              (None, 2, 50)             20200     \n",
            "                                                                 \n",
            " dropout_18 (Dropout)        (None, 2, 50)             0         \n",
            "                                                                 \n",
            " lstm_19 (LSTM)              (None, 50)                20200     \n",
            "                                                                 \n",
            " dropout_19 (Dropout)        (None, 50)                0         \n",
            "                                                                 \n",
            " dense_4 (Dense)             (None, 1)                 51        \n",
            "                                                                 \n",
            "=================================================================\n",
            "Total params: 71,051\n",
            "Trainable params: 71,051\n",
            "Non-trainable params: 0\n",
            "_________________________________________________________________\n"
          ]
        }
      ]
    },
    {
      "cell_type": "code",
      "metadata": {
        "id": "dNshwY0ItvD5"
      },
      "source": [
        "#---------------------------------Parte 21--------------------------------------\n",
        "#Um epoch é uma iteração sobre todos os dados x e y fornecidos.\n",
        "#Um batch_size é o tamanho do lote é um termo usado no aprendizado de máquina, \n",
        "#e se refere ao número de exemplos de treinamento utilizados em uma iteração\n",
        "#sobre todos os dados x e y fornecidos.\n",
        "EPOCHS = 200\n",
        "BATCH_SIZE = 1"
      ],
      "execution_count": 183,
      "outputs": []
    },
    {
      "cell_type": "code",
      "metadata": {
        "colab": {
          "base_uri": "https://localhost:8080/"
        },
        "id": "5_ZDolDutwb6",
        "outputId": "6111004b-1c0d-428b-a174-e0b9543cf3c1"
      },
      "source": [
        "#---------------------------------Parte 22--------------------------------------\n",
        "#É possível usar as informações da variável “ history ” para\n",
        "#verificar a evolução da função de loss e da métrica\n",
        "with tf.device(\"/device:GPU:0\"):\n",
        "  history = model.fit(x_train, y_train,epochs = EPOCHS, verbose = 1,\n",
        "                     batch_size = BATCH_SIZE, validation_data = (x_val, y_val))"
      ],
      "execution_count": 184,
      "outputs": [
        {
          "output_type": "stream",
          "name": "stdout",
          "text": [
            "Epoch 1/200\n",
            "84/84 [==============================] - 8s 27ms/step - loss: 0.0588 - val_loss: 0.1153\n",
            "Epoch 2/200\n",
            "84/84 [==============================] - 1s 6ms/step - loss: 0.0278 - val_loss: 0.0296\n",
            "Epoch 3/200\n",
            "84/84 [==============================] - 1s 8ms/step - loss: 0.0047 - val_loss: 0.0043\n",
            "Epoch 4/200\n",
            "84/84 [==============================] - 1s 8ms/step - loss: 0.0102 - val_loss: 0.0260\n",
            "Epoch 5/200\n",
            "84/84 [==============================] - 1s 9ms/step - loss: 0.0049 - val_loss: 0.0135\n",
            "Epoch 6/200\n",
            "84/84 [==============================] - 1s 8ms/step - loss: 0.0047 - val_loss: 0.0041\n",
            "Epoch 7/200\n",
            "84/84 [==============================] - 1s 8ms/step - loss: 0.0076 - val_loss: 0.0042\n",
            "Epoch 8/200\n",
            "84/84 [==============================] - 1s 8ms/step - loss: 0.0025 - val_loss: 0.0038\n",
            "Epoch 9/200\n",
            "84/84 [==============================] - 1s 8ms/step - loss: 7.8860e-04 - val_loss: 0.0011\n",
            "Epoch 10/200\n",
            "84/84 [==============================] - 1s 8ms/step - loss: 0.0027 - val_loss: 4.2473e-04\n",
            "Epoch 11/200\n",
            "84/84 [==============================] - 1s 8ms/step - loss: 0.0063 - val_loss: 0.0101\n",
            "Epoch 12/200\n",
            "84/84 [==============================] - 1s 8ms/step - loss: 0.0027 - val_loss: 0.0047\n",
            "Epoch 13/200\n",
            "84/84 [==============================] - 1s 7ms/step - loss: 0.0017 - val_loss: 0.0015\n",
            "Epoch 14/200\n",
            "84/84 [==============================] - 1s 7ms/step - loss: 0.0018 - val_loss: 5.3858e-04\n",
            "Epoch 15/200\n",
            "84/84 [==============================] - 1s 8ms/step - loss: 0.0022 - val_loss: 0.0018\n",
            "Epoch 16/200\n",
            "84/84 [==============================] - 1s 8ms/step - loss: 0.0043 - val_loss: 0.0021\n",
            "Epoch 17/200\n",
            "84/84 [==============================] - 1s 7ms/step - loss: 0.0014 - val_loss: 0.0023\n",
            "Epoch 18/200\n",
            "84/84 [==============================] - 1s 7ms/step - loss: 0.0017 - val_loss: 6.4992e-04\n",
            "Epoch 19/200\n",
            "84/84 [==============================] - 1s 8ms/step - loss: 0.0042 - val_loss: 0.0023\n",
            "Epoch 20/200\n",
            "84/84 [==============================] - 1s 7ms/step - loss: 0.0029 - val_loss: 0.0039\n",
            "Epoch 21/200\n",
            "84/84 [==============================] - 1s 8ms/step - loss: 0.0093 - val_loss: 0.0045\n",
            "Epoch 22/200\n",
            "84/84 [==============================] - 1s 9ms/step - loss: 0.0016 - val_loss: 7.2866e-04\n",
            "Epoch 23/200\n",
            "84/84 [==============================] - 1s 8ms/step - loss: 0.0021 - val_loss: 4.4307e-04\n",
            "Epoch 24/200\n",
            "84/84 [==============================] - 1s 8ms/step - loss: 0.0037 - val_loss: 0.0011\n",
            "Epoch 25/200\n",
            "84/84 [==============================] - 1s 8ms/step - loss: 0.0021 - val_loss: 0.0025\n",
            "Epoch 26/200\n",
            "84/84 [==============================] - 1s 8ms/step - loss: 9.1528e-04 - val_loss: 5.1530e-04\n",
            "Epoch 27/200\n",
            "84/84 [==============================] - 1s 7ms/step - loss: 0.0021 - val_loss: 0.0025\n",
            "Epoch 28/200\n",
            "84/84 [==============================] - 1s 6ms/step - loss: 0.0044 - val_loss: 6.3985e-04\n",
            "Epoch 29/200\n",
            "84/84 [==============================] - 1s 8ms/step - loss: 0.0015 - val_loss: 0.0011\n",
            "Epoch 30/200\n",
            "84/84 [==============================] - 1s 8ms/step - loss: 0.0017 - val_loss: 0.0030\n",
            "Epoch 31/200\n",
            "84/84 [==============================] - 1s 8ms/step - loss: 0.0020 - val_loss: 0.0013\n",
            "Epoch 32/200\n",
            "84/84 [==============================] - 1s 8ms/step - loss: 0.0012 - val_loss: 0.0011\n",
            "Epoch 33/200\n",
            "84/84 [==============================] - 1s 7ms/step - loss: 0.0015 - val_loss: 0.0010\n",
            "Epoch 34/200\n",
            "84/84 [==============================] - 1s 8ms/step - loss: 0.0014 - val_loss: 0.0037\n",
            "Epoch 35/200\n",
            "84/84 [==============================] - 1s 8ms/step - loss: 0.0021 - val_loss: 7.3458e-04\n",
            "Epoch 36/200\n",
            "84/84 [==============================] - 1s 8ms/step - loss: 9.3326e-04 - val_loss: 5.3360e-04\n",
            "Epoch 37/200\n",
            "84/84 [==============================] - 1s 7ms/step - loss: 0.0011 - val_loss: 7.2559e-04\n",
            "Epoch 38/200\n",
            "84/84 [==============================] - 1s 6ms/step - loss: 0.0021 - val_loss: 0.0043\n",
            "Epoch 39/200\n",
            "84/84 [==============================] - 1s 8ms/step - loss: 0.0022 - val_loss: 0.0018\n",
            "Epoch 40/200\n",
            "84/84 [==============================] - 1s 8ms/step - loss: 0.0023 - val_loss: 0.0108\n",
            "Epoch 41/200\n",
            "84/84 [==============================] - 1s 8ms/step - loss: 0.0038 - val_loss: 0.0017\n",
            "Epoch 42/200\n",
            "84/84 [==============================] - 1s 8ms/step - loss: 0.0014 - val_loss: 0.0025\n",
            "Epoch 43/200\n",
            "84/84 [==============================] - 1s 9ms/step - loss: 0.0026 - val_loss: 0.0012\n",
            "Epoch 44/200\n",
            "84/84 [==============================] - 1s 9ms/step - loss: 0.0020 - val_loss: 0.0010\n",
            "Epoch 45/200\n",
            "84/84 [==============================] - 1s 8ms/step - loss: 0.0016 - val_loss: 9.5844e-04\n",
            "Epoch 46/200\n",
            "84/84 [==============================] - 1s 9ms/step - loss: 0.0010 - val_loss: 0.0016\n",
            "Epoch 47/200\n",
            "84/84 [==============================] - 1s 8ms/step - loss: 0.0024 - val_loss: 0.0018\n",
            "Epoch 48/200\n",
            "84/84 [==============================] - 1s 8ms/step - loss: 0.0050 - val_loss: 0.0020\n",
            "Epoch 49/200\n",
            "84/84 [==============================] - 1s 8ms/step - loss: 0.0017 - val_loss: 9.6991e-04\n",
            "Epoch 50/200\n",
            "84/84 [==============================] - 1s 9ms/step - loss: 0.0011 - val_loss: 0.0065\n",
            "Epoch 51/200\n",
            "84/84 [==============================] - 1s 8ms/step - loss: 0.0043 - val_loss: 0.0055\n",
            "Epoch 52/200\n",
            "84/84 [==============================] - 1s 8ms/step - loss: 0.0044 - val_loss: 0.0025\n",
            "Epoch 53/200\n",
            "84/84 [==============================] - 1s 8ms/step - loss: 0.0013 - val_loss: 0.0058\n",
            "Epoch 54/200\n",
            "84/84 [==============================] - 1s 7ms/step - loss: 0.0030 - val_loss: 6.6514e-04\n",
            "Epoch 55/200\n",
            "84/84 [==============================] - 1s 8ms/step - loss: 0.0014 - val_loss: 0.0011\n",
            "Epoch 56/200\n",
            "84/84 [==============================] - 1s 8ms/step - loss: 0.0012 - val_loss: 5.8271e-04\n",
            "Epoch 57/200\n",
            "84/84 [==============================] - 1s 7ms/step - loss: 0.0021 - val_loss: 0.0017\n",
            "Epoch 58/200\n",
            "84/84 [==============================] - 1s 8ms/step - loss: 0.0011 - val_loss: 8.5957e-04\n",
            "Epoch 59/200\n",
            "84/84 [==============================] - 1s 9ms/step - loss: 0.0026 - val_loss: 0.0028\n",
            "Epoch 60/200\n",
            "84/84 [==============================] - 1s 9ms/step - loss: 0.0020 - val_loss: 0.0032\n",
            "Epoch 61/200\n",
            "84/84 [==============================] - 1s 7ms/step - loss: 0.0013 - val_loss: 0.0047\n",
            "Epoch 62/200\n",
            "84/84 [==============================] - 1s 7ms/step - loss: 0.0023 - val_loss: 0.0028\n",
            "Epoch 63/200\n",
            "84/84 [==============================] - 1s 9ms/step - loss: 0.0038 - val_loss: 0.0012\n",
            "Epoch 64/200\n",
            "84/84 [==============================] - 1s 7ms/step - loss: 0.0014 - val_loss: 0.0019\n",
            "Epoch 65/200\n",
            "84/84 [==============================] - 1s 8ms/step - loss: 0.0020 - val_loss: 6.1742e-04\n",
            "Epoch 66/200\n",
            "84/84 [==============================] - 1s 9ms/step - loss: 0.0010 - val_loss: 0.0017\n",
            "Epoch 67/200\n",
            "84/84 [==============================] - 1s 8ms/step - loss: 0.0018 - val_loss: 0.0015\n",
            "Epoch 68/200\n",
            "84/84 [==============================] - 1s 8ms/step - loss: 0.0018 - val_loss: 0.0024\n",
            "Epoch 69/200\n",
            "84/84 [==============================] - 1s 7ms/step - loss: 0.0026 - val_loss: 0.0044\n",
            "Epoch 70/200\n",
            "84/84 [==============================] - 1s 8ms/step - loss: 0.0025 - val_loss: 8.3463e-04\n",
            "Epoch 71/200\n",
            "84/84 [==============================] - 1s 8ms/step - loss: 0.0036 - val_loss: 0.0173\n",
            "Epoch 72/200\n",
            "84/84 [==============================] - 1s 8ms/step - loss: 0.0039 - val_loss: 0.0044\n",
            "Epoch 73/200\n",
            "84/84 [==============================] - 1s 7ms/step - loss: 0.0016 - val_loss: 0.0019\n",
            "Epoch 74/200\n",
            "84/84 [==============================] - 1s 8ms/step - loss: 0.0014 - val_loss: 8.3138e-04\n",
            "Epoch 75/200\n",
            "84/84 [==============================] - 1s 8ms/step - loss: 0.0013 - val_loss: 0.0013\n",
            "Epoch 76/200\n",
            "84/84 [==============================] - 1s 8ms/step - loss: 0.0024 - val_loss: 0.0063\n",
            "Epoch 77/200\n",
            "84/84 [==============================] - 1s 8ms/step - loss: 0.0024 - val_loss: 0.0018\n",
            "Epoch 78/200\n",
            "84/84 [==============================] - 1s 7ms/step - loss: 0.0013 - val_loss: 5.8986e-04\n",
            "Epoch 79/200\n",
            "84/84 [==============================] - 1s 7ms/step - loss: 0.0022 - val_loss: 6.9095e-04\n",
            "Epoch 80/200\n",
            "84/84 [==============================] - 1s 7ms/step - loss: 0.0011 - val_loss: 8.1669e-04\n",
            "Epoch 81/200\n",
            "84/84 [==============================] - 1s 7ms/step - loss: 0.0020 - val_loss: 6.7039e-04\n",
            "Epoch 82/200\n",
            "84/84 [==============================] - 1s 7ms/step - loss: 0.0019 - val_loss: 0.0020\n",
            "Epoch 83/200\n",
            "84/84 [==============================] - 1s 8ms/step - loss: 0.0016 - val_loss: 5.9350e-04\n",
            "Epoch 84/200\n",
            "84/84 [==============================] - 1s 8ms/step - loss: 0.0018 - val_loss: 0.0014\n",
            "Epoch 85/200\n",
            "84/84 [==============================] - 1s 8ms/step - loss: 0.0020 - val_loss: 7.2935e-04\n",
            "Epoch 86/200\n",
            "84/84 [==============================] - 1s 8ms/step - loss: 0.0011 - val_loss: 9.2832e-04\n",
            "Epoch 87/200\n",
            "84/84 [==============================] - 1s 8ms/step - loss: 0.0011 - val_loss: 9.7283e-04\n",
            "Epoch 88/200\n",
            "84/84 [==============================] - 1s 8ms/step - loss: 0.0019 - val_loss: 8.6841e-04\n",
            "Epoch 89/200\n",
            "84/84 [==============================] - 1s 8ms/step - loss: 0.0027 - val_loss: 0.0016\n",
            "Epoch 90/200\n",
            "84/84 [==============================] - 1s 8ms/step - loss: 0.0015 - val_loss: 0.0041\n",
            "Epoch 91/200\n",
            "84/84 [==============================] - 1s 7ms/step - loss: 0.0027 - val_loss: 0.0025\n",
            "Epoch 92/200\n",
            "84/84 [==============================] - 1s 8ms/step - loss: 0.0012 - val_loss: 9.8334e-04\n",
            "Epoch 93/200\n",
            "84/84 [==============================] - 1s 8ms/step - loss: 0.0023 - val_loss: 0.0028\n",
            "Epoch 94/200\n",
            "84/84 [==============================] - 1s 7ms/step - loss: 9.7265e-04 - val_loss: 0.0017\n",
            "Epoch 95/200\n",
            "84/84 [==============================] - 1s 7ms/step - loss: 6.3612e-04 - val_loss: 0.0035\n",
            "Epoch 96/200\n",
            "84/84 [==============================] - 1s 8ms/step - loss: 0.0015 - val_loss: 0.0131\n",
            "Epoch 97/200\n",
            "84/84 [==============================] - 1s 7ms/step - loss: 0.0023 - val_loss: 0.0028\n",
            "Epoch 98/200\n",
            "84/84 [==============================] - 1s 6ms/step - loss: 9.2790e-04 - val_loss: 0.0011\n",
            "Epoch 99/200\n",
            "84/84 [==============================] - 1s 7ms/step - loss: 0.0013 - val_loss: 0.0015\n",
            "Epoch 100/200\n",
            "84/84 [==============================] - 1s 7ms/step - loss: 0.0018 - val_loss: 0.0013\n",
            "Epoch 101/200\n",
            "84/84 [==============================] - 1s 7ms/step - loss: 0.0022 - val_loss: 0.0023\n",
            "Epoch 102/200\n",
            "84/84 [==============================] - 1s 8ms/step - loss: 0.0012 - val_loss: 8.3320e-04\n",
            "Epoch 103/200\n",
            "84/84 [==============================] - 1s 7ms/step - loss: 0.0037 - val_loss: 0.0036\n",
            "Epoch 104/200\n",
            "84/84 [==============================] - 1s 7ms/step - loss: 0.0023 - val_loss: 0.0031\n",
            "Epoch 105/200\n",
            "84/84 [==============================] - 1s 8ms/step - loss: 0.0016 - val_loss: 0.0019\n",
            "Epoch 106/200\n",
            "84/84 [==============================] - 1s 8ms/step - loss: 9.0334e-04 - val_loss: 0.0035\n",
            "Epoch 107/200\n",
            "84/84 [==============================] - 1s 8ms/step - loss: 0.0021 - val_loss: 0.0032\n",
            "Epoch 108/200\n",
            "84/84 [==============================] - 1s 8ms/step - loss: 0.0026 - val_loss: 0.0014\n",
            "Epoch 109/200\n",
            "84/84 [==============================] - 1s 8ms/step - loss: 5.2331e-04 - val_loss: 0.0029\n",
            "Epoch 110/200\n",
            "84/84 [==============================] - 1s 8ms/step - loss: 0.0023 - val_loss: 0.0018\n",
            "Epoch 111/200\n",
            "84/84 [==============================] - 1s 8ms/step - loss: 0.0013 - val_loss: 0.0011\n",
            "Epoch 112/200\n",
            "84/84 [==============================] - 1s 6ms/step - loss: 0.0012 - val_loss: 0.0028\n",
            "Epoch 113/200\n",
            "84/84 [==============================] - 1s 7ms/step - loss: 0.0027 - val_loss: 0.0012\n",
            "Epoch 114/200\n",
            "84/84 [==============================] - 1s 6ms/step - loss: 0.0019 - val_loss: 9.9981e-04\n",
            "Epoch 115/200\n",
            "84/84 [==============================] - 1s 7ms/step - loss: 0.0015 - val_loss: 0.0030\n",
            "Epoch 116/200\n",
            "84/84 [==============================] - 1s 7ms/step - loss: 0.0020 - val_loss: 0.0030\n",
            "Epoch 117/200\n",
            "84/84 [==============================] - 1s 7ms/step - loss: 0.0019 - val_loss: 0.0015\n",
            "Epoch 118/200\n",
            "84/84 [==============================] - 1s 8ms/step - loss: 0.0017 - val_loss: 0.0012\n",
            "Epoch 119/200\n",
            "84/84 [==============================] - 1s 7ms/step - loss: 8.9647e-04 - val_loss: 0.0011\n",
            "Epoch 120/200\n",
            "84/84 [==============================] - 1s 8ms/step - loss: 0.0013 - val_loss: 8.3565e-04\n",
            "Epoch 121/200\n",
            "84/84 [==============================] - 1s 8ms/step - loss: 0.0012 - val_loss: 0.0013\n",
            "Epoch 122/200\n",
            "84/84 [==============================] - 1s 7ms/step - loss: 8.7564e-04 - val_loss: 5.0658e-04\n",
            "Epoch 123/200\n",
            "84/84 [==============================] - 1s 8ms/step - loss: 0.0020 - val_loss: 0.0030\n",
            "Epoch 124/200\n",
            "84/84 [==============================] - 1s 7ms/step - loss: 0.0016 - val_loss: 0.0011\n",
            "Epoch 125/200\n",
            "84/84 [==============================] - 1s 8ms/step - loss: 0.0014 - val_loss: 0.0017\n",
            "Epoch 126/200\n",
            "84/84 [==============================] - 1s 8ms/step - loss: 0.0012 - val_loss: 0.0013\n",
            "Epoch 127/200\n",
            "84/84 [==============================] - 1s 8ms/step - loss: 0.0013 - val_loss: 9.1959e-04\n",
            "Epoch 128/200\n",
            "84/84 [==============================] - 1s 7ms/step - loss: 0.0024 - val_loss: 0.0039\n",
            "Epoch 129/200\n",
            "84/84 [==============================] - 1s 8ms/step - loss: 0.0021 - val_loss: 0.0026\n",
            "Epoch 130/200\n",
            "84/84 [==============================] - 1s 8ms/step - loss: 0.0012 - val_loss: 0.0015\n",
            "Epoch 131/200\n",
            "84/84 [==============================] - 1s 7ms/step - loss: 0.0014 - val_loss: 0.0023\n",
            "Epoch 132/200\n",
            "84/84 [==============================] - 1s 6ms/step - loss: 0.0025 - val_loss: 0.0013\n",
            "Epoch 133/200\n",
            "84/84 [==============================] - 1s 8ms/step - loss: 0.0016 - val_loss: 0.0017\n",
            "Epoch 134/200\n",
            "84/84 [==============================] - 1s 8ms/step - loss: 0.0017 - val_loss: 0.0036\n",
            "Epoch 135/200\n",
            "84/84 [==============================] - 1s 7ms/step - loss: 0.0023 - val_loss: 0.0012\n",
            "Epoch 136/200\n",
            "84/84 [==============================] - 1s 7ms/step - loss: 0.0017 - val_loss: 0.0032\n",
            "Epoch 137/200\n",
            "84/84 [==============================] - 1s 7ms/step - loss: 0.0021 - val_loss: 0.0018\n",
            "Epoch 138/200\n",
            "84/84 [==============================] - 1s 7ms/step - loss: 8.7694e-04 - val_loss: 0.0018\n",
            "Epoch 139/200\n",
            "84/84 [==============================] - 1s 7ms/step - loss: 0.0012 - val_loss: 0.0053\n",
            "Epoch 140/200\n",
            "84/84 [==============================] - 1s 8ms/step - loss: 0.0014 - val_loss: 0.0018\n",
            "Epoch 141/200\n",
            "84/84 [==============================] - 1s 7ms/step - loss: 0.0011 - val_loss: 0.0034\n",
            "Epoch 142/200\n",
            "84/84 [==============================] - 1s 7ms/step - loss: 0.0043 - val_loss: 0.0013\n",
            "Epoch 143/200\n",
            "84/84 [==============================] - 1s 7ms/step - loss: 0.0024 - val_loss: 0.0019\n",
            "Epoch 144/200\n",
            "84/84 [==============================] - 1s 7ms/step - loss: 0.0015 - val_loss: 0.0028\n",
            "Epoch 145/200\n",
            "84/84 [==============================] - 1s 7ms/step - loss: 0.0020 - val_loss: 0.0031\n",
            "Epoch 146/200\n",
            "84/84 [==============================] - 1s 8ms/step - loss: 0.0016 - val_loss: 0.0011\n",
            "Epoch 147/200\n",
            "84/84 [==============================] - 1s 8ms/step - loss: 0.0033 - val_loss: 0.0021\n",
            "Epoch 148/200\n",
            "84/84 [==============================] - 1s 7ms/step - loss: 0.0035 - val_loss: 0.0022\n",
            "Epoch 149/200\n",
            "84/84 [==============================] - 1s 7ms/step - loss: 0.0013 - val_loss: 0.0010\n",
            "Epoch 150/200\n",
            "84/84 [==============================] - 1s 8ms/step - loss: 0.0019 - val_loss: 0.0021\n",
            "Epoch 151/200\n",
            "84/84 [==============================] - 1s 8ms/step - loss: 0.0019 - val_loss: 0.0012\n",
            "Epoch 152/200\n",
            "84/84 [==============================] - 1s 7ms/step - loss: 0.0016 - val_loss: 0.0010\n",
            "Epoch 153/200\n",
            "84/84 [==============================] - 1s 7ms/step - loss: 0.0023 - val_loss: 0.0021\n",
            "Epoch 154/200\n",
            "84/84 [==============================] - 1s 7ms/step - loss: 0.0014 - val_loss: 0.0026\n",
            "Epoch 155/200\n",
            "84/84 [==============================] - 1s 7ms/step - loss: 0.0019 - val_loss: 0.0025\n",
            "Epoch 156/200\n",
            "84/84 [==============================] - 1s 7ms/step - loss: 0.0018 - val_loss: 0.0026\n",
            "Epoch 157/200\n",
            "84/84 [==============================] - 1s 8ms/step - loss: 0.0012 - val_loss: 0.0015\n",
            "Epoch 158/200\n",
            "84/84 [==============================] - 1s 8ms/step - loss: 0.0015 - val_loss: 0.0024\n",
            "Epoch 159/200\n",
            "84/84 [==============================] - 1s 8ms/step - loss: 0.0027 - val_loss: 0.0014\n",
            "Epoch 160/200\n",
            "84/84 [==============================] - 1s 8ms/step - loss: 0.0022 - val_loss: 0.0010\n",
            "Epoch 161/200\n",
            "84/84 [==============================] - 1s 8ms/step - loss: 8.6096e-04 - val_loss: 0.0015\n",
            "Epoch 162/200\n",
            "84/84 [==============================] - 1s 8ms/step - loss: 0.0012 - val_loss: 9.4970e-04\n",
            "Epoch 163/200\n",
            "84/84 [==============================] - 1s 8ms/step - loss: 0.0014 - val_loss: 9.1911e-04\n",
            "Epoch 164/200\n",
            "84/84 [==============================] - 1s 7ms/step - loss: 0.0014 - val_loss: 0.0027\n",
            "Epoch 165/200\n",
            "84/84 [==============================] - 1s 8ms/step - loss: 0.0034 - val_loss: 0.0030\n",
            "Epoch 166/200\n",
            "84/84 [==============================] - 1s 8ms/step - loss: 0.0012 - val_loss: 0.0011\n",
            "Epoch 167/200\n",
            "84/84 [==============================] - 1s 7ms/step - loss: 9.2521e-04 - val_loss: 0.0024\n",
            "Epoch 168/200\n",
            "84/84 [==============================] - 1s 8ms/step - loss: 0.0034 - val_loss: 0.0076\n",
            "Epoch 169/200\n",
            "84/84 [==============================] - 1s 8ms/step - loss: 0.0016 - val_loss: 0.0033\n",
            "Epoch 170/200\n",
            "84/84 [==============================] - 1s 7ms/step - loss: 0.0013 - val_loss: 0.0055\n",
            "Epoch 171/200\n",
            "84/84 [==============================] - 1s 8ms/step - loss: 0.0014 - val_loss: 0.0029\n",
            "Epoch 172/200\n",
            "84/84 [==============================] - 1s 8ms/step - loss: 0.0011 - val_loss: 0.0012\n",
            "Epoch 173/200\n",
            "84/84 [==============================] - 1s 7ms/step - loss: 0.0022 - val_loss: 0.0017\n",
            "Epoch 174/200\n",
            "84/84 [==============================] - 1s 8ms/step - loss: 0.0014 - val_loss: 0.0010\n",
            "Epoch 175/200\n",
            "84/84 [==============================] - 1s 8ms/step - loss: 0.0012 - val_loss: 0.0035\n",
            "Epoch 176/200\n",
            "84/84 [==============================] - 1s 8ms/step - loss: 0.0025 - val_loss: 0.0013\n",
            "Epoch 177/200\n",
            "84/84 [==============================] - 1s 8ms/step - loss: 8.4706e-04 - val_loss: 0.0016\n",
            "Epoch 178/200\n",
            "84/84 [==============================] - 1s 8ms/step - loss: 0.0015 - val_loss: 0.0019\n",
            "Epoch 179/200\n",
            "84/84 [==============================] - 1s 8ms/step - loss: 0.0026 - val_loss: 0.0142\n",
            "Epoch 180/200\n",
            "84/84 [==============================] - 1s 8ms/step - loss: 0.0034 - val_loss: 0.0014\n",
            "Epoch 181/200\n",
            "84/84 [==============================] - 1s 8ms/step - loss: 0.0010 - val_loss: 0.0015\n",
            "Epoch 182/200\n",
            "84/84 [==============================] - 1s 7ms/step - loss: 0.0015 - val_loss: 0.0022\n",
            "Epoch 183/200\n",
            "84/84 [==============================] - 1s 7ms/step - loss: 0.0014 - val_loss: 9.2030e-04\n",
            "Epoch 184/200\n",
            "84/84 [==============================] - 1s 7ms/step - loss: 0.0011 - val_loss: 0.0013\n",
            "Epoch 185/200\n",
            "84/84 [==============================] - 1s 7ms/step - loss: 5.9472e-04 - val_loss: 0.0013\n",
            "Epoch 186/200\n",
            "84/84 [==============================] - 1s 7ms/step - loss: 0.0011 - val_loss: 0.0012\n",
            "Epoch 187/200\n",
            "84/84 [==============================] - 1s 8ms/step - loss: 0.0016 - val_loss: 0.0030\n",
            "Epoch 188/200\n",
            "84/84 [==============================] - 1s 7ms/step - loss: 0.0026 - val_loss: 0.0114\n",
            "Epoch 189/200\n",
            "84/84 [==============================] - 1s 7ms/step - loss: 0.0021 - val_loss: 0.0047\n",
            "Epoch 190/200\n",
            "84/84 [==============================] - 1s 7ms/step - loss: 0.0021 - val_loss: 0.0019\n",
            "Epoch 191/200\n",
            "84/84 [==============================] - 1s 8ms/step - loss: 0.0019 - val_loss: 0.0012\n",
            "Epoch 192/200\n",
            "84/84 [==============================] - 1s 8ms/step - loss: 0.0025 - val_loss: 0.0048\n",
            "Epoch 193/200\n",
            "84/84 [==============================] - 1s 8ms/step - loss: 0.0010 - val_loss: 9.2374e-04\n",
            "Epoch 194/200\n",
            "84/84 [==============================] - 1s 8ms/step - loss: 9.5041e-04 - val_loss: 0.0017\n",
            "Epoch 195/200\n",
            "84/84 [==============================] - 1s 7ms/step - loss: 0.0016 - val_loss: 0.0020\n",
            "Epoch 196/200\n",
            "84/84 [==============================] - 1s 8ms/step - loss: 0.0018 - val_loss: 0.0043\n",
            "Epoch 197/200\n",
            "84/84 [==============================] - 1s 9ms/step - loss: 0.0016 - val_loss: 0.0011\n",
            "Epoch 198/200\n",
            "84/84 [==============================] - 1s 8ms/step - loss: 9.9945e-04 - val_loss: 0.0010\n",
            "Epoch 199/200\n",
            "84/84 [==============================] - 1s 8ms/step - loss: 0.0016 - val_loss: 0.0015\n",
            "Epoch 200/200\n",
            "84/84 [==============================] - 1s 7ms/step - loss: 0.0022 - val_loss: 0.0025\n"
          ]
        }
      ]
    },
    {
      "cell_type": "code",
      "metadata": {
        "colab": {
          "base_uri": "https://localhost:8080/",
          "height": 731
        },
        "id": "hdBBOaZnuNSp",
        "outputId": "0cce2c7c-1f39-4354-df67-081454f957c5"
      },
      "source": [
        "#---------------------------------Parte 23--------------------------------------\n",
        "#Plotagem do treinamento e validação do Loss\n",
        "x = np.arange(0, EPOCHS, 1)                                                                  \n",
        "plt.figure(1, figsize = (22, 12))                                  \n",
        "plt.subplot(121)\n",
        "plt.xlabel(\"Epochs\")\n",
        "plt.ylabel(\"Loss\")\n",
        "plt.plot(x, history.history[\"loss\"], label = \"Treinamento do Loss\")\n",
        "plt.plot(x, history.history[\"val_loss\"], label = \"Validação Loss\")\n",
        "plt.grid(True)\n",
        "plt.legend()  "
      ],
      "execution_count": 185,
      "outputs": [
        {
          "output_type": "execute_result",
          "data": {
            "text/plain": [
              "<matplotlib.legend.Legend at 0x7fe0f6f4d610>"
            ]
          },
          "metadata": {},
          "execution_count": 185
        },
        {
          "output_type": "display_data",
          "data": {
            "image/png": "[encoded data removed]",
            "text/plain": [
              "<Figure size 1584x864 with 1 Axes>"
            ]
          },
          "metadata": {
            "needs_background": "light"
          }
        }
      ]
    },
    {
      "cell_type": "code",
      "metadata": {
        "colab": {
          "base_uri": "https://localhost:8080/",
          "height": 404
        },
        "id": "DznK2mxPunrC",
        "outputId": "9f3712c8-b197-4def-aa6f-a2ce66da51c5"
      },
      "source": [
        "#---------------------------------Parte 24--------------------------------------\n",
        "#Aqui é possível usar os dados de teste do dataset para,\n",
        "# essa rede neural treinada, e assim prever as saídas que a rede desconhece\n",
        "#A seguir são apresentados os casos reais e uma predição rede não conhece;\n",
        "predicted_cases = model.predict(x_val)\n",
        "predicted_cases = scaler.inverse_transform(predicted_cases)\n",
        "real_cases = scaler.inverse_transform(y_val)\n",
        "plt.figure(figsize= (10, 6))\n",
        "plt.subplot(1,1,1)\n",
        "plt.plot(real_cases, color = \"green\", label = \"Número Real de Casos\")\n",
        "plt.plot(predicted_cases, color = \"blue\", label = \"Número de Predição de Casos\")\n",
        "plt.title(\"Casos de Covid-19 no Brasil\")\n",
        "plt.xlabel(\"Tempo\")\n",
        "plt.ylabel(\"Contagem de Casos\")\n",
        "plt.legend()\n",
        "plt.grid(\"both\")\n",
        "plt.show()"
      ],
      "execution_count": 186,
      "outputs": [
        {
          "output_type": "display_data",
          "data": {
            "image/png": "[encoded data removed]",
            "text/plain": [
              "<Figure size 720x432 with 1 Axes>"
            ]
          },
          "metadata": {
            "needs_background": "light"
          }
        }
      ]
    }
  ]
}