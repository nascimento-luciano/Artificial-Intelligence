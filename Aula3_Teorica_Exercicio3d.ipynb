{
  "nbformat": 4,
  "nbformat_minor": 0,
  "metadata": {
    "colab": {
      "name": "Aula3-Teorica-Exercicio3d.ipynb",
      "provenance": [],
      "collapsed_sections": [],
      "authorship_tag": "ABX9TyNr2M5CfzWzni7gCIHkKu57",
      "include_colab_link": true
    },
    "kernelspec": {
      "name": "python3",
      "display_name": "Python 3"
    },
    "language_info": {
      "name": "python"
    }
  },
  "cells": [
    {
      "cell_type": "markdown",
      "metadata": {
        "id": "view-in-github",
        "colab_type": "text"
      },
      "source": [
        "<a href=\"https://colab.research.google.com/github/nascimento-luciano/Artificial-Intelligence/blob/master/Aula3_Teorica_Exercicio3d.ipynb\" target=\"_parent\"><img src=\"https://colab.research.google.com/assets/colab-badge.svg\" alt=\"Open In Colab\"/></a>"
      ]
    },
    {
      "cell_type": "markdown",
      "metadata": {
        "id": "n0I6DW0yuLfX"
      },
      "source": [
        ""
      ]
    },
    {
      "cell_type": "code",
      "metadata": {
        "colab": {
          "base_uri": "https://localhost:8080/",
          "height": 500
        },
        "id": "fEny-OPWuNIW",
        "outputId": "3b36e9ad-0bf2-40c0-e115-e1451e6d6ad0"
      },
      "source": [
        "# otimização de classificação para ML\n",
        "import numpy as np\n",
        "import matplotlib.pyplot as plt\n",
        "W = np.array([0, 0])\n",
        "learning_rate=0.1\n",
        "T=10\n",
        "x_train = np.array([[2.0,  0.0],[3.0, 1.0],[3.0, 3.0]], dtype=float)\n",
        "y_train = np.array([[-1], [-1], [1]])\n",
        "loss_lg = np.zeros(T)\n",
        "for t in range(0,T):\n",
        "  for n in range(0,y_train.size):\n",
        "    score = np.dot(W,x_train[n])\n",
        "    margin = score*y_train[n]\n",
        "    grad = y_train[n]*(-x_train[n]/(1+np.exp(margin)))\n",
        "    learning_rate=0.2/(np.sqrt(t+1))\n",
        "    W=W-learning_rate*grad\n",
        "    previsao=np.sign(np.dot(W,np.transpose(x_train)))\n",
        "  loss_lg[t]=np.log(1+np.exp(-margin))\n",
        "  print('previsão=',previsao)\n",
        "print('previsao final=',previsao)\n",
        "print('valores esperados=',np.transpose(y_train))\n",
        "plt.plot(loss_lg,'k')\n",
        "plt.xlabel('iteraçao'),plt.ylabel('Loss')\n",
        "print('W final=',W)"
      ],
      "execution_count": 5,
      "outputs": [
        {
          "output_type": "stream",
          "name": "stdout",
          "text": [
            "previsão= [1. 1. 1.]\n",
            "previsão= [-1.  1.  1.]\n",
            "previsão= [-1. -1.  1.]\n",
            "previsão= [-1. -1.  1.]\n",
            "previsão= [-1. -1.  1.]\n",
            "previsão= [-1. -1.  1.]\n",
            "previsão= [-1. -1.  1.]\n",
            "previsão= [-1. -1.  1.]\n",
            "previsão= [-1. -1.  1.]\n",
            "previsão= [-1. -1.  1.]\n",
            "previsao final= [-1. -1.  1.]\n",
            "valores esperados= [[-1 -1  1]]\n",
            "W final= [-0.59793696  0.99575077]\n"
          ]
        },
        {
          "output_type": "display_data",
          "data": {
            "image/png": "[encoded data removed]",
            "text/plain": [
              "<Figure size 432x288 with 1 Axes>"
            ]
          },
          "metadata": {
            "needs_background": "light"
          }
        }
      ]
    }
  ]
}