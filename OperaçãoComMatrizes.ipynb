{
  "nbformat": 4,
  "nbformat_minor": 0,
  "metadata": {
    "colab": {
      "name": "OperaçãoComMatrizes.ipynb",
      "provenance": [],
      "collapsed_sections": [],
      "authorship_tag": "ABX9TyNUiUqr2NFwaJ2l3MyigQmL",
      "include_colab_link": true
    },
    "kernelspec": {
      "name": "python3",
      "display_name": "Python 3"
    },
    "language_info": {
      "name": "python"
    }
  },
  "cells": [
    {
      "cell_type": "markdown",
      "metadata": {
        "id": "view-in-github",
        "colab_type": "text"
      },
      "source": [
        "<a href=\"https://colab.research.google.com/github/nascimento-luciano/Artificial-Intelligence/blob/master/Opera%C3%A7%C3%A3oComMatrizes.ipynb\" target=\"_parent\"><img src=\"https://colab.research.google.com/assets/colab-badge.svg\" alt=\"Open In Colab\"/></a>"
      ]
    },
    {
      "cell_type": "code",
      "metadata": {
        "id": "fxp0Pg-Hp0_W"
      },
      "source": [
        "import numpy as np #𝑖𝑚𝑝𝑜𝑟𝑡𝑎 𝑎 𝑏𝑖𝑏𝑙𝑖𝑜𝑡𝑒𝑐𝑎 𝑛𝑢𝑚𝑝𝑦 𝑐𝑜𝑚 𝑜 𝑎𝑝𝑒𝑙𝑖𝑑𝑜 𝑑𝑒 𝑛p\n",
        "\n",
        "M1 = np.array([[1, 2], [3, 4]]) #cria a matriz e guarda na variável \"M1\"\n",
        "M1_T=np.transpose(M1) #𝑐𝑎𝑙𝑐𝑢𝑙𝑎 𝑎 𝑡𝑟𝑎𝑛𝑠𝑝𝑜𝑠𝑡𝑎 𝑑𝑒 𝑀1\n",
        "M1_inv=np.linalg.inv(M1) #𝑐𝑎𝑙𝑐𝑢𝑙𝑎 𝑎 𝑖𝑛𝑣𝑒𝑟𝑠𝑎 𝑑𝑒 𝑀1\n",
        "\n",
        "print(\"M1= = \\n\", M1) #𝑚𝑜𝑠𝑡𝑟𝑎 𝑎 𝑚𝑎𝑡𝑟𝑖𝑧 𝑜𝑟𝑖𝑔𝑖𝑛𝑎𝑙 𝑒 𝑎𝑠 𝑚𝑎𝑡𝑟𝑖𝑧𝑒𝑠 𝑟𝑒𝑠𝑢𝑙𝑡𝑎𝑛𝑡𝑒𝑠 𝑑𝑎𝑠 𝑑𝑢𝑎𝑠 𝑜𝑝𝑒𝑟𝑎çõ𝑒𝑠\n",
        "print(\"M1 transposta = \\n\", M1_T)\n",
        "print(\"M1 inversa = \\n\", M1_inv)\n"
      ],
      "execution_count": null,
      "outputs": []
    }
  ]
}