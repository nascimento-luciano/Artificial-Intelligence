{
  "nbformat": 4,
  "nbformat_minor": 0,
  "metadata": {
    "colab": {
      "name": "Exercicio2.ipynb",
      "provenance": [],
      "collapsed_sections": [],
      "authorship_tag": "ABX9TyMOZraA22Fxkt+vdK8iXK9O",
      "include_colab_link": true
    },
    "kernelspec": {
      "name": "python3",
      "display_name": "Python 3"
    },
    "language_info": {
      "name": "python"
    }
  },
  "cells": [
    {
      "cell_type": "markdown",
      "metadata": {
        "id": "view-in-github",
        "colab_type": "text"
      },
      "source": [
        "<a href=\"https://colab.research.google.com/github/nascimento-luciano/Artificial-Intelligence/blob/master/Exercicio2.ipynb\" target=\"_parent\"><img src=\"https://colab.research.google.com/assets/colab-badge.svg\" alt=\"Open In Colab\"/></a>"
      ]
    },
    {
      "cell_type": "code",
      "metadata": {
        "colab": {
          "base_uri": "https://localhost:8080/",
          "height": 286
        },
        "id": "R5QShRbzToRC",
        "outputId": "602f7ee6-ec63-4cab-eb38-ffd9fe036a94"
      },
      "source": [
        "#Calcular a força resultante de um corpo sobre um plano inclinado\n",
        "\n",
        "import numpy as np\n",
        "import matplotlib.pyplot as plt\n",
        "\n",
        "v1 = np. array ([0, -10]) #Peso\n",
        "v2 = np.array([3, 9])     #Força normal\n",
        "v3 = np. array([-2, 1])   #Força de atrito\n",
        "v4 = v3-v2-v1\n",
        "origem = np.array([0,0])\n",
        "\n",
        "plt.figure()\n",
        "plt.quiver(origem[0],origem[1],v1[0],v1[1], angles= 'xy', scale_units= 'xy', scale=1, color=['r'])\n",
        "plt.quiver(origem[0],origem[1],v2[0],v2[1], angles= 'xy', scale_units= 'xy', scale=1, color=['g'])\n",
        "plt.quiver(origem[0],origem[1],v3[0],v3[1], angles= 'xy', scale_units= 'xy', scale=1, color=['y'])\n",
        "plt.quiver(v1[0],v1[1],v4[0],v4[1], angles= 'xy', scale_units= 'xy', scale=1, color=['b'])\n",
        "\n",
        "plt.xlim(-3, 3)\n",
        "plt.ylim(-3, 3)\n",
        "plt.legend(['v1','v2','v3', \"v3-v2-v1\"])\n"
      ],
      "execution_count": 5,
      "outputs": [
        {
          "output_type": "execute_result",
          "data": {
            "text/plain": [
              "<matplotlib.legend.Legend at 0x7f68a3270c10>"
            ]
          },
          "metadata": {},
          "execution_count": 5
        },
        {
          "output_type": "display_data",
          "data": {
            "image/png": "[encoded data removed]",
            "text/plain": [
              "<Figure size 432x288 with 1 Axes>"
            ]
          },
          "metadata": {
            "needs_background": "light"
          }
        }
      ]
    }
  ]
}