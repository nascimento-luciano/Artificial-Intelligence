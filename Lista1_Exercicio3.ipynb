{
  "nbformat": 4,
  "nbformat_minor": 0,
  "metadata": {
    "colab": {
      "name": "Lista1-Exercicio3.ipynb",
      "provenance": [],
      "collapsed_sections": [],
      "authorship_tag": "ABX9TyN6U0Akqd8jgSnPgSuQmdlb",
      "include_colab_link": true
    },
    "kernelspec": {
      "name": "python3",
      "display_name": "Python 3"
    },
    "language_info": {
      "name": "python"
    }
  },
  "cells": [
    {
      "cell_type": "markdown",
      "metadata": {
        "id": "view-in-github",
        "colab_type": "text"
      },
      "source": [
        "<a href=\"https://colab.research.google.com/github/nascimento-luciano/Artificial-Intelligence/blob/master/Lista1_Exercicio3.ipynb\" target=\"_parent\"><img src=\"https://colab.research.google.com/assets/colab-badge.svg\" alt=\"Open In Colab\"/></a>"
      ]
    },
    {
      "cell_type": "code",
      "metadata": {
        "colab": {
          "base_uri": "https://localhost:8080/",
          "height": 477
        },
        "id": "5xakDpIHguwQ",
        "outputId": "ad4bf165-5bc9-422f-b6d1-7dba37042f94"
      },
      "source": [
        "import math\n",
        "import numpy as np\n",
        "import matplotlib.pyplot as plt\n",
        "W=0;\n",
        "num=W+1; #num = float(input(\"Entre com um número:\\n\")) #Caso queria um número específico [n]\n",
        "raiz=np.sqrt(num)\n",
        "n=(1/raiz)\n",
        "learning_rate=n\n",
        "T=10\n",
        "x_train = np.array([-2.0, 0.0, 4.0, 1.0], dtype=float)\n",
        "y_train = np.array([2.0, 0.0, -4.0, -1.0], dtype=float)\n",
        "loss_sq=np.zeros(T)\n",
        "for t in range(0,T):\n",
        "  for n in range(0,y_train.size):\n",
        "    score=W*x_train[n]\n",
        "    residuo=score-y_train[n]\n",
        "    grad=2*residuo*x_train[n]\n",
        "    W=W-learning_rate*grad\n",
        "  loss_sq[t]=residuo**2\n",
        "  print('loss e W=',[loss_sq[t],W])\n",
        "plt.plot(loss_sq,'k')\n",
        "plt.xlabel('interação'),plt.ylabel('Loss')\n",
        "print('W final=',W)\n",
        "#print(f'\\nA raiz quadrada de {num} é {raiz}\\n') #Exibe a raiz quadrada de [n]"
      ],
      "execution_count": 27,
      "outputs": [
        {
          "output_type": "stream",
          "name": "stdout",
          "text": [
            "loss e W= [47089.0, -218.0]\n",
            "loss e W= [2217373921.0, 47088.0]\n",
            "loss e W= [104413920565969.0, -10218314.0]\n",
            "loss e W= [4.916747105530914e+18, 2217373920.0]\n",
            "loss e W= [2.3152470445234524e+23, -481170140858.0]\n",
            "loss e W= [1.0902266807956483e+28, 104413920565968.0]\n",
            "loss e W= [5.1337684171986286e+32, -2.265782076281527e+16]\n",
            "loss e W= [2.4174402099746617e+37, 4.916747105530914e+18]\n",
            "loss e W= [1.1383484204749685e+42, -1.0669341219002083e+21]\n",
            "loss e W= [5.36036887717458e+46, 2.315247044523452e+23]\n",
            "W final= 2.315247044523452e+23\n"
          ]
        },
        {
          "output_type": "display_data",
          "data": {
            "image/png": "[encoded data removed]",
            "text/plain": [
              "<Figure size 432x288 with 1 Axes>"
            ]
          },
          "metadata": {
            "needs_background": "light"
          }
        }
      ]
    }
  ]
}