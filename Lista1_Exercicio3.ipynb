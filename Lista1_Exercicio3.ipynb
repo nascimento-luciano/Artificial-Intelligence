{
  "nbformat": 4,
  "nbformat_minor": 0,
  "metadata": {
    "colab": {
      "name": "Lista1-Exercicio3.ipynb",
      "provenance": [],
      "collapsed_sections": [],
      "authorship_tag": "ABX9TyN24XZmleiXz5gBPmwT+YDq",
      "include_colab_link": true
    },
    "kernelspec": {
      "name": "python3",
      "display_name": "Python 3"
    },
    "language_info": {
      "name": "python"
    }
  },
  "cells": [
    {
      "cell_type": "markdown",
      "metadata": {
        "id": "view-in-github",
        "colab_type": "text"
      },
      "source": [
        "<a href=\"https://colab.research.google.com/github/nascimento-luciano/Artificial-Intelligence/blob/master/Lista1_Exercicio3.ipynb\" target=\"_parent\"><img src=\"https://colab.research.google.com/assets/colab-badge.svg\" alt=\"Open In Colab\"/></a>"
      ]
    },
    {
      "cell_type": "code",
      "metadata": {
        "colab": {
          "base_uri": "https://localhost:8080/",
          "height": 477
        },
        "id": "5xakDpIHguwQ",
        "outputId": "7245150f-63f5-4f9a-87fa-e3da92d5e233"
      },
      "source": [
        "import math\n",
        "import numpy as np\n",
        "import matplotlib.pyplot as plt\n",
        "W=0;\n",
        "#num = float(input(\"Entre com um número:\\n\")) //Caso queria um número específico [n]\n",
        "raiz = math.pow(num, 1/2)\n",
        "n = 1/raiz\n",
        "learning_rate=n\n",
        "T=10\n",
        "x_train = np.array([-2.0, 0.0, 4.0, 1.0], dtype=float)\n",
        "y_train = np.array([2.0, 0.0, -4.0, -1.0], dtype=float)\n",
        "loss_sq=np.zeros(T)\n",
        "for t in range(0,T):\n",
        "  for n in range(0,y_train.size):\n",
        "    score=W*x_train[n]\n",
        "    residuo=score-y_train[n]\n",
        "    grad=2*residuo*x_train[n]\n",
        "    W=W-learning_rate*grad\n",
        "  loss_sq[t]=residuo**2\n",
        "  print('loss e W=',[loss_sq[t],W])\n",
        "plt.plot(loss_sq,'k')\n",
        "plt.xlabel('interação'),plt.ylabel('Loss')\n",
        "print('W final=',W)\n",
        "#print(f'\\nA raiz quadrada de {num} é {raiz}\\n')"
      ],
      "execution_count": 16,
      "outputs": [
        {
          "output_type": "stream",
          "name": "stdout",
          "text": [
            "loss e W= [10.497600000000004, 0.9440000000000004]\n",
            "loss e W= [39.67185807360003, 2.779136000000001]\n",
            "loss e W= [149.92534703283255, 6.346640384000003]\n",
            "loss e W= [566.5882762842709, 13.28186890649601]\n",
            "loss e W= [2141.2141520838363, 26.763953154228254]\n",
            "loss e W= [8091.9394858495025, 52.97312493181973]\n",
            "loss e W= [30580.539820795366, 103.92375486745759]\n",
            "loss e W= [115568.01893620132, 202.97177946233757]\n",
            "loss e W= [436747.26081048016, 395.5211392747843]\n",
            "loss e W= [1650527.2962302763, 769.837094750181]\n",
            "W final= 769.837094750181\n"
          ]
        },
        {
          "output_type": "display_data",
          "data": {
            "image/png": "[encoded data removed]",
            "text/plain": [
              "<Figure size 432x288 with 1 Axes>"
            ]
          },
          "metadata": {
            "needs_background": "light"
          }
        }
      ]
    }
  ]
}