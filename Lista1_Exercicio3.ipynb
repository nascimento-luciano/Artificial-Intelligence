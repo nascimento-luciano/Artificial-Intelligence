{
  "nbformat": 4,
  "nbformat_minor": 0,
  "metadata": {
    "colab": {
      "name": "Lista1-Exercicio3.ipynb",
      "provenance": [],
      "collapsed_sections": [],
      "authorship_tag": "ABX9TyMsoP7o60IQwJWH8/Fk1xAH",
      "include_colab_link": true
    },
    "kernelspec": {
      "name": "python3",
      "display_name": "Python 3"
    },
    "language_info": {
      "name": "python"
    }
  },
  "cells": [
    {
      "cell_type": "markdown",
      "metadata": {
        "id": "view-in-github",
        "colab_type": "text"
      },
      "source": [
        "<a href=\"https://colab.research.google.com/github/nascimento-luciano/Artificial-Intelligence/blob/master/Lista1_Exercicio3.ipynb\" target=\"_parent\"><img src=\"https://colab.research.google.com/assets/colab-badge.svg\" alt=\"Open In Colab\"/></a>"
      ]
    },
    {
      "cell_type": "code",
      "metadata": {
        "colab": {
          "base_uri": "https://localhost:8080/",
          "height": 466
        },
        "id": "5xakDpIHguwQ",
        "outputId": "30423a56-86e5-4c39-9268-8f63c8a36157"
      },
      "source": [
        "import math\n",
        "import numpy as np\n",
        "import matplotlib.pyplot as plt\n",
        "W=0;\n",
        "#num=W+1; #num = float(input(\"Entre com um número:\\n\")) #Caso queria um número específico [n]\n",
        "#raiz=np.sqrt(num)\n",
        "#n=(1/raiz)\n",
        "#learning_rate=n\n",
        "T=10\n",
        "x_train = np.array([-2.0, 0.0, 4.0, 1.0], dtype=float)\n",
        "y_train = np.array([2.0, 0.0, -4.0, -1.0], dtype=float)\n",
        "loss_sq=np.zeros(T)\n",
        "for t in range(0,T):\n",
        "  for n in range(0,y_train.size):\n",
        "    score=W*x_train[n]\n",
        "    residuo=score-y_train[n]\n",
        "    grad=2*residuo*x_train[n]\n",
        "    learning_rate=0.2/(np.sqrt(t+1))\n",
        "    W=W-learning_rate*grad\n",
        "  loss_sq[t]=residuo**2\n",
        "  print('loss e W=',[loss_sq[t],W])\n",
        "plt.plot(loss_sq,'k')\n",
        "plt.xlabel('interação'),plt.ylabel('Loss')\n",
        "print('W final=',W)\n",
        "#print(f'\\nA raiz quadrada de {num} é {raiz}\\n') #Exibe a raiz quadrada de [n]"
      ],
      "execution_count": 14,
      "outputs": [
        {
          "output_type": "stream",
          "name": "stdout",
          "text": [
            "loss e W= [10.497600000000004, 0.9440000000000004]\n",
            "loss e W= [0.8106397364420599, -0.3543036072832219]\n",
            "loss e W= [0.017601455204287453, -1.1020315419935907]\n",
            "loss e W= [0.0020154603247237823, -0.9640848972182562]\n",
            "loss e W= [0.0003619333011731217, -1.0156213306876085]\n",
            "loss e W= [7.634071399873888e-05, -0.9926894806213362]\n",
            "loss e W= [1.681137734371873e-05, -1.0034802808356031]\n",
            "loss e W= [3.643060915072758e-06, -0.9983612477605066]\n",
            "loss e W= [7.511998334322153e-07, -1.0007511554709618]\n",
            "loss e W= [1.4436280714555295e-07, -0.9996681093709364]\n",
            "W final= -0.9996681093709364\n"
          ]
        },
        {
          "output_type": "display_data",
          "data": {
            "image/png": "[encoded data removed]",
            "text/plain": [
              "<Figure size 432x288 with 1 Axes>"
            ]
          },
          "metadata": {
            "needs_background": "light"
          }
        }
      ]
    }
  ]
}