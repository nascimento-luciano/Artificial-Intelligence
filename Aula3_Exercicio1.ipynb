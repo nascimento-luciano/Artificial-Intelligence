{
  "nbformat": 4,
  "nbformat_minor": 0,
  "metadata": {
    "colab": {
      "name": "Aula3-Exercicio1.ipynb",
      "provenance": [],
      "collapsed_sections": [],
      "authorship_tag": "ABX9TyP9ozog9lt7EEN94bncOsS7",
      "include_colab_link": true
    },
    "kernelspec": {
      "name": "python3",
      "display_name": "Python 3"
    },
    "language_info": {
      "name": "python"
    }
  },
  "cells": [
    {
      "cell_type": "markdown",
      "metadata": {
        "id": "view-in-github",
        "colab_type": "text"
      },
      "source": [
        "<a href=\"https://colab.research.google.com/github/nascimento-luciano/Artificial-Intelligence/blob/master/Aula3_Exercicio1.ipynb\" target=\"_parent\"><img src=\"https://colab.research.google.com/assets/colab-badge.svg\" alt=\"Open In Colab\"/></a>"
      ]
    },
    {
      "cell_type": "markdown",
      "metadata": {
        "id": "69wKOCBBhFUO"
      },
      "source": [
        "𝐿𝑜𝑠𝑠_𝑠𝑞𝑢𝑎𝑟𝑒𝑑"
      ]
    },
    {
      "cell_type": "code",
      "metadata": {
        "colab": {
          "base_uri": "https://localhost:8080/",
          "height": 467
        },
        "id": "s0igi002esah",
        "outputId": "281c3d0b-6bee-4eff-9d17-56396a64c94a"
      },
      "source": [
        "import numpy as np\n",
        "import matplotlib.pyplot as plt\n",
        "W=-2;\n",
        "learning_rate=0.1\n",
        "T=10\n",
        "x_train = np.array([-2.0, 0.0, 4.0, 1.0], dtype=float)\n",
        "y_train = np.array([2.0, 0.0, -4.0, -1.0], dtype=float)\n",
        "loss_sq=np.zeros(T)\n",
        "for t in range(0,T):\n",
        "  for n in range(0,y_train.size):\n",
        "    score=W*x_train[n]\n",
        "    residuo=score-y_train[n]\n",
        "    grad=2*residuo*x_train[n]\n",
        "    W=W-learning_rate*grad\n",
        "  loss_sq[t]=residuo**2\n",
        "  print('loss e W=',[loss_sq[t],W])\n",
        "plt.plot(loss_sq,'k')\n",
        "plt.xlabel('interação'),plt.ylabel('Loss')\n",
        "print('W final=',W)"
      ],
      "execution_count": 1,
      "outputs": [
        {
          "output_type": "stream",
          "name": "stdout",
          "text": [
            "loss e W= [0.19359999999999997, -0.648]\n",
            "loss e W= [0.02398781440000004, -1.123904]\n",
            "loss e W= [0.002972186155417609, -0.956385792]\n",
            "loss e W= [0.0003682657534008615, -1.015352201216]\n",
            "loss e W= [4.562959990938173e-05, -0.9945960251719679]\n",
            "loss e W= [5.653689947172339e-06, -1.0019021991394674]\n",
            "loss e W= [7.005147992144697e-07, -0.9993304259029074]\n",
            "loss e W= [8.679658568191781e-08, -1.0002356900821767]\n",
            "loss e W= [1.075444415231558e-08, -0.9999170370910739]\n",
            "loss e W= [1.332518648247083e-09, -1.000029202943942]\n",
            "W final= -1.000029202943942\n"
          ]
        },
        {
          "output_type": "display_data",
          "data": {
            "image/png": "[encoded data removed]",
            "text/plain": [
              "<Figure size 432x288 with 1 Axes>"
            ]
          },
          "metadata": {
            "needs_background": "light"
          }
        }
      ]
    },
    {
      "cell_type": "markdown",
      "metadata": {
        "id": "J3_ZZ_G0hM7O"
      },
      "source": [
        "𝐿𝑜𝑠𝑠_𝑎𝑏𝑠𝑑𝑒𝑣"
      ]
    },
    {
      "cell_type": "code",
      "metadata": {
        "colab": {
          "base_uri": "https://localhost:8080/",
          "height": 467
        },
        "id": "UCn4h_IFhDjn",
        "outputId": "e7577fc0-24ee-4f4d-b4b8-1320d7542afe"
      },
      "source": [
        "import numpy as np\n",
        "import matplotlib.pyplot as plt\n",
        "W=-2;\n",
        "learning_rate=0.1\n",
        "T=10\n",
        "x_train = np.array([-2.0, 0.0, 4.0, 1.0], dtype=float)\n",
        "y_train = np.array([2.0, 0.0, -4.0, -1.0], dtype=float)\n",
        "loss_abs=np.zeros(T)\n",
        "for t in range(0,T):\n",
        "  for n in range(0,y_train.size):\n",
        "    score=W*x_train[n]\n",
        "    residuo=score-y_train[n]\n",
        "    grad=2*residuo*x_train[n]\n",
        "    W=W-learning_rate*grad\n",
        "  loss_abs[t]=residuo**2\n",
        "  print('loss e W=',[loss_sq[t],W])\n",
        "plt.plot(loss_abs,'k')\n",
        "plt.xlabel('interação'),plt.ylabel('Loss')\n",
        "print('W final=',W)"
      ],
      "execution_count": 7,
      "outputs": [
        {
          "output_type": "stream",
          "name": "stdout",
          "text": [
            "loss e W= [0.0, -0.648]\n",
            "loss e W= [0.0, -1.123904]\n",
            "loss e W= [0.0, -0.956385792]\n",
            "loss e W= [0.0, -1.015352201216]\n",
            "loss e W= [0.0, -0.9945960251719679]\n",
            "loss e W= [0.0, -1.0019021991394674]\n",
            "loss e W= [0.0, -0.9993304259029074]\n",
            "loss e W= [0.0, -1.0002356900821767]\n",
            "loss e W= [0.0, -0.9999170370910739]\n",
            "loss e W= [0.0, -1.000029202943942]\n",
            "W final= -1.000029202943942\n"
          ]
        },
        {
          "output_type": "display_data",
          "data": {
            "image/png": "[encoded data removed]",
            "text/plain": [
              "<Figure size 432x288 with 1 Axes>"
            ]
          },
          "metadata": {
            "needs_background": "light"
          }
        }
      ]
    },
    {
      "cell_type": "markdown",
      "metadata": {
        "id": "52h43pT5hLAd"
      },
      "source": [
        ""
      ]
    }
  ]
}