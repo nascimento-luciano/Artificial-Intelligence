{
  "nbformat": 4,
  "nbformat_minor": 0,
  "metadata": {
    "colab": {
      "name": "Extra-mostrando-vetores.ipynb",
      "provenance": [],
      "collapsed_sections": [],
      "authorship_tag": "ABX9TyMg8+TaK4Uua+6e7qD17Xfv",
      "include_colab_link": true
    },
    "kernelspec": {
      "name": "python3",
      "display_name": "Python 3"
    },
    "language_info": {
      "name": "python"
    }
  },
  "cells": [
    {
      "cell_type": "markdown",
      "metadata": {
        "id": "view-in-github",
        "colab_type": "text"
      },
      "source": [
        "<a href=\"https://colab.research.google.com/github/nascimento-luciano/Artificial-Intelligence/blob/master/Extra_mostrando_vetores.ipynb\" target=\"_parent\"><img src=\"https://colab.research.google.com/assets/colab-badge.svg\" alt=\"Open In Colab\"/></a>"
      ]
    },
    {
      "cell_type": "code",
      "metadata": {
        "colab": {
          "base_uri": "https://localhost:8080/",
          "height": 286
        },
        "id": "tTEWgp_-qoH8",
        "outputId": "474640cd-f33a-42be-9b5b-6582581992a8"
      },
      "source": [
        "import numpy as np\n",
        "import matplotlib.pyplot as plt\n",
        "\n",
        "v1 = np.array([1, 2])\n",
        "v2 = np.array([0, 2])\n",
        "v3 = v2-v1;\n",
        "origem = np.array([0, 0])\n",
        "\n",
        "plt.figure()\n",
        "plt.quiver(origem[0],origem[1],v1[0],v1[1], angles=\n",
        "'xy', scale_units=\n",
        "'xy', scale=1, color=['r'])\n",
        "plt.quiver(origem[0],origem[1],v2[0],v2[1], angles=\n",
        "'xy', scale_units=\n",
        "'xy', scale=1, color=['g'])\n",
        "plt.quiver(v1[0],v1[1],v3[0],v3[1], angles=\n",
        "'xy'\n",
        ", scale_units=\n",
        "'xy'\n",
        ", scale=1, color=['b'])\n",
        "plt.xlim(-3, 3)\n",
        "plt.ylim(-3, 3)\n",
        "plt.legend(['v1','v2','v2-v1'])"
      ],
      "execution_count": 1,
      "outputs": [
        {
          "output_type": "execute_result",
          "data": {
            "text/plain": [
              "<matplotlib.legend.Legend at 0x7f9514f22d90>"
            ]
          },
          "metadata": {},
          "execution_count": 1
        },
        {
          "output_type": "display_data",
          "data": {
            "image/png": "[encoded data removed]",
            "text/plain": [
              "<Figure size 432x288 with 1 Axes>"
            ]
          },
          "metadata": {
            "needs_background": "light"
          }
        }
      ]
    }
  ]
}