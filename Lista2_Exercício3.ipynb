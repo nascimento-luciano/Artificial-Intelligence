{
  "nbformat": 4,
  "nbformat_minor": 0,
  "metadata": {
    "colab": {
      "name": "Lista2-Exercício3.ipynb",
      "provenance": [],
      "collapsed_sections": [],
      "authorship_tag": "ABX9TyPj3t0Rz0I3p9NeyC/pUops",
      "include_colab_link": true
    },
    "kernelspec": {
      "name": "python3",
      "display_name": "Python 3"
    },
    "language_info": {
      "name": "python"
    }
  },
  "cells": [
    {
      "cell_type": "markdown",
      "metadata": {
        "id": "view-in-github",
        "colab_type": "text"
      },
      "source": [
        "<a href=\"https://colab.research.google.com/github/nascimento-luciano/Artificial-Intelligence/blob/master/Lista2_Exerc%C3%ADcio3.ipynb\" target=\"_parent\"><img src=\"https://colab.research.google.com/assets/colab-badge.svg\" alt=\"Open In Colab\"/></a>"
      ]
    },
    {
      "cell_type": "markdown",
      "metadata": {
        "id": "oRmxYEZIMbUZ"
      },
      "source": [
        "*Aula prática: rede neural para regressão não linear com keras*"
      ]
    },
    {
      "cell_type": "code",
      "metadata": {
        "colab": {
          "base_uri": "https://localhost:8080/",
          "height": 231
        },
        "id": "0qaC48w3Lsws",
        "outputId": "9ec72bb9-bb75-44bd-d029-d5e475826f7a"
      },
      "source": [
        "import tensorflow as tf\n",
        "import numpy as np\n",
        "import matplotlib.pyplot\n",
        "\n",
        "def fobj(X): \n",
        "  OF=(1-np.exp(-X)*(np.cos(2*np.pi*X)+1)) #Cria uma subrotina para definir para definir a função que faremos a regressão\n",
        "  return OF\n",
        "\n",
        "#criando o data set de treino e teste\n",
        "s_d=200                                   #quantos Dtrain\n",
        "s_t=50                                    #quantos Dtest\n",
        "\n",
        "x_train = np.linspace(-10.0,10.0,s_d)     #Define a entrada de treinamento da rede\n",
        "y_train = funcao(x_train)                 #Define as saídas de treinamento da rede, usando a subrotina\n",
        "x_test=np.linspace(-8, 8, s_t)            #Define a entrada de teste da rede\n",
        "y_test=funcao(x_test)                     #Define a saída de teste da rede. SÓ PARA COMPARAR\n",
        "#criando a rede neural\n",
        "model=tf.keras.Sequential(name='rede_regressao')\n",
        "#configurando as camadas da rede\n",
        "model.add(tf.keras.layers.Dense(14, input_dim=1, use_bias=1,activation='relu'))\n",
        "model.add(tf.keras.layers.Dense(12, activation='relu'))\n",
        "model.add(tf.keras.layers.Dense(1, activation='linear'))\n",
        "#compilando a rede\n",
        "opt=tf.keras.optimizer.Adam(leaning_rate=0.002)\n",
        "model.compile(optimizer=opt,loss='mean_squared_error')\n",
        "print(model.summary())\n",
        "#treinando a rede\n",
        "history=model.fit(x_train, y_train, epochs=2000, verbose=0)\n",
        "#mostra a performace do treinamento da rede\n",
        "plt.rcParams.update({'font.size':12})\n",
        "plt.figure()\n",
        "plt.plot(history.history['loss'],'k')\n",
        "plt.legend(['loss'])\n",
        "#testando a rede\n",
        "y_pred=model.predict(x_test)\n",
        "#mostra o resultado do ajuste em relação ao esperado\n",
        "plt.figure()\n",
        "plt.plot(x_test, y_pred,'r')\n",
        "plt.plot(x_test, y_test, 'b-')\n",
        "plt.legend(['previsões', 'curva esperada'])\n",
        "plt.xlabel('x');plt.ylabel('y')"
      ],
      "execution_count": 8,
      "outputs": [
        {
          "output_type": "error",
          "ename": "NameError",
          "evalue": "ignored",
          "traceback": [
            "\u001b[0;31m---------------------------------------------------------------------------\u001b[0m",
            "\u001b[0;31mNameError\u001b[0m                                 Traceback (most recent call last)",
            "\u001b[0;32m<ipython-input-8-65a39ef11706>\u001b[0m in \u001b[0;36m<module>\u001b[0;34m()\u001b[0m\n\u001b[1;32m     12\u001b[0m \u001b[0;34m\u001b[0m\u001b[0m\n\u001b[1;32m     13\u001b[0m \u001b[0mx_train\u001b[0m \u001b[0;34m=\u001b[0m \u001b[0mnp\u001b[0m\u001b[0;34m.\u001b[0m\u001b[0mlinspace\u001b[0m\u001b[0;34m(\u001b[0m\u001b[0;34m-\u001b[0m\u001b[0;36m10.0\u001b[0m\u001b[0;34m,\u001b[0m\u001b[0;36m10.0\u001b[0m\u001b[0;34m,\u001b[0m\u001b[0ms_d\u001b[0m\u001b[0;34m)\u001b[0m     \u001b[0;31m#Define a entrada de treinamento da rede\u001b[0m\u001b[0;34m\u001b[0m\u001b[0;34m\u001b[0m\u001b[0m\n\u001b[0;32m---> 14\u001b[0;31m \u001b[0my_train\u001b[0m \u001b[0;34m=\u001b[0m \u001b[0mfuncao\u001b[0m\u001b[0;34m(\u001b[0m\u001b[0mx_train\u001b[0m\u001b[0;34m)\u001b[0m                 \u001b[0;31m#Define as saídas de treinamento da rede, usando a subrotina\u001b[0m\u001b[0;34m\u001b[0m\u001b[0;34m\u001b[0m\u001b[0m\n\u001b[0m\u001b[1;32m     15\u001b[0m \u001b[0mx_test\u001b[0m\u001b[0;34m=\u001b[0m\u001b[0mnp\u001b[0m\u001b[0;34m.\u001b[0m\u001b[0mlinspace\u001b[0m\u001b[0;34m(\u001b[0m\u001b[0;34m-\u001b[0m\u001b[0;36m8\u001b[0m\u001b[0;34m,\u001b[0m \u001b[0;36m8\u001b[0m\u001b[0;34m,\u001b[0m \u001b[0ms_t\u001b[0m\u001b[0;34m)\u001b[0m            \u001b[0;31m#Define a entrada de teste da rede\u001b[0m\u001b[0;34m\u001b[0m\u001b[0;34m\u001b[0m\u001b[0m\n\u001b[1;32m     16\u001b[0m \u001b[0my_test\u001b[0m\u001b[0;34m=\u001b[0m\u001b[0mfuncao\u001b[0m\u001b[0;34m(\u001b[0m\u001b[0mx_test\u001b[0m\u001b[0;34m)\u001b[0m                     \u001b[0;31m#Define a saída de teste da rede. SÓ PARA COMPARAR\u001b[0m\u001b[0;34m\u001b[0m\u001b[0;34m\u001b[0m\u001b[0m\n",
            "\u001b[0;31mNameError\u001b[0m: name 'funcao' is not defined"
          ]
        }
      ]
    }
  ]
}