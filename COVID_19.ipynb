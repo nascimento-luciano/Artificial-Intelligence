{
  "nbformat": 4,
  "nbformat_minor": 0,
  "metadata": {
    "colab": {
      "name": "COVID-19.ipynb",
      "provenance": [],
      "collapsed_sections": [],
      "authorship_tag": "ABX9TyNL8V1smRaKHn6Er1vg4Jfk",
      "include_colab_link": true
    },
    "kernelspec": {
      "name": "python3",
      "display_name": "Python 3"
    },
    "language_info": {
      "name": "python"
    }
  },
  "cells": [
    {
      "cell_type": "markdown",
      "metadata": {
        "id": "view-in-github",
        "colab_type": "text"
      },
      "source": [
        "<a href=\"https://colab.research.google.com/github/nascimento-luciano/Artificial-Intelligence/blob/master/COVID_19.ipynb\" target=\"_parent\"><img src=\"https://colab.research.google.com/assets/colab-badge.svg\" alt=\"Open In Colab\"/></a>"
      ]
    },
    {
      "cell_type": "markdown",
      "metadata": {
        "id": "qA8B1j3n02HT"
      },
      "source": [
        "COVID-19 em todo o Brasil e no estado de São Paulo"
      ]
    },
    {
      "cell_type": "markdown",
      "metadata": {
        "id": "oVtdzUIj1PUh"
      },
      "source": [
        "Perguntas:\n",
        "\n",
        "-Quantos casos foram registrados nos estados do Brasil?\n",
        "\n",
        "-Qual estado tem o maior número de casos?\n",
        "\n",
        "-Quantas mortes foram registradas nos estados do Sudeste?\n",
        "\n",
        "-Qual estado tem o maior número de mortes?\n",
        "\n",
        "-Como se comporta a curva de evolução nos estados do Sudeste?\n",
        "\n",
        "-No estado de São Paulo, quais municípios tem o maior número de casos registrados?\n",
        "\n",
        "-Quais municípios tem o maior número de mortes registradas?\n",
        "\n",
        "-Como se comporta a curva de evolução nos municípios de São Paulo?"
      ]
    },
    {
      "cell_type": "markdown",
      "metadata": {
        "id": "upXkbYyI2x5s"
      },
      "source": [
        "*Importando Bibliotecas*"
      ]
    },
    {
      "cell_type": "markdown",
      "metadata": {
        "id": "2fWQeE89ISqY"
      },
      "source": [
        "---------------------------------Etapa 1--------------------------------------"
      ]
    },
    {
      "cell_type": "code",
      "metadata": {
        "id": "ReTYIcmB01ZI"
      },
      "source": [
        "import numpy as np\n",
        "import pandas as pd\n",
        "#import geopandas as gpd\n",
        "import plotly.express as px\n",
        "import plotly.graph_objects as go"
      ],
      "execution_count": 49,
      "outputs": []
    },
    {
      "cell_type": "code",
      "metadata": {
        "colab": {
          "base_uri": "https://localhost:8080/"
        },
        "id": "ciV8NAMIGxCk",
        "outputId": "5f82c240-f0c1-43bf-a85e-c758c5d4a62c"
      },
      "source": [
        "!pip install geopandas"
      ],
      "execution_count": 66,
      "outputs": [
        {
          "output_type": "stream",
          "name": "stdout",
          "text": [
            "Collecting geopandas\n",
            "  Downloading geopandas-0.10.2-py2.py3-none-any.whl (1.0 MB)\n",
            "\u001b[K     |████████████████████████████████| 1.0 MB 2.0 MB/s \n",
            "\u001b[?25hRequirement already satisfied: shapely>=1.6 in /usr/local/lib/python3.7/dist-packages (from geopandas) (1.8.0)\n",
            "Collecting pyproj>=2.2.0\n",
            "  Downloading pyproj-3.2.1-cp37-cp37m-manylinux2010_x86_64.whl (6.3 MB)\n",
            "\u001b[K     |████████████████████████████████| 6.3 MB 36.5 MB/s \n",
            "\u001b[?25hCollecting fiona>=1.8\n",
            "  Downloading Fiona-1.8.20-cp37-cp37m-manylinux1_x86_64.whl (15.4 MB)\n",
            "\u001b[K     |████████████████████████████████| 15.4 MB 23.4 MB/s \n",
            "\u001b[?25hRequirement already satisfied: pandas>=0.25.0 in /usr/local/lib/python3.7/dist-packages (from geopandas) (1.1.5)\n",
            "Collecting munch\n",
            "  Downloading munch-2.5.0-py2.py3-none-any.whl (10 kB)\n",
            "Requirement already satisfied: attrs>=17 in /usr/local/lib/python3.7/dist-packages (from fiona>=1.8->geopandas) (21.2.0)\n",
            "Requirement already satisfied: click>=4.0 in /usr/local/lib/python3.7/dist-packages (from fiona>=1.8->geopandas) (7.1.2)\n",
            "Requirement already satisfied: certifi in /usr/local/lib/python3.7/dist-packages (from fiona>=1.8->geopandas) (2021.10.8)\n",
            "Requirement already satisfied: six>=1.7 in /usr/local/lib/python3.7/dist-packages (from fiona>=1.8->geopandas) (1.15.0)\n",
            "Collecting click-plugins>=1.0\n",
            "  Downloading click_plugins-1.1.1-py2.py3-none-any.whl (7.5 kB)\n",
            "Collecting cligj>=0.5\n",
            "  Downloading cligj-0.7.2-py3-none-any.whl (7.1 kB)\n",
            "Requirement already satisfied: setuptools in /usr/local/lib/python3.7/dist-packages (from fiona>=1.8->geopandas) (57.4.0)\n",
            "Requirement already satisfied: python-dateutil>=2.7.3 in /usr/local/lib/python3.7/dist-packages (from pandas>=0.25.0->geopandas) (2.8.2)\n",
            "Requirement already satisfied: pytz>=2017.2 in /usr/local/lib/python3.7/dist-packages (from pandas>=0.25.0->geopandas) (2018.9)\n",
            "Requirement already satisfied: numpy>=1.15.4 in /usr/local/lib/python3.7/dist-packages (from pandas>=0.25.0->geopandas) (1.19.5)\n",
            "Installing collected packages: munch, cligj, click-plugins, pyproj, fiona, geopandas\n",
            "Successfully installed click-plugins-1.1.1 cligj-0.7.2 fiona-1.8.20 geopandas-0.10.2 munch-2.5.0 pyproj-3.2.1\n"
          ]
        }
      ]
    },
    {
      "cell_type": "markdown",
      "metadata": {
        "id": "e3aEyvoZ23V3"
      },
      "source": [
        "*Importando Arquivo CSV.* (Brasil)"
      ]
    },
    {
      "cell_type": "code",
      "metadata": {
        "id": "q5f2QfT22_Lg"
      },
      "source": [
        "#from google.colab import files\n",
        "#uploaded = files.upload()"
      ],
      "execution_count": 50,
      "outputs": []
    },
    {
      "cell_type": "code",
      "metadata": {
        "id": "1CabiOzBBL4O"
      },
      "source": [
        "df = pd.read_csv ('brazil_covid19.csv')"
      ],
      "execution_count": 85,
      "outputs": []
    },
    {
      "cell_type": "markdown",
      "metadata": {
        "id": "RUMdzott61C2"
      },
      "source": [
        "*Importando Arquivo CSV. (Cidades)*"
      ]
    },
    {
      "cell_type": "code",
      "metadata": {
        "id": "3MceGMwf63Vu"
      },
      "source": [
        "#from google.colab import files\n",
        "#uploaded = files.upload()"
      ],
      "execution_count": 52,
      "outputs": []
    },
    {
      "cell_type": "code",
      "metadata": {
        "id": "vcEMQpnPDvvb"
      },
      "source": [
        "dfs = pd.read_csv ('cases-brazil-cities.csv')"
      ],
      "execution_count": 53,
      "outputs": []
    },
    {
      "cell_type": "markdown",
      "metadata": {
        "id": "qGUEgMxl67R-"
      },
      "source": [
        "*Importando Arquivo CSV. (Coordenadas)*"
      ]
    },
    {
      "cell_type": "code",
      "metadata": {
        "id": "XN2EKCPu7BdP"
      },
      "source": [
        "#from google.colab import files\n",
        "#uploaded = files.upload()"
      ],
      "execution_count": 54,
      "outputs": []
    },
    {
      "cell_type": "code",
      "metadata": {
        "id": "0VZhoKS-EBTz"
      },
      "source": [
        "dcs = pd.read_csv ('brazil_cities_coordinates.csv')"
      ],
      "execution_count": 55,
      "outputs": []
    },
    {
      "cell_type": "markdown",
      "metadata": {
        "id": "cjZCHGpD7CEW"
      },
      "source": [
        "*Importando Arquivo CSV. (População)*"
      ]
    },
    {
      "cell_type": "code",
      "metadata": {
        "id": "bfl1Zsj77EmW"
      },
      "source": [
        "#from google.colab import files\n",
        "#uploaded = files.upload()"
      ],
      "execution_count": 56,
      "outputs": []
    },
    {
      "cell_type": "code",
      "metadata": {
        "colab": {
          "base_uri": "https://localhost:8080/"
        },
        "id": "tpPEIL58EP2K",
        "outputId": "2b877122-f805-4d3c-f73c-9fbc003004e4"
      },
      "source": [
        "dhs = pd.read_csv('brazil_population_2019.csv', error_bad_lines=False)"
      ],
      "execution_count": 59,
      "outputs": [
        {
          "output_type": "stream",
          "name": "stderr",
          "text": [
            "b'Skipping line 1282: expected 8 fields, saw 9\\nSkipping line 1283: expected 8 fields, saw 9\\nSkipping line 1293: expected 8 fields, saw 9\\nSkipping line 1294: expected 8 fields, saw 9\\nSkipping line 1300: expected 8 fields, saw 9\\nSkipping line 1308: expected 8 fields, saw 9\\nSkipping line 1309: expected 8 fields, saw 9\\nSkipping line 1314: expected 8 fields, saw 9\\nSkipping line 1319: expected 8 fields, saw 9\\nSkipping line 1320: expected 8 fields, saw 9\\nSkipping line 1321: expected 8 fields, saw 9\\nSkipping line 1323: expected 8 fields, saw 9\\n'\n"
          ]
        }
      ]
    },
    {
      "cell_type": "markdown",
      "metadata": {
        "id": "TWUSgbq2Hpor"
      },
      "source": [
        "---------------------------------Etapa 2--------------------------------------"
      ]
    },
    {
      "cell_type": "code",
      "metadata": {
        "colab": {
          "base_uri": "https://localhost:8080/"
        },
        "id": "i7WSfr8kICzh",
        "outputId": "34f76f5e-1eb6-4f5d-eb9c-4eb5bda2609b"
      },
      "source": [
        "dfs.info()"
      ],
      "execution_count": 73,
      "outputs": [
        {
          "output_type": "stream",
          "name": "stdout",
          "text": [
            "<class 'pandas.core.frame.DataFrame'>\n",
            "RangeIndex: 5596 entries, 0 to 5595\n",
            "Data columns (total 14 columns):\n",
            " #   Column                           Non-Null Count  Dtype  \n",
            "---  ------                           --------------  -----  \n",
            " 0   country                          5596 non-null   object \n",
            " 1   state                            5596 non-null   object \n",
            " 2   city                             5596 non-null   object \n",
            " 3   ibgeID                           5596 non-null   int64  \n",
            " 4   deaths                           5596 non-null   int64  \n",
            " 5   totalCases                       5596 non-null   int64  \n",
            " 6   deaths_per_100k_inhabitants      5596 non-null   float64\n",
            " 7   totalCases_per_100k_inhabitants  5596 non-null   float64\n",
            " 8   deaths_by_totalCases             5596 non-null   float64\n",
            " 9   _source                          5596 non-null   object \n",
            " 10  date                             5596 non-null   object \n",
            " 11  newCases                         5596 non-null   int64  \n",
            " 12  newDeaths                        5596 non-null   int64  \n",
            " 13  last_info_date                   5596 non-null   object \n",
            "dtypes: float64(3), int64(5), object(6)\n",
            "memory usage: 612.2+ KB\n"
          ]
        }
      ]
    },
    {
      "cell_type": "code",
      "metadata": {
        "colab": {
          "base_uri": "https://localhost:8080/"
        },
        "id": "y0ye8CzPH5Br",
        "outputId": "f1895772-e513-4f76-b1e5-f93be5348d83"
      },
      "source": [
        "dcs.info()"
      ],
      "execution_count": 72,
      "outputs": [
        {
          "output_type": "stream",
          "name": "stdout",
          "text": [
            "<class 'pandas.core.frame.DataFrame'>\n",
            "RangeIndex: 5570 entries, 0 to 5569\n",
            "Data columns (total 6 columns):\n",
            " #   Column      Non-Null Count  Dtype  \n",
            "---  ------      --------------  -----  \n",
            " 0   state_code  5570 non-null   int64  \n",
            " 1   city_code   5570 non-null   int64  \n",
            " 2   city_name   5570 non-null   object \n",
            " 3   lat         5570 non-null   float64\n",
            " 4   long        5570 non-null   float64\n",
            " 5   capital     5570 non-null   bool   \n",
            "dtypes: bool(1), float64(2), int64(2), object(1)\n",
            "memory usage: 223.1+ KB\n"
          ]
        }
      ]
    },
    {
      "cell_type": "code",
      "metadata": {
        "colab": {
          "base_uri": "https://localhost:8080/"
        },
        "id": "fHZXYS3AFHyT",
        "outputId": "1039584d-3a02-4d00-9ea9-3ccf4d63c902"
      },
      "source": [
        "dhs.info()"
      ],
      "execution_count": 60,
      "outputs": [
        {
          "output_type": "stream",
          "name": "stdout",
          "text": [
            "<class 'pandas.core.frame.DataFrame'>\n",
            "RangeIndex: 2853 entries, 0 to 2852\n",
            "Data columns (total 8 columns):\n",
            " #   Column              Non-Null Count  Dtype \n",
            "---  ------              --------------  ----- \n",
            " 0   region              2853 non-null   object\n",
            " 1   state               2853 non-null   object\n",
            " 2   city                2853 non-null   object\n",
            " 3   state_code          2853 non-null   int64 \n",
            " 4   city_code           2853 non-null   int64 \n",
            " 5   health_region_code  2853 non-null   int64 \n",
            " 6   health_region       2853 non-null   object\n",
            " 7   population          2853 non-null   int64 \n",
            "dtypes: int64(4), object(4)\n",
            "memory usage: 178.4+ KB\n"
          ]
        }
      ]
    },
    {
      "cell_type": "code",
      "metadata": {
        "colab": {
          "base_uri": "https://localhost:8080/"
        },
        "id": "GNSrZ2UDKaFz",
        "outputId": "d2bf71e9-ee8c-41de-8fa4-bc802476e3f5"
      },
      "source": [
        "df.info()"
      ],
      "execution_count": 86,
      "outputs": [
        {
          "output_type": "stream",
          "name": "stdout",
          "text": [
            "<class 'pandas.core.frame.DataFrame'>\n",
            "RangeIndex: 12258 entries, 0 to 12257\n",
            "Data columns (total 5 columns):\n",
            " #   Column  Non-Null Count  Dtype  \n",
            "---  ------  --------------  -----  \n",
            " 0   date    12258 non-null  object \n",
            " 1   region  12258 non-null  object \n",
            " 2   state   12258 non-null  object \n",
            " 3   cases   12258 non-null  float64\n",
            " 4   deaths  12258 non-null  int64  \n",
            "dtypes: float64(1), int64(1), object(3)\n",
            "memory usage: 479.0+ KB\n"
          ]
        }
      ]
    },
    {
      "cell_type": "markdown",
      "metadata": {
        "id": "PeSYKlN0IM-f"
      },
      "source": [
        "-----------------------------------------------------------------------------"
      ]
    },
    {
      "cell_type": "markdown",
      "metadata": {
        "id": "RkGy74yhIM9Z"
      },
      "source": [
        "---------------------------------Etapa 3--------------------------------------"
      ]
    },
    {
      "cell_type": "code",
      "metadata": {
        "id": "auz-wVYWHT8b"
      },
      "source": [
        ""
      ],
      "execution_count": null,
      "outputs": []
    },
    {
      "cell_type": "markdown",
      "metadata": {
        "id": "c-8zNH2QCSud"
      },
      "source": [
        "------------------------------------------------------------------------------"
      ]
    },
    {
      "cell_type": "markdown",
      "metadata": {
        "id": "p6B8j4VFCZhD"
      },
      "source": [
        "Trabalho Final"
      ]
    },
    {
      "cell_type": "code",
      "metadata": {
        "id": "8xB5-SdiCYBt"
      },
      "source": [
        "#df = pd.read_csv ('cases_brazil_total')\n",
        "#dfs = pd.read_csv ('cases_brazil_cities')\n",
        "#dcs = pd.read_csv ('cases_brazil_coordinates')\n",
        "#dhs = pd.read_csv ('brazil_population_2019',)"
      ],
      "execution_count": null,
      "outputs": []
    }
  ]
}