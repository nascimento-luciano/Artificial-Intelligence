{
  "nbformat": 4,
  "nbformat_minor": 0,
  "metadata": {
    "colab": {
      "name": "RegressaoLinear.ipynb",
      "provenance": [],
      "collapsed_sections": [],
      "authorship_tag": "ABX9TyM6Smu3oGD0svAKo2ZZYCVK",
      "include_colab_link": true
    },
    "kernelspec": {
      "name": "python3",
      "display_name": "Python 3"
    },
    "language_info": {
      "name": "python"
    }
  },
  "cells": [
    {
      "cell_type": "markdown",
      "metadata": {
        "id": "view-in-github",
        "colab_type": "text"
      },
      "source": [
        "<a href=\"https://colab.research.google.com/github/nascimento-luciano/Artificial-Intelligence/blob/master/RegressaoLinear.ipynb\" target=\"_parent\"><img src=\"https://colab.research.google.com/assets/colab-badge.svg\" alt=\"Open In Colab\"/></a>"
      ]
    },
    {
      "cell_type": "code",
      "metadata": {
        "colab": {
          "base_uri": "https://localhost:8080/",
          "height": 129
        },
        "id": "_ErkR7Ggzf49",
        "outputId": "00159b89-fa10-474d-b3a6-df107e5ae63c"
      },
      "source": [
        "import tensorflow as tf\n",
        "import numpy as np\n",
        "import matplotlib.pyplot as plt\n",
        "model = tf.keras.Sequential([tf.keras.layers.Dense(units = 1, input_shape=[1])])\n",
        "model.compile(optimizer='sgd', loss='mean_squared_error'\n",
        "xs = np.array([-1.0 0.0, 1.0, 2.0, 3.0, 4.0], dtype=float)\n",
        "#xs=np.array ([-1.0, 0.0, 1.0, 2.0, 3.0, 4.0],dtype=float)\n",
        "ys=2*xs-1\n",
        "history=model.fit(xs, ys, epochs = 1000, verbose=0)\n",
        "print('y(10)=', model.predict([10.0])"
      ],
      "execution_count": 12,
      "outputs": [
        {
          "output_type": "error",
          "ename": "SyntaxError",
          "evalue": "ignored",
          "traceback": [
            "\u001b[0;36m  File \u001b[0;32m\"<ipython-input-12-dd5c202329ef>\"\u001b[0;36m, line \u001b[0;32m6\u001b[0m\n\u001b[0;31m    xs = np.array([-1.0 0.0, 1.0, 2.0, 3.0, 4.0], dtype=float)\u001b[0m\n\u001b[0m     ^\u001b[0m\n\u001b[0;31mSyntaxError\u001b[0m\u001b[0;31m:\u001b[0m invalid syntax\n"
          ]
        }
      ]
    }
  ]
}