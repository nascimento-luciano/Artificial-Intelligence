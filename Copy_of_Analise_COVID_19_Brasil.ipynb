{
  "nbformat": 4,
  "nbformat_minor": 0,
  "metadata": {
    "colab": {
      "name": "Copy of Analise-COVID-19-Brasil.ipynb",
      "provenance": [],
      "collapsed_sections": [],
      "authorship_tag": "ABX9TyOhwM0DI9PUU8/fHKUuM6K5",
      "include_colab_link": true
    },
    "kernelspec": {
      "name": "python3",
      "display_name": "Python 3"
    },
    "language_info": {
      "name": "python"
    }
  },
  "cells": [
    {
      "cell_type": "markdown",
      "metadata": {
        "id": "view-in-github",
        "colab_type": "text"
      },
      "source": [
        "<a href=\"https://colab.research.google.com/github/nascimento-luciano/Artificial-Intelligence/blob/master/Copy_of_Analise_COVID_19_Brasil.ipynb\" target=\"_parent\"><img src=\"https://colab.research.google.com/assets/colab-badge.svg\" alt=\"Open In Colab\"/></a>"
      ]
    },
    {
      "cell_type": "markdown",
      "metadata": {
        "id": "tNWjJ10rocRp"
      },
      "source": [
        "1ª Etapa - Plotagem do Casos Confirmados de COVID-19 no Brasil"
      ]
    },
    {
      "cell_type": "code",
      "metadata": {
        "id": "4_shQlW-OyqP"
      },
      "source": [
        "#---------------------------------Parte 1---------------------------------------\n",
        "#Importanto bibliotecas\n",
        "import pandas as pd\n",
        "import matplotlib.pyplot as plt\n",
        "import numpy as np\n",
        "import pandas as pd\n",
        "#import geopandas as gpd -----> Verificar porque não carrega a biblioteca\n",
        "import plotly.express as px\n",
        "import plotly.graph_objects as go"
      ],
      "execution_count": 610,
      "outputs": []
    },
    {
      "cell_type": "code",
      "metadata": {
        "colab": {
          "base_uri": "https://localhost:8080/"
        },
        "id": "50HAQscEO-HT",
        "outputId": "ff8c4547-61a4-4357-be19-82b7e35cbb1d"
      },
      "source": [
        "#Importação da biblioteca geopandas via instalação no Colab\n",
        "!pip install geopandas"
      ],
      "execution_count": 611,
      "outputs": [
        {
          "output_type": "stream",
          "name": "stdout",
          "text": [
            "Requirement already satisfied: geopandas in /usr/local/lib/python3.7/dist-packages (0.10.2)\n",
            "Requirement already satisfied: pyproj>=2.2.0 in /usr/local/lib/python3.7/dist-packages (from geopandas) (3.2.1)\n",
            "Requirement already satisfied: shapely>=1.6 in /usr/local/lib/python3.7/dist-packages (from geopandas) (1.8.0)\n",
            "Requirement already satisfied: pandas>=0.25.0 in /usr/local/lib/python3.7/dist-packages (from geopandas) (1.1.5)\n",
            "Requirement already satisfied: fiona>=1.8 in /usr/local/lib/python3.7/dist-packages (from geopandas) (1.8.20)\n",
            "Requirement already satisfied: click>=4.0 in /usr/local/lib/python3.7/dist-packages (from fiona>=1.8->geopandas) (7.1.2)\n",
            "Requirement already satisfied: munch in /usr/local/lib/python3.7/dist-packages (from fiona>=1.8->geopandas) (2.5.0)\n",
            "Requirement already satisfied: certifi in /usr/local/lib/python3.7/dist-packages (from fiona>=1.8->geopandas) (2021.10.8)\n",
            "Requirement already satisfied: setuptools in /usr/local/lib/python3.7/dist-packages (from fiona>=1.8->geopandas) (57.4.0)\n",
            "Requirement already satisfied: click-plugins>=1.0 in /usr/local/lib/python3.7/dist-packages (from fiona>=1.8->geopandas) (1.1.1)\n",
            "Requirement already satisfied: six>=1.7 in /usr/local/lib/python3.7/dist-packages (from fiona>=1.8->geopandas) (1.15.0)\n",
            "Requirement already satisfied: cligj>=0.5 in /usr/local/lib/python3.7/dist-packages (from fiona>=1.8->geopandas) (0.7.2)\n",
            "Requirement already satisfied: attrs>=17 in /usr/local/lib/python3.7/dist-packages (from fiona>=1.8->geopandas) (21.2.0)\n",
            "Requirement already satisfied: numpy>=1.15.4 in /usr/local/lib/python3.7/dist-packages (from pandas>=0.25.0->geopandas) (1.19.5)\n",
            "Requirement already satisfied: python-dateutil>=2.7.3 in /usr/local/lib/python3.7/dist-packages (from pandas>=0.25.0->geopandas) (2.8.2)\n",
            "Requirement already satisfied: pytz>=2017.2 in /usr/local/lib/python3.7/dist-packages (from pandas>=0.25.0->geopandas) (2018.9)\n"
          ]
        }
      ]
    },
    {
      "cell_type": "code",
      "metadata": {
        "id": "Nc0h3H3rPDEq"
      },
      "source": [
        "#---------------------------------Parte 2---------------------------------------\n",
        "#Importando Arquivo CSV\n",
        "#Dados não \"Oficiais de 2020\"\n",
        "covid_cases = pd.read_csv('worldometer_coronavirus_daily_data.csv')\n",
        "covid_vaxxs = pd.read_csv('country_vaccinations.csv')\n",
        "df = pd.read_csv('covid_19_data.csv')\n",
        "train=pd.read_csv('train.csv')\n",
        "test=pd.read_csv('test.csv')\n",
        "sub=pd.read_csv('submission.csv')\n",
        "submission=pd.read_csv('submission.csv')\n",
        "confirmed_df = pd.read_csv('time_series_covid_19_confirmed.csv')"
      ],
      "execution_count": 612,
      "outputs": []
    },
    {
      "cell_type": "code",
      "metadata": {
        "id": "ewu71qOlQQXk"
      },
      "source": [
        "#---------------------------------Parte 3---------------------------------------\n",
        "#Vamos marcar o datase e usar como amostra o Brazil\n",
        "\n",
        "def fix_country_name(country):\n",
        "    name_dict = {\n",
        "        'BRA': 'Brazil'\n",
        "     }\n",
        "    try:\n",
        "      return name_dict[country]\n",
        "    except KeyError:\n",
        "      return country\n",
        "\n",
        "covid_cases.country = covid_cases.country.apply(fix_country_name)"
      ],
      "execution_count": 613,
      "outputs": []
    },
    {
      "cell_type": "code",
      "metadata": {
        "id": "OJLmTUSDQSS7"
      },
      "source": [
        "#---------------------------------Parte 4---------------------------------------\n",
        "#Vamos observar o caso do Brasil\n",
        "countries_of_interest = [\"Brazil\"]\n",
        "\n",
        "#Vamos começar a limpar os dados filtrando-o para o subconjunto de países que desejamos.\n",
        "covid_cases_subset = covid_cases[covid_cases.country.isin (countries_of_interest)]\n",
        "covid_vaxxs_subset = covid_vaxxs[covid_vaxxs.country.isin (countries_of_interest)]"
      ],
      "execution_count": 614,
      "outputs": []
    },
    {
      "cell_type": "code",
      "metadata": {
        "id": "Y33OiuZBQT3y"
      },
      "source": [
        "#---------------------------------Parte 5---------------------------------------\n",
        "#Unindo os databases usando as datas e países\n",
        "merged_data = pd.merge_ordered(covid_cases_subset, covid_vaxxs_subset, \\\n",
        "                               left_on=['date', 'country'], \\\n",
        "                               right_on=['date', 'country'])\n",
        "\n",
        "#Remove as colunas desnecessárias\n",
        "merged_data.drop(columns=['iso_code', 'source_name', 'source_website', 'vaccines',\\\n",
        "                           'daily_vaccinations_per_million', 'daily_vaccinations_raw'], inplace=True)"
      ],
      "execution_count": 615,
      "outputs": []
    },
    {
      "cell_type": "code",
      "metadata": {
        "id": "pyw-C9mpQVWa"
      },
      "source": [
        "#---------------------------------Parte 6---------------------------------------\n",
        "#Vamos lidar com os NaNs\n",
        "merged_data.fillna({'total_vaccinations':0, 'people_vaccinated':0, 'people_fully_vaccinated':0,\\\n",
        "                 'daily_vaccinations':0,'total_vaccinations_per_hundred':0,\\\n",
        "                 'people_vaccinated_per_hundred':0 ,'people_fully_vaccinated_per_hundred':0}\\\n",
        "                 ,inplace=True)\n",
        "\n",
        "covid_data = merged_data.dropna(how='any', subset=['cumulative_total_cases'])"
      ],
      "execution_count": 616,
      "outputs": []
    },
    {
      "cell_type": "code",
      "metadata": {
        "id": "R1NLUjqmQWsC"
      },
      "source": [
        "#---------------------------------Parte 7---------------------------------------\n",
        "#Vamos também definir o índice para a data\n",
        "covid_data.set_index('date', inplace=True)"
      ],
      "execution_count": 617,
      "outputs": []
    },
    {
      "cell_type": "code",
      "metadata": {
        "id": "bWBOmmGuQX_7"
      },
      "source": [
        "#Vamos mudar o índice para um objeto datetime agora\n",
        "covid_data.index = pd.to_datetime(covid_data.index, errors='coerce', infer_datetime_format=True)"
      ],
      "execution_count": 618,
      "outputs": []
    },
    {
      "cell_type": "code",
      "metadata": {
        "colab": {
          "base_uri": "https://localhost:8080/",
          "height": 436
        },
        "id": "8GtjdXp-Qe_Z",
        "outputId": "4fecd838-096c-430c-f44d-1547242cc3cc"
      },
      "source": [
        "#---------------------------------Parte 8---------------------------------------\n",
        "#Plotagem do casos de COVID-19 no Brasil em forma de barras\n",
        "BRA_infections = covid_data[covid_data.country == 'Brazil']\n",
        "\n",
        "plt.figure(figsize=(12, 6))\n",
        "BRA_infections['daily_new_cases']\\\n",
        "  .groupby(BRA_infections.index.to_period('M'))\\\n",
        "  .sum().plot(kind='bar', legend=False, color='g')\n",
        "\n",
        "plt.legend(['Brasil'])\n",
        "plt.ylabel('Número de casos')\n",
        "plt.xlabel('Meses')\n",
        "plt.title('Casos de COVID em Meses');"
      ],
      "execution_count": 619,
      "outputs": [
        {
          "output_type": "display_data",
          "data": {
            "image/png": "[encoded data removed]",
            "text/plain": [
              "<Figure size 864x432 with 1 Axes>"
            ]
          },
          "metadata": {
            "needs_background": "light"
          }
        }
      ]
    },
    {
      "cell_type": "code",
      "metadata": {
        "colab": {
          "base_uri": "https://localhost:8080/",
          "height": 398
        },
        "id": "dqVmQ4fAQg_h",
        "outputId": "04f93932-e5e7-437f-b5e3-a0d975f86e4b"
      },
      "source": [
        "#---------------------------------Parte 9---------------------------------------\n",
        "#Vemos que o padrão muda de país para país\n",
        "plt.figure(figsize=(12, 6))\n",
        "covid_data[covid_data.country == 'Brazil'].daily_new_cases.plot(legend=False,rot=45)\n",
        "covid_data[covid_data.country == 'Brazil'].daily_vaccinations.plot(legend=False,rot=45)\n",
        "\n",
        "#Marca o início do lançamento da vacina  no Brazil -----> Mônica Calazans (Primeiro Vacinado)\n",
        "plt.axvline('17/01/2021', color='k', linestyle='dashed', linewidth=1)\n",
        "\n",
        "plt.legend(['Casos diários', 'Vacinações diárias'])\n",
        "plt.ylabel('Número de pessoas')\n",
        "plt.xlabel('Data')\n",
        "plt.title('Taxas de COVID e vacinas no Brasil');\n",
        "\n",
        "#É possível conferir se os gráficos abaixo estão certo,\n",
        "#checando nos sites da Wikipedia e Our World Data\n",
        "#https://en.wikipedia.org/wiki/COVID-19_pandemic_in_Brazil\n",
        "#https://ourworldindata.org/coronavirus/country/brazil"
      ],
      "execution_count": 620,
      "outputs": [
        {
          "output_type": "display_data",
          "data": {
            "image/png": "[encoded data removed]",
            "text/plain": [
              "<Figure size 864x432 with 1 Axes>"
            ]
          },
          "metadata": {
            "needs_background": "light"
          }
        }
      ]
    },
    {
      "cell_type": "markdown",
      "metadata": {
        "id": "lA9cU4t5tUS7"
      },
      "source": [
        "--------------------------Fim do Código---------------------------------------"
      ]
    },
    {
      "cell_type": "markdown",
      "metadata": {
        "id": "9UyFrkAgALmT"
      },
      "source": [
        "2ª Etapa - Plotagem do Modelo de Predição de Casos de Confirmados no Brasil"
      ]
    },
    {
      "cell_type": "code",
      "metadata": {
        "id": "4DDlRZG2qslQ"
      },
      "source": [
        "#---------------------------------Parte 1---------------------------------------\n",
        "#Importanto bibliotecas\n",
        "import numpy as np\n",
        "import pandas as pd\n",
        "import matplotlib\n",
        "import matplotlib.pyplot as plt\n",
        "from plotly.offline import iplot, init_notebook_mode\n",
        "import plotly.express as px\n",
        "import bokeh \n",
        "from bokeh.io import output_notebook\n",
        "from bokeh.resources import INLINE\n",
        "import tensorflow as tf\n",
        "import sklearn\n",
        "from sklearn.model_selection import train_test_split\n",
        "from sklearn.preprocessing import MinMaxScaler\n",
        "import warnings\n",
        "warnings.filterwarnings(\"ignore\")\n",
        "output_notebook(resources=INLINE)\n",
        "%matplotlib inline\n",
        "\n",
        "import tensorflow as tf\n",
        "from sklearn.model_selection import train_test_split\n",
        "from keras.models import Sequential\n",
        "from sklearn.metrics import classification_report,confusion_matrix,accuracy_score\n",
        "from tensorflow import keras\n",
        "from tensorflow.keras import layers\n",
        "from tensorflow.keras.preprocessing.text import Tokenizer\n",
        "from tensorflow.keras.utils import to_categorical"
      ],
      "execution_count": 621,
      "outputs": []
    },
    {
      "cell_type": "code",
      "metadata": {
        "id": "49rsEskQqunZ"
      },
      "source": [
        "#---------------------------------Parte 2---------------------------------------\n",
        "#Construindo o DataFrame a partir de um arquivo CSV.\n",
        "train = pd.DataFrame(pd.read_csv('train.csv'))"
      ],
      "execution_count": 622,
      "outputs": []
    },
    {
      "cell_type": "code",
      "metadata": {
        "colab": {
          "base_uri": "https://localhost:8080/"
        },
        "id": "JZr0HI-Xq1Oy",
        "outputId": "45bbfcd9-a693-41ca-bc2c-40fa1f445027"
      },
      "source": [
        "#Platagem da forma de treinamento\n",
        "print(\"A forma dos dados de treinamento é = {}\".format(train.shape))"
      ],
      "execution_count": 623,
      "outputs": [
        {
          "output_type": "stream",
          "name": "stdout",
          "text": [
            "A forma dos dados de treinamento é = (35995, 6)\n"
          ]
        }
      ]
    },
    {
      "cell_type": "code",
      "metadata": {
        "id": "UEpXqWQuq30x"
      },
      "source": [
        "#---------------------------------Parte 3---------------------------------------\n",
        "#Considerando para o treinamento os dados das Provincias, Casos Confirmados e Fatalidades\n",
        "train.Province_State.fillna(\"\", inplace = True)\n",
        "train.ConfirmedCases.fillna(\"\", inplace = True)\n",
        "train.Fatalities.fillna(\"\", inplace = True)"
      ],
      "execution_count": 624,
      "outputs": []
    },
    {
      "cell_type": "code",
      "metadata": {
        "colab": {
          "base_uri": "https://localhost:8080/"
        },
        "id": "cxL8Uz9Kq5yo",
        "outputId": "141085c7-784e-4ffc-94ba-9b18be90e9a8"
      },
      "source": [
        "#---------------------------------Parte 4---------------------------------------\n",
        "#Treinamento exibe a forma matricial dos países com casos confirmados de COVID-19\n",
        "train[\"Country_Region\"].unique()"
      ],
      "execution_count": 625,
      "outputs": [
        {
          "output_type": "execute_result",
          "data": {
            "text/plain": [
              "array(['Afghanistan', 'Albania', 'Algeria', 'Andorra', 'Angola',\n",
              "       'Antigua and Barbuda', 'Argentina', 'Armenia', 'Australia',\n",
              "       'Austria', 'Azerbaijan', 'Bahamas', 'Bahrain', 'Bangladesh',\n",
              "       'Barbados', 'Belarus', 'Belgium', 'Belize', 'Benin', 'Bhutan',\n",
              "       'Bolivia', 'Bosnia and Herzegovina', 'Botswana', 'Brazil',\n",
              "       'Brunei', 'Bulgaria', 'Burkina Faso', 'Burma', 'Burundi',\n",
              "       'Cabo Verde', 'Cambodia', 'Cameroon', 'Canada',\n",
              "       'Central African Republic', 'Chad', 'Chile', 'China', 'Colombia',\n",
              "       'Congo (Brazzaville)', 'Congo (Kinshasa)', 'Costa Rica',\n",
              "       \"Cote d'Ivoire\", 'Croatia', 'Cuba', 'Cyprus', 'Czechia', 'Denmark',\n",
              "       'Diamond Princess', 'Djibouti', 'Dominica', 'Dominican Republic',\n",
              "       'Ecuador', 'Egypt', 'El Salvador', 'Equatorial Guinea', 'Eritrea',\n",
              "       'Estonia', 'Eswatini', 'Ethiopia', 'Fiji', 'Finland', 'France',\n",
              "       'Gabon', 'Gambia', 'Georgia', 'Germany', 'Ghana', 'Greece',\n",
              "       'Grenada', 'Guatemala', 'Guinea', 'Guinea-Bissau', 'Guyana',\n",
              "       'Haiti', 'Holy See', 'Honduras', 'Hungary', 'Iceland', 'India',\n",
              "       'Indonesia', 'Iran', 'Iraq', 'Ireland', 'Israel', 'Italy',\n",
              "       'Jamaica', 'Japan', 'Jordan', 'Kazakhstan', 'Kenya',\n",
              "       'Korea, South', 'Kosovo', 'Kuwait', 'Kyrgyzstan', 'Laos', 'Latvia',\n",
              "       'Lebanon', 'Liberia', 'Libya', 'Liechtenstein', 'Lithuania',\n",
              "       'Luxembourg', 'MS Zaandam', 'Madagascar', 'Malawi', 'Malaysia',\n",
              "       'Maldives', 'Mali', 'Malta', 'Mauritania', 'Mauritius', 'Mexico',\n",
              "       'Moldova', 'Monaco', 'Mongolia', 'Montenegro', 'Morocco',\n",
              "       'Mozambique', 'Namibia', 'Nepal', 'Netherlands', 'New Zealand',\n",
              "       'Nicaragua', 'Niger', 'Nigeria', 'North Macedonia', 'Norway',\n",
              "       'Oman', 'Pakistan', 'Panama', 'Papua New Guinea', 'Paraguay',\n",
              "       'Peru', 'Philippines', 'Poland', 'Portugal', 'Qatar', 'Romania',\n",
              "       'Russia', 'Rwanda', 'Saint Kitts and Nevis', 'Saint Lucia',\n",
              "       'Saint Vincent and the Grenadines', 'San Marino',\n",
              "       'Sao Tome and Principe', 'Saudi Arabia', 'Senegal', 'Serbia',\n",
              "       'Seychelles', 'Sierra Leone', 'Singapore', 'Slovakia', 'Slovenia',\n",
              "       'Somalia', 'South Africa', 'South Sudan', 'Spain', 'Sri Lanka',\n",
              "       'Sudan', 'Suriname', 'Sweden', 'Switzerland', 'Syria', 'Taiwan*',\n",
              "       'Tanzania', 'Thailand', 'Timor-Leste', 'Togo',\n",
              "       'Trinidad and Tobago', 'Tunisia', 'Turkey', 'US', 'Uganda',\n",
              "       'Ukraine', 'United Arab Emirates', 'United Kingdom', 'Uruguay',\n",
              "       'Uzbekistan', 'Venezuela', 'Vietnam', 'West Bank and Gaza',\n",
              "       'Western Sahara', 'Zambia', 'Zimbabwe'], dtype=object)"
            ]
          },
          "metadata": {},
          "execution_count": 625
        }
      ]
    },
    {
      "cell_type": "code",
      "metadata": {
        "id": "bn-NBB9cq82L"
      },
      "source": [
        "#---------------------------------Parte 5---------------------------------------\n",
        "#Aqui separamos os casos confimados e os casos fatais de COVID-19 no Brazil\n",
        "confirmed_cases_brazil = train[train[\"Country_Region\"] == \"Brazil\"].groupby([\"Date\"]).ConfirmedCases.sum()\n",
        "fatal_cases_brazil = train[train[\"Country_Region\"] == \"Brazil\"].groupby([\"Date\"]).Fatalities.sum()"
      ],
      "execution_count": 626,
      "outputs": []
    },
    {
      "cell_type": "code",
      "metadata": {
        "colab": {
          "base_uri": "https://localhost:8080/",
          "height": 424
        },
        "id": "P3RqPhJ6r0LJ",
        "outputId": "b004cae6-174d-471b-f946-914ff08597c2"
      },
      "source": [
        "#---------------------------------Parte 6---------------------------------------\n",
        "#Fazendo o treinamento para Paíse/Região\n",
        "train_brazil = train[train[\"Country_Region\"] == \"Brazil\"]\n",
        "train_brazil"
      ],
      "execution_count": 627,
      "outputs": [
        {
          "output_type": "execute_result",
          "data": {
            "text/html": [
              "<div>\n",
              "<style scoped>\n",
              "    .dataframe tbody tr th:only-of-type {\n",
              "        vertical-align: middle;\n",
              "    }\n",
              "\n",
              "    .dataframe tbody tr th {\n",
              "        vertical-align: top;\n",
              "    }\n",
              "\n",
              "    .dataframe thead th {\n",
              "        text-align: right;\n",
              "    }\n",
              "</style>\n",
              "<table border=\"1\" class=\"dataframe\">\n",
              "  <thead>\n",
              "    <tr style=\"text-align: right;\">\n",
              "      <th></th>\n",
              "      <th>Id</th>\n",
              "      <th>Province_State</th>\n",
              "      <th>Country_Region</th>\n",
              "      <th>Date</th>\n",
              "      <th>ConfirmedCases</th>\n",
              "      <th>Fatalities</th>\n",
              "    </tr>\n",
              "  </thead>\n",
              "  <tbody>\n",
              "    <tr>\n",
              "      <th>3450</th>\n",
              "      <td>3451</td>\n",
              "      <td></td>\n",
              "      <td>Brazil</td>\n",
              "      <td>2020-01-22</td>\n",
              "      <td>0.0</td>\n",
              "      <td>0.0</td>\n",
              "    </tr>\n",
              "    <tr>\n",
              "      <th>3451</th>\n",
              "      <td>3452</td>\n",
              "      <td></td>\n",
              "      <td>Brazil</td>\n",
              "      <td>2020-01-23</td>\n",
              "      <td>0.0</td>\n",
              "      <td>0.0</td>\n",
              "    </tr>\n",
              "    <tr>\n",
              "      <th>3452</th>\n",
              "      <td>3453</td>\n",
              "      <td></td>\n",
              "      <td>Brazil</td>\n",
              "      <td>2020-01-24</td>\n",
              "      <td>0.0</td>\n",
              "      <td>0.0</td>\n",
              "    </tr>\n",
              "    <tr>\n",
              "      <th>3453</th>\n",
              "      <td>3454</td>\n",
              "      <td></td>\n",
              "      <td>Brazil</td>\n",
              "      <td>2020-01-25</td>\n",
              "      <td>0.0</td>\n",
              "      <td>0.0</td>\n",
              "    </tr>\n",
              "    <tr>\n",
              "      <th>3454</th>\n",
              "      <td>3455</td>\n",
              "      <td></td>\n",
              "      <td>Brazil</td>\n",
              "      <td>2020-01-26</td>\n",
              "      <td>0.0</td>\n",
              "      <td>0.0</td>\n",
              "    </tr>\n",
              "    <tr>\n",
              "      <th>...</th>\n",
              "      <td>...</td>\n",
              "      <td>...</td>\n",
              "      <td>...</td>\n",
              "      <td>...</td>\n",
              "      <td>...</td>\n",
              "      <td>...</td>\n",
              "    </tr>\n",
              "    <tr>\n",
              "      <th>3560</th>\n",
              "      <td>3561</td>\n",
              "      <td></td>\n",
              "      <td>Brazil</td>\n",
              "      <td>2020-05-11</td>\n",
              "      <td>169594.0</td>\n",
              "      <td>11653.0</td>\n",
              "    </tr>\n",
              "    <tr>\n",
              "      <th>3561</th>\n",
              "      <td>3562</td>\n",
              "      <td></td>\n",
              "      <td>Brazil</td>\n",
              "      <td>2020-05-12</td>\n",
              "      <td>178214.0</td>\n",
              "      <td>12461.0</td>\n",
              "    </tr>\n",
              "    <tr>\n",
              "      <th>3562</th>\n",
              "      <td>3563</td>\n",
              "      <td></td>\n",
              "      <td>Brazil</td>\n",
              "      <td>2020-05-13</td>\n",
              "      <td>190137.0</td>\n",
              "      <td>13240.0</td>\n",
              "    </tr>\n",
              "    <tr>\n",
              "      <th>3563</th>\n",
              "      <td>3564</td>\n",
              "      <td></td>\n",
              "      <td>Brazil</td>\n",
              "      <td>2020-05-14</td>\n",
              "      <td>203165.0</td>\n",
              "      <td>13999.0</td>\n",
              "    </tr>\n",
              "    <tr>\n",
              "      <th>3564</th>\n",
              "      <td>3565</td>\n",
              "      <td></td>\n",
              "      <td>Brazil</td>\n",
              "      <td>2020-05-15</td>\n",
              "      <td>220291.0</td>\n",
              "      <td>14962.0</td>\n",
              "    </tr>\n",
              "  </tbody>\n",
              "</table>\n",
              "<p>115 rows × 6 columns</p>\n",
              "</div>"
            ],
            "text/plain": [
              "        Id Province_State  ... ConfirmedCases Fatalities\n",
              "3450  3451                 ...            0.0        0.0\n",
              "3451  3452                 ...            0.0        0.0\n",
              "3452  3453                 ...            0.0        0.0\n",
              "3453  3454                 ...            0.0        0.0\n",
              "3454  3455                 ...            0.0        0.0\n",
              "...    ...            ...  ...            ...        ...\n",
              "3560  3561                 ...       169594.0    11653.0\n",
              "3561  3562                 ...       178214.0    12461.0\n",
              "3562  3563                 ...       190137.0    13240.0\n",
              "3563  3564                 ...       203165.0    13999.0\n",
              "3564  3565                 ...       220291.0    14962.0\n",
              "\n",
              "[115 rows x 6 columns]"
            ]
          },
          "metadata": {},
          "execution_count": 627
        }
      ]
    },
    {
      "cell_type": "code",
      "metadata": {
        "id": "2ewbM62_ruMA"
      },
      "source": [
        "#---------------------------------Parte 7--------------------------------------\n",
        "#Analisando os casos confimados e casos fatais\n",
        "train_brazil[\"ConfirmedCases\"] = train_brazil[\"ConfirmedCases\"].astype(int)\n",
        "train_brazil[\"Fatalities\"] = train_brazil[\"Fatalities\"].astype(int)"
      ],
      "execution_count": 628,
      "outputs": []
    },
    {
      "cell_type": "code",
      "metadata": {
        "colab": {
          "base_uri": "https://localhost:8080/"
        },
        "id": "Of9mgEJSrvjm",
        "outputId": "f6e373f2-5314-4714-d540-09db0ad5e498"
      },
      "source": [
        "#---------------------------------Parte 8---------------------------------------\n",
        "#Aqui vemos o tamanho do treinamento e da validação \n",
        "train_brazil_size = int(len(train_brazil) * 0.75)\n",
        "val_brazil_size = len(train_brazil) - train_brazil_size\n",
        "print(\"Training size = {}\".format(train_brazil_size))\n",
        "print(\"Validation size = {}\".format(val_brazil_size))"
      ],
      "execution_count": 629,
      "outputs": [
        {
          "output_type": "stream",
          "name": "stdout",
          "text": [
            "Training size = 86\n",
            "Validation size = 29\n"
          ]
        }
      ]
    },
    {
      "cell_type": "code",
      "metadata": {
        "id": "K37HPRSDrh4B"
      },
      "source": [
        "#---------------------------------Parte 9---------------------------------------\n",
        "#Treinamento os casos confimados e casos fatais\n",
        "train_brazil_confirmed_cases = train_brazil[[\"ConfirmedCases\"]]\n",
        "train_brazil_fatal_cases = train_brazil[[\"Fatalities\"]]"
      ],
      "execution_count": 630,
      "outputs": []
    },
    {
      "cell_type": "code",
      "metadata": {
        "colab": {
          "base_uri": "https://localhost:8080/"
        },
        "id": "AR4tHvVB0D0s",
        "outputId": "eeba61cd-f6ec-4ef8-802f-f58046aeae25"
      },
      "source": [
        "#PLotagem do casos confirmados e fatais em forma de matriz\n",
        "print(train_brazil_confirmed_cases, train_brazil_fatal_cases)"
      ],
      "execution_count": 631,
      "outputs": [
        {
          "output_type": "stream",
          "name": "stdout",
          "text": [
            "      ConfirmedCases\n",
            "3450               0\n",
            "3451               0\n",
            "3452               0\n",
            "3453               0\n",
            "3454               0\n",
            "...              ...\n",
            "3560          169594\n",
            "3561          178214\n",
            "3562          190137\n",
            "3563          203165\n",
            "3564          220291\n",
            "\n",
            "[115 rows x 1 columns]       Fatalities\n",
            "3450           0\n",
            "3451           0\n",
            "3452           0\n",
            "3453           0\n",
            "3454           0\n",
            "...          ...\n",
            "3560       11653\n",
            "3561       12461\n",
            "3562       13240\n",
            "3563       13999\n",
            "3564       14962\n",
            "\n",
            "[115 rows x 1 columns]\n"
          ]
        }
      ]
    },
    {
      "cell_type": "code",
      "metadata": {
        "colab": {
          "base_uri": "https://localhost:8080/",
          "height": 500
        },
        "id": "wWmVaIlczU7y",
        "outputId": "8d371065-e05d-483f-d60e-56d64982ba5a"
      },
      "source": [
        "#---------------------------------Parte 11--------------------------------------\n",
        "#Plotagem dos casos confirmados e casos fatais de Janeiro a Maio (2020)\n",
        "plt.figure(figsize = (8, 8))\n",
        "x = np.arange(1, 116, 1)\n",
        "y1 = train_brazil_confirmed_cases \n",
        "y2 = train_brazil_fatal_cases \n",
        "plt.plot(x, y1, color = \"m\", label = \"Casos Confirmados no Brasil de Janeiro a Maio (2020)\")\n",
        "plt.plot(x, y2, color = \"r\", label = \"Casos Fatais no Brasil de Janeiro a Maio (2020)\")\n",
        "plt.grid(True)\n",
        "plt.legend()"
      ],
      "execution_count": 632,
      "outputs": [
        {
          "output_type": "execute_result",
          "data": {
            "text/plain": [
              "<matplotlib.legend.Legend at 0x7f414373cd10>"
            ]
          },
          "metadata": {},
          "execution_count": 632
        },
        {
          "output_type": "display_data",
          "data": {
            "image/png": "[encoded data removed]",
            "text/plain": [
              "<Figure size 576x576 with 1 Axes>"
            ]
          },
          "metadata": {
            "needs_background": "light"
          }
        }
      ]
    },
    {
      "cell_type": "code",
      "metadata": {
        "colab": {
          "base_uri": "https://localhost:8080/"
        },
        "id": "ZXhBl4d2ztda",
        "outputId": "25df29e5-6cd7-4b92-e7dc-a781367d9457"
      },
      "source": [
        "#---------------------------------Parte 12--------------------------------------\n",
        "#O comando len () é uma função embutida que retorna o comprimento (número de itens) de um objeto.\n",
        "len(train_brazil_confirmed_cases)"
      ],
      "execution_count": 633,
      "outputs": [
        {
          "output_type": "execute_result",
          "data": {
            "text/plain": [
              "115"
            ]
          },
          "metadata": {},
          "execution_count": 633
        }
      ]
    },
    {
      "cell_type": "code",
      "metadata": {
        "colab": {
          "base_uri": "https://localhost:8080/",
          "height": 424
        },
        "id": "YwQMFuKnzvpb",
        "outputId": "3a903a12-4f0b-4305-e524-adb9a5cfd106"
      },
      "source": [
        "#---------------------------------Parte 13--------------------------------------\n",
        "#Treinamento dos casos confirmados de COVID-19 no Brasil\n",
        "train_brazil_confirmed_cases"
      ],
      "execution_count": 634,
      "outputs": [
        {
          "output_type": "execute_result",
          "data": {
            "text/html": [
              "<div>\n",
              "<style scoped>\n",
              "    .dataframe tbody tr th:only-of-type {\n",
              "        vertical-align: middle;\n",
              "    }\n",
              "\n",
              "    .dataframe tbody tr th {\n",
              "        vertical-align: top;\n",
              "    }\n",
              "\n",
              "    .dataframe thead th {\n",
              "        text-align: right;\n",
              "    }\n",
              "</style>\n",
              "<table border=\"1\" class=\"dataframe\">\n",
              "  <thead>\n",
              "    <tr style=\"text-align: right;\">\n",
              "      <th></th>\n",
              "      <th>ConfirmedCases</th>\n",
              "    </tr>\n",
              "  </thead>\n",
              "  <tbody>\n",
              "    <tr>\n",
              "      <th>3450</th>\n",
              "      <td>0</td>\n",
              "    </tr>\n",
              "    <tr>\n",
              "      <th>3451</th>\n",
              "      <td>0</td>\n",
              "    </tr>\n",
              "    <tr>\n",
              "      <th>3452</th>\n",
              "      <td>0</td>\n",
              "    </tr>\n",
              "    <tr>\n",
              "      <th>3453</th>\n",
              "      <td>0</td>\n",
              "    </tr>\n",
              "    <tr>\n",
              "      <th>3454</th>\n",
              "      <td>0</td>\n",
              "    </tr>\n",
              "    <tr>\n",
              "      <th>...</th>\n",
              "      <td>...</td>\n",
              "    </tr>\n",
              "    <tr>\n",
              "      <th>3560</th>\n",
              "      <td>169594</td>\n",
              "    </tr>\n",
              "    <tr>\n",
              "      <th>3561</th>\n",
              "      <td>178214</td>\n",
              "    </tr>\n",
              "    <tr>\n",
              "      <th>3562</th>\n",
              "      <td>190137</td>\n",
              "    </tr>\n",
              "    <tr>\n",
              "      <th>3563</th>\n",
              "      <td>203165</td>\n",
              "    </tr>\n",
              "    <tr>\n",
              "      <th>3564</th>\n",
              "      <td>220291</td>\n",
              "    </tr>\n",
              "  </tbody>\n",
              "</table>\n",
              "<p>115 rows × 1 columns</p>\n",
              "</div>"
            ],
            "text/plain": [
              "      ConfirmedCases\n",
              "3450               0\n",
              "3451               0\n",
              "3452               0\n",
              "3453               0\n",
              "3454               0\n",
              "...              ...\n",
              "3560          169594\n",
              "3561          178214\n",
              "3562          190137\n",
              "3563          203165\n",
              "3564          220291\n",
              "\n",
              "[115 rows x 1 columns]"
            ]
          },
          "metadata": {},
          "execution_count": 634
        }
      ]
    },
    {
      "cell_type": "code",
      "metadata": {
        "id": "xdVndkPAsjjC"
      },
      "source": [
        "#---------------------------------Parte 14--------------------------------------\n",
        "#Aqui usa-se o iloc para indexação / seleção por posição baseada em localização de inteiros.\n",
        "train_brazil_confirmed_cases_data = train_brazil_confirmed_cases.iloc[0:train_brazil_size]\n",
        "val_brazil_confirmed_cases_data = train_brazil_confirmed_cases.iloc[train_brazil_size : len(train_brazil_confirmed_cases)]"
      ],
      "execution_count": 635,
      "outputs": []
    },
    {
      "cell_type": "code",
      "metadata": {
        "colab": {
          "base_uri": "https://localhost:8080/"
        },
        "id": "j7lQ98xIsup5",
        "outputId": "8c1b27a7-98f8-43da-c28c-401409a06273"
      },
      "source": [
        "#---------------------------------Parte 15--------------------------------------\n",
        "#Plotagem da fixação de inteiros; treinamento e validação de casos\n",
        "print(len(train_brazil_confirmed_cases_data))\n",
        "print(len(val_brazil_confirmed_cases_data))"
      ],
      "execution_count": 636,
      "outputs": [
        {
          "output_type": "stream",
          "name": "stdout",
          "text": [
            "86\n",
            "29\n"
          ]
        }
      ]
    },
    {
      "cell_type": "code",
      "metadata": {
        "id": "Drt7kV-mtEzL"
      },
      "source": [
        "#---------------------------------Parte 16--------------------------------------\n",
        "#O MinMaxScaler faz a estimação de escala e traduz cada recurso individualmente, \n",
        "#de modo que esteja no intervalo especificado no conjunto de treinamento, por exemplo. entre zero e um.\n",
        "scaler = MinMaxScaler(feature_range = (0,1))\n",
        "def createDataset(train) : \n",
        "    train_scaled = scaler.fit_transform(train)\n",
        "    x_train = [] \n",
        "    y_train = []\n",
        "    time_step = 2\n",
        "    for i in range(time_step, train_scaled.shape[0]):\n",
        "        x_train.append(train_scaled[i-time_step : i , 0])\n",
        "        y_train.append(train_scaled[i, 0])\n",
        "    \n",
        "    x_train, y_train = np.array(x_train), np.array(y_train)\n",
        "    x_train = np.reshape(x_train, (x_train.shape[0], x_train.shape[1], 1 ))\n",
        "    y_train = np.reshape(y_train, (y_train.shape[0], 1 ))\n",
        "    return x_train, y_train     "
      ],
      "execution_count": 637,
      "outputs": []
    },
    {
      "cell_type": "code",
      "metadata": {
        "id": "LwR6PESes1tS"
      },
      "source": [
        "#---------------------------------Parte 17--------------------------------------\n",
        "#Aqui será definido a criação do dataset (train)\n",
        "def createDataset(train) : \n",
        "    train_scaled = scaler.fit_transform(train)\n",
        "    x_train = [] \n",
        "    y_train = []\n",
        "    time_step = 2\n",
        "    for i in range(time_step, train_scaled.shape[0]):\n",
        "        x_train.append(train_scaled[i-time_step : i , 0])\n",
        "        y_train.append(train_scaled[i, 0])\n",
        "    \n",
        "    x_train, y_train = np.array(x_train), np.array(y_train)\n",
        "    x_train = np.reshape(x_train, (x_train.shape[0], x_train.shape[1], 1 ))\n",
        "    y_train = np.reshape(y_train, (y_train.shape[0], 1 ))\n",
        "    return x_train, y_train   "
      ],
      "execution_count": 638,
      "outputs": []
    },
    {
      "cell_type": "code",
      "metadata": {
        "id": "rvrDrCJRs4sZ"
      },
      "source": [
        "#---------------------------------Parte 18--------------------------------------\n",
        "#Conjunto de dados para treinar o respectivo modelo de aprendizado\n",
        "x_train, y_train = createDataset(train_brazil_confirmed_cases_data)\n",
        "x_val, y_val = createDataset(val_brazil_confirmed_cases_data)"
      ],
      "execution_count": 639,
      "outputs": []
    },
    {
      "cell_type": "code",
      "metadata": {
        "colab": {
          "base_uri": "https://localhost:8080/"
        },
        "id": "dtw5ySo1thPZ",
        "outputId": "dd8ab2ca-d630-4329-aa01-7e6502dc081c"
      },
      "source": [
        "#---------------------------------Parte 19--------------------------------------\n",
        "#Plotagem do modelo de aprendizado\n",
        "print(x_train.shape, y_train.shape)\n",
        "print(x_val.shape, y_val.shape)"
      ],
      "execution_count": 640,
      "outputs": [
        {
          "output_type": "stream",
          "name": "stdout",
          "text": [
            "(84, 2, 1) (84, 1)\n",
            "(27, 2, 1) (27, 1)\n"
          ]
        }
      ]
    },
    {
      "cell_type": "code",
      "metadata": {
        "id": "uqWGqOKnrTZI"
      },
      "source": [
        "#---------------------------------Parte 20--------------------------------------\n",
        "#Aqui é criado e configurado a rede neural\n",
        "#LSTM cria camada longa de memória de curto prazo\n",
        "#A camada Dropout define aleatoriamente as unidades de entrada para 0 \n",
        "#com uma frequência de taxa em cada etapa durante o tempo de treinamento\n",
        "model = tf.keras.Sequential()\n",
        "model.add(tf.keras.layers.LSTM(units = 50, return_sequences = True, input_shape = (x_train.shape[1], 1)))\n",
        "model.add(tf.keras.layers.Dropout(0.2))\n",
        "model.add(tf.keras.layers.LSTM(units = 50, return_sequences = True))\n",
        "model.add(tf.keras.layers.Dropout(0.2))\n",
        "model.add(tf.keras.layers.LSTM(units = 50, return_sequences = True))\n",
        "model.add(tf.keras.layers.Dropout(0.2))\n",
        "model.add(tf.keras.layers.LSTM(units = 50, return_sequences = False))\n",
        "model.add(tf.keras.layers.Dropout(0.2))\n",
        "model.add(tf.keras.layers.Dense(units = 1))"
      ],
      "execution_count": 641,
      "outputs": []
    },
    {
      "cell_type": "code",
      "metadata": {
        "id": "HnqtBKzFtkVo"
      },
      "source": [
        "#Compilação do modelo de treinamento\n",
        "model.compile(tf.keras.optimizers.Adam(lr = 0.001), loss = \"mean_squared_error\", metrics=['accuracy'])"
      ],
      "execution_count": 642,
      "outputs": []
    },
    {
      "cell_type": "code",
      "metadata": {
        "colab": {
          "base_uri": "https://localhost:8080/"
        },
        "id": "20cJDKv5tmOO",
        "outputId": "06e092fe-6094-4628-c599-8fb024a6ae26"
      },
      "source": [
        "#Sumário com o modelo de treinamento\n",
        "model.summary()"
      ],
      "execution_count": 643,
      "outputs": [
        {
          "output_type": "stream",
          "name": "stdout",
          "text": [
            "Model: \"sequential_12\"\n",
            "_________________________________________________________________\n",
            " Layer (type)                Output Shape              Param #   \n",
            "=================================================================\n",
            " lstm_44 (LSTM)              (None, 2, 50)             10400     \n",
            "                                                                 \n",
            " dropout_44 (Dropout)        (None, 2, 50)             0         \n",
            "                                                                 \n",
            " lstm_45 (LSTM)              (None, 2, 50)             20200     \n",
            "                                                                 \n",
            " dropout_45 (Dropout)        (None, 2, 50)             0         \n",
            "                                                                 \n",
            " lstm_46 (LSTM)              (None, 2, 50)             20200     \n",
            "                                                                 \n",
            " dropout_46 (Dropout)        (None, 2, 50)             0         \n",
            "                                                                 \n",
            " lstm_47 (LSTM)              (None, 50)                20200     \n",
            "                                                                 \n",
            " dropout_47 (Dropout)        (None, 50)                0         \n",
            "                                                                 \n",
            " dense_11 (Dense)            (None, 1)                 51        \n",
            "                                                                 \n",
            "=================================================================\n",
            "Total params: 71,051\n",
            "Trainable params: 71,051\n",
            "Non-trainable params: 0\n",
            "_________________________________________________________________\n"
          ]
        }
      ]
    },
    {
      "cell_type": "code",
      "metadata": {
        "id": "ZxHvQshP0PYn"
      },
      "source": [
        "#x_train.shape, y_train.shape"
      ],
      "execution_count": 644,
      "outputs": []
    },
    {
      "cell_type": "code",
      "metadata": {
        "id": "dNshwY0ItvD5"
      },
      "source": [
        "#---------------------------------Parte 21--------------------------------------\n",
        "#Um epoch é uma iteração sobre todos os dados x e y fornecidos.\n",
        "#Um batch_size é o tamanho do lote é um termo usado no aprendizado de máquina, \n",
        "#e se refere ao número de exemplos de treinamento utilizados em uma iteração\n",
        "#sobre todos os dados x e y fornecidos.\n",
        "EPOCHS = 100\n",
        "BATCH_SIZE = 1"
      ],
      "execution_count": 645,
      "outputs": []
    },
    {
      "cell_type": "code",
      "metadata": {
        "colab": {
          "base_uri": "https://localhost:8080/"
        },
        "id": "5_ZDolDutwb6",
        "outputId": "3988463f-cf0e-4fb6-a3e8-0459f74d7d3e"
      },
      "source": [
        "#---------------------------------Parte 22--------------------------------------\n",
        "#É possível usar as informações da variável “ history ” para\n",
        "#verificar a evolução da função de loss e da métrica\n",
        "with tf.device(\"/device:GPU:0\"):\n",
        "  history = model.fit(x_train, y_train,epochs = EPOCHS, verbose = 1,\n",
        "                     batch_size = BATCH_SIZE, validation_data = (x_val, y_val))"
      ],
      "execution_count": 646,
      "outputs": [
        {
          "output_type": "stream",
          "name": "stdout",
          "text": [
            "Epoch 1/100\n",
            "84/84 [==============================] - 9s 29ms/step - loss: 0.0565 - accuracy: 0.3929 - val_loss: 0.1025 - val_accuracy: 0.0000e+00\n",
            "Epoch 2/100\n",
            "84/84 [==============================] - 1s 9ms/step - loss: 0.0345 - accuracy: 0.3929 - val_loss: 0.0164 - val_accuracy: 0.0370\n",
            "Epoch 3/100\n",
            "84/84 [==============================] - 1s 8ms/step - loss: 0.0159 - accuracy: 0.4048 - val_loss: 0.0021 - val_accuracy: 0.0370\n",
            "Epoch 4/100\n",
            "84/84 [==============================] - 1s 8ms/step - loss: 0.0056 - accuracy: 0.4048 - val_loss: 0.0270 - val_accuracy: 0.0370\n",
            "Epoch 5/100\n",
            "84/84 [==============================] - 1s 8ms/step - loss: 0.0033 - accuracy: 0.4048 - val_loss: 0.0065 - val_accuracy: 0.0370\n",
            "Epoch 6/100\n",
            "84/84 [==============================] - 1s 8ms/step - loss: 0.0032 - accuracy: 0.4048 - val_loss: 0.0030 - val_accuracy: 0.0370\n",
            "Epoch 7/100\n",
            "84/84 [==============================] - 1s 8ms/step - loss: 0.0042 - accuracy: 0.4048 - val_loss: 0.0037 - val_accuracy: 0.0370\n",
            "Epoch 8/100\n",
            "84/84 [==============================] - 1s 8ms/step - loss: 0.0024 - accuracy: 0.4048 - val_loss: 0.0150 - val_accuracy: 0.0370\n",
            "Epoch 9/100\n",
            "84/84 [==============================] - 1s 8ms/step - loss: 0.0046 - accuracy: 0.4048 - val_loss: 0.0030 - val_accuracy: 0.0370\n",
            "Epoch 10/100\n",
            "84/84 [==============================] - 1s 8ms/step - loss: 0.0041 - accuracy: 0.4048 - val_loss: 0.0100 - val_accuracy: 0.0370\n",
            "Epoch 11/100\n",
            "84/84 [==============================] - 1s 8ms/step - loss: 0.0020 - accuracy: 0.4048 - val_loss: 0.0028 - val_accuracy: 0.0370\n",
            "Epoch 12/100\n",
            "84/84 [==============================] - 1s 8ms/step - loss: 0.0038 - accuracy: 0.4048 - val_loss: 7.6004e-04 - val_accuracy: 0.0370\n",
            "Epoch 13/100\n",
            "84/84 [==============================] - 1s 8ms/step - loss: 0.0017 - accuracy: 0.4048 - val_loss: 8.0705e-04 - val_accuracy: 0.0370\n",
            "Epoch 14/100\n",
            "84/84 [==============================] - 1s 8ms/step - loss: 0.0027 - accuracy: 0.4048 - val_loss: 0.0012 - val_accuracy: 0.0370\n",
            "Epoch 15/100\n",
            "84/84 [==============================] - 1s 8ms/step - loss: 0.0028 - accuracy: 0.4048 - val_loss: 0.0095 - val_accuracy: 0.0370\n",
            "Epoch 16/100\n",
            "84/84 [==============================] - 1s 8ms/step - loss: 0.0020 - accuracy: 0.4048 - val_loss: 5.5272e-04 - val_accuracy: 0.0370\n",
            "Epoch 17/100\n",
            "84/84 [==============================] - 1s 8ms/step - loss: 0.0011 - accuracy: 0.4048 - val_loss: 0.0023 - val_accuracy: 0.0370\n",
            "Epoch 18/100\n",
            "84/84 [==============================] - 1s 8ms/step - loss: 0.0011 - accuracy: 0.4048 - val_loss: 6.5685e-04 - val_accuracy: 0.0370\n",
            "Epoch 19/100\n",
            "84/84 [==============================] - 1s 8ms/step - loss: 0.0012 - accuracy: 0.4048 - val_loss: 0.0018 - val_accuracy: 0.0370\n",
            "Epoch 20/100\n",
            "84/84 [==============================] - 1s 8ms/step - loss: 0.0018 - accuracy: 0.4048 - val_loss: 9.0737e-04 - val_accuracy: 0.0370\n",
            "Epoch 21/100\n",
            "84/84 [==============================] - 1s 8ms/step - loss: 0.0051 - accuracy: 0.4048 - val_loss: 0.0028 - val_accuracy: 0.0370\n",
            "Epoch 22/100\n",
            "84/84 [==============================] - 1s 8ms/step - loss: 0.0051 - accuracy: 0.4048 - val_loss: 8.4421e-04 - val_accuracy: 0.0370\n",
            "Epoch 23/100\n",
            "84/84 [==============================] - 1s 8ms/step - loss: 0.0016 - accuracy: 0.4048 - val_loss: 0.0040 - val_accuracy: 0.0370\n",
            "Epoch 24/100\n",
            "84/84 [==============================] - 1s 8ms/step - loss: 0.0021 - accuracy: 0.4048 - val_loss: 5.7936e-04 - val_accuracy: 0.0370\n",
            "Epoch 25/100\n",
            "84/84 [==============================] - 1s 8ms/step - loss: 0.0016 - accuracy: 0.4048 - val_loss: 6.9502e-04 - val_accuracy: 0.0370\n",
            "Epoch 26/100\n",
            "84/84 [==============================] - 1s 8ms/step - loss: 0.0032 - accuracy: 0.4048 - val_loss: 0.0031 - val_accuracy: 0.0370\n",
            "Epoch 27/100\n",
            "84/84 [==============================] - 1s 9ms/step - loss: 0.0014 - accuracy: 0.4048 - val_loss: 0.0018 - val_accuracy: 0.0370\n",
            "Epoch 28/100\n",
            "84/84 [==============================] - 1s 9ms/step - loss: 0.0012 - accuracy: 0.4048 - val_loss: 6.4131e-04 - val_accuracy: 0.0370\n",
            "Epoch 29/100\n",
            "84/84 [==============================] - 1s 8ms/step - loss: 0.0032 - accuracy: 0.4048 - val_loss: 8.9917e-04 - val_accuracy: 0.0370\n",
            "Epoch 30/100\n",
            "84/84 [==============================] - 1s 8ms/step - loss: 0.0019 - accuracy: 0.4048 - val_loss: 0.0020 - val_accuracy: 0.0370\n",
            "Epoch 31/100\n",
            "84/84 [==============================] - 1s 8ms/step - loss: 0.0024 - accuracy: 0.4048 - val_loss: 0.0027 - val_accuracy: 0.0370\n",
            "Epoch 32/100\n",
            "84/84 [==============================] - 1s 7ms/step - loss: 0.0014 - accuracy: 0.4048 - val_loss: 4.3462e-04 - val_accuracy: 0.0370\n",
            "Epoch 33/100\n",
            "84/84 [==============================] - 1s 8ms/step - loss: 0.0016 - accuracy: 0.4048 - val_loss: 0.0045 - val_accuracy: 0.0370\n",
            "Epoch 34/100\n",
            "84/84 [==============================] - 1s 8ms/step - loss: 0.0016 - accuracy: 0.4048 - val_loss: 0.0013 - val_accuracy: 0.0370\n",
            "Epoch 35/100\n",
            "84/84 [==============================] - 1s 8ms/step - loss: 0.0024 - accuracy: 0.4048 - val_loss: 0.0074 - val_accuracy: 0.0370\n",
            "Epoch 36/100\n",
            "84/84 [==============================] - 1s 8ms/step - loss: 0.0017 - accuracy: 0.4048 - val_loss: 0.0051 - val_accuracy: 0.0370\n",
            "Epoch 37/100\n",
            "84/84 [==============================] - 1s 8ms/step - loss: 0.0023 - accuracy: 0.4048 - val_loss: 0.0026 - val_accuracy: 0.0370\n",
            "Epoch 38/100\n",
            "84/84 [==============================] - 1s 8ms/step - loss: 0.0016 - accuracy: 0.4048 - val_loss: 0.0022 - val_accuracy: 0.0370\n",
            "Epoch 39/100\n",
            "84/84 [==============================] - 1s 8ms/step - loss: 0.0019 - accuracy: 0.4048 - val_loss: 0.0035 - val_accuracy: 0.0370\n",
            "Epoch 40/100\n",
            "84/84 [==============================] - 1s 8ms/step - loss: 0.0047 - accuracy: 0.4048 - val_loss: 0.0010 - val_accuracy: 0.0370\n",
            "Epoch 41/100\n",
            "84/84 [==============================] - 1s 7ms/step - loss: 9.1655e-04 - accuracy: 0.4048 - val_loss: 0.0037 - val_accuracy: 0.0370\n",
            "Epoch 42/100\n",
            "84/84 [==============================] - 1s 7ms/step - loss: 0.0031 - accuracy: 0.4048 - val_loss: 0.0034 - val_accuracy: 0.0370\n",
            "Epoch 43/100\n",
            "84/84 [==============================] - 1s 8ms/step - loss: 0.0012 - accuracy: 0.4048 - val_loss: 0.0014 - val_accuracy: 0.0370\n",
            "Epoch 44/100\n",
            "84/84 [==============================] - 1s 9ms/step - loss: 0.0015 - accuracy: 0.4048 - val_loss: 0.0029 - val_accuracy: 0.0370\n",
            "Epoch 45/100\n",
            "84/84 [==============================] - 1s 8ms/step - loss: 0.0022 - accuracy: 0.4048 - val_loss: 0.0010 - val_accuracy: 0.0370\n",
            "Epoch 46/100\n",
            "84/84 [==============================] - 1s 8ms/step - loss: 0.0024 - accuracy: 0.4048 - val_loss: 0.0035 - val_accuracy: 0.0370\n",
            "Epoch 47/100\n",
            "84/84 [==============================] - 1s 8ms/step - loss: 0.0022 - accuracy: 0.4048 - val_loss: 0.0016 - val_accuracy: 0.0370\n",
            "Epoch 48/100\n",
            "84/84 [==============================] - 1s 8ms/step - loss: 0.0032 - accuracy: 0.4048 - val_loss: 0.0108 - val_accuracy: 0.0370\n",
            "Epoch 49/100\n",
            "84/84 [==============================] - 1s 8ms/step - loss: 0.0026 - accuracy: 0.4048 - val_loss: 0.0086 - val_accuracy: 0.0370\n",
            "Epoch 50/100\n",
            "84/84 [==============================] - 1s 8ms/step - loss: 0.0014 - accuracy: 0.4048 - val_loss: 0.0059 - val_accuracy: 0.0370\n",
            "Epoch 51/100\n",
            "84/84 [==============================] - 1s 8ms/step - loss: 0.0028 - accuracy: 0.4048 - val_loss: 0.0011 - val_accuracy: 0.0370\n",
            "Epoch 52/100\n",
            "84/84 [==============================] - 1s 8ms/step - loss: 0.0016 - accuracy: 0.4048 - val_loss: 7.5688e-04 - val_accuracy: 0.0370\n",
            "Epoch 53/100\n",
            "84/84 [==============================] - 1s 7ms/step - loss: 0.0025 - accuracy: 0.4048 - val_loss: 6.8284e-04 - val_accuracy: 0.0370\n",
            "Epoch 54/100\n",
            "84/84 [==============================] - 1s 8ms/step - loss: 8.5975e-04 - accuracy: 0.4048 - val_loss: 7.8239e-04 - val_accuracy: 0.0370\n",
            "Epoch 55/100\n",
            "84/84 [==============================] - 1s 8ms/step - loss: 0.0016 - accuracy: 0.4048 - val_loss: 0.0010 - val_accuracy: 0.0370\n",
            "Epoch 56/100\n",
            "84/84 [==============================] - 1s 8ms/step - loss: 0.0020 - accuracy: 0.4048 - val_loss: 6.7109e-04 - val_accuracy: 0.0370\n",
            "Epoch 57/100\n",
            "84/84 [==============================] - 1s 7ms/step - loss: 0.0025 - accuracy: 0.4048 - val_loss: 0.0049 - val_accuracy: 0.0370\n",
            "Epoch 58/100\n",
            "84/84 [==============================] - 1s 8ms/step - loss: 0.0011 - accuracy: 0.4048 - val_loss: 0.0096 - val_accuracy: 0.0370\n",
            "Epoch 59/100\n",
            "84/84 [==============================] - 1s 8ms/step - loss: 0.0015 - accuracy: 0.4048 - val_loss: 0.0013 - val_accuracy: 0.0370\n",
            "Epoch 60/100\n",
            "84/84 [==============================] - 1s 8ms/step - loss: 0.0018 - accuracy: 0.4048 - val_loss: 0.0030 - val_accuracy: 0.0370\n",
            "Epoch 61/100\n",
            "84/84 [==============================] - 1s 8ms/step - loss: 0.0013 - accuracy: 0.4048 - val_loss: 0.0015 - val_accuracy: 0.0370\n",
            "Epoch 62/100\n",
            "84/84 [==============================] - 1s 8ms/step - loss: 0.0023 - accuracy: 0.4048 - val_loss: 0.0014 - val_accuracy: 0.0370\n",
            "Epoch 63/100\n",
            "84/84 [==============================] - 1s 8ms/step - loss: 0.0010 - accuracy: 0.4048 - val_loss: 0.0012 - val_accuracy: 0.0370\n",
            "Epoch 64/100\n",
            "84/84 [==============================] - 1s 8ms/step - loss: 6.6150e-04 - accuracy: 0.4048 - val_loss: 0.0013 - val_accuracy: 0.0370\n",
            "Epoch 65/100\n",
            "84/84 [==============================] - 1s 8ms/step - loss: 0.0019 - accuracy: 0.4048 - val_loss: 0.0017 - val_accuracy: 0.0370\n",
            "Epoch 66/100\n",
            "84/84 [==============================] - 1s 9ms/step - loss: 0.0037 - accuracy: 0.4048 - val_loss: 0.0023 - val_accuracy: 0.0370\n",
            "Epoch 67/100\n",
            "84/84 [==============================] - 1s 8ms/step - loss: 0.0016 - accuracy: 0.4048 - val_loss: 0.0059 - val_accuracy: 0.0370\n",
            "Epoch 68/100\n",
            "84/84 [==============================] - 1s 8ms/step - loss: 0.0030 - accuracy: 0.4048 - val_loss: 0.0044 - val_accuracy: 0.0370\n",
            "Epoch 69/100\n",
            "84/84 [==============================] - 1s 9ms/step - loss: 0.0014 - accuracy: 0.4048 - val_loss: 6.8492e-04 - val_accuracy: 0.0370\n",
            "Epoch 70/100\n",
            "84/84 [==============================] - 1s 8ms/step - loss: 0.0011 - accuracy: 0.4048 - val_loss: 0.0017 - val_accuracy: 0.0370\n",
            "Epoch 71/100\n",
            "84/84 [==============================] - 1s 8ms/step - loss: 0.0035 - accuracy: 0.4048 - val_loss: 0.0053 - val_accuracy: 0.0370\n",
            "Epoch 72/100\n",
            "84/84 [==============================] - 1s 8ms/step - loss: 0.0021 - accuracy: 0.4048 - val_loss: 0.0033 - val_accuracy: 0.0370\n",
            "Epoch 73/100\n",
            "84/84 [==============================] - 1s 8ms/step - loss: 0.0012 - accuracy: 0.4048 - val_loss: 0.0014 - val_accuracy: 0.0370\n",
            "Epoch 74/100\n",
            "84/84 [==============================] - 1s 8ms/step - loss: 0.0010 - accuracy: 0.4048 - val_loss: 0.0034 - val_accuracy: 0.0370\n",
            "Epoch 75/100\n",
            "84/84 [==============================] - 1s 8ms/step - loss: 0.0019 - accuracy: 0.4048 - val_loss: 0.0071 - val_accuracy: 0.0370\n",
            "Epoch 76/100\n",
            "84/84 [==============================] - 1s 8ms/step - loss: 0.0019 - accuracy: 0.4048 - val_loss: 0.0071 - val_accuracy: 0.0370\n",
            "Epoch 77/100\n",
            "84/84 [==============================] - 1s 7ms/step - loss: 0.0062 - accuracy: 0.4048 - val_loss: 0.0022 - val_accuracy: 0.0370\n",
            "Epoch 78/100\n",
            "84/84 [==============================] - 1s 8ms/step - loss: 0.0019 - accuracy: 0.4048 - val_loss: 0.0039 - val_accuracy: 0.0370\n",
            "Epoch 79/100\n",
            "84/84 [==============================] - 1s 8ms/step - loss: 0.0016 - accuracy: 0.4048 - val_loss: 0.0022 - val_accuracy: 0.0370\n",
            "Epoch 80/100\n",
            "84/84 [==============================] - 1s 7ms/step - loss: 0.0025 - accuracy: 0.4048 - val_loss: 0.0043 - val_accuracy: 0.0370\n",
            "Epoch 81/100\n",
            "84/84 [==============================] - 1s 7ms/step - loss: 0.0019 - accuracy: 0.4048 - val_loss: 9.3502e-04 - val_accuracy: 0.0370\n",
            "Epoch 82/100\n",
            "84/84 [==============================] - 1s 8ms/step - loss: 0.0017 - accuracy: 0.4048 - val_loss: 7.3117e-04 - val_accuracy: 0.0370\n",
            "Epoch 83/100\n",
            "84/84 [==============================] - 1s 8ms/step - loss: 0.0010 - accuracy: 0.4048 - val_loss: 9.1126e-04 - val_accuracy: 0.0370\n",
            "Epoch 84/100\n",
            "84/84 [==============================] - 1s 8ms/step - loss: 0.0022 - accuracy: 0.4048 - val_loss: 0.0043 - val_accuracy: 0.0370\n",
            "Epoch 85/100\n",
            "84/84 [==============================] - 1s 8ms/step - loss: 0.0016 - accuracy: 0.4048 - val_loss: 0.0011 - val_accuracy: 0.0370\n",
            "Epoch 86/100\n",
            "84/84 [==============================] - 1s 8ms/step - loss: 0.0033 - accuracy: 0.4048 - val_loss: 0.0022 - val_accuracy: 0.0370\n",
            "Epoch 87/100\n",
            "84/84 [==============================] - 1s 8ms/step - loss: 0.0028 - accuracy: 0.4048 - val_loss: 0.0146 - val_accuracy: 0.0370\n",
            "Epoch 88/100\n",
            "84/84 [==============================] - 1s 8ms/step - loss: 0.0047 - accuracy: 0.4048 - val_loss: 0.0035 - val_accuracy: 0.0370\n",
            "Epoch 89/100\n",
            "84/84 [==============================] - 1s 8ms/step - loss: 0.0025 - accuracy: 0.4048 - val_loss: 9.9495e-04 - val_accuracy: 0.0370\n",
            "Epoch 90/100\n",
            "84/84 [==============================] - 1s 9ms/step - loss: 0.0013 - accuracy: 0.4048 - val_loss: 0.0107 - val_accuracy: 0.0370\n",
            "Epoch 91/100\n",
            "84/84 [==============================] - 1s 8ms/step - loss: 0.0037 - accuracy: 0.4048 - val_loss: 0.0031 - val_accuracy: 0.0370\n",
            "Epoch 92/100\n",
            "84/84 [==============================] - 1s 8ms/step - loss: 0.0021 - accuracy: 0.4048 - val_loss: 0.0018 - val_accuracy: 0.0370\n",
            "Epoch 93/100\n",
            "84/84 [==============================] - 1s 8ms/step - loss: 0.0024 - accuracy: 0.4048 - val_loss: 0.0013 - val_accuracy: 0.0370\n",
            "Epoch 94/100\n",
            "84/84 [==============================] - 1s 8ms/step - loss: 0.0015 - accuracy: 0.4048 - val_loss: 0.0012 - val_accuracy: 0.0370\n",
            "Epoch 95/100\n",
            "84/84 [==============================] - 1s 8ms/step - loss: 0.0031 - accuracy: 0.4048 - val_loss: 7.5955e-04 - val_accuracy: 0.0370\n",
            "Epoch 96/100\n",
            "84/84 [==============================] - 1s 8ms/step - loss: 0.0011 - accuracy: 0.4048 - val_loss: 0.0030 - val_accuracy: 0.0370\n",
            "Epoch 97/100\n",
            "84/84 [==============================] - 1s 8ms/step - loss: 0.0028 - accuracy: 0.4048 - val_loss: 0.0017 - val_accuracy: 0.0370\n",
            "Epoch 98/100\n",
            "84/84 [==============================] - 1s 8ms/step - loss: 0.0020 - accuracy: 0.4048 - val_loss: 0.0013 - val_accuracy: 0.0370\n",
            "Epoch 99/100\n",
            "84/84 [==============================] - 1s 8ms/step - loss: 0.0013 - accuracy: 0.4048 - val_loss: 0.0016 - val_accuracy: 0.0370\n",
            "Epoch 100/100\n",
            "84/84 [==============================] - 1s 8ms/step - loss: 0.0013 - accuracy: 0.4048 - val_loss: 0.0027 - val_accuracy: 0.0370\n"
          ]
        }
      ]
    },
    {
      "cell_type": "code",
      "metadata": {
        "id": "iCh0udZB7Iik"
      },
      "source": [
        "#y_train = to_categorical(y_train, 3)\n",
        "#y_val = to_categorical(y_val, 3)"
      ],
      "execution_count": 647,
      "outputs": []
    },
    {
      "cell_type": "code",
      "metadata": {
        "id": "71j1jrT87ROH"
      },
      "source": [
        "#num_epochs = 100\n",
        "#history = model.fit(x_train, y_train, epochs=num_epochs, \n",
        "                    #validation_data=(x_val, y_val))"
      ],
      "execution_count": 648,
      "outputs": []
    },
    {
      "cell_type": "code",
      "metadata": {
        "id": "CCGW1_kU068I"
      },
      "source": [
        "#acc = history.history['accuracy']\n",
        "#val_acc = history.history['val_accuracy']\n",
        "\n",
        "#loss = history.history['loss']\n",
        "#val_loss = history.history['val_loss']"
      ],
      "execution_count": 649,
      "outputs": []
    },
    {
      "cell_type": "code",
      "metadata": {
        "id": "wa2_2G8p1BxE"
      },
      "source": [
        "#print(f\"Accuracy on training data is: {acc[-1]*100} %\")\n",
        "#print(f\"Loss {loss[-1]*100}\")\n",
        "\n",
        "#print(f\"Accuracy on validation data is: {val_acc[-1]*100} %\")\n",
        "#print(f\"Loss {val_loss[-1]*100}\")"
      ],
      "execution_count": 650,
      "outputs": []
    },
    {
      "cell_type": "code",
      "metadata": {
        "id": "ypHwcrei_2pV"
      },
      "source": [
        "#epochs = range(len(acc))\n",
        "\n",
        "#plt.plot(epochs, acc,'b',label='training acc')\n",
        "#plt.plot(epochs, val_acc, 'r', label='validation acc')\n",
        "#plt.legend()\n",
        "#plt.show()"
      ],
      "execution_count": 651,
      "outputs": []
    },
    {
      "cell_type": "code",
      "metadata": {
        "id": "tH6VW_V-Cpw8"
      },
      "source": [
        "#plt.plot(epochs, loss,'b',label='training loss')\n",
        "#plt.plot(epochs, val_loss, 'r', label='validation loss')\n",
        "#plt.legend()\n",
        "#plt.show()"
      ],
      "execution_count": 652,
      "outputs": []
    },
    {
      "cell_type": "code",
      "metadata": {
        "id": "CSCqcgTa4-hP"
      },
      "source": [
        "y_pred=model.predict(x_val)"
      ],
      "execution_count": 653,
      "outputs": []
    },
    {
      "cell_type": "code",
      "metadata": {
        "colab": {
          "base_uri": "https://localhost:8080/"
        },
        "id": "QzLK-m5B4BeC",
        "outputId": "574424b7-7fe6-42b3-c22b-5510f44325d6"
      },
      "source": [
        "_,accuracy=model.evaluate(x_val, y_val)"
      ],
      "execution_count": 654,
      "outputs": [
        {
          "output_type": "stream",
          "name": "stdout",
          "text": [
            "1/1 [==============================] - 2s 2s/step - loss: 0.0027 - accuracy: 0.0370\n"
          ]
        }
      ]
    },
    {
      "cell_type": "code",
      "metadata": {
        "colab": {
          "base_uri": "https://localhost:8080/"
        },
        "id": "5CpDx8EK4Vyb",
        "outputId": "cc2e5f10-fcbf-4f88-c6bd-65124e18291a"
      },
      "source": [
        "print('Accuracy: %.2f' %(accuracy*100))"
      ],
      "execution_count": 655,
      "outputs": [
        {
          "output_type": "stream",
          "name": "stdout",
          "text": [
            "Accuracy: 3.70\n"
          ]
        }
      ]
    },
    {
      "cell_type": "code",
      "metadata": {
        "colab": {
          "base_uri": "https://localhost:8080/",
          "height": 731
        },
        "id": "hdBBOaZnuNSp",
        "outputId": "40b94898-6446-4ba3-fb3b-5dd698b9b928"
      },
      "source": [
        "#---------------------------------Parte 23--------------------------------------\n",
        "#Plotagem do treinamento e validação do Loss\n",
        "x = np.arange(0, EPOCHS, 1)                                                                  \n",
        "plt.figure(1, figsize = (22, 12))                                  \n",
        "plt.subplot(121)\n",
        "plt.xlabel(\"Epochs\")\n",
        "plt.ylabel(\"Loss\")\n",
        "plt.plot(x, history.history[\"loss\"], label = \"Treinamento do Loss\")\n",
        "plt.plot(x, history.history[\"val_loss\"], label = \"Validação Loss\")\n",
        "plt.grid(True)\n",
        "plt.legend()  "
      ],
      "execution_count": 656,
      "outputs": [
        {
          "output_type": "execute_result",
          "data": {
            "text/plain": [
              "<matplotlib.legend.Legend at 0x7f4155d5b490>"
            ]
          },
          "metadata": {},
          "execution_count": 656
        },
        {
          "output_type": "display_data",
          "data": {
            "image/png": "[encoded data removed]",
            "text/plain": [
              "<Figure size 1584x864 with 1 Axes>"
            ]
          },
          "metadata": {
            "needs_background": "light"
          }
        }
      ]
    },
    {
      "cell_type": "code",
      "metadata": {
        "colab": {
          "base_uri": "https://localhost:8080/",
          "height": 404
        },
        "id": "DznK2mxPunrC",
        "outputId": "aa8aa9bb-8252-49c2-9af5-630d1a3168a6"
      },
      "source": [
        "#---------------------------------Parte 24--------------------------------------\n",
        "#Aqui é possível usar os dados de teste do dataset para,\n",
        "# essa rede neural treinada, e assim prever as saídas que a rede desconhece\n",
        "#A seguir são apresentados os casos reais e uma predição rede não conhece;\n",
        "predicted_cases = model.predict(x_val)\n",
        "predicted_cases = scaler.inverse_transform(predicted_cases)\n",
        "real_cases = scaler.inverse_transform(y_val)\n",
        "plt.figure(figsize= (10, 6))\n",
        "plt.subplot(1,1,1)\n",
        "plt.plot(real_cases, color = \"green\", label = \"Número Real de Casos\")\n",
        "plt.plot(predicted_cases, color = \"blue\", label = \"Número de Predição de Casos\")\n",
        "plt.title(\"Casos de Covid-19 no Brasil\")\n",
        "plt.xlabel(\"Tempo\")\n",
        "plt.ylabel(\"Contagem de Casos\")\n",
        "plt.legend()\n",
        "plt.grid(\"both\")\n",
        "plt.show()"
      ],
      "execution_count": 657,
      "outputs": [
        {
          "output_type": "display_data",
          "data": {
            "image/png": "[encoded data removed]",
            "text/plain": [
              "<Figure size 720x432 with 1 Axes>"
            ]
          },
          "metadata": {
            "needs_background": "light"
          }
        }
      ]
    },
    {
      "cell_type": "markdown",
      "metadata": {
        "id": "StY6zua_D_xk"
      },
      "source": [
        "--------------------------Outro Modelo de Treinamemento-----------------------"
      ]
    },
    {
      "cell_type": "code",
      "metadata": {
        "id": "kLBSsvaHD_B1"
      },
      "source": [
        "y_train = to_categorical(y_train, 3)\n",
        "y_val = to_categorical(y_val, 3)"
      ],
      "execution_count": 658,
      "outputs": []
    },
    {
      "cell_type": "code",
      "metadata": {
        "colab": {
          "base_uri": "https://localhost:8080/"
        },
        "id": "lXIR6RKjEFaq",
        "outputId": "5198fe96-3d8d-4263-a642-6848ac046c13"
      },
      "source": [
        "num_epochs = 100\n",
        "history = model.fit(x_train, y_train, epochs=num_epochs, \n",
        "                    validation_data=(x_val, y_val))"
      ],
      "execution_count": 659,
      "outputs": [
        {
          "output_type": "stream",
          "name": "stdout",
          "text": [
            "Epoch 1/100\n",
            "3/3 [==============================] - 7s 1s/step - loss: 0.3144 - accuracy: 0.6349 - val_loss: 0.2886 - val_accuracy: 0.5556\n",
            "Epoch 2/100\n",
            "3/3 [==============================] - 0s 23ms/step - loss: 0.2826 - accuracy: 0.6310 - val_loss: 0.2808 - val_accuracy: 0.5432\n",
            "Epoch 3/100\n",
            "3/3 [==============================] - 0s 22ms/step - loss: 0.2548 - accuracy: 0.6270 - val_loss: 0.2769 - val_accuracy: 0.5185\n",
            "Epoch 4/100\n",
            "3/3 [==============================] - 0s 28ms/step - loss: 0.2420 - accuracy: 0.6190 - val_loss: 0.2731 - val_accuracy: 0.5185\n",
            "Epoch 5/100\n",
            "3/3 [==============================] - 0s 24ms/step - loss: 0.2371 - accuracy: 0.6270 - val_loss: 0.2662 - val_accuracy: 0.5185\n",
            "Epoch 6/100\n",
            "3/3 [==============================] - 0s 28ms/step - loss: 0.2351 - accuracy: 0.6190 - val_loss: 0.2567 - val_accuracy: 0.5309\n",
            "Epoch 7/100\n",
            "3/3 [==============================] - 0s 38ms/step - loss: 0.2316 - accuracy: 0.6270 - val_loss: 0.2472 - val_accuracy: 0.5556\n",
            "Epoch 8/100\n",
            "3/3 [==============================] - 0s 24ms/step - loss: 0.2300 - accuracy: 0.6389 - val_loss: 0.2395 - val_accuracy: 0.5802\n",
            "Epoch 9/100\n",
            "3/3 [==============================] - 0s 26ms/step - loss: 0.2274 - accuracy: 0.6429 - val_loss: 0.2335 - val_accuracy: 0.6049\n",
            "Epoch 10/100\n",
            "3/3 [==============================] - 0s 22ms/step - loss: 0.2254 - accuracy: 0.6548 - val_loss: 0.2297 - val_accuracy: 0.6420\n",
            "Epoch 11/100\n",
            "3/3 [==============================] - 0s 23ms/step - loss: 0.2248 - accuracy: 0.6667 - val_loss: 0.2276 - val_accuracy: 0.6667\n",
            "Epoch 12/100\n",
            "3/3 [==============================] - 0s 22ms/step - loss: 0.2253 - accuracy: 0.6667 - val_loss: 0.2263 - val_accuracy: 0.6667\n",
            "Epoch 13/100\n",
            "3/3 [==============================] - 0s 25ms/step - loss: 0.2249 - accuracy: 0.6667 - val_loss: 0.2256 - val_accuracy: 0.6667\n",
            "Epoch 14/100\n",
            "3/3 [==============================] - 0s 23ms/step - loss: 0.2246 - accuracy: 0.6667 - val_loss: 0.2253 - val_accuracy: 0.6667\n",
            "Epoch 15/100\n",
            "3/3 [==============================] - 0s 24ms/step - loss: 0.2247 - accuracy: 0.6667 - val_loss: 0.2250 - val_accuracy: 0.6667\n",
            "Epoch 16/100\n",
            "3/3 [==============================] - 0s 26ms/step - loss: 0.2243 - accuracy: 0.6667 - val_loss: 0.2250 - val_accuracy: 0.6667\n",
            "Epoch 17/100\n",
            "3/3 [==============================] - 0s 23ms/step - loss: 0.2241 - accuracy: 0.6667 - val_loss: 0.2249 - val_accuracy: 0.6667\n",
            "Epoch 18/100\n",
            "3/3 [==============================] - 0s 26ms/step - loss: 0.2238 - accuracy: 0.6667 - val_loss: 0.2250 - val_accuracy: 0.6667\n",
            "Epoch 19/100\n",
            "3/3 [==============================] - 0s 23ms/step - loss: 0.2243 - accuracy: 0.6667 - val_loss: 0.2250 - val_accuracy: 0.6667\n",
            "Epoch 20/100\n",
            "3/3 [==============================] - 0s 24ms/step - loss: 0.2238 - accuracy: 0.6667 - val_loss: 0.2250 - val_accuracy: 0.6667\n",
            "Epoch 21/100\n",
            "3/3 [==============================] - 0s 25ms/step - loss: 0.2240 - accuracy: 0.6627 - val_loss: 0.2249 - val_accuracy: 0.6667\n",
            "Epoch 22/100\n",
            "3/3 [==============================] - 0s 24ms/step - loss: 0.2236 - accuracy: 0.6627 - val_loss: 0.2248 - val_accuracy: 0.6667\n",
            "Epoch 23/100\n",
            "3/3 [==============================] - 0s 24ms/step - loss: 0.2238 - accuracy: 0.6667 - val_loss: 0.2246 - val_accuracy: 0.6667\n",
            "Epoch 24/100\n",
            "3/3 [==============================] - 0s 24ms/step - loss: 0.2234 - accuracy: 0.6667 - val_loss: 0.2244 - val_accuracy: 0.6667\n",
            "Epoch 25/100\n",
            "3/3 [==============================] - 0s 23ms/step - loss: 0.2237 - accuracy: 0.6627 - val_loss: 0.2243 - val_accuracy: 0.6667\n",
            "Epoch 26/100\n",
            "3/3 [==============================] - 0s 23ms/step - loss: 0.2232 - accuracy: 0.6667 - val_loss: 0.2240 - val_accuracy: 0.6667\n",
            "Epoch 27/100\n",
            "3/3 [==============================] - 0s 23ms/step - loss: 0.2231 - accuracy: 0.6667 - val_loss: 0.2239 - val_accuracy: 0.6667\n",
            "Epoch 28/100\n",
            "3/3 [==============================] - 0s 22ms/step - loss: 0.2235 - accuracy: 0.6667 - val_loss: 0.2237 - val_accuracy: 0.6667\n",
            "Epoch 29/100\n",
            "3/3 [==============================] - 0s 23ms/step - loss: 0.2233 - accuracy: 0.6667 - val_loss: 0.2236 - val_accuracy: 0.6667\n",
            "Epoch 30/100\n",
            "3/3 [==============================] - 0s 29ms/step - loss: 0.2232 - accuracy: 0.6667 - val_loss: 0.2235 - val_accuracy: 0.6667\n",
            "Epoch 31/100\n",
            "3/3 [==============================] - 0s 23ms/step - loss: 0.2228 - accuracy: 0.6667 - val_loss: 0.2233 - val_accuracy: 0.6667\n",
            "Epoch 32/100\n",
            "3/3 [==============================] - 0s 23ms/step - loss: 0.2229 - accuracy: 0.6667 - val_loss: 0.2232 - val_accuracy: 0.6667\n",
            "Epoch 33/100\n",
            "3/3 [==============================] - 0s 23ms/step - loss: 0.2232 - accuracy: 0.6667 - val_loss: 0.2231 - val_accuracy: 0.6667\n",
            "Epoch 34/100\n",
            "3/3 [==============================] - 0s 24ms/step - loss: 0.2227 - accuracy: 0.6667 - val_loss: 0.2230 - val_accuracy: 0.6667\n",
            "Epoch 35/100\n",
            "3/3 [==============================] - 0s 29ms/step - loss: 0.2230 - accuracy: 0.6667 - val_loss: 0.2230 - val_accuracy: 0.6667\n",
            "Epoch 36/100\n",
            "3/3 [==============================] - 0s 23ms/step - loss: 0.2230 - accuracy: 0.6667 - val_loss: 0.2229 - val_accuracy: 0.6667\n",
            "Epoch 37/100\n",
            "3/3 [==============================] - 0s 24ms/step - loss: 0.2228 - accuracy: 0.6667 - val_loss: 0.2228 - val_accuracy: 0.6667\n",
            "Epoch 38/100\n",
            "3/3 [==============================] - 0s 25ms/step - loss: 0.2228 - accuracy: 0.6667 - val_loss: 0.2227 - val_accuracy: 0.6667\n",
            "Epoch 39/100\n",
            "3/3 [==============================] - 0s 32ms/step - loss: 0.2228 - accuracy: 0.6667 - val_loss: 0.2226 - val_accuracy: 0.6667\n",
            "Epoch 40/100\n",
            "3/3 [==============================] - 0s 25ms/step - loss: 0.2228 - accuracy: 0.6667 - val_loss: 0.2226 - val_accuracy: 0.6667\n",
            "Epoch 41/100\n",
            "3/3 [==============================] - 0s 29ms/step - loss: 0.2227 - accuracy: 0.6667 - val_loss: 0.2225 - val_accuracy: 0.6667\n",
            "Epoch 42/100\n",
            "3/3 [==============================] - 0s 23ms/step - loss: 0.2226 - accuracy: 0.6667 - val_loss: 0.2225 - val_accuracy: 0.6667\n",
            "Epoch 43/100\n",
            "3/3 [==============================] - 0s 23ms/step - loss: 0.2226 - accuracy: 0.6667 - val_loss: 0.2224 - val_accuracy: 0.6667\n",
            "Epoch 44/100\n",
            "3/3 [==============================] - 0s 27ms/step - loss: 0.2226 - accuracy: 0.6667 - val_loss: 0.2224 - val_accuracy: 0.6667\n",
            "Epoch 45/100\n",
            "3/3 [==============================] - 0s 27ms/step - loss: 0.2226 - accuracy: 0.6667 - val_loss: 0.2223 - val_accuracy: 0.6667\n",
            "Epoch 46/100\n",
            "3/3 [==============================] - 0s 26ms/step - loss: 0.2226 - accuracy: 0.6667 - val_loss: 0.2223 - val_accuracy: 0.6667\n",
            "Epoch 47/100\n",
            "3/3 [==============================] - 0s 26ms/step - loss: 0.2227 - accuracy: 0.6667 - val_loss: 0.2223 - val_accuracy: 0.6667\n",
            "Epoch 48/100\n",
            "3/3 [==============================] - 0s 28ms/step - loss: 0.2226 - accuracy: 0.6667 - val_loss: 0.2223 - val_accuracy: 0.6667\n",
            "Epoch 49/100\n",
            "3/3 [==============================] - 0s 38ms/step - loss: 0.2226 - accuracy: 0.6667 - val_loss: 0.2223 - val_accuracy: 0.6667\n",
            "Epoch 50/100\n",
            "3/3 [==============================] - 0s 27ms/step - loss: 0.2225 - accuracy: 0.6667 - val_loss: 0.2222 - val_accuracy: 0.6667\n",
            "Epoch 51/100\n",
            "3/3 [==============================] - 0s 30ms/step - loss: 0.2226 - accuracy: 0.6667 - val_loss: 0.2222 - val_accuracy: 0.6667\n",
            "Epoch 52/100\n",
            "3/3 [==============================] - 0s 26ms/step - loss: 0.2226 - accuracy: 0.6667 - val_loss: 0.2222 - val_accuracy: 0.6667\n",
            "Epoch 53/100\n",
            "3/3 [==============================] - 0s 27ms/step - loss: 0.2228 - accuracy: 0.6667 - val_loss: 0.2222 - val_accuracy: 0.6667\n",
            "Epoch 54/100\n",
            "3/3 [==============================] - 0s 40ms/step - loss: 0.2227 - accuracy: 0.6667 - val_loss: 0.2222 - val_accuracy: 0.6667\n",
            "Epoch 55/100\n",
            "3/3 [==============================] - 0s 26ms/step - loss: 0.2226 - accuracy: 0.6667 - val_loss: 0.2222 - val_accuracy: 0.6667\n",
            "Epoch 56/100\n",
            "3/3 [==============================] - 0s 26ms/step - loss: 0.2227 - accuracy: 0.6667 - val_loss: 0.2222 - val_accuracy: 0.6667\n",
            "Epoch 57/100\n",
            "3/3 [==============================] - 0s 29ms/step - loss: 0.2226 - accuracy: 0.6667 - val_loss: 0.2222 - val_accuracy: 0.6667\n",
            "Epoch 58/100\n",
            "3/3 [==============================] - 0s 28ms/step - loss: 0.2227 - accuracy: 0.6667 - val_loss: 0.2222 - val_accuracy: 0.6667\n",
            "Epoch 59/100\n",
            "3/3 [==============================] - 0s 33ms/step - loss: 0.2226 - accuracy: 0.6667 - val_loss: 0.2222 - val_accuracy: 0.6667\n",
            "Epoch 60/100\n",
            "3/3 [==============================] - 0s 26ms/step - loss: 0.2226 - accuracy: 0.6667 - val_loss: 0.2222 - val_accuracy: 0.6667\n",
            "Epoch 61/100\n",
            "3/3 [==============================] - 0s 26ms/step - loss: 0.2226 - accuracy: 0.6667 - val_loss: 0.2222 - val_accuracy: 0.6667\n",
            "Epoch 62/100\n",
            "3/3 [==============================] - 0s 31ms/step - loss: 0.2227 - accuracy: 0.6667 - val_loss: 0.2222 - val_accuracy: 0.6667\n",
            "Epoch 63/100\n",
            "3/3 [==============================] - 0s 27ms/step - loss: 0.2226 - accuracy: 0.6667 - val_loss: 0.2222 - val_accuracy: 0.6667\n",
            "Epoch 64/100\n",
            "3/3 [==============================] - 0s 26ms/step - loss: 0.2227 - accuracy: 0.6667 - val_loss: 0.2222 - val_accuracy: 0.6667\n",
            "Epoch 65/100\n",
            "3/3 [==============================] - 0s 29ms/step - loss: 0.2226 - accuracy: 0.6667 - val_loss: 0.2222 - val_accuracy: 0.6667\n",
            "Epoch 66/100\n",
            "3/3 [==============================] - 0s 28ms/step - loss: 0.2226 - accuracy: 0.6667 - val_loss: 0.2222 - val_accuracy: 0.6667\n",
            "Epoch 67/100\n",
            "3/3 [==============================] - 0s 26ms/step - loss: 0.2226 - accuracy: 0.6667 - val_loss: 0.2222 - val_accuracy: 0.6667\n",
            "Epoch 68/100\n",
            "3/3 [==============================] - 0s 28ms/step - loss: 0.2227 - accuracy: 0.6667 - val_loss: 0.2222 - val_accuracy: 0.6667\n",
            "Epoch 69/100\n",
            "3/3 [==============================] - 0s 29ms/step - loss: 0.2225 - accuracy: 0.6667 - val_loss: 0.2222 - val_accuracy: 0.6667\n",
            "Epoch 70/100\n",
            "3/3 [==============================] - 0s 29ms/step - loss: 0.2225 - accuracy: 0.6667 - val_loss: 0.2222 - val_accuracy: 0.6667\n",
            "Epoch 71/100\n",
            "3/3 [==============================] - 0s 24ms/step - loss: 0.2225 - accuracy: 0.6667 - val_loss: 0.2223 - val_accuracy: 0.6667\n",
            "Epoch 72/100\n",
            "3/3 [==============================] - 0s 24ms/step - loss: 0.2227 - accuracy: 0.6667 - val_loss: 0.2222 - val_accuracy: 0.6667\n",
            "Epoch 73/100\n",
            "3/3 [==============================] - 0s 24ms/step - loss: 0.2225 - accuracy: 0.6667 - val_loss: 0.2222 - val_accuracy: 0.6667\n",
            "Epoch 74/100\n",
            "3/3 [==============================] - 0s 23ms/step - loss: 0.2225 - accuracy: 0.6667 - val_loss: 0.2222 - val_accuracy: 0.6667\n",
            "Epoch 75/100\n",
            "3/3 [==============================] - 0s 25ms/step - loss: 0.2226 - accuracy: 0.6667 - val_loss: 0.2222 - val_accuracy: 0.6667\n",
            "Epoch 76/100\n",
            "3/3 [==============================] - 0s 27ms/step - loss: 0.2227 - accuracy: 0.6667 - val_loss: 0.2222 - val_accuracy: 0.6667\n",
            "Epoch 77/100\n",
            "3/3 [==============================] - 0s 23ms/step - loss: 0.2227 - accuracy: 0.6667 - val_loss: 0.2222 - val_accuracy: 0.6667\n",
            "Epoch 78/100\n",
            "3/3 [==============================] - 0s 24ms/step - loss: 0.2225 - accuracy: 0.6667 - val_loss: 0.2222 - val_accuracy: 0.6667\n",
            "Epoch 79/100\n",
            "3/3 [==============================] - 0s 27ms/step - loss: 0.2225 - accuracy: 0.6667 - val_loss: 0.2222 - val_accuracy: 0.6667\n",
            "Epoch 80/100\n",
            "3/3 [==============================] - 0s 23ms/step - loss: 0.2226 - accuracy: 0.6667 - val_loss: 0.2222 - val_accuracy: 0.6667\n",
            "Epoch 81/100\n",
            "3/3 [==============================] - 0s 24ms/step - loss: 0.2226 - accuracy: 0.6667 - val_loss: 0.2222 - val_accuracy: 0.6667\n",
            "Epoch 82/100\n",
            "3/3 [==============================] - 0s 26ms/step - loss: 0.2227 - accuracy: 0.6667 - val_loss: 0.2222 - val_accuracy: 0.6667\n",
            "Epoch 83/100\n",
            "3/3 [==============================] - 0s 23ms/step - loss: 0.2226 - accuracy: 0.6667 - val_loss: 0.2222 - val_accuracy: 0.6667\n",
            "Epoch 84/100\n",
            "3/3 [==============================] - 0s 23ms/step - loss: 0.2227 - accuracy: 0.6667 - val_loss: 0.2222 - val_accuracy: 0.6667\n",
            "Epoch 85/100\n",
            "3/3 [==============================] - 0s 27ms/step - loss: 0.2225 - accuracy: 0.6667 - val_loss: 0.2222 - val_accuracy: 0.6667\n",
            "Epoch 86/100\n",
            "3/3 [==============================] - 0s 28ms/step - loss: 0.2226 - accuracy: 0.6667 - val_loss: 0.2222 - val_accuracy: 0.6667\n",
            "Epoch 87/100\n",
            "3/3 [==============================] - 0s 24ms/step - loss: 0.2225 - accuracy: 0.6667 - val_loss: 0.2222 - val_accuracy: 0.6667\n",
            "Epoch 88/100\n",
            "3/3 [==============================] - 0s 24ms/step - loss: 0.2226 - accuracy: 0.6667 - val_loss: 0.2222 - val_accuracy: 0.6667\n",
            "Epoch 89/100\n",
            "3/3 [==============================] - 0s 25ms/step - loss: 0.2226 - accuracy: 0.6667 - val_loss: 0.2222 - val_accuracy: 0.6667\n",
            "Epoch 90/100\n",
            "3/3 [==============================] - 0s 29ms/step - loss: 0.2226 - accuracy: 0.6667 - val_loss: 0.2222 - val_accuracy: 0.6667\n",
            "Epoch 91/100\n",
            "3/3 [==============================] - 0s 26ms/step - loss: 0.2226 - accuracy: 0.6667 - val_loss: 0.2222 - val_accuracy: 0.6667\n",
            "Epoch 92/100\n",
            "3/3 [==============================] - 0s 24ms/step - loss: 0.2227 - accuracy: 0.6667 - val_loss: 0.2222 - val_accuracy: 0.6667\n",
            "Epoch 93/100\n",
            "3/3 [==============================] - 0s 26ms/step - loss: 0.2227 - accuracy: 0.6667 - val_loss: 0.2222 - val_accuracy: 0.6667\n",
            "Epoch 94/100\n",
            "3/3 [==============================] - 0s 24ms/step - loss: 0.2225 - accuracy: 0.6667 - val_loss: 0.2222 - val_accuracy: 0.6667\n",
            "Epoch 95/100\n",
            "3/3 [==============================] - 0s 25ms/step - loss: 0.2227 - accuracy: 0.6667 - val_loss: 0.2222 - val_accuracy: 0.6667\n",
            "Epoch 96/100\n",
            "3/3 [==============================] - 0s 24ms/step - loss: 0.2226 - accuracy: 0.6667 - val_loss: 0.2222 - val_accuracy: 0.6667\n",
            "Epoch 97/100\n",
            "3/3 [==============================] - 0s 26ms/step - loss: 0.2225 - accuracy: 0.6667 - val_loss: 0.2222 - val_accuracy: 0.6667\n",
            "Epoch 98/100\n",
            "3/3 [==============================] - 0s 24ms/step - loss: 0.2225 - accuracy: 0.6667 - val_loss: 0.2222 - val_accuracy: 0.6667\n",
            "Epoch 99/100\n",
            "3/3 [==============================] - 0s 25ms/step - loss: 0.2225 - accuracy: 0.6667 - val_loss: 0.2222 - val_accuracy: 0.6667\n",
            "Epoch 100/100\n",
            "3/3 [==============================] - 0s 24ms/step - loss: 0.2226 - accuracy: 0.6667 - val_loss: 0.2222 - val_accuracy: 0.6667\n"
          ]
        }
      ]
    },
    {
      "cell_type": "code",
      "metadata": {
        "id": "-mXazlhAENfr"
      },
      "source": [
        "acc = history.history['accuracy']\n",
        "val_acc = history.history['val_accuracy']\n",
        "\n",
        "loss = history.history['loss']\n",
        "val_loss = history.history['val_loss']"
      ],
      "execution_count": 660,
      "outputs": []
    },
    {
      "cell_type": "code",
      "metadata": {
        "colab": {
          "base_uri": "https://localhost:8080/"
        },
        "id": "pMM0JnxNEQcJ",
        "outputId": "c4070ae0-ab75-47ea-a24b-24fced5bf8e2"
      },
      "source": [
        "print(f\"Accuracy on training data is: {acc[-1]*100} %\")\n",
        "print(f\"Loss {loss[-1]*100}\")\n",
        "\n",
        "print(f\"Accuracy on validation data is: {val_acc[-1]*100} %\")\n",
        "print(f\"Loss {val_loss[-1]*100}\")"
      ],
      "execution_count": 661,
      "outputs": [
        {
          "output_type": "stream",
          "name": "stdout",
          "text": [
            "Accuracy on training data is: 66.66666865348816 %\n",
            "Loss 22.264282405376434\n",
            "Accuracy on validation data is: 66.66666865348816 %\n",
            "Loss 22.22411334514618\n"
          ]
        }
      ]
    },
    {
      "cell_type": "code",
      "metadata": {
        "colab": {
          "base_uri": "https://localhost:8080/",
          "height": 265
        },
        "id": "7pzLbxXaEUex",
        "outputId": "81a89520-6721-4596-c198-fae28f2c9dde"
      },
      "source": [
        "epochs = range(len(acc))\n",
        "\n",
        "plt.plot(epochs, acc,'b',label='training acc')\n",
        "plt.plot(epochs, val_acc, 'r', label='validation acc')\n",
        "plt.legend()\n",
        "plt.show()"
      ],
      "execution_count": 662,
      "outputs": [
        {
          "output_type": "display_data",
          "data": {
            "image/png": "[encoded data removed]",
            "text/plain": [
              "<Figure size 432x288 with 1 Axes>"
            ]
          },
          "metadata": {
            "needs_background": "light"
          }
        }
      ]
    },
    {
      "cell_type": "code",
      "metadata": {
        "colab": {
          "base_uri": "https://localhost:8080/",
          "height": 265
        },
        "id": "CQAYhbwQEXyy",
        "outputId": "b1f34f50-630e-48b7-c180-8b86cf0d7d9d"
      },
      "source": [
        "plt.plot(epochs, loss,'b',label='training loss')\n",
        "plt.plot(epochs, val_loss, 'r', label='validation loss')\n",
        "plt.legend()\n",
        "plt.show()"
      ],
      "execution_count": 663,
      "outputs": [
        {
          "output_type": "display_data",
          "data": {
            "image/png": "[encoded data removed]",
            "text/plain": [
              "<Figure size 432x288 with 1 Axes>"
            ]
          },
          "metadata": {
            "needs_background": "light"
          }
        }
      ]
    },
    {
      "cell_type": "code",
      "metadata": {
        "id": "2jV205eyEbmS"
      },
      "source": [
        "y_pred=model.predict(x_val)"
      ],
      "execution_count": 664,
      "outputs": []
    },
    {
      "cell_type": "code",
      "metadata": {
        "colab": {
          "base_uri": "https://localhost:8080/"
        },
        "id": "kSXu79ncEeB0",
        "outputId": "fa82e332-7435-4098-e81f-847c37525377"
      },
      "source": [
        "_,accuracy=model.evaluate(x_val, y_val)"
      ],
      "execution_count": 665,
      "outputs": [
        {
          "output_type": "stream",
          "name": "stdout",
          "text": [
            "1/1 [==============================] - 0s 22ms/step - loss: 0.2222 - accuracy: 0.6667\n"
          ]
        }
      ]
    },
    {
      "cell_type": "code",
      "metadata": {
        "colab": {
          "base_uri": "https://localhost:8080/"
        },
        "id": "d00lRzyaEgMy",
        "outputId": "f3f28a9a-d5fe-462a-e517-2a4df4875b95"
      },
      "source": [
        "print('Accuracy: %.2f' %(accuracy*100))"
      ],
      "execution_count": 666,
      "outputs": [
        {
          "output_type": "stream",
          "name": "stdout",
          "text": [
            "Accuracy: 66.67\n"
          ]
        }
      ]
    },
    {
      "cell_type": "code",
      "metadata": {
        "colab": {
          "base_uri": "https://localhost:8080/",
          "height": 265
        },
        "id": "r2VMH-1AEmOq",
        "outputId": "d1088fe2-b173-4c1d-a17c-eadf56a1b872"
      },
      "source": [
        "epochs = range(len(acc))\n",
        "\n",
        "plt.plot(epochs, acc,'b',label='training acc')\n",
        "plt.plot(epochs, val_acc, 'r', label='validation acc')\n",
        "plt.legend()\n",
        "plt.show()\n",
        "\n",
        "\n",
        "#plt.plot(epochs, loss,'b',label='training loss')\n",
        "#plt.plot(epochs, val_loss, 'r', label='validation loss')\n",
        "#plt.legend()\n",
        "#plt.show()"
      ],
      "execution_count": 667,
      "outputs": [
        {
          "output_type": "display_data",
          "data": {
            "image/png": "[encoded data removed]",
            "text/plain": [
              "<Figure size 432x288 with 1 Axes>"
            ]
          },
          "metadata": {
            "needs_background": "light"
          }
        }
      ]
    }
  ]
}