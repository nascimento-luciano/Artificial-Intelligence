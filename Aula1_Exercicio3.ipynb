{
  "nbformat": 4,
  "nbformat_minor": 0,
  "metadata": {
    "colab": {
      "name": "Aula1-Exercicio3.ipynb",
      "provenance": [],
      "collapsed_sections": [],
      "authorship_tag": "ABX9TyPlFRkAiHWl7miGEjjkqPEf",
      "include_colab_link": true
    },
    "kernelspec": {
      "name": "python3",
      "display_name": "Python 3"
    },
    "language_info": {
      "name": "python"
    }
  },
  "cells": [
    {
      "cell_type": "markdown",
      "metadata": {
        "id": "view-in-github",
        "colab_type": "text"
      },
      "source": [
        "<a href=\"https://colab.research.google.com/github/nascimento-luciano/Artificial-Intelligence/blob/master/Aula1_Exercicio3.ipynb\" target=\"_parent\"><img src=\"https://colab.research.google.com/assets/colab-badge.svg\" alt=\"Open In Colab\"/></a>"
      ]
    },
    {
      "cell_type": "code",
      "metadata": {
        "id": "b1VbqXgzrzGL",
        "colab": {
          "base_uri": "https://localhost:8080/"
        },
        "outputId": "29691bcf-9d17-46c2-b7bf-edcdcbf907de"
      },
      "source": [
        "#Calcular a equação matricial\n",
        "\n",
        "import numpy as np                                                              #importa a biblioteca numpy com o apelido de np\n",
        "\n",
        "M1 = np.array([[1, 2], [-1, -2]])                                               #cria a matriz e guarda na variável \"M1\"\n",
        "M1_T = np.transpose(M1)                                                         #cria a matriz e guarda na variável \"M1\"\n",
        "\n",
        "v1 = np.array([2, 1])                                                           #cria o vetor e guarda na variável \"v1\"\n",
        "v2 = np.array([2, 1])                                                           #cria o vetor e guarda na variável \"v2\"\n",
        "\n",
        "A = 2*M1+(v1*v2)\n",
        "\n",
        "print(\"matriz 1 =\\n\",M1)                                                        #mostra a variável \"M1\". O \"\\n\" pula a linha e deixa a matriz alinhada\n",
        "print(\"vetor 1 =\\n\", v1)                                                        #mostra a variável \"v1\". O \"\\n\" pula a linha e deixa o vetor alinhado\n",
        "print(\"vetor 2 =\\n\", v2)                                                        #mostra a variável \"v2\". O \"\\n\" pula a linha e deixa o vetor alinhado\n",
        "\n",
        "print(\"A =\\n\", A)                                                               #mostra a variável \"A\". O \"\\n\" pula a linha e exibe a equação matricial"
      ],
      "execution_count": 5,
      "outputs": [
        {
          "output_type": "stream",
          "text": [
            "matriz 1 =\n",
            " [[ 1  2]\n",
            " [-1 -2]]\n",
            "vetor 1 =\n",
            " [2 1]\n",
            "vetor 2 =\n",
            " [2 1]\n",
            "A =\n",
            " [[ 6  5]\n",
            " [ 2 -3]]\n"
          ],
          "name": "stdout"
        }
      ]
    }
  ]
}