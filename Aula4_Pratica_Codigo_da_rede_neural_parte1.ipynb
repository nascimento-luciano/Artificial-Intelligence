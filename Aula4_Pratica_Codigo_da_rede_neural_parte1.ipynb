{
  "nbformat": 4,
  "nbformat_minor": 0,
  "metadata": {
    "colab": {
      "name": "Aula4-Pratica-Codigo-da-rede-neural- parte1.ipynb",
      "provenance": [],
      "collapsed_sections": [],
      "include_colab_link": true
    },
    "kernelspec": {
      "name": "python3",
      "display_name": "Python 3"
    },
    "language_info": {
      "name": "python"
    }
  },
  "cells": [
    {
      "cell_type": "markdown",
      "metadata": {
        "id": "view-in-github",
        "colab_type": "text"
      },
      "source": [
        "<a href=\"https://colab.research.google.com/github/nascimento-luciano/Artificial-Intelligence/blob/master/Aula4_Pratica_Codigo_da_rede_neural_parte1.ipynb\" target=\"_parent\"><img src=\"https://colab.research.google.com/assets/colab-badge.svg\" alt=\"Open In Colab\"/></a>"
      ]
    },
    {
      "cell_type": "code",
      "metadata": {
        "colab": {
          "base_uri": "https://localhost:8080/",
          "height": 129
        },
        "id": "gF5-mvN24ziO",
        "outputId": "88dff6c2-94aa-4d59-fc20-178810861835"
      },
      "source": [
        "#Primeira Parte I\n",
        "import numpy as np\n",
        "import matplotlib.pyplot as plt\n",
        "import tensorflow as tf\n",
        "import h5py\n",
        "#carrega o dataset de \"meu_data_set.h5\"\n",
        "#with h5py.File('meu_data_set.h5','r') as hf:\n",
        "  print('dados do arquivo:', list(hf.keys()))\n",
        "with h5py.File('meu_data_set.h5','r') as hf:\n",
        "  x_train = hf['xtreinamento'][:]\n",
        "  y_train = hf['ytreinamento'][:]\n",
        "  x_test = hf['xtest'][:]\n",
        "  y_test = hf['ytest'][:]\n",
        "  [s_p,s_d,s_t]=hf['data_info'][:]\n",
        "print('numero de exemplos de treinamento:',2*s_d)\n",
        "print('numero de exemplos de teste:',2*s_d)\n",
        "#Segunda Parte II\n",
        "#define a rede neural \"keras model\"\n",
        "model=tf.keras.Sequential()\n",
        "model.add(tf.keras.layers.Dense(12,input_dim=s_p, activation='sigmoid'))\n",
        "model.add(tf.keras.layers.Dense(8, activation='sigmoid'))\n",
        "model.add(tf.keras.layers.Dense(1, activation='sigmoid'))\n",
        "#compila a rede neural\n",
        "opt=tf.keras.optimzers.Adam(learning_rate=0.05);\n",
        "model.compile(loss='binary_crossentropy',optimizer=opt,metrics=['accuracy'])\n",
        "#treina a rede neural com o data set\n",
        "history=model.fit(x_train, y_train, batch_size=2*s_d,epochs=100,verbose=0)\n",
        "#mostra o loss e a acuracia durante o treinamento\n",
        "plt.figure()\n",
        "plt.subplot(2,1,1)\n",
        "plt.plot(history.history['loss'])\n",
        "plt.ylabel('loss');plt.xlabel('epoch')\n",
        "plt.legend(['acurácia'],loc='upper right')\n",
        "plt.subplot(2,1,2)\n",
        "plt.subplot(history.history['accuracy'])\n",
        "plt.ylabel('acurácia');plt.xlabel('epoch')\n",
        "plt.legend(['acurácia'],loc='lower right')\n",
        "plt.show()\n",
        "#faz previsões com a rede treinada\n",
        "y_pred=model.predict(x_test)\n",
        "#calcula a acurácia do teste\n",
        "_,accuracy=model.evaluate(x_test, y_test)\n",
        "print('Accuracy: 5.2f'%(accuracy*100))\n",
        "#mostra os resultados esperados e os alcançados a lado\n",
        "print('data pred=',np.concatenate((y_test,no.aroundy(y_pred)),axis=1))\n",
        "#faz o gráfico do erro de previsão\n",
        "plt.figure()\n",
        "plt.plot(y_test-np.aroundy(y_pred))\n",
        "plt.title('erro de previsão:$y-y_{previsto}$')\n",
        "plt.show()\n",
        "#faz previsões com a rede treinada\n",
        "y_pred=model.predict(x_test)\n",
        "#calcula a acurácia do teste\n",
        "_,accuracy = model.evalute(x_test, y_test)\n",
        "print('Accracy: %.2f'%(accuracy*100))\n",
        "#mostra os resultados esperados e os alcançados lado a lado\n",
        "print('data pred=', np.concatenate((y_test, np.around(y_pred)), axis=1))\n",
        "#faz o gráfico do erro de previsão\n",
        "plt.figure()\n",
        "plt.plot(y_test-np.around(y_pred))\n",
        "plt.title('erro de previsão:$y-y{previsto}$')\n",
        "plt.show()"
      ],
      "execution_count": 3,
      "outputs": [
        {
          "output_type": "error",
          "ename": "IndentationError",
          "evalue": "ignored",
          "traceback": [
            "\u001b[0;36m  File \u001b[0;32m\"<ipython-input-3-5fae4d1fffc5>\"\u001b[0;36m, line \u001b[0;32m8\u001b[0m\n\u001b[0;31m    print('dados do arquivo:', list(hf.keys()))\u001b[0m\n\u001b[0m    ^\u001b[0m\n\u001b[0;31mIndentationError\u001b[0m\u001b[0;31m:\u001b[0m unexpected indent\n"
          ]
        }
      ]
    }
  ]
}