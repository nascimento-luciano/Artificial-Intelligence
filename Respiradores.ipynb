{
  "nbformat": 4,
  "nbformat_minor": 0,
  "metadata": {
    "colab": {
      "name": "Respiradores.ipynb",
      "provenance": [],
      "collapsed_sections": [],
      "authorship_tag": "ABX9TyOU+aeKVZkmr87J+nZuz6+S",
      "include_colab_link": true
    },
    "kernelspec": {
      "name": "python3",
      "display_name": "Python 3"
    },
    "language_info": {
      "name": "python"
    }
  },
  "cells": [
    {
      "cell_type": "markdown",
      "metadata": {
        "id": "view-in-github",
        "colab_type": "text"
      },
      "source": [
        "<a href=\"https://colab.research.google.com/github/nascimento-luciano/Artificial-Intelligence/blob/master/Respiradores.ipynb\" target=\"_parent\"><img src=\"https://colab.research.google.com/assets/colab-badge.svg\" alt=\"Open In Colab\"/></a>"
      ]
    },
    {
      "cell_type": "markdown",
      "metadata": {
        "id": "le15eruOiS6g"
      },
      "source": [
        "Distribuição de Respiradores\n",
        "\n",
        "Perguntas:\n",
        "\n",
        "-Quantos respiradores foram distribuidos nos estados?\n",
        "\n",
        "-Qual estado recebeu mais respiradores?\n",
        "\n",
        "-Qual estado recebeu menos respiradores?\n",
        "\n",
        "-Como se comporta a curva de evolução e distribuição de respiradores nos estados do Sudeste?\n",
        "\n",
        "-No estado de São Paulo, quais municípios tem o maior número de respiradores?\n",
        "\n",
        "-Como se comporta a curva de evolução de distribuição de respiradores nos municípios de São Paulo?"
      ]
    },
    {
      "cell_type": "markdown",
      "metadata": {
        "id": "uY6RkfKFigR9"
      },
      "source": [
        "---------------------------------Etapa 1--------------------------------------\n",
        "\n",
        "Importando Bibliotecas"
      ]
    },
    {
      "cell_type": "code",
      "metadata": {
        "id": "RvoCBjvviNZI"
      },
      "source": [
        "\n",
        "import numpy as np\n",
        "import pandas as pd\n",
        "import geopandas as gp\n",
        "import plotly.express as px\n",
        "import plotly.graph_objects as go"
      ],
      "execution_count": null,
      "outputs": []
    },
    {
      "cell_type": "code",
      "metadata": {
        "id": "Q3k807T-iyjL"
      },
      "source": [
        "!pip install geopandas"
      ],
      "execution_count": null,
      "outputs": []
    },
    {
      "cell_type": "code",
      "metadata": {
        "id": "Zq2qg0kXi3aH"
      },
      "source": [
        "---------------------------------Etapa 2--------------------------------------\n",
        "\n",
        "Importando Arquivos CSV."
      ],
      "execution_count": null,
      "outputs": []
    },
    {
      "cell_type": "code",
      "metadata": {
        "id": "_0QrZ8hJi-8f"
      },
      "source": [
        "#Importando Arquivo CSV. (Brasil)\n",
        "df = pd.read_csv ('brazil_covid19.csv')"
      ],
      "execution_count": null,
      "outputs": []
    },
    {
      "cell_type": "code",
      "metadata": {
        "id": "06DBtuDHjHgH"
      },
      "source": [
        "#Importando Arquivo CSV. (Cidades)\n",
        "dfs = pd.read_csv ('cases-brazil-cities.csv')"
      ],
      "execution_count": null,
      "outputs": []
    },
    {
      "cell_type": "code",
      "metadata": {
        "id": "SjSh7gr4jKvu"
      },
      "source": [
        "#Importando Arquivo CSV. (Coordenadas)\n",
        "dcs = pd.read_csv ('brazil_cities_coordinates.csv')"
      ],
      "execution_count": null,
      "outputs": []
    },
    {
      "cell_type": "code",
      "metadata": {
        "id": "8JkUoqMJjRnv"
      },
      "source": [
        "#Importando Arquivo CSV. (População)\n",
        "dhs = pd.read_csv('brazil_population_2019.csv', error_bad_lines=False)"
      ],
      "execution_count": null,
      "outputs": []
    },
    {
      "cell_type": "code",
      "metadata": {
        "id": "qNJ1B-wgjkG_"
      },
      "source": [
        "#Importando Distribuição de Respiradores CSV.\n",
        "drs = pd.read_csv()"
      ],
      "execution_count": null,
      "outputs": []
    },
    {
      "cell_type": "markdown",
      "metadata": {
        "id": "N8uNX3PijYWm"
      },
      "source": [
        "---------------------------------Etapa 3--------------------------------------\n",
        "\n",
        "Extração dos Dados em CSV."
      ]
    },
    {
      "cell_type": "markdown",
      "metadata": {
        "id": "QQ7pndKEjcfm"
      },
      "source": [
        ""
      ]
    }
  ]
}