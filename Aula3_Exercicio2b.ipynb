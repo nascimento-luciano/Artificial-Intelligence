{
  "nbformat": 4,
  "nbformat_minor": 0,
  "metadata": {
    "colab": {
      "name": "Aula3-Exercicio2b.ipynb",
      "provenance": [],
      "collapsed_sections": [],
      "authorship_tag": "ABX9TyPWR+12C/rX3EjMNNQ6mZkl",
      "include_colab_link": true
    },
    "kernelspec": {
      "name": "python3",
      "display_name": "Python 3"
    },
    "language_info": {
      "name": "python"
    }
  },
  "cells": [
    {
      "cell_type": "markdown",
      "metadata": {
        "id": "view-in-github",
        "colab_type": "text"
      },
      "source": [
        "<a href=\"https://colab.research.google.com/github/nascimento-luciano/Artificial-Intelligence/blob/master/Aula3_Exercicio2b.ipynb\" target=\"_parent\"><img src=\"https://colab.research.google.com/assets/colab-badge.svg\" alt=\"Open In Colab\"/></a>"
      ]
    },
    {
      "cell_type": "code",
      "metadata": {
        "colab": {
          "base_uri": "https://localhost:8080/",
          "height": 466
        },
        "id": "ZnJwfV6icwan",
        "outputId": "3c271d82-9894-405c-ffc1-cf901e25aae2"
      },
      "source": [
        "import numpy as np\n",
        "import matplotlib.pyplot as plt\n",
        "W=0;\n",
        "learning_rate=0.1\n",
        "T=10\n",
        "x_train = np.array([-2.0], dtype=float)\n",
        "y_train = np.array([2.0], dtype=float)\n",
        "loss_sq=np.zeros(T)\n",
        "for t in range(0,T):\n",
        "  for n in range(0,y_train.size):\n",
        "    score=W*x_train[n]\n",
        "    residuo=score-y_train[n]\n",
        "    grad=2*residuo*x_train[n]\n",
        "    W=W-learning_rate*grad\n",
        "  loss_sq[t]=residuo**2\n",
        "  print('loss e W=',[loss_sq[t],W])\n",
        "plt.plot(loss_sq,'k')\n",
        "plt.xlabel('interação'),plt.ylabel('Loss')\n",
        "print('W final=',W)"
      ],
      "execution_count": 1,
      "outputs": [
        {
          "output_type": "stream",
          "name": "stdout",
          "text": [
            "loss e W= [4.0, -0.8]\n",
            "loss e W= [0.15999999999999992, -0.96]\n",
            "loss e W= [0.006400000000000012, -0.992]\n",
            "loss e W= [0.0002560000000000005, -0.9984]\n",
            "loss e W= [1.0240000000000586e-05, -0.99968]\n",
            "loss e W= [4.095999999999666e-07, -0.999936]\n",
            "loss e W= [1.638399999997593e-08, -0.9999872]\n",
            "loss e W= [6.553600000035846e-10, -0.99999744]\n",
            "loss e W= [2.6214399999688637e-11, -0.999999488]\n",
            "loss e W= [1.0485759998056466e-12, -0.9999998976]\n",
            "W final= -0.9999998976\n"
          ]
        },
        {
          "output_type": "display_data",
          "data": {
            "image/png": "[encoded data removed]",
            "text/plain": [
              "<Figure size 432x288 with 1 Axes>"
            ]
          },
          "metadata": {
            "needs_background": "light"
          }
        }
      ]
    }
  ]
}