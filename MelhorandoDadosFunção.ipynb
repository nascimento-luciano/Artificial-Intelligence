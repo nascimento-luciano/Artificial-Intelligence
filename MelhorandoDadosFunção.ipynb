{
  "nbformat": 4,
  "nbformat_minor": 0,
  "metadata": {
    "colab": {
      "name": "MelhorandoDadosFunção.ipynb",
      "provenance": [],
      "collapsed_sections": [],
      "authorship_tag": "ABX9TyM/9Kusc0P8WX7kWYzMPhG0",
      "include_colab_link": true
    },
    "kernelspec": {
      "name": "python3",
      "display_name": "Python 3"
    },
    "language_info": {
      "name": "python"
    }
  },
  "cells": [
    {
      "cell_type": "markdown",
      "metadata": {
        "id": "view-in-github",
        "colab_type": "text"
      },
      "source": [
        "<a href=\"https://colab.research.google.com/github/nascimento-luciano/Artificial-Intelligence/blob/master/MelhorandoDadosFun%C3%A7%C3%A3o.ipynb\" target=\"_parent\"><img src=\"https://colab.research.google.com/assets/colab-badge.svg\" alt=\"Open In Colab\"/></a>"
      ]
    },
    {
      "cell_type": "code",
      "metadata": {
        "id": "Q4lBih1dHNH8",
        "colab": {
          "base_uri": "https://localhost:8080/"
        },
        "outputId": "f84656b8-760a-46e6-d8c2-96816f47597f"
      },
      "source": [
        "import numpy as np\n",
        "\n",
        "x1=np.arange(-3,5,2)            #gera o vetor: x1=[-3 -11 3], ou seja, inicia em -3, termina antes de 5 com passo 2\n",
        "print('x1=',x1)\n",
        "\n",
        "x2=np.arange(-3,5,1)            #gera o vetor: x2=[-3 -2 -1 0 1 2 3], ou seja, inicia em -3, termina antes de 5 com passo 1\n",
        "print('x2=',x2)\n",
        "\n",
        "x3=np.linspace(-3,5,6)          #gera o vetor: x3=[-3. -1.4 0.2 1.8 3.4 5.], ou seja, inicia em -3, termina antes de 5 com passo 6 pontos\n",
        "print('x3=',x3)\n"
      ],
      "execution_count": 1,
      "outputs": [
        {
          "output_type": "stream",
          "text": [
            "x1= [-3 -1  1  3]\n",
            "x2= [-3 -2 -1  0  1  2  3  4]\n",
            "x3= [-3.  -1.4  0.2  1.8  3.4  5. ]\n"
          ],
          "name": "stdout"
        }
      ]
    }
  ]
}